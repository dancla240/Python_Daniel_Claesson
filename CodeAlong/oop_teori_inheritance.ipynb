{
 "cells": [
  {
   "cell_type": "markdown",
   "metadata": {},
   "source": [
    "# OOP Teori & Inheritance\n",
    "- L025, 3/10\n",
    "### Teori\n",
    "- **Inkapsling** (encapsulation) = gruppera information som variabler/properties och metoder i en enhet kallat objekt.\n",
    "- **Abstraktion** (abstraction) = att gömma information, hög abstraktionsnivå = mindre detaljer, låg abstraktionsnivå = mer detaljer. Python är högnivåspråk. Man behöver bara veta att det finns en metod, inte hur den funkar, typ.\n",
    "- **Arv** (heritance) = dela information, återanvända kod. En klass kan ärva från en annan klass. Tex, från en superklass. Gemensamma egenskaper, interna tillstånd och metoder kan finnas i en superklass.\n",
    "- **Polymorfism** (polymorphism) = Omdefiniera information, poly = flera, morphism = former. Kan ha flera former. Tex kan metoden \"gå\" skilja sig mellan en katt och en fågel. När man skapar objektet bestäms om den vill ärva från klassen eller ha en egen... sas.\n",
    "\n",
    "- Private eller Public properties och metoder. Designval vilka properties/metoder man väljer göra privata.\n",
    "- Private: ska inte exponeras utåt. Privata metoder finns också, exponeras inte utåt.\n",
    "- Python: underscore indikerar 'private'. Vi får själva hålla reda på.\n",
    "\n",
    "- interna tillstånd kan också kommuniceras ut från objektet, typ. Då får man ha en getter metod. Tex att glaset är sönder, ska man kunna se utan att behöva fylla glaset med vatten. Men man kanske inte ska kunna ändra glaset från trasigt till helt (inte kunna laga glaset)\n",
    "\n",
    "### Arv:\n",
    "- en klass 'fish' kan ärva av en klass 'animal'. Ofta vill man göra lite ändringar från superklass till subclass.\n",
    "- Animal = superklass (parent)\n",
    "- fish = subclass (child). fish kan ha en egen metod simma.\n",
    "- om man adderar weight till superklassen, får alla subklasser och deras objektinstanser denna.\n",
    "- I Python kan en subklass ärva från två superklasser.\n",
    "\n",
    "### Polymorphism:\n",
    "- Override: i en subklass kan man overrida en metod från superklassen."
   ]
  },
  {
   "cell_type": "markdown",
   "metadata": {},
   "source": [
    "### Inheritance\n",
    "- Klassen 'Animal' är en klass som subklassen 'Cat' ärver ifrån.\n",
    "- Att klassen Cat ärver anges i class kontruktionen."
   ]
  },
  {
   "cell_type": "code",
   "execution_count": 6,
   "metadata": {},
   "outputs": [
    {
     "name": "stdout",
     "output_type": "stream",
     "text": [
      "<__main__.Animal object at 0x0000026397F99EE0>\n",
      "{'name': 'untitled animal'}\n",
      "<__main__.Cat object at 0x0000026397FEA0D0>\n",
      "{'name': 'untitled animal'}\n"
     ]
    },
    {
     "data": {
      "text/plain": [
       "False"
      ]
     },
     "execution_count": 6,
     "metadata": {},
     "output_type": "execute_result"
    }
   ],
   "source": [
    "class Animal:\n",
    "    def __init__(self):\n",
    "        self.name = \"untitled animal\"\n",
    "\n",
    "class Cat(Animal): #Cat ärver av Animal\n",
    "    ...\n",
    "\n",
    "\n",
    "my_animal = Animal()\n",
    "print(my_animal)\n",
    "print(my_animal.__dict__)\n",
    "\n",
    "my_cat = Cat()\n",
    "print(my_cat)\n",
    "print(my_cat.__dict__)\n",
    "\n",
    "my_cat == my_animal"
   ]
  },
  {
   "cell_type": "code",
   "execution_count": 9,
   "metadata": {},
   "outputs": [
    {
     "name": "stdout",
     "output_type": "stream",
     "text": [
      "<__main__.Cat object at 0x000001F299198390>\n",
      "<__main__.Dog object at 0x000001F298BBBD10>\n"
     ]
    }
   ],
   "source": [
    "class Animal:\n",
    "    def __init__(self, name):\n",
    "        self.name = name\n",
    "\n",
    "class Cat(Animal): #Cat ärver av Animal\n",
    "    ...\n",
    "\n",
    "class Dog(Animal):\n",
    "    ...\n",
    "\n",
    "my_cat = Cat('Pelle')\n",
    "my_dog =Dog('Karo')\n",
    "print(my_cat)\n",
    "print(my_dog)\n"
   ]
  },
  {
   "cell_type": "markdown",
   "metadata": {},
   "source": [
    "- Adderar __repr__\n",
    "- Adderar en mothod override på en ny klass 'Fish'."
   ]
  },
  {
   "cell_type": "code",
   "execution_count": 8,
   "metadata": {},
   "outputs": [
    {
     "name": "stdout",
     "output_type": "stream",
     "text": [
      "Hello, my name is Pelle and I am a <class '__main__.Cat'>.\n",
      "Hello, my name is Karo and I am a <class '__main__.Dog'>.\n",
      "Hello, my name is Nemo and I am a <class '__main__.Fish'>.\n",
      "\n",
      "Pelle is running.\n",
      "Karo is running.\n",
      "Nemo is swimming.\n"
     ]
    }
   ],
   "source": [
    "class Animal:\n",
    "    def __init__(self, name):\n",
    "        self.name = name\n",
    "\n",
    "    def move(self):\n",
    "        print(f'{self.name} is running.')\n",
    "\n",
    "    def __repr__(self):\n",
    "        return f'Hello, my name is {self.name} and I am a {type(self)}.'\n",
    "\n",
    "class Cat(Animal): #Cat ärver av Animal\n",
    "    ...\n",
    "\n",
    "class Dog(Animal):\n",
    "    ...\n",
    "\n",
    "class Fish(Animal):\n",
    "    def move(self):\n",
    "        print(f'{self.name} is swimming.') # method override\n",
    "\n",
    "my_cat = Cat('Pelle')\n",
    "my_dog =Dog('Karo')\n",
    "my_fish = Fish('Nemo')\n",
    "print(my_cat)\n",
    "print(my_dog)\n",
    "print(my_fish)\n",
    "print()\n",
    "my_cat.move() #=> Pelle is running.\n",
    "my_dog.move() # => Karo is running.\n",
    "my_fish.move() # => Nemo is swimming.\n"
   ]
  },
  {
   "cell_type": "markdown",
   "metadata": {},
   "source": [
    "- Lägger alla djuren i en lista."
   ]
  },
  {
   "cell_type": "code",
   "execution_count": 1,
   "metadata": {},
   "outputs": [
    {
     "name": "stdout",
     "output_type": "stream",
     "text": [
      "Pelle is running.\n",
      "Karo is running.\n",
      "Nemo is swimming.\n"
     ]
    }
   ],
   "source": [
    "class Animal:\n",
    "    def __init__(self, name):\n",
    "        self.name = name\n",
    "\n",
    "    def move(self):\n",
    "        print(f'{self.name} is running.')\n",
    "\n",
    "    def __repr__(self):\n",
    "        return f'Hello, my name is {self.name} and I am a {type(self)}.'\n",
    "\n",
    "class Cat(Animal): #Cat ärver av Animal\n",
    "    ...\n",
    "\n",
    "class Dog(Animal):\n",
    "    ...\n",
    "\n",
    "class Fish(Animal):\n",
    "    def move(self):\n",
    "        print(f'{self.name} is swimming.') # method override\n",
    "\n",
    "animals = [\n",
    "        Cat('Pelle'),\n",
    "        Dog('Karo'),\n",
    "        Fish('Nemo')\n",
    "]\n",
    "\n",
    "for animal in animals:\n",
    "    animal.move()\n",
    "\n"
   ]
  },
  {
   "cell_type": "markdown",
   "metadata": {},
   "source": [
    "Ändrar lite allt möjligt"
   ]
  },
  {
   "cell_type": "code",
   "execution_count": 17,
   "metadata": {},
   "outputs": [
    {
     "name": "stdout",
     "output_type": "stream",
     "text": [
      "Pelle is running.\n",
      "Karo is running.\n",
      "Karo is barking.\n",
      "Nemo is swimming.\n",
      "\n",
      "Pelle is running.\n",
      "Karo is running.\n",
      "Karo is barking.\n",
      "Nemo is swimming.\n",
      "\n",
      "Pelle is running.\n",
      "Karo is running.\n",
      "Karo is barking.\n",
      "Nemo is swimming.\n",
      "\n",
      "Karo is barking.\n"
     ]
    }
   ],
   "source": [
    "class Animal:\n",
    "    def __init__(self, name):\n",
    "        self.name = name\n",
    "\n",
    "    def move(self):\n",
    "        print(f'{self.name} is running.')\n",
    "\n",
    "    def __repr__(self):\n",
    "        return f'Hello, my name is {self.name} and I am a {type(self)}.'\n",
    "\n",
    "class Cat(Animal): #Cat ärver av Animal\n",
    "    ...\n",
    "\n",
    "class Dog(Animal):\n",
    "    def bark(self):\n",
    "        print(f'{self.name} is barking. Voff')\n",
    "\n",
    "class Fish(Animal):\n",
    "    def move(self):\n",
    "        print(f'{self.name} is swimming.') # method override\n",
    "\n",
    "animals = [\n",
    "        Cat('Pelle'),\n",
    "        Dog('Karo'),\n",
    "        Fish('Nemo')\n",
    "]\n",
    "\n",
    "for animal in animals:\n",
    "    animal.move()\n",
    "    if hasattr(animal, 'bark'):\n",
    "        animal.bark()\n",
    "print()\n",
    "for animal in animals:\n",
    "    animal.move()\n",
    "    if type(animal) == Dog:\n",
    "        animal.bark()\n",
    "print()\n",
    "for animal in animals:\n",
    "    animal.move()\n",
    "    if isinstance(animal, Dog): # is istance kollar om objektet (= 'animal' från listan) är en instans av klassen 'Dog'\n",
    "        animal.bark()    \n",
    "\n",
    "print()\n",
    "animals[1].bark() # 'Karo is barking'\n"
   ]
  },
  {
   "cell_type": "markdown",
   "metadata": {},
   "source": [
    "### isinstance()\n",
    "- \"object\" är ett grundobjekt, som alla objekt ärver ifrån\n",
    "- \"object\" har sin egna __init__, __str__, __repr__, __dict__ metoder. Det är tex så Python säkrar att all objekt får en utskrift när man skriver print(objektet).\n",
    "~~~\n",
    "        <__main__.Robot object at 0x0000027A27028690>\n",
    "~~~\n"
   ]
  },
  {
   "cell_type": "code",
   "execution_count": 16,
   "metadata": {},
   "outputs": [
    {
     "name": "stdout",
     "output_type": "stream",
     "text": [
      "isinstance(my_cat, Cat) = True\n",
      "isinstance(my_cat, Dog) = False\n",
      "isinstance(my_cat, Animal) = True\n",
      "isinstance(my_cat, object) = True\n"
     ]
    }
   ],
   "source": [
    "my_cat = Cat('Pelle')\n",
    "print(f'{isinstance(my_cat, Cat) = }')\n",
    "print(f'{isinstance(my_cat, Dog) = }')\n",
    "print(f'{isinstance(my_cat, Animal) = }')\n",
    "print(f'{isinstance(my_cat, object) = }') #\"object\" är ett grundobjekt, som alla objekt ärver ifrån"
   ]
  },
  {
   "cell_type": "markdown",
   "metadata": {},
   "source": [
    "### issubclass()"
   ]
  },
  {
   "cell_type": "code",
   "execution_count": 22,
   "metadata": {},
   "outputs": [
    {
     "name": "stdout",
     "output_type": "stream",
     "text": [
      "issubclass(Dog, Cat) = False\n",
      "issubclass(Cat, Animal) = True\n",
      "issubclass(Cat, object) = True\n",
      "issubclass(Animal, Cat) = False\n"
     ]
    }
   ],
   "source": [
    "print(f'{issubclass(Dog, Cat) = }')\n",
    "print(f'{issubclass(Cat, Animal) = }')\n",
    "print(f'{issubclass(Cat, object) = }')\n",
    "print(f'{issubclass(Animal, Cat) = }')"
   ]
  },
  {
   "cell_type": "markdown",
   "metadata": {},
   "source": [
    "### hasattr()"
   ]
  },
  {
   "cell_type": "code",
   "execution_count": 29,
   "metadata": {},
   "outputs": [
    {
     "name": "stdout",
     "output_type": "stream",
     "text": [
      "hasattr(my_dog, 'name') = True\n",
      "hasattr(my_dog, 'age') = False\n",
      "hasattr(my_dog, 'bark') = True\n",
      "hasattr(my_dog, 'move') = True\n"
     ]
    }
   ],
   "source": [
    "my_dog = Dog('Karo')\n",
    "\n",
    "print(f\"{hasattr(my_dog, 'name') = }\")\n",
    "print(f\"{hasattr(my_dog, 'age') = }\")\n",
    "print(f\"{hasattr(my_dog, 'bark') = }\")\n",
    "print(f\"{hasattr(my_dog, 'move') = }\")"
   ]
  },
  {
   "cell_type": "markdown",
   "metadata": {},
   "source": [
    "Även ett objekt utan __str__ eller __repr__ kan printas:"
   ]
  },
  {
   "cell_type": "code",
   "execution_count": 19,
   "metadata": {},
   "outputs": [
    {
     "name": "stdout",
     "output_type": "stream",
     "text": [
      "<__main__.Robot object at 0x0000027A27028690>\n"
     ]
    }
   ],
   "source": [
    "class Robot:\n",
    "    ...\n",
    "\n",
    "my_robot = Robot()\n",
    "print(my_robot)"
   ]
  },
  {
   "cell_type": "markdown",
   "metadata": {},
   "source": [
    "Lägger till: \"is_loud\" True or False i klassen 'Dog'. Voff eller VOFF!\n",
    "- 'is_loud' som en privat variabel (jag vet inte varför egentligen, men det är \"designval\".)"
   ]
  },
  {
   "cell_type": "code",
   "execution_count": 9,
   "metadata": {},
   "outputs": [
    {
     "name": "stdout",
     "output_type": "stream",
     "text": [
      "Pelle is running.\n",
      "Karo is running.\n",
      "Karo is barking: VOFF!!\n",
      "Nemo is swimming.\n",
      "Kalle is running.\n",
      "Kalle is barking: voff!\n",
      "\n",
      "Pelle is running.\n",
      "Karo is running.\n",
      "Karo is barking: VOFF!!\n",
      "Nemo is swimming.\n",
      "Kalle is running.\n",
      "Kalle is barking: voff!\n",
      "\n",
      "Pelle is running.\n",
      "Karo is running.\n",
      "Karo is barking: VOFF!!\n",
      "Nemo is swimming.\n",
      "Kalle is running.\n",
      "Kalle is barking: voff!\n",
      "\n",
      "Karo is barking: VOFF!!\n"
     ]
    }
   ],
   "source": [
    "class Animal:\n",
    "    def __init__(self, name):\n",
    "        self.name = name\n",
    "\n",
    "    def move(self):\n",
    "        print(f'{self.name} is running.')\n",
    "\n",
    "    def __repr__(self):\n",
    "        return f'Hello, my name is {self.name} and I am a {type(self)}.'\n",
    "\n",
    "class Cat(Animal): #Cat ärver av Animal\n",
    "    ...\n",
    "\n",
    "class Dog(Animal):\n",
    "    def __init__(self, name, is_loud=False):\n",
    "        self.name = name\n",
    "        self._is_loud = is_loud\n",
    "\n",
    "    def bark(self):\n",
    "        if self._is_loud:# == False: # kommentar: man behöver inte skriva med == False.\n",
    "            print(f'{self.name} is barking: VOFF!!')\n",
    "        else: print(f'{self.name} is barking: voff!')\n",
    "\n",
    "class Fish(Animal):\n",
    "    def move(self):\n",
    "        print(f'{self.name} is swimming.') # method override\n",
    "\n",
    "animals = [\n",
    "        Cat('Pelle'),\n",
    "        Dog('Karo', is_loud = True),\n",
    "        Fish('Nemo'),\n",
    "        Dog('Kalle', is_loud = False)\n",
    "]\n",
    "\n",
    "for animal in animals:\n",
    "    animal.move()\n",
    "    if hasattr(animal, 'bark'):\n",
    "        animal.bark()\n",
    "print()\n",
    "for animal in animals:\n",
    "    animal.move()\n",
    "    if type(animal) == Dog:\n",
    "        animal.bark()\n",
    "print()\n",
    "for animal in animals:\n",
    "    animal.move()\n",
    "    if isinstance(animal, Dog): # is istance kollar om objektet är en instans av klassen\n",
    "        animal.bark()    \n",
    "\n",
    "print()\n",
    "animals[1].bark() # 'Karo is barking'\n"
   ]
  },
  {
   "cell_type": "markdown",
   "metadata": {},
   "source": [
    "### super()\n",
    "- Används för att anropa superklassens implementation."
   ]
  },
  {
   "cell_type": "code",
   "execution_count": 42,
   "metadata": {},
   "outputs": [
    {
     "name": "stdout",
     "output_type": "stream",
     "text": [
      "Pelle is running.\n",
      "Karo is running.\n",
      "Karo is barking: voff!\n",
      "Nemo is running.\n",
      "Nemo is swimming.\n",
      "Kalle is running.\n",
      "Kalle is barking: VOFF!!\n",
      "\n",
      "Pelle is running.\n",
      "Karo is running.\n",
      "Karo is barking: voff!\n",
      "Nemo is running.\n",
      "Nemo is swimming.\n",
      "Kalle is running.\n",
      "Kalle is barking: VOFF!!\n",
      "\n",
      "Pelle is running.\n",
      "Karo is running.\n",
      "Karo is barking: voff!\n",
      "Nemo is running.\n",
      "Nemo is swimming.\n",
      "Kalle is running.\n",
      "Kalle is barking: VOFF!!\n",
      "\n",
      "Karo is barking: voff!\n"
     ]
    }
   ],
   "source": [
    "class Animal:\n",
    "    def __init__(self, name):\n",
    "        self.name = name\n",
    "\n",
    "    def move(self):\n",
    "        print(f'{self.name} is running.')\n",
    "\n",
    "    def __repr__(self):\n",
    "        return f'Hello, my name is {self.name} and I am a {type(self)}.'\n",
    "\n",
    "class Cat(Animal): #Cat ärver av Animal\n",
    "    ...\n",
    "\n",
    "class Dog(Animal):\n",
    "    def __init__(self, name, is_loud=False):\n",
    "        super().__init__(name) # anropar superklassens init funtion för 'name' (klassen ovan, dess parent)\n",
    "        self._is_loud = is_loud\n",
    "\n",
    "    def bark(self):\n",
    "        if self._is_loud:# == False: # kommentar: man behöver inte skriva med == False.\n",
    "            print(f'{self.name} is barking: voff!')\n",
    "        else: print(f'{self.name} is barking: VOFF!!')\n",
    "\n",
    "class Fish(Animal):\n",
    "    def move(self):\n",
    "        super().move() #anropar superklassens implementation av 'move' metoden.\n",
    "        print(f'{self.name} is swimming.') # method override\n",
    "\n",
    "animals = [\n",
    "        Cat('Pelle'),\n",
    "        Dog('Karo', is_loud = True),\n",
    "        Fish('Nemo'),\n",
    "        Dog('Kalle', is_loud = False)\n",
    "]\n",
    "\n",
    "for animal in animals:\n",
    "    animal.move()\n",
    "    if hasattr(animal, 'bark'):\n",
    "        animal.bark()\n",
    "print()\n",
    "for animal in animals:\n",
    "    animal.move()\n",
    "    if type(animal) == Dog:\n",
    "        animal.bark()\n",
    "print()\n",
    "for animal in animals:\n",
    "    animal.move()\n",
    "    if isinstance(animal, Dog): # is istance kollar om objektet är en instans av klassen\n",
    "        animal.bark()    \n",
    "\n",
    "print()\n",
    "animals[1].bark() # 'Karo is barking'\n"
   ]
  },
  {
   "cell_type": "markdown",
   "metadata": {},
   "source": [
    "Adderar en 'privat metod' i klassen 'Dog'."
   ]
  },
  {
   "cell_type": "code",
   "execution_count": 11,
   "metadata": {},
   "outputs": [
    {
     "name": "stdout",
     "output_type": "stream",
     "text": [
      "Pelle is running.\n",
      "Karo is running.\n",
      "Karo is barking: VOFF!\n",
      "Nemo is running.\n",
      "Nemo is swimming.\n",
      "Kalle is running.\n",
      "Kalle is barking: voff!\n",
      "\n",
      "Pelle is running.\n",
      "Karo is running.\n",
      "Karo is barking: VOFF!\n",
      "Nemo is running.\n",
      "Nemo is swimming.\n",
      "Kalle is running.\n",
      "Kalle is barking: voff!\n",
      "\n",
      "Pelle is running.\n",
      "Karo is running.\n",
      "Karo is barking: VOFF!\n",
      "Nemo is running.\n",
      "Nemo is swimming.\n",
      "Kalle is running.\n",
      "Kalle is barking: voff!\n",
      "\n",
      "Karo is barking: VOFF!\n"
     ]
    }
   ],
   "source": [
    "class Animal:\n",
    "    def __init__(self, name):\n",
    "        self.name = name\n",
    "\n",
    "    def move(self):\n",
    "        print(f'{self.name} is running.')\n",
    "\n",
    "    def __repr__(self):\n",
    "        return f'Hello, my name is {self.name} and I am a {type(self)}.'\n",
    "\n",
    "class Cat(Animal): #Cat ärver av Animal\n",
    "    ...\n",
    "\n",
    "class Dog(Animal):\n",
    "    def __init__(self, name, is_loud=False):\n",
    "        super().__init__(name) # anropar superklassens init funtion för 'name' (klassen ovan, dess parent)\n",
    "        self._is_loud = is_loud\n",
    "\n",
    "    def _get_voff(self): #privat metod, anropas bara internt klassen.\n",
    "        return \"VOFF\" if self._is_loud else \"voff\"\n",
    "\n",
    "    def bark(self):\n",
    "        print(f'{self.name} is barking: {self._get_voff()}!')\n",
    "        \n",
    "class Fish(Animal):\n",
    "    def move(self):\n",
    "        super().move() #anropar superklassens implementation av 'move' metoden.\n",
    "        print(f'{self.name} is swimming.') # method override\n",
    "\n",
    "animals = [\n",
    "        Cat('Pelle'),\n",
    "        Dog('Karo', is_loud = True),\n",
    "        Fish('Nemo'),\n",
    "        Dog('Kalle', is_loud = False)\n",
    "]\n",
    "\n",
    "for animal in animals:\n",
    "    animal.move()\n",
    "    if hasattr(animal, 'bark'):\n",
    "        animal.bark()\n",
    "print()\n",
    "for animal in animals:\n",
    "    animal.move()\n",
    "    if type(animal) == Dog:\n",
    "        animal.bark()\n",
    "print()\n",
    "for animal in animals:\n",
    "    animal.move()\n",
    "    if isinstance(animal, Dog): # is istance kollar om objektet är en instans av klassen\n",
    "        animal.bark()    \n",
    "\n",
    "print()\n",
    "animals[1].bark() # 'Karo is barking'\n"
   ]
  }
 ],
 "metadata": {
  "kernelspec": {
   "display_name": "Python_Daniel_Claesson-oifCKsFD",
   "language": "python",
   "name": "python3"
  },
  "language_info": {
   "codemirror_mode": {
    "name": "ipython",
    "version": 3
   },
   "file_extension": ".py",
   "mimetype": "text/x-python",
   "name": "python",
   "nbconvert_exporter": "python",
   "pygments_lexer": "ipython3",
   "version": "3.9.16"
  },
  "orig_nbformat": 4
 },
 "nbformat": 4,
 "nbformat_minor": 2
}
