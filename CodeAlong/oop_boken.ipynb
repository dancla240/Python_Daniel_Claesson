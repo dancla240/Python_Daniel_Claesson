{
 "cells": [
  {
   "cell_type": "markdown",
   "metadata": {},
   "source": [
    "# Kapitel 13 i Python\n",
    "- Att addera 'properties' till sin klass gör att man kommer åt privata variabler på samma sätt som om de inte var privata, lite kortfattat och ovetenskapligt.\n",
    "- "
   ]
  },
  {
   "cell_type": "code",
   "execution_count": 8,
   "metadata": {},
   "outputs": [],
   "source": [
    "class Car:\n",
    "    def __init__(self):\n",
    "        self.regnr = \"\"\n",
    "        self.make = \"\"\n",
    "        self.modelyear = int()\n",
    "        self.weight = int()\n",
    "        self.power = int()\n",
    "        self.owner = \"\"\n",
    "    "
   ]
  },
  {
   "cell_type": "code",
   "execution_count": 16,
   "metadata": {},
   "outputs": [],
   "source": [
    "class Person:\n",
    "    def __init__(self):\n",
    "        self.firstname = \"\"\n",
    "        self.lastname = \"\"\n",
    "        self.year_of_birth = int()\n",
    "    "
   ]
  },
  {
   "cell_type": "code",
   "execution_count": 15,
   "metadata": {},
   "outputs": [
    {
     "name": "stdout",
     "output_type": "stream",
     "text": [
      "Owner = <__main__.Person object at 0x000002A9826612B0>\n",
      "Regnummer = ABC123\n",
      "Make = Volvo\n",
      "ModelYear = 2018\n",
      "Weight = 1738\n",
      "Power = 150\n",
      "\n",
      "Onwer = <__main__.Person object at 0x000002A9825F1E50>\n",
      "Regnummer = AOU987\n",
      "Make = Porche\n",
      "ModelYear = 2020\n",
      "Weight = 1643\n",
      "Power = 280\n"
     ]
    }
   ],
   "source": [
    "car_1 = Car()\n",
    "car_1.owner = Person()\n",
    "car_1.regnr = 'ABC123'\n",
    "car_1.make = 'Volvo'\n",
    "car_1.modelyear = 2018\n",
    "car_1.weight = 1738\n",
    "car_1.power = 150\n",
    "\n",
    "car_2 = Car()\n",
    "car_2.owner = Person()\n",
    "car_2.regnr = 'AOU987'\n",
    "car_2.make = 'Porche'\n",
    "car_2.modelyear = 2020\n",
    "car_2.weight = 1643\n",
    "car_2.power = 280\n",
    "\n",
    "print(f'Owner = {car_1.owner}\\nRegnummer = {car_1.regnr}\\nMake = {car_1.make}\\nModelYear = {car_1.modelyear}\\nWeight = {car_1.weight}\\nPower = {car_1.power}')\n",
    "print()\n",
    "print(f'Onwer = {car_2.owner}\\nRegnummer = {car_2.regnr}\\nMake = {car_2.make}\\nModelYear = {car_2.modelyear}\\nWeight = {car_2.weight}\\nPower = {car_2.power}')\n"
   ]
  },
  {
   "cell_type": "markdown",
   "metadata": {},
   "source": [
    "### Ändrar klassen Car så att den tar initieringsvärden."
   ]
  },
  {
   "cell_type": "code",
   "execution_count": 35,
   "metadata": {},
   "outputs": [],
   "source": [
    "class Car2:\n",
    "    def __init__(self, regnr=\"\", make=\"\", modelyear=int(), weight=int(), power=int(), owner=\"\"):\n",
    "        self.regnr = regnr\n",
    "        self.make = make\n",
    "        self.modelyear = modelyear\n",
    "        self.weight = weight\n",
    "        self.power = power\n",
    "        self.owner = owner\n",
    "    "
   ]
  },
  {
   "cell_type": "code",
   "execution_count": 36,
   "metadata": {},
   "outputs": [
    {
     "name": "stdout",
     "output_type": "stream",
     "text": [
      "Owner = <__main__.Person object at 0x000002A9814A3FD0>\n",
      "Regnummer = XYZ123\n",
      "Make = Saab\n",
      "ModelYear = 2010\n",
      "Weight = 1540\n",
      "Power = 170\n",
      "\n",
      "Onwer = <__main__.Person object at 0x000002A9814A3BB0>\n",
      "Regnummer = HET69A\n",
      "Make = Koenigsegg\n",
      "ModelYear = 2023\n",
      "Weight = 1810\n",
      "Power = 500\n"
     ]
    }
   ],
   "source": [
    "car_3 = Car2(regnr='XYZ123',make='Saab',modelyear=2010,weight=1540,power=170,owner=Person())\n",
    "car_4 = Car2(regnr='HET69A',make='Koenigsegg',modelyear=2023,weight=1810,power=500,owner=Person())\n",
    "\n",
    "print(f'Owner = {car_3.owner}\\nRegnummer = {car_3.regnr}\\nMake = {car_3.make}\\nModelYear = {car_3.modelyear}\\nWeight = {car_3.weight}\\nPower = {car_3.power}')\n",
    "print()\n",
    "print(f'Onwer = {car_4.owner}\\nRegnummer = {car_4.regnr}\\nMake = {car_4.make}\\nModelYear = {car_4.modelyear}\\nWeight = {car_4.weight}\\nPower = {car_4.power}')\n"
   ]
  },
  {
   "cell_type": "markdown",
   "metadata": {},
   "source": [
    "### Rektangel\n",
    "- Uppgift 13.6 sidan 255"
   ]
  },
  {
   "cell_type": "code",
   "execution_count": 45,
   "metadata": {},
   "outputs": [],
   "source": [
    "class Rektangel:\n",
    "    def __init__(self):\n",
    "        self.startpunkt = [0, 0] # koordinat\n",
    "        self.höjd = 0\n",
    "        self.bredd = 0\n",
    "    \n",
    "    def set_höjd(self, höjd_input):\n",
    "        assert höjd_input > 0, ('Måste vara positivt värde.')\n",
    "        self.höjd = höjd_input\n",
    "    \n",
    "    def set_bredd(self, bredd_input):\n",
    "        assert bredd_input > 0, ('Måste vara positivt värde.')\n",
    "        self.bredd = bredd_input\n",
    "    \n",
    "    def omkr(self):\n",
    "        return self.bredd * 2 + self.höjd * 2\n",
    "    \n",
    "    def area(self):\n",
    "        return self.bredd * self.höjd"
   ]
  },
  {
   "cell_type": "code",
   "execution_count": 93,
   "metadata": {},
   "outputs": [
    {
     "name": "stdout",
     "output_type": "stream",
     "text": [
      "rekt1.omkr() = 12\n",
      "rekt1.area() = 8\n"
     ]
    }
   ],
   "source": [
    "rekt1 = Rektangel()\n",
    "rekt1.set_bredd(2)\n",
    "rekt1.set_höjd(4)\n",
    "print(f'{rekt1.omkr() = }')\n",
    "print(f'{rekt1.area() = }')"
   ]
  },
  {
   "cell_type": "markdown",
   "metadata": {},
   "source": [
    "- Uppgift 13.7 siddan 255.\n",
    "- Skriva om koden så att instansvariablerna som beskriver höjden och bredden betraktas som privata.\n",
    "- Min slutsats: nu är höjd och bredd 'privata'. Jag kan inte tilldela höjden värdet 3 genom att skriva 'rekt1._höjd = 3', vilket är tanken.\n",
    "- Men jag måste använda 'set_bredd' osv, får att sätta eller getta värden. Det är 'jobbigt'.\n",
    "- Om man använder properties istället, så kan man använda tex rekt1.bredd för att ge ett värde till bredd."
   ]
  },
  {
   "cell_type": "markdown",
   "metadata": {},
   "source": [
    "### Testar Rektangel klassen"
   ]
  },
  {
   "cell_type": "code",
   "execution_count": 55,
   "metadata": {},
   "outputs": [
    {
     "name": "stdout",
     "output_type": "stream",
     "text": [
      "Rektangelns area är 25\n",
      "Rektangelns omkrets är 20.\n",
      "Rektangelns area är 100\n",
      "Rektangelns omkrets är 40.\n"
     ]
    }
   ],
   "source": [
    "while True:\n",
    "    BoH = input('Ange bredd och höjd: ')\n",
    "    if BoH == \"\":\n",
    "        break\n",
    "    bredd = int(BoH.split()[0])\n",
    "    höjd = int(BoH.split()[1])\n",
    "    rekt = Rektangel()\n",
    "    rekt.set_bredd(bredd)\n",
    "    rekt.set_höjd(höjd)\n",
    "    print(f'Rektangelns area är {rekt.area()}\\nRektangelns omkrets är {rekt.omkr()}.')\n"
   ]
  },
  {
   "cell_type": "markdown",
   "metadata": {},
   "source": [
    "- Uppgift 13.8 sidan 258.\n",
    "- skriv om koden så att instansvariablerna som beskriver höjden och bredden betrktas som privata. Lägg till get och set metoder."
   ]
  },
  {
   "cell_type": "code",
   "execution_count": 98,
   "metadata": {},
   "outputs": [],
   "source": [
    "class Rektangel2:\n",
    "    def __init__(self, startpunkt=[0, 0], höjd=0, bredd=0):\n",
    "        self.startpunkt = startpunkt\n",
    "        self.set_höjd(höjd) # kallar på set_höjd metoden vid instantiation\n",
    "        self.set_bredd(bredd) # kallar på set_bredd metoden vid instantiation\n",
    "    \n",
    "    def set_höjd(self, höjd_input):\n",
    "        assert höjd_input >= 0, ('Måste vara positivt värde.')\n",
    "        self._höjd = höjd_input\n",
    "\n",
    "    def get_höjd(self):\n",
    "        return self._höjd\n",
    "    \n",
    "    def set_bredd(self, bredd_input):\n",
    "        assert bredd_input >= 0, ('Måste vara positivt värde.')\n",
    "        self._bredd = bredd_input\n",
    "\n",
    "    def get_bredd(self):\n",
    "        return self._bredd\n",
    "    \n",
    "    def omkr(self):\n",
    "        return self._bredd * 2 + self._höjd * 2\n",
    "    \n",
    "    def area(self):\n",
    "        return self._bredd * self._höjd"
   ]
  },
  {
   "cell_type": "code",
   "execution_count": 99,
   "metadata": {},
   "outputs": [
    {
     "name": "stdout",
     "output_type": "stream",
     "text": [
      "rekt1.omkr() = 12\n",
      "rekt1.area() = 8\n"
     ]
    }
   ],
   "source": [
    "rekt1 = Rektangel2()\n",
    "rekt1.set_bredd(2)\n",
    "rekt1.set_höjd(4)\n",
    "print(f'{rekt1.omkr() = }')\n",
    "print(f'{rekt1.area() = }')"
   ]
  },
  {
   "cell_type": "markdown",
   "metadata": {},
   "source": [
    "- Uppgift 13.9 sidan 261.\n",
    "- Skriv om koden så att den får egenskaper (properties) h och b som beskriver höjd och bredd. Använd decorators."
   ]
  },
  {
   "cell_type": "code",
   "execution_count": 100,
   "metadata": {},
   "outputs": [],
   "source": [
    "class Rektangel3:\n",
    "    def __init__(self, startpunkt=[0, 0], höjd=0, bredd=0):\n",
    "        self.startpunkt = startpunkt\n",
    "        self.b = bredd\n",
    "        self.h = höjd\n",
    "    \n",
    "    @property\n",
    "    def b(self):\n",
    "        return self._bredd\n",
    "    \n",
    "    @b.setter\n",
    "    def b(self, bredd_input):\n",
    "        assert bredd_input >= 0, ('Måste vara positivt värde.')\n",
    "        self._bredd = bredd_input\n",
    "    \n",
    "    @property\n",
    "    def h(self):\n",
    "        return self._höjd\n",
    "\n",
    "    @h.setter\n",
    "    def h(self, höjd_input):\n",
    "        assert höjd_input >= 0, ('Måste vara positivt värde.')\n",
    "        self._höjd = höjd_input\n",
    " \n",
    "    def omkr(self):\n",
    "        return self._bredd * 2 + self._höjd * 2\n",
    "    \n",
    "    def area(self):\n",
    "        return self._bredd * self._höjd"
   ]
  },
  {
   "cell_type": "code",
   "execution_count": 105,
   "metadata": {},
   "outputs": [
    {
     "name": "stdout",
     "output_type": "stream",
     "text": [
      "rekt1.omkr() = 12\n",
      "rekt1.area() = 8\n"
     ]
    }
   ],
   "source": [
    "rekt1 = Rektangel3()\n",
    "rekt1.b = 2\n",
    "rekt1.h = 4\n",
    "print(f'{rekt1.omkr() = }')\n",
    "print(f'{rekt1.area() = }')"
   ]
  },
  {
   "cell_type": "markdown",
   "metadata": {},
   "source": [
    "### Sidan 251, Cirklar\n",
    "- I koden nedan så har vi adderat en metod för att sätta ett värde på radien (set_r).\n",
    "- Men man kan fortfarande sätta ett negativt värde på radien, både när man skapar objektet eller helt enkelt bara gå på instansvariabeln direkt. Det är inte helt bra.\n",
    "~~~\n",
    "    cirkel1.r = -1 #detta är fullt möjligt, inte bra.\n",
    "~~~\n",
    "            eller:\n",
    "~~~\n",
    "    cirkel1 = Cirkel(radie=-1)\n",
    "~~~\n",
    "\n",
    "- Dessa två problem ska vi fixa till i koden, i nästa del. Se nedan."
   ]
  },
  {
   "cell_type": "code",
   "execution_count": 58,
   "metadata": {},
   "outputs": [],
   "source": [
    "from math import pi\n",
    "\n",
    "class Cirkel:\n",
    "    def __init__(self, x=0, y=0, radie=0):\n",
    "        self.x = x\n",
    "        self.y = y\n",
    "        self.r = radie\n",
    "\n",
    "    def set_r(self, radie):\n",
    "        assert radie >= 0, ('Måste vara positivt värde.')\n",
    "        self.r = radie\n",
    "\n",
    "    def area(self):\n",
    "        return pi * self.r**2\n",
    "    \n",
    "    def omkr(self):\n",
    "        return 2 * pi * self.r"
   ]
  },
  {
   "cell_type": "code",
   "execution_count": 61,
   "metadata": {},
   "outputs": [
    {
     "name": "stdout",
     "output_type": "stream",
     "text": [
      "<class '__main__.Cirkel'>\n",
      "3.141592653589793\n",
      "6.283185307179586\n"
     ]
    }
   ],
   "source": [
    "c1=Cirkel()\n",
    "print(type(c1))\n",
    "c1.set_r(1)\n",
    "print(c1.area())\n",
    "print(c1.omkr())\n"
   ]
  },
  {
   "cell_type": "markdown",
   "metadata": {},
   "source": [
    "### Koden ovan uppdaterad så att radie är inkapslat.\n",
    "- på det här sättet kan man inte ge radien ett värde genom tex 'cirkel1.r=2'\n",
    "- man måste använda set_r metoden för att ändra r.\n",
    "- "
   ]
  },
  {
   "cell_type": "code",
   "execution_count": 71,
   "metadata": {},
   "outputs": [],
   "source": [
    "from math import pi\n",
    "\n",
    "class Cirkel2:\n",
    "    def __init__(self, x=0, y=0, radie=0):\n",
    "        self.x = x\n",
    "        self.y = y\n",
    "        self.set_r(radie) #vid instantieringen av objektet, så kallas metoden 'set_r' med parametern 'radie'.\n",
    "\n",
    "    def set_r(self, radie):\n",
    "        assert radie >= 0, ('Måste vara positivt värde.')\n",
    "        self._r = radie # i set_r metoden, så görs radien till ett privat attribut.\n",
    "    \n",
    "    def get_r(self):\n",
    "        return self._r # _r är nu en privat instansvariabel. Den finns inte heller bland attributen ovan.\n",
    "\n",
    "    def area(self):\n",
    "        return pi * self._r**2 # det är _r överallt\n",
    "    \n",
    "    def omkr(self):\n",
    "        return 2 * pi * self._r # det är _r överallt"
   ]
  },
  {
   "cell_type": "code",
   "execution_count": 73,
   "metadata": {},
   "outputs": [
    {
     "name": "stdout",
     "output_type": "stream",
     "text": [
      "2\n",
      "c2.get_r() = 3\n",
      "c2.area() = 28.274333882308138\n",
      "c2.omkr() = 18.84955592153876\n"
     ]
    }
   ],
   "source": [
    "c1 = Cirkel2()\n",
    "c1.set_r(2)\n",
    "print(c1.get_r())\n",
    "\n",
    "c2= Cirkel2(radie=3)\n",
    "print(f'{c2.get_r() = }')\n",
    "print(f'{c2.area() = }')\n",
    "print(f'{c2.omkr() = }')\n",
    "\n"
   ]
  },
  {
   "cell_type": "markdown",
   "metadata": {},
   "source": [
    "### Properties\n",
    "- sidan 259:\n",
    "- Man kan definiera om 'r' till en egenskap, property.\n",
    "- genom att göra det kan man set och get 'r' utan att kalla på 'get_r' eller 'set_r'.\n",
    "~~~\n",
    "    r = property(get_r, set_r) # adderas till koden i klassen\n",
    "~~~\n",
    "- "
   ]
  },
  {
   "cell_type": "code",
   "execution_count": 74,
   "metadata": {},
   "outputs": [],
   "source": [
    "from math import pi\n",
    "\n",
    "class Cirkel3:\n",
    "    def __init__(self, x=0, y=0, radie=0):\n",
    "        self.x = x\n",
    "        self.y = y\n",
    "        self.set_r(radie) #vid instantieringen av objektet, så kallas metoden 'set_r' med parametern 'radie'.\n",
    "\n",
    "    def set_r(self, radie):\n",
    "        assert radie >= 0, ('Måste vara positivt värde.')\n",
    "        self._r = radie # i set_r metoden, så görs radien till ett privat attribut.\n",
    "    \n",
    "    def get_r(self):\n",
    "        return self._r # _r är nu en privat instansvariabel. Den finns inte heller bland attributen ovan.\n",
    "\n",
    "    def area(self):\n",
    "        return pi * self._r**2 # det är _r överallt\n",
    "    \n",
    "    def omkr(self):\n",
    "        return 2 * pi * self._r # det är _r överallt\n",
    "    \n",
    "    r = property(get_r, set_r)\n",
    "\n"
   ]
  },
  {
   "cell_type": "code",
   "execution_count": null,
   "metadata": {},
   "outputs": [],
   "source": [
    "c1 = Cirkel3()\n",
    "c1.r = 2\n",
    "print(c1.r)\n",
    "\n",
    "c2= Cirkel3(radie=3)\n",
    "print(f'{c2.r = }')\n",
    "print(f'{c2.area() = }')\n",
    "print(f'{c2.omkr() = }')\n",
    "\n",
    "#c3= Cirkel3(radie=-1) #denna ger felmeddelande"
   ]
  },
  {
   "cell_type": "markdown",
   "metadata": {},
   "source": [
    "### Properties fortsättning:\n",
    "- man kan ange 'properties' på ett snyggare sätt, genom att använda decorators, se nedan."
   ]
  },
  {
   "cell_type": "code",
   "execution_count": 91,
   "metadata": {},
   "outputs": [],
   "source": [
    "from math import pi\n",
    "\n",
    "class Cirkel4:\n",
    "    def __init__(self, x=0, y=0, radie=0):\n",
    "        self.x = x\n",
    "        self.y = y\n",
    "        self.r = radie #vid instantieringen av objektet, så kallas 'setter' metoden med parametern 'radie'.\n",
    "\n",
    "    @property\n",
    "    def r(self):\n",
    "        return self._r # _r är nu en privat instansvariabel. Den finns inte heller bland attributen ovan.\n",
    "\n",
    "    @r.setter\n",
    "    def r(self, radie):\n",
    "        assert radie >= 0, ('Måste vara positivt värde.') #setter metoden kollar att radien är positiv\n",
    "        self._r = radie\n",
    "\n",
    "    def area(self):\n",
    "        return pi * self.r**2 # obs endast 'r' nu\n",
    "    \n",
    "    def omkr(self):\n",
    "        return 2 * pi * self.r # obs endast 'r' nu\n"
   ]
  },
  {
   "cell_type": "code",
   "execution_count": 92,
   "metadata": {},
   "outputs": [
    {
     "name": "stdout",
     "output_type": "stream",
     "text": [
      "2\n",
      "c2.r = 3\n",
      "c2.area() = 28.274333882308138\n",
      "c2.omkr() = 18.84955592153876\n"
     ]
    }
   ],
   "source": [
    "c1 = Cirkel4()\n",
    "c1.r = 2\n",
    "print(c1.r)\n",
    "\n",
    "c2= Cirkel4(radie=3)\n",
    "print(f'{c2.r = }')\n",
    "print(f'{c2.area() = }')\n",
    "print(f'{c2.omkr() = }')\n",
    "\n",
    "#c3 = Cirkel4(radie=-1) #denna ger felmeddelande"
   ]
  }
 ],
 "metadata": {
  "kernelspec": {
   "display_name": "ithsprep",
   "language": "python",
   "name": "python3"
  },
  "language_info": {
   "codemirror_mode": {
    "name": "ipython",
    "version": 3
   },
   "file_extension": ".py",
   "mimetype": "text/x-python",
   "name": "python",
   "nbconvert_exporter": "python",
   "pygments_lexer": "ipython3",
   "version": "3.9.16"
  },
  "orig_nbformat": 4
 },
 "nbformat": 4,
 "nbformat_minor": 2
}
