{
 "cells": [
  {
   "cell_type": "markdown",
   "metadata": {},
   "source": [
    "# Operator Overloading\n",
    "- Operatorer är tex aritmetriska operatorer, se operatorer lektionen.\n",
    "- overloading innebär att man definierar vad tex ett '+' i koden innebär, om man adderar två objekt\n",
    "- tex __add__ anropas automatiskt när + hittas i koden\n",
    "- [Länk till föreläsning 1](https://ithogskolan.sharepoint.com/:v:/s/AI23/EcLa3zfQNp5Jr40kGh3xDOMBdxwPbsrmsRTKXXexmeyMag?e=YWLuFO)\n",
    "- [länk till föreläsning 2](https://ithogskolan.sharepoint.com/:v:/s/AI23/ESw4p7FX_HlFh0ZujFClcNMBkvdArDCTkWysb3H129RFIg?e=BNWLZc)\n",
    "- [länk till python docs](https://docs.python.org/3/reference/datamodel.html#special-method-names)\n",
    "- raise()\n",
    "- eval()"
   ]
  },
  {
   "cell_type": "code",
   "execution_count": 7,
   "metadata": {},
   "outputs": [
    {
     "data": {
      "text/plain": [
       "'PelleMåns'"
      ]
     },
     "execution_count": 7,
     "metadata": {},
     "output_type": "execute_result"
    }
   ],
   "source": [
    "class Cat:\n",
    "    def __init__(self, name, age):\n",
    "        self.name = name\n",
    "        self.age = age\n",
    "\n",
    "    def __add__(self, other):\n",
    "        #return self.age + other.age #summerar katternas åldrar\n",
    "        return self.name + other.name # concatenerar katternas namn\n",
    "\n",
    "\n",
    "cat_a = Cat('Pelle', 8)\n",
    "cat_b = Cat('Måns', 9)\n",
    "\n",
    "cat_a + cat_b"
   ]
  },
  {
   "cell_type": "markdown",
   "metadata": {},
   "source": [
    "matematisk addition"
   ]
  },
  {
   "cell_type": "code",
   "execution_count": 1,
   "metadata": {},
   "outputs": [
    {
     "data": {
      "text/plain": [
       "8"
      ]
     },
     "execution_count": 1,
     "metadata": {},
     "output_type": "execute_result"
    }
   ],
   "source": [
    "5 + 3"
   ]
  },
  {
   "cell_type": "markdown",
   "metadata": {},
   "source": [
    "concatenation. Overloading, här betyder inte + addition på samma sätt som ovan."
   ]
  },
  {
   "cell_type": "code",
   "execution_count": 2,
   "metadata": {},
   "outputs": [
    {
     "data": {
      "text/plain": [
       "'helloworld'"
      ]
     },
     "execution_count": 2,
     "metadata": {},
     "output_type": "execute_result"
    }
   ],
   "source": [
    "'hello' + 'world'"
   ]
  },
  {
   "cell_type": "markdown",
   "metadata": {},
   "source": [
    "En annan overloading, addition av listor."
   ]
  },
  {
   "cell_type": "code",
   "execution_count": 8,
   "metadata": {},
   "outputs": [
    {
     "name": "stdout",
     "output_type": "stream",
     "text": [
      "['hej', 'Daniel', 'päron']\n"
     ]
    }
   ],
   "source": [
    "list1 = ['hej','Daniel']\n",
    "list2 = ['päron']\n",
    "\n",
    "list3 = list1 + list2\n",
    "print(list3)"
   ]
  },
  {
   "cell_type": "code",
   "execution_count": 9,
   "metadata": {},
   "outputs": [
    {
     "ename": "TypeError",
     "evalue": "__init__() missing 1 required positional argument: 'age'",
     "output_type": "error",
     "traceback": [
      "\u001b[1;31m---------------------------------------------------------------------------\u001b[0m",
      "\u001b[1;31mTypeError\u001b[0m                                 Traceback (most recent call last)",
      "\u001b[1;32mc:\\Users\\danie\\Documents\\GitHub\\Python_Daniel_Claesson\\CodeAlong\\oop_operator_overloading.ipynb Cell 9\u001b[0m line \u001b[0;36m<cell line: 1>\u001b[1;34m()\u001b[0m\n\u001b[1;32m----> <a href='vscode-notebook-cell:/c%3A/Users/danie/Documents/GitHub/Python_Daniel_Claesson/CodeAlong/oop_operator_overloading.ipynb#X11sZmlsZQ%3D%3D?line=0'>1</a>\u001b[0m cat_c \u001b[39m=\u001b[39m Cat(\u001b[39m'\u001b[39;49m\u001b[39mPelle\u001b[39;49m\u001b[39m'\u001b[39;49m)\n\u001b[0;32m      <a href='vscode-notebook-cell:/c%3A/Users/danie/Documents/GitHub/Python_Daniel_Claesson/CodeAlong/oop_operator_overloading.ipynb#X11sZmlsZQ%3D%3D?line=1'>2</a>\u001b[0m cat_d \u001b[39m=\u001b[39m Cat(\u001b[39m'\u001b[39m\u001b[39mMåns\u001b[39m\u001b[39m'\u001b[39m)\n\u001b[0;32m      <a href='vscode-notebook-cell:/c%3A/Users/danie/Documents/GitHub/Python_Daniel_Claesson/CodeAlong/oop_operator_overloading.ipynb#X11sZmlsZQ%3D%3D?line=3'>4</a>\u001b[0m cat_c \u001b[39m+\u001b[39m cat_d \u001b[39m# addition av katterna ger felmeddelande om man inte definierar detta.\u001b[39;00m\n",
      "\u001b[1;31mTypeError\u001b[0m: __init__() missing 1 required positional argument: 'age'"
     ]
    }
   ],
   "source": [
    "cat_c = Cat('Pelle')\n",
    "cat_d = Cat('Måns')\n",
    "\n",
    "cat_c + cat_d # addition av katterna ger felmeddelande om man inte definierar detta."
   ]
  },
  {
   "cell_type": "code",
   "execution_count": 40,
   "metadata": {},
   "outputs": [
    {
     "name": "stdout",
     "output_type": "stream",
     "text": [
      "Kelvin = 278.15, Celsius = 5.0.\n",
      "t1 = Kelvin = 278.15, Celsius = 5.0.\n",
      "t1.kelvin = 278.15\n",
      "t1.celsius = 5.0\n",
      "\n",
      "Kelvin = 5, Celsius = -268.15.\n",
      "t2 = Kelvin = 5, Celsius = -268.15.\n",
      "t2.kelvin = 5\n",
      "t2.celsius = -268.15\n"
     ]
    },
    {
     "data": {
      "text/plain": [
       "Kelvin = 7, Celsius = -266.15."
      ]
     },
     "execution_count": 40,
     "metadata": {},
     "output_type": "execute_result"
    }
   ],
   "source": [
    "class Temperature:\n",
    "    def __init__(self, kelvin=None, celsius=None):\n",
    "        if kelvin is not None:\n",
    "            self.kelvin = kelvin\n",
    "        else:\n",
    "            self.celsius = celsius\n",
    "\n",
    "    @property #setter metod\n",
    "    def kelvin(self):\n",
    "        return self._kelvin\n",
    "    \n",
    "    @kelvin.setter\n",
    "    def kelvin(self, kelvin):\n",
    "        self._kelvin = kelvin\n",
    "\n",
    "    @property\n",
    "    def celsius(self):\n",
    "        return self._kelvin - 273.15\n",
    "\n",
    "    @celsius.setter\n",
    "    def celsius(self, celsius):\n",
    "        self._kelvin = celsius + 273.15\n",
    "\n",
    "    def __repr__(self):\n",
    "        return f'Kelvin = {self.kelvin}, Celsius = {self.celsius}.'\n",
    "    \n",
    "    def __add__(self, other):\n",
    "        #return self.kelvin + other.kelvin #adderar kelvin för båda objekten\n",
    "        #return self._kelvin + other._kelvin # ger samma, men använd inte denna, använd propertieserna för att hämta värden\n",
    "        #if type(other) is float or type(other) is int:\n",
    "        if type(other) in [float, int]: # bra sätt att skriva detta!\n",
    "            return Temperature(self.kelvin + other)\n",
    "        else:\n",
    "            return Temperature(self.kelvin + other.kelvin)\n",
    "        \n",
    "        # nedan ett annat sätt:\n",
    "        #kelvin = other if type(other) in [float, int] else other.kelvin\n",
    "        #return Temperature(kelvin=self.kelvin + kelvin)\n",
    "    def __radd__(self, other):\n",
    "        return self.__add__(other)\n",
    "    \n",
    "t1 = Temperature(celsius=5)\n",
    "t2 = Temperature(kelvin=5)\n",
    "t3 = Temperature(kelvin=2)\n",
    "print(t1)\n",
    "print(f'{t1 = }') \n",
    "print(f'{t1.kelvin = }')\n",
    "print(f'{t1.celsius = }')\n",
    "print()\n",
    "print(t2)\n",
    "print(f'{t2 = }') \n",
    "print(f'{t2.kelvin = }')\n",
    "print(f'{t2.celsius = }')\n",
    "t1\n",
    "t1.kelvin\n",
    "t1.celsius\n",
    "\n",
    "#t1 + t2 + t3 # funkar inte, för t1 + t2 blir först en float, innan den försöker addera med t3...\n",
    "# vi vill ha ett nytt temperaturobjekt i första summeringen, som sedan kan adderas till t3\n",
    "# t1 + 5.0 # funker inte, 5.0 har inte en kelvin property\n",
    "\n",
    "t1 + t2 + t3 # mellanstegen sparas inte i nya objekt, de finns bara temporärt\n",
    "my_new_t = t1 + t2 + t3 #men om jag skapar en ny variabel, så sparas det\n",
    "my_new_t # använder __repr__ för att skriva ut objektet\n",
    "t1 + 2 + t3\n",
    "2 + t2 # kräver att __radd__ metoden har adderats till objektet\n"
   ]
  },
  {
   "cell_type": "markdown",
   "metadata": {},
   "source": [
    "t2 + 2 funkar, eftersom t2 har en metod för att addera.\n",
    "\n",
    "2 + t2 fungerar inte! Integer klassen supportar inte att addera en temperatur.\n",
    "\n",
    "men det kan lösas med __radd__\n",
    "__radd__ anropas om den till vänster inte stödjer\n",
    "\n"
   ]
  }
 ],
 "metadata": {
  "kernelspec": {
   "display_name": "ithsprep",
   "language": "python",
   "name": "python3"
  },
  "language_info": {
   "codemirror_mode": {
    "name": "ipython",
    "version": 3
   },
   "file_extension": ".py",
   "mimetype": "text/x-python",
   "name": "python",
   "nbconvert_exporter": "python",
   "pygments_lexer": "ipython3",
   "version": "3.9.16"
  },
  "orig_nbformat": 4
 },
 "nbformat": 4,
 "nbformat_minor": 2
}
