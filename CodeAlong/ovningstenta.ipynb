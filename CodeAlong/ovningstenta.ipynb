{
 "cells": [
  {
   "cell_type": "code",
   "execution_count": 3,
   "metadata": {},
   "outputs": [
    {
     "ename": "TypeError",
     "evalue": "can only concatenate str (not \"list\") to str",
     "output_type": "error",
     "traceback": [
      "\u001b[1;31m---------------------------------------------------------------------------\u001b[0m",
      "\u001b[1;31mTypeError\u001b[0m                                 Traceback (most recent call last)",
      "\u001b[1;32mc:\\Users\\danie\\Documents\\GitHub\\Python_Daniel_Claesson\\CodeAlong\\övningstenta.ipynb Cell 1\u001b[0m line \u001b[0;36m<cell line: 36>\u001b[1;34m()\u001b[0m\n\u001b[0;32m     <a href='vscode-notebook-cell:/c%3A/Users/danie/Documents/GitHub/Python_Daniel_Claesson/CodeAlong/%C3%B6vningstenta.ipynb#W0sZmlsZQ%3D%3D?line=32'>33</a>\u001b[0m owner1 \u001b[39m=\u001b[39m PetOwner(\u001b[39m\"\u001b[39m\u001b[39mAda\u001b[39m\u001b[39m\"\u001b[39m,[\u001b[39m\"\u001b[39m\u001b[39mSnoopy\u001b[39m\u001b[39m\"\u001b[39m, \u001b[39m\"\u001b[39m\u001b[39mPluto\u001b[39m\u001b[39m\"\u001b[39m], [\u001b[39m\"\u001b[39m\u001b[39mFishy\u001b[39m\u001b[39m\"\u001b[39m, \u001b[39m\"\u001b[39m\u001b[39mBuppy\u001b[39m\u001b[39m\"\u001b[39m])\n\u001b[0;32m     <a href='vscode-notebook-cell:/c%3A/Users/danie/Documents/GitHub/Python_Daniel_Claesson/CodeAlong/%C3%B6vningstenta.ipynb#W0sZmlsZQ%3D%3D?line=33'>34</a>\u001b[0m owner2 \u001b[39m=\u001b[39m PetOwner(\u001b[39m\"\u001b[39m\u001b[39mBeda\u001b[39m\u001b[39m\"\u001b[39m, [\u001b[39m\"\u001b[39m\u001b[39mBarkly\u001b[39m\u001b[39m\"\u001b[39m] )\n\u001b[1;32m---> <a href='vscode-notebook-cell:/c%3A/Users/danie/Documents/GitHub/Python_Daniel_Claesson/CodeAlong/%C3%B6vningstenta.ipynb#W0sZmlsZQ%3D%3D?line=35'>36</a>\u001b[0m \u001b[39mprint\u001b[39;49m(owner1)\n",
      "\u001b[1;32mc:\\Users\\danie\\Documents\\GitHub\\Python_Daniel_Claesson\\CodeAlong\\övningstenta.ipynb Cell 1\u001b[0m line \u001b[0;36mPetOwner.__str__\u001b[1;34m(self)\u001b[0m\n\u001b[0;32m     <a href='vscode-notebook-cell:/c%3A/Users/danie/Documents/GitHub/Python_Daniel_Claesson/CodeAlong/%C3%B6vningstenta.ipynb#W0sZmlsZQ%3D%3D?line=25'>26</a>\u001b[0m     text \u001b[39m+\u001b[39m\u001b[39m=\u001b[39m \u001b[39m\"\u001b[39m\u001b[39m[\u001b[39m\u001b[39m\"\u001b[39m \u001b[39m+\u001b[39m \u001b[39mstr\u001b[39m([\u001b[39mrepr\u001b[39m(dog) \u001b[39mfor\u001b[39;00m dog \u001b[39min\u001b[39;00m \u001b[39mself\u001b[39m\u001b[39m.\u001b[39mdog]) \u001b[39m+\u001b[39m \u001b[39m\"\u001b[39m\u001b[39m]\u001b[39m\u001b[39m\\n\u001b[39;00m\u001b[39m\"\u001b[39m\n\u001b[0;32m     <a href='vscode-notebook-cell:/c%3A/Users/danie/Documents/GitHub/Python_Daniel_Claesson/CodeAlong/%C3%B6vningstenta.ipynb#W0sZmlsZQ%3D%3D?line=26'>27</a>\u001b[0m \u001b[39mif\u001b[39;00m \u001b[39mself\u001b[39m\u001b[39m.\u001b[39mfish:\n\u001b[1;32m---> <a href='vscode-notebook-cell:/c%3A/Users/danie/Documents/GitHub/Python_Daniel_Claesson/CodeAlong/%C3%B6vningstenta.ipynb#W0sZmlsZQ%3D%3D?line=27'>28</a>\u001b[0m     text \u001b[39m+\u001b[39m\u001b[39m=\u001b[39m \u001b[39m\"\u001b[39;49m\u001b[39m[\u001b[39;49m\u001b[39m\"\u001b[39;49m \u001b[39m+\u001b[39;49m [\u001b[39mrepr\u001b[39;49m(fish) \u001b[39mfor\u001b[39;49;00m fish \u001b[39min\u001b[39;49;00m \u001b[39mself\u001b[39;49m\u001b[39m.\u001b[39;49mfish] \u001b[39m+\u001b[39m \u001b[39m\"\u001b[39m\u001b[39m]\u001b[39m\u001b[39m\\n\u001b[39;00m\u001b[39m\"\u001b[39m\n\u001b[0;32m     <a href='vscode-notebook-cell:/c%3A/Users/danie/Documents/GitHub/Python_Daniel_Claesson/CodeAlong/%C3%B6vningstenta.ipynb#W0sZmlsZQ%3D%3D?line=29'>30</a>\u001b[0m \u001b[39mreturn\u001b[39;00m text\n",
      "\u001b[1;31mTypeError\u001b[0m: can only concatenate str (not \"list\") to str"
     ]
    }
   ],
   "source": [
    "class Animal:\n",
    "    def __init__(self, name):\n",
    "        self.name = name\n",
    "    \n",
    "    def __str__(self):\n",
    "        return f\"Animal {self.name}\"\n",
    "\n",
    "class Dog(Animal):\n",
    "    def __repr__(self):\n",
    "        return f\"Dog: {self.name}\"\n",
    "\n",
    "class Fish(Animal):\n",
    "    def __repr__(self):\n",
    "        return f\"Fish: {self.name}\"\n",
    "\n",
    "\n",
    "class PetOwner:\n",
    "    def __init__(self,name, dog = [], fish = []):\n",
    "        self.name = name\n",
    "        self.dog = [Dog(dog) for dog in dog] #skapar en lista av hundobjekt\n",
    "        self.fish = [Fish(fish) for fish in fish] #skapar en lista an fisk objekt\n",
    "\n",
    "    def __str__(self):\n",
    "        text = self.name + ' owns:\\n'\n",
    "        if self.dog:\n",
    "            text += \"[\" + str([repr(dog) for dog in self.dog]) + \"]\\n\"\n",
    "        if self.fish:\n",
    "            text += \"[\" + [repr(fish) for fish in self.fish] + \"]\\n\"\n",
    "\n",
    "        return text\n",
    "    \n",
    "\n",
    "owner1 = PetOwner(\"Ada\",[\"Snoopy\", \"Pluto\"], [\"Fishy\", \"Buppy\"])\n",
    "owner2 = PetOwner(\"Beda\", [\"Barkly\"] )\n",
    "\n",
    "print(owner1)\n"
   ]
  },
  {
   "cell_type": "markdown",
   "metadata": {},
   "source": [
    "owner1 = PetOwner(\"Ada\",[\"Snoopy\", \"Pluto\"], [\"Fishy\", \"Buppy\"])\n",
    "owner2 = PetOwner(\"Beda\", [\"Barkly\"] )\n",
    "print(owner1)\n",
    "print(owner2)\n",
    "Ada owns:\n",
    "[Dog: Snoopy, Dog: Pluto]\n",
    "[Fish: Fishy, Fish: Buppy]\n",
    "Beda owns:\n",
    "[Dog: Barkly]"
   ]
  }
 ],
 "metadata": {
  "kernelspec": {
   "display_name": "ithsprep",
   "language": "python",
   "name": "python3"
  },
  "language_info": {
   "codemirror_mode": {
    "name": "ipython",
    "version": 3
   },
   "file_extension": ".py",
   "mimetype": "text/x-python",
   "name": "python",
   "nbconvert_exporter": "python",
   "pygments_lexer": "ipython3",
   "version": "3.9.16"
  }
 },
 "nbformat": 4,
 "nbformat_minor": 2
}
