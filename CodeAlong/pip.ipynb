{
 "cells": [
  {
   "cell_type": "markdown",
   "metadata": {},
   "source": [
    "- Linux kommandon\n",
    "- ni => new item\n",
    "- mkdir => skapa folder\n",
    "- cd .. => upp ett steg i strukturen\n",
    "- cp .. => kopiera till ovan folder\n",
    "- rm => remove\n",
    "- mv => move eller döp om\n",
    "- echo => kan skriva till en fil\n",
    "- notepad => öppna i en notepad?\n",
    "- code ?\n",
    "- cat => skriver ut innehållet i en fil\n",
    "- get-help cat (powershell) => skriver ut hjälpinformationen om ett kommando\n",
    "- cat --help (Linux) => skriver ut hjälpinformation om ett kommando"
   ]
  },
  {
   "cell_type": "markdown",
   "metadata": {},
   "source": [
    "- När man installerar Python ingår pip\n",
    "- pypi.org (innehåller alla Python packages)\n",
    "- i pypi står mycket dokumentation om paketet, källkod, länk till information, länk till github osv.\n",
    "- kompilerande språk vs interpreterande (tolkat) språk\n",
    "- interpreterande språk är långsammare\n",
    "- Python generellt ett långsat språk\n",
    "- många paket till Python är skrivna tex i C++ vilket gör det snabbt ändå, någon form av API mellan de olika språken\n",
    "- tex i Pandas vill man inte loopa på egen hand utan använda paketens egna funktioner, för snabbhetens skull.\n",
    "- \n",
    "- \n",
    "- pip installerar \"globalt\" på datorn\n",
    "- pipenv \n",
    "- kommandon i powershell:\n",
    "- pip - ger information om kommandon osv.\n",
    "- pip install\n",
    "- pip uninstall\n",
    "- pip show pipenv - ger info om ett specifikt paket, tex location\n",
    "- om man installerar ett paket som matplotlib globalt med flera andra dependencies paket. Om man av installerar sedan så kommer inte alla paket att avinstalleras.\n",
    "- semantic versioning x.x.x major.minor.patch [semver.org](semver.org)\n",
    "- man måste hålla reda på vilken version man har.\n",
    "- major: stor ändring som inte är bakåtkompatibelt\n",
    "- minor: bakåtkompatibelt\n",
    "- patch: buggfixar som är bakårkompatibla\n",
    "- **utvecklingsmiljö** vs **production environment**\n",
    "- **deplyar** till produktionsmiljön när man är färdig. Oilika miljöer kan behöva olika paket eller tex olika data för dessa två miljöer.\n",
    "- Virtuell miljö, som hör till ett specifikt projekt. Man kan switcha mellan olika miljöer. Virtualenv är ett paket för att skapa virtuella miljöerna.\n",
    "- pipenv hanterar både virtuella miljöer och pakethanteringen.\n",
    "- man installerar pipenv: pip install pipenv\n",
    "- pipenv => options och kommandon\n",
    "- pipenv --where => vart den virtuella miljön ligger\n",
    "- pipenv install installerar en venv i den katalog man står i\n",
    "- det skapas pipfile och pipifile.lock\n",
    "- cat .\\pipifile\n",
    "- pipenv run pip list => paketen i den virtuella miljön\n",
    "- pipenv run python => startar python i den virtuella miljön\n",
    "- pipenv shell => gör att man hamnar i den virtuella miljön\n",
    "- \n",
    "- När Python är igång kan man:\n",
    "- >>> import sys\n",
    "- >>> sys.executable\n",
    "- 'C:\\\\Users\\\\danie\\\\AppData\\\\Local\\\\Programs\\\\Python\\\\Python311\\\\python.exe'\n",
    "- det ger vart python är installerad\n",
    "- pipenv graph => ger dependencies\n",
    "- pipenv clean tar bort paket som inte har några dependencies\n",
    "- pipenv --rm => tar bort den virtuella miljön, men inte pipfile eller pipfile.lock\n",
    "- pipenv install => installerar allt enligt pipfile, tex bra efter man klonat ett repo\n",
    "- man kan manuellt ändra i pipfile, tex addera bibliotek, sedan köra pipenv install för att installera\n",
    "- pipfile.lock håller reda på exakt version av alla installerade librarys\n",
    "- hashes: en viss data ger exakt samma hash sträng. Gör det möjligt att kolla att ingenting har ändrats i originalkoden.\n",
    "- pipenv install pytest --dev => Man kan installera endast i dev miljön.\n",
    "- pipenv --rm => tar bort den virtuela miljön\n",
    "- pipenv install --dev => installerar den virtuella miljön enligt pipfile, inklusive de paket som är installerade för dev miljön"
   ]
  },
  {
   "cell_type": "markdown",
   "metadata": {},
   "source": [
    "![steg 1:](../Assets/pipenv_graph.PNG)\n",
    "<img src=\"pipenv_graph.png\" width=\"150\" height=\"80\">"
   ]
  }
 ],
 "metadata": {
  "language_info": {
   "name": "python"
  }
 },
 "nbformat": 4,
 "nbformat_minor": 2
}
