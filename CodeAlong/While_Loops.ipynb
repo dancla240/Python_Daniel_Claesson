{
 "cells": [
  {
   "cell_type": "markdown",
   "metadata": {},
   "source": [
    "# Loops  \n",
    "Python has two primitive loop commands:  \n",
    "- While loops\n",
    "- For loops\n",
    "\n",
    "````\n",
    "Break\n",
    "````\n",
    "\n",
    "````\n",
    "Continue\n",
    "````\n"
   ]
  },
  {
   "cell_type": "markdown",
   "metadata": {},
   "source": [
    "# The while loop  \n",
    "Execute a set of statements as long as a condition is True.\n",
    "Tex kan man loopa igenom en text till man stöter på tex ett 'e'."
   ]
  },
  {
   "cell_type": "code",
   "execution_count": 2,
   "metadata": {},
   "outputs": [
    {
     "name": "stdout",
     "output_type": "stream",
     "text": [
      "10: hello world\n",
      " 9: hello world\n",
      " 8: hello world\n",
      " 7: hello world\n",
      " 6: hello world\n",
      " 5: hello world\n",
      " 4: hello world\n",
      " 3: hello world\n",
      " 2: hello world\n",
      " 1: hello world\n",
      "End.\n"
     ]
    }
   ],
   "source": [
    "counter = 10\n",
    "\n",
    "while counter > 0:\n",
    "    print(f\"{counter:2d}: hello world\")\n",
    "    counter = counter -1\n",
    "    #counter -= 1 #samma sak som föregående rad\n",
    "print(\"End.\")"
   ]
  },
  {
   "cell_type": "markdown",
   "metadata": {},
   "source": [
    "## The Break statement\n",
    "Used to stop the loop immediately. \n",
    "Kan tex gå igenom all tal mellan 0 och 1000 och leta efter primtal.\n",
    "Man kan avsluta loopen på flera sätt. \n"
   ]
  },
  {
   "cell_type": "code",
   "execution_count": null,
   "metadata": {},
   "outputs": [],
   "source": [
    "counter = 10\n",
    "\n",
    "while True:\n",
    "    print(\"hello world\")\n",
    "    counter -= 1\n",
    "    if counter <= 0: break\n",
    "\n",
    "print(\"End.\")\n"
   ]
  },
  {
   "cell_type": "markdown",
   "metadata": {},
   "source": [
    "## The Continue statement  \n",
    "Used to stop the current iteration of the loop and continue with the next iteration.  \n",
    "En iteration är ett varv i loopen.\n",
    "När den stöter på Continue, så hoppar den till början av loopen, skippar koden därefter.\n",
    "Break och Continue används nästan alltid ihop med en if-sats."
   ]
  },
  {
   "cell_type": "code",
   "execution_count": 5,
   "metadata": {},
   "outputs": [
    {
     "name": "stdout",
     "output_type": "stream",
     "text": [
      "1: print this\n",
      "2: print this\n",
      "3: print this\n",
      "Dont print this\n",
      "4: print this\n",
      "Dont print this\n",
      "5: print this\n",
      "Dont print this\n",
      "End.\n"
     ]
    }
   ],
   "source": [
    "counter = 0\n",
    "\n",
    "while counter < 5:\n",
    "    counter += 1\n",
    "    print(f\"{counter}: print this\")\n",
    "    if (counter < 3): continue\n",
    "    print(\"Dont print this\")\n",
    "\n",
    "print(\"End.\")"
   ]
  },
  {
   "cell_type": "markdown",
   "metadata": {},
   "source": [
    "# The Else statement  \n",
    "Used to specify a block of code to be executed when the loop is finished.\n",
    "**Note:** The Ese block will not be executedif the loop is stopped by a break statement.\n"
   ]
  },
  {
   "cell_type": "code",
   "execution_count": 6,
   "metadata": {},
   "outputs": [
    {
     "name": "stdout",
     "output_type": "stream",
     "text": [
      "10hello world\n"
     ]
    }
   ],
   "source": [
    "counter = 10\n",
    "\n",
    "while counter > 0:\n",
    "    print(f\"{counter:2d}hello world\")\n",
    "    counter -= 1\n",
    "    break\n",
    "else:\n",
    "    print(\"End.\")"
   ]
  }
 ],
 "metadata": {
  "kernelspec": {
   "display_name": "Python 3",
   "language": "python",
   "name": "python3"
  },
  "language_info": {
   "codemirror_mode": {
    "name": "ipython",
    "version": 3
   },
   "file_extension": ".py",
   "mimetype": "text/x-python",
   "name": "python",
   "nbconvert_exporter": "python",
   "pygments_lexer": "ipython3",
   "version": "3.11.5"
  },
  "orig_nbformat": 4
 },
 "nbformat": 4,
 "nbformat_minor": 2
}
