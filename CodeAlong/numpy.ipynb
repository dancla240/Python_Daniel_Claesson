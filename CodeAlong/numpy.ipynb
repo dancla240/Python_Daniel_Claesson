{
 "cells": [
  {
   "cell_type": "markdown",
   "metadata": {},
   "source": [
    "# Numpy\n",
    "- Library to handle arrays.\n",
    "- numpy arrays are non resizeable (can't append or remove elements)\n",
    "- much faster than Pythons dynamically typed lists\n",
    "- supports use of vector operations (man kan snabbt utföra operationer på arrayer, på ett sätt man inte kan på listor.)\n",
    "- Numpy använder statiskt typade typer. Python i vanliga fall är dynamiskt typat.\n",
    "- statically typed: element can't be mixed or altered.\n",
    "- arrayer kan inte blanda olika datatyper, dvs den behöver inte kolla vad varje element i en array är för något => snabbare och kräver mindre minne\n",
    "- Att hantera dynamiska datatyper, såsom listor och listor med dictionarys mm, kostar mer energi.\n",
    "- Man kan ange vilken datatyp en array ska ha.\n",
    "- Skapa array:\n",
    "1. np.array()-metoden med en lista som input.\n",
    "2. np.random.random(nbr), med nbr som anger antal\n",
    "3. np.zeros()\n",
    "4. np.ones()\n",
    "- np.shape() för att få ut storleken på en array.\n",
    "- man kan använda en lista av index för att få ut värden ur en array\n"
   ]
  },
  {
   "cell_type": "code",
   "execution_count": 7,
   "metadata": {},
   "outputs": [
    {
     "name": "stdout",
     "output_type": "stream",
     "text": [
      "[5 2 6 8]\n"
     ]
    },
    {
     "data": {
      "text/plain": [
       "dtype('float64')"
      ]
     },
     "execution_count": 7,
     "metadata": {},
     "output_type": "execute_result"
    }
   ],
   "source": [
    "import numpy as np\n",
    "my_array = np.array([5, 2, 6, 8])\n",
    "my_array2 = np.array([5, 2, 6, 8.0])\n",
    "my_array3 = np.array([1,2,3], dtype = float) # det går att ange datatyp\n",
    "\n",
    "\n",
    "print(my_array)\n",
    "my_array.dtype\n",
    "my_array2.dtype"
   ]
  },
  {
   "cell_type": "code",
   "execution_count": 10,
   "metadata": {},
   "outputs": [
    {
     "name": "stdout",
     "output_type": "stream",
     "text": [
      "[0.11972081 0.33533452 0.79372044 0.03097003 0.37082812 0.82854973\n",
      " 0.91704054 0.15272861 0.28571813 0.19737794 0.48563377 0.60299786\n",
      " 0.14609246 0.82108866 0.08898841 0.03150155 0.15422062 0.34356263\n",
      " 0.17598143 0.73183353]\n",
      "[18 13 18 17 10]\n"
     ]
    }
   ],
   "source": [
    "a2 = np.random.random(20) # vektor med 20 värden mellan 0 och 1\n",
    "print(a2)\n",
    "a3=np.random.randint(10,20, 5) # start, slut, antal\n",
    "print(a3)\n"
   ]
  },
  {
   "cell_type": "code",
   "execution_count": 17,
   "metadata": {},
   "outputs": [
    {
     "name": "stdout",
     "output_type": "stream",
     "text": [
      "[0. 0. 0. 0. 0. 0. 0. 0. 0. 0.]\n",
      "[1. 1. 1. 1. 1. 1. 1. 1. 1. 1. 1. 1.]\n",
      "[  0.   1.   2.   3.   4.   5.   6.   7.   8.   9.  10.  11.  12.  13.\n",
      "  14.  15.  16.  17.  18.  19.  20.  21.  22.  23.  24.  25.  26.  27.\n",
      "  28.  29.  30.  31.  32.  33.  34.  35.  36.  37.  38.  39.  40.  41.\n",
      "  42.  43.  44.  45.  46.  47.  48.  49.  50.  51.  52.  53.  54.  55.\n",
      "  56.  57.  58.  59.  60.  61.  62.  63.  64.  65.  66.  67.  68.  69.\n",
      "  70.  71.  72.  73.  74.  75.  76.  77.  78.  79.  80.  81.  82.  83.\n",
      "  84.  85.  86.  87.  88.  89.  90.  91.  92.  93.  94.  95.  96.  97.\n",
      "  98.  99. 100.]\n",
      "[0.  0.1 0.2 0.3 0.4 0.5 0.6 0.7 0.8 0.9 1.  1.1 1.2 1.3 1.4 1.5 1.6 1.7\n",
      " 1.8 1.9 2.  2.1 2.2 2.3 2.4 2.5 2.6 2.7 2.8 2.9 3.  3.1 3.2 3.3 3.4 3.5\n",
      " 3.6 3.7 3.8 3.9 4.  4.1 4.2 4.3 4.4 4.5 4.6 4.7 4.8 4.9 5.  5.1 5.2 5.3\n",
      " 5.4 5.5 5.6 5.7 5.8 5.9 6.  6.1 6.2 6.3 6.4 6.5 6.6 6.7 6.8 6.9 7.  7.1\n",
      " 7.2 7.3 7.4 7.5 7.6 7.7 7.8 7.9 8.  8.1 8.2 8.3 8.4 8.5 8.6 8.7 8.8 8.9\n",
      " 9.  9.1 9.2 9.3 9.4 9.5 9.6 9.7 9.8 9.9]\n"
     ]
    }
   ],
   "source": [
    "a4 = np.zeros(10)\n",
    "print(a4)\n",
    "a5 = np.ones(12)\n",
    "print(a5)\n",
    "a6 = np.linspace(0, 100, 101)\n",
    "print(a6)\n",
    "a7 = np.arange(0,10,0.1)\n",
    "print(a7)\n"
   ]
  },
  {
   "cell_type": "markdown",
   "metadata": {},
   "source": [
    "# Vectorized Operations\n",
    "- I numpy kan man enkelt göra operationer på hela vektorer, på alla element i arrayen samtidigt\n",
    "- man slipper göra nya listor tex.\n",
    "- math biblioteket kan bara göra operationer på skalärer\n",
    "- "
   ]
  },
  {
   "cell_type": "code",
   "execution_count": 19,
   "metadata": {},
   "outputs": [
    {
     "name": "stdout",
     "output_type": "stream",
     "text": [
      "[2, 3, 4, 5, 7, 5, 9, 3, 0, 2]\n",
      "[4, 6, 8, 10, 14, 10, 18, 6, 0, 4]\n"
     ]
    }
   ],
   "source": [
    "# vanliga python\n",
    "x = [2, 3, 4, 5, 7, 5, 9, 3, 0, 2] # lista med random värden\n",
    "print(x)\n",
    "#x * 2\n",
    "x = [value * 2 for value in x]\n",
    "print(x)\n"
   ]
  },
  {
   "cell_type": "code",
   "execution_count": 23,
   "metadata": {},
   "outputs": [
    {
     "name": "stdout",
     "output_type": "stream",
     "text": [
      "[2 3 4 5 7 5 9 3 0 2]\n",
      "[ 5  7  9 11 15 11 19  7  1  5]\n",
      "[2.23606798 2.64575131 3.         3.31662479 3.87298335 3.31662479\n",
      " 4.35889894 2.64575131 1.         2.23606798]\n"
     ]
    }
   ],
   "source": [
    "# numpy :)\n",
    "x = np.array([2, 3, 4, 5, 7, 5, 9, 3, 0, 2])\n",
    "print(x)\n",
    "x = x * 2 + 1\n",
    "print(x)\n",
    "print(np.sqrt(x))\n",
    "\n"
   ]
  },
  {
   "cell_type": "code",
   "execution_count": 27,
   "metadata": {},
   "outputs": [
    {
     "name": "stdout",
     "output_type": "stream",
     "text": [
      "[ 7 12  7  5  9]\n",
      "[10 27 12  0 14]\n",
      "[5.38516481 9.48683298 5.         5.         7.28010989]\n",
      "(5,)\n"
     ]
    }
   ],
   "source": [
    "a = np.array([5, 9, 3, 0, 2])\n",
    "b = np.array([2, 3, 4, 5, 7])\n",
    "\n",
    "print(a+b)\n",
    "print(a*b)\n",
    "print(np.sqrt(a**2 + b**2)) # pythagoras sats på alla kateter\n",
    "\n",
    "print(a.shape)"
   ]
  },
  {
   "cell_type": "markdown",
   "metadata": {},
   "source": [
    "# Array indexing and slicing\n",
    "- indexing och slicing funkar på samma sätt som med listor.\n",
    "- man kan använda en lista av index för att få ut värden ur en array\n",
    "- man kan skicka in en lista med booleans för att skapa en ny array (boolean mask / boolean indexing)\n",
    "- numpy har en inbyggd funktiom för att skapa sin lista med booleans\n",
    "- Dessa kan användas för att filtrera i en numpy array"
   ]
  },
  {
   "cell_type": "code",
   "execution_count": 41,
   "metadata": {},
   "outputs": [
    {
     "name": "stdout",
     "output_type": "stream",
     "text": [
      "[ True False False False False False False False False  True]\n"
     ]
    },
    {
     "data": {
      "text/plain": [
       "array([2, 2])"
      ]
     },
     "execution_count": 41,
     "metadata": {},
     "output_type": "execute_result"
    }
   ],
   "source": [
    "x = np.array([2, 3, 4, 5, 7, 5, 9, 3, 0, 2])\n",
    "x\n",
    "print(x == 2) # boolean indexing\n",
    "x[x==2] # får ut alla 2-or, funkar också med andra jämförelse operationer > < etc\n"
   ]
  },
  {
   "cell_type": "code",
   "execution_count": 38,
   "metadata": {},
   "outputs": [
    {
     "name": "stdout",
     "output_type": "stream",
     "text": [
      "2\n",
      "3\n",
      "[2 3 4]\n",
      "[2 2 2 5 2]\n",
      "[2 5 7 5 3 2]\n"
     ]
    }
   ],
   "source": [
    "print(x[-1])\n",
    "print(x[1])\n",
    "print(x[:3])\n",
    "print(x[[0, 0, -1, 3, 0]]) # filtering using a list of indices\n",
    "print(x[[True, False, False, True, True, True, False, True, False, True]]) # boolean indexing"
   ]
  },
  {
   "cell_type": "markdown",
   "metadata": {},
   "source": [
    "# Aggregation methods\n",
    "- An aggregation method is a method that takes a list / array of values and by doing some calculations returning a single value.\n",
    "- "
   ]
  },
  {
   "cell_type": "code",
   "execution_count": 42,
   "metadata": {},
   "outputs": [
    {
     "data": {
      "text/plain": [
       "array([2, 3, 4, 5, 7, 5, 9, 3, 0, 2])"
      ]
     },
     "execution_count": 42,
     "metadata": {},
     "output_type": "execute_result"
    }
   ],
   "source": [
    "x = np.array([2, 3, 4, 5, 7, 5, 9, 3, 0, 2])\n",
    "x"
   ]
  },
  {
   "cell_type": "code",
   "execution_count": 48,
   "metadata": {},
   "outputs": [
    {
     "name": "stdout",
     "output_type": "stream",
     "text": [
      "np.sum(x) = 40\n",
      "x.sum() = 40\n",
      "np.min(x) = 0\n",
      "np.max(x) = 9\n",
      "np.mean(x) = 4.0\n",
      "np.std(x) = 2.4899799195977463\n"
     ]
    }
   ],
   "source": [
    "print(f'{np.sum(x) = }')\n",
    "print(f'{x.sum() = }')\n",
    "\n",
    "print(f'{np.min(x) = }')\n",
    "print(f'{np.max(x) = }')\n",
    "print(f'{np.mean(x) = }')\n",
    "print(f'{np.std(x) = }')"
   ]
  },
  {
   "cell_type": "markdown",
   "metadata": {},
   "source": [
    "# Multidimensional arrays"
   ]
  },
  {
   "cell_type": "code",
   "execution_count": null,
   "metadata": {},
   "outputs": [],
   "source": [
    "x_1d = np.array([2, 3, 4, 5, 7, 5, 9, 3, 0, 2])"
   ]
  },
  {
   "cell_type": "code",
   "execution_count": 49,
   "metadata": {},
   "outputs": [
    {
     "data": {
      "text/plain": [
       "array([[2, 3, 4, 5, 7],\n",
       "       [5, 9, 3, 0, 2]])"
      ]
     },
     "execution_count": 49,
     "metadata": {},
     "output_type": "execute_result"
    }
   ],
   "source": [
    "x_2d = np.array([[2, 3, 4, 5, 7],[5, 9, 3, 0, 2]])\n",
    "x_2d"
   ]
  },
  {
   "cell_type": "code",
   "execution_count": 51,
   "metadata": {},
   "outputs": [
    {
     "data": {
      "text/plain": [
       "array([[6, 7, 7, 7],\n",
       "       [4, 8, 4, 9],\n",
       "       [2, 3, 1, 1],\n",
       "       [6, 7, 9, 1],\n",
       "       [6, 9, 7, 5]])"
      ]
     },
     "execution_count": 51,
     "metadata": {},
     "output_type": "execute_result"
    }
   ],
   "source": [
    "random_2d = np.random.randint(0, 10, [5, 4])\n",
    "random_2d"
   ]
  },
  {
   "cell_type": "code",
   "execution_count": 52,
   "metadata": {},
   "outputs": [
    {
     "data": {
      "text/plain": [
       "array([[[6, 1, 8, 8],\n",
       "        [3, 5, 6, 9],\n",
       "        [5, 6, 4, 8],\n",
       "        [0, 2, 6, 4],\n",
       "        [4, 1, 7, 8]],\n",
       "\n",
       "       [[2, 0, 2, 4],\n",
       "        [6, 7, 6, 2],\n",
       "        [5, 3, 8, 2],\n",
       "        [5, 4, 2, 0],\n",
       "        [9, 2, 3, 2]]])"
      ]
     },
     "execution_count": 52,
     "metadata": {},
     "output_type": "execute_result"
    }
   ],
   "source": [
    "random_3d = np.random.randint(0, 10, [2, 5, 4])\n",
    "random_3d"
   ]
  },
  {
   "cell_type": "markdown",
   "metadata": {},
   "source": [
    "## Indexing and slizing of 2d arrays\n"
   ]
  },
  {
   "cell_type": "code",
   "execution_count": 60,
   "metadata": {},
   "outputs": [
    {
     "name": "stdout",
     "output_type": "stream",
     "text": [
      "[[3 1 3 8]\n",
      " [4 9 8 6]\n",
      " [9 5 7 7]\n",
      " [9 3 2 9]\n",
      " [4 0 8 4]]\n",
      "[3 1 3 8]\n",
      "8\n",
      "8\n"
     ]
    }
   ],
   "source": [
    "# indexing in 2d array\n",
    "random_2d = np.random.randint(0, 10, [5, 4])\n",
    "print(random_2d)\n",
    "print(random_2d[0])\n",
    "print(random_2d[0][-1])\n",
    "print(random_2d[0, -1]) # ger samma som ovan"
   ]
  },
  {
   "cell_type": "code",
   "execution_count": 64,
   "metadata": {},
   "outputs": [
    {
     "name": "stdout",
     "output_type": "stream",
     "text": [
      "[[1 1 9 0]\n",
      " [8 1 7 6]\n",
      " [0 9 8 3]\n",
      " [9 7 9 1]\n",
      " [0 4 7 5]]\n",
      "[1 1 9 7 4]\n",
      "[[1 9 0]\n",
      " [1 7 6]\n",
      " [9 8 3]]\n"
     ]
    }
   ],
   "source": [
    "# slizing in 2d array\n",
    "random_2d = np.random.randint(0, 10, [5, 4])\n",
    "print(random_2d)\n",
    "print(random_2d[:, 1])\n",
    "print(random_2d[:3,1:])"
   ]
  }
 ],
 "metadata": {
  "kernelspec": {
   "display_name": "ithsprep",
   "language": "python",
   "name": "python3"
  },
  "language_info": {
   "codemirror_mode": {
    "name": "ipython",
    "version": 3
   },
   "file_extension": ".py",
   "mimetype": "text/x-python",
   "name": "python",
   "nbconvert_exporter": "python",
   "pygments_lexer": "ipython3",
   "version": "3.9.16"
  },
  "orig_nbformat": 4
 },
 "nbformat": 4,
 "nbformat_minor": 2
}
