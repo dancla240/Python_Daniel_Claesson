{
 "cells": [
  {
   "cell_type": "code",
   "execution_count": 2,
   "metadata": {},
   "outputs": [],
   "source": [
    "class Litteratur:\n",
    "    def __init__(self, titel):\n",
    "        self.titel = titel\n",
    "\n",
    "def __str__(self):\n",
    "    return f'Litteratur: \"{self.titel}\"'\n",
    "\n",
    "class Bok(Litteratur):\n",
    "    def __str__(self):\n",
    "        return f'Bok: \"{self.titel}\"'\n",
    "\n",
    "class Tidning(Litteratur):\n",
    "    def __str__(self):\n",
    "        return f'Tidning: \"{self.titel}\"'\n",
    "\n",
    "class Tidskrift(Litteratur):\n",
    "    def __str__(self):\n",
    "        return f'Tidskrift: \"{self.titel}\"'\n",
    "    \n",
    "böcker = [Bok('Moby Dick'), Bok('Sagan om Ringen'), Bok('Hobbiten')]\n",
    "tidningar = [Tidning('Dagens Nyheter')]\n",
    "tidskrifter = [Tidskrift('Nature'), Tidskrift('Science')]\n",
    "\n",
    "class Bibliotekarie:\n",
    "\tdef __init__(self, namn):\n",
    "\t\tself.namn = namn\n",
    "                \t\t\t\t\n",
    "\t@property\n",
    "\tdef böcker(self):\n",
    "\t\treturn self.böcker\n",
    "\t\n",
    "\t@böcker.setter\n",
    "\tdef böcker(self, bok):\n",
    "\t\tself.böcker.append(bok)\n",
    "\t\t\n",
    "\t# @property\n",
    "\t# def tidningar(self):\n",
    "\t# \treturn self._tidningar\n",
    "\t\n",
    "\t# @tidningar.setter\n",
    "\t# def tidningar(self, tidning):\n",
    "\t# \tself._tidningar.append(tidning)\n",
    "\n",
    "\t# @property\n",
    "\t# def tidskrifter(self):\n",
    "\t# \treturn self.tidskrifter\n",
    "\t\n",
    "\t# @tidskrifter.setter\n",
    "\t# def tidskrifter(self, tidskrift):\n",
    "\t# \tböcker.append(tidskrift)\n",
    "\t\n",
    "\t#def __str__(self):\n",
    "\t#\treturn f'Namn = {self.namn} ansvarar för: \\ntidningar = {self.tidningar}'# \\ntidskrifter = {self.tidskrifter}'"
   ]
  },
  {
   "cell_type": "code",
   "execution_count": 9,
   "metadata": {},
   "outputs": [
    {
     "name": "stdout",
     "output_type": "stream",
     "text": [
      "Erik\n"
     ]
    }
   ],
   "source": [
    "bib1 = Bibliotekarie('Erik')\n",
    "print(bib1.namn)\n",
    "#bib1.tidningar = Tidning('Dagens Nyheter')\n",
    "#print(bib1.tidningar)\n",
    "#bib1.böcker = (Bok('Moby Dick'))\n",
    "# DN = Tidning('Dagens Nyheter')\n",
    "# print(DN)\n",
    "# bib1.tidningar = DN\n",
    "# print(bib1)\n",
    "\n",
    "\n"
   ]
  },
  {
   "cell_type": "code",
   "execution_count": 21,
   "metadata": {},
   "outputs": [],
   "source": [
    "class Litteratur:\n",
    "    def __init__(self, titel):\n",
    "        self.titel = titel\n",
    "\n",
    "def __str__(self):\n",
    "    return f'Litteratur: \"{self.titel}\"'\n",
    "\n",
    "class Bok(Litteratur):\n",
    "    def __str__(self):\n",
    "        return f'Bok: \"{self.titel}\"'\n",
    "\n",
    "class Tidning(Litteratur):\n",
    "    def __str__(self):\n",
    "        return f'Tidning: \"{self.titel}\"'\n",
    "\n",
    "class Tidskrift(Litteratur):\n",
    "    def __str__(self):\n",
    "        return f'Tidskrift: \"{self.titel}\"'"
   ]
  },
  {
   "cell_type": "code",
   "execution_count": 47,
   "metadata": {},
   "outputs": [],
   "source": [
    "class Bibliotekarie:\n",
    "    def __init__(self, namn):\n",
    "        self.namn = namn\n",
    "        self.böcker = []\n",
    "\n",
    "    def addera_bok(self, bok):\n",
    "        self.böcker.append(bok.titel)\n",
    "\n",
    "    def hämta_bok(self):\n",
    "        boksträng =[f\"Bok: '{bok}'\" for bok in self.böcker]\n",
    "        return \" \".join(boksträng)\n",
    "\n",
    "            \n",
    "    def __str__(self):\n",
    "        return f'{self.namn} ansvarar för:\\nBöcker = {self.hämta_bok}'\n",
    "\n"
   ]
  },
  {
   "cell_type": "code",
   "execution_count": 48,
   "metadata": {},
   "outputs": [
    {
     "name": "stdout",
     "output_type": "stream",
     "text": [
      "Daniel ansvarar för:\n",
      "Böcker = <bound method Bibliotekarie.hämta_bok of <__main__.Bibliotekarie object at 0x00000254EC116AF0>>\n",
      "Daniel ansvarar för:\n",
      "Böcker = <bound method Bibliotekarie.hämta_bok of <__main__.Bibliotekarie object at 0x00000254EC116AF0>>\n",
      "['Katten på nya äventyr', 'Musen har en trevlig stund']\n",
      "Daniel ansvarar för:\n",
      "Böcker = <bound method Bibliotekarie.hämta_bok of <__main__.Bibliotekarie object at 0x00000254EC116AF0>>\n",
      "<bound method Bibliotekarie.hämta_bok of <__main__.Bibliotekarie object at 0x00000254EC116AF0>>\n"
     ]
    }
   ],
   "source": [
    "b1 = Bibliotekarie('Daniel')\n",
    "print(b1)\n",
    "# b1.addera_bok('Moby Dick')\n",
    "# print(b1)\n",
    "b1.addera_bok(Bok('Katten på nya äventyr'))\n",
    "print(b1)\n",
    "b1.addera_bok(Bok('Musen har en trevlig stund'))\n",
    "print(b1.böcker)\n",
    "print(b1)\n",
    "print(b1.hämta_bok)\n"
   ]
  },
  {
   "cell_type": "code",
   "execution_count": 7,
   "metadata": {},
   "outputs": [],
   "source": [
    "class Bibliotekarie:\n",
    "\tdef __init__(self, namn):\n",
    "\t\tself.namn = namn\n",
    "\t\tself.böcker = []\n",
    "\t\tself.tidningar = []\n",
    "\t\tself.tidskrifter = []\n",
    "\t\t\n",
    "\tdef addera_bok(self, bok):\n",
    "\t\tself.böcker.append(bok.titel)\n",
    "\t\t\n",
    "\tdef addera_tidning(self, tidning):\n",
    "\t\tself.tidningar.append(tidning.titel)\n",
    "\t\t\n",
    "\tdef addera_tidskrift(self, tidskrift):\n",
    "\t\tself.tidskrifter.append(tidskrift.titel)\n",
    "\t\t\n",
    "\tdef __str__(self):\n",
    "\t\treturn f'{self.namn} är ansvarig för:\\nBöcker = {self.böcker}\\nTidningar = {self.tidningar}\\nTidskrifter = {self.tidskrifter}'\n"
   ]
  },
  {
   "cell_type": "code",
   "execution_count": 8,
   "metadata": {},
   "outputs": [
    {
     "name": "stdout",
     "output_type": "stream",
     "text": [
      "Erik är ansvarig för:\n",
      "Böcker = ['Sagan om Ringen', 'Hobbiten']\n",
      "Tidningar = ['Dagens Nyheter']\n",
      "Tidskrifter = ['Nature']\n",
      "\n",
      "Anna är ansvarig för:\n",
      "Böcker = ['Moby Dick']\n",
      "Tidningar = []\n",
      "Tidskrifter = ['Science']\n"
     ]
    }
   ],
   "source": [
    "bib1 = Bibliotekarie('Erik')\n",
    "bib1.addera_bok(Bok('Sagan om Ringen'))\n",
    "bib1.addera_bok(Bok('Hobbiten'))\n",
    "bib1.addera_tidning(Tidning('Dagens Nyheter'))\n",
    "bib1.addera_tidskrift(Tidskrift('Nature'))\n",
    "bib2 = Bibliotekarie('Anna')\n",
    "bib2.addera_bok(Bok('Moby Dick'))\n",
    "bib2.addera_tidskrift(Tidskrift('Science'))\n",
    "print(bib1)\n",
    "print()\n",
    "print(bib2)\n",
    "\n",
    "\n"
   ]
  }
 ],
 "metadata": {
  "kernelspec": {
   "display_name": "ithsprep",
   "language": "python",
   "name": "python3"
  },
  "language_info": {
   "codemirror_mode": {
    "name": "ipython",
    "version": 3
   },
   "file_extension": ".py",
   "mimetype": "text/x-python",
   "name": "python",
   "nbconvert_exporter": "python",
   "pygments_lexer": "ipython3",
   "version": "3.9.16"
  }
 },
 "nbformat": 4,
 "nbformat_minor": 2
}
