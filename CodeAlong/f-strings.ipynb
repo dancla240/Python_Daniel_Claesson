{
 "cells": [
  {
   "cell_type": "markdown",
   "metadata": {},
   "source": [
    "f-strings (formatted string literals)\n",
    "- Ett sätt att göra formaterade strängar.\n",
    "- Literal starts with f or F.\n",
    "- variables or expressions can be inserted using {}\n",
    "- use = after expression to print expression and result\n",
    "- man kan använda qoutes inne i en f-string, om de är av annan typ än qoute typen.\n",
    "- Padding and alignment, use :{padding char}{width}{alignment}\n",
    "- alignment > eller <\n",
    "- Tex om man vill ha en sträng som allit har en viss längd\n",
    "- Avrundning av floats\n",
    "- data type formats: fixed-point notation(f), fixed antal decimaler\n",
    "- exponent notation (e)\n",
    "- man kan använda %, gör om 0.78 till 78%\n",
    "- default precision is 6 (6 decimaler)\n",
    "- use comma for thousands separation eg: {1000:,} or {1000:2f}\n",
    "- man kan också göra funktionsanrop i f-strings, tex name.upper\n"
   ]
  },
  {
   "cell_type": "code",
   "execution_count": 21,
   "metadata": {},
   "outputs": [
    {
     "name": "stdout",
     "output_type": "stream",
     "text": [
      "Hello Daniel!\n",
      "13\n",
      "5 + 8 = 13\n",
      "5 + 8 = 13\n",
      "Hej 'daniel'\n",
      "hej \"daniel\"\n",
      "Hej \"Fredrik'.\n",
      "Firstname           Lastname\n",
      "Daniel              Claesson\n",
      "0.78\n",
      "7.800e-01\n",
      "78.000000%\n",
      "1,000,000.00\n"
     ]
    }
   ],
   "source": [
    "# name = input(\"Enter your name:\")\n",
    "\n",
    "name = \"Daniel\"\n",
    "myString = f\"Hello {name}!\"\n",
    "print(myString)\n",
    "\n",
    "print(f\"{5+8}\")\n",
    "print(f\"5 + 8 = {5+8}\")\n",
    "print(f\"{5 + 8 = }\")\n",
    "\n",
    "print(\"Hej 'daniel'\")\n",
    "print('hej \"daniel\"')\n",
    "print(f\"Hej \\\"Fredrik'.\") # \\ anger att det är ett specialtecken.\n",
    "# tex \\n innebär radbyte\n",
    "\n",
    "#myString2 = f\"Hello {name:15}!!\"\n",
    "#print(myString2)\n",
    "\n",
    "first_name=\"Daniel\"\n",
    "last_name=\"Claesson\"\n",
    "print(f\"{'Firstname':20}{'Lastname'}\")\n",
    "print(f\"{first_name:20}{last_name}\")\n",
    "\n",
    "print(f\"{0.78:.2f}\")\n",
    "print(f\"{0.78:.3e}\")\n",
    "print(f\"{0.78:%}\")\n",
    "print(f\"{1000000:,.2f}\")\n",
    "\n",
    "\n",
    "\n"
   ]
  }
 ],
 "metadata": {
  "kernelspec": {
   "display_name": "Python 3",
   "language": "python",
   "name": "python3"
  },
  "language_info": {
   "codemirror_mode": {
    "name": "ipython",
    "version": 3
   },
   "file_extension": ".py",
   "mimetype": "text/x-python",
   "name": "python",
   "nbconvert_exporter": "python",
   "pygments_lexer": "ipython3",
   "version": "3.11.5"
  },
  "orig_nbformat": 4
 },
 "nbformat": 4,
 "nbformat_minor": 2
}
