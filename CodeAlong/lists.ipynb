{
 "cells": [
  {
   "cell_type": "markdown",
   "metadata": {},
   "source": [
    "# Lists\n",
    "- Mutable\n",
    "- Tillåter duplicate values, \"items\" eller \"element\"\n",
    "- List items are ordered, alla items ligger i en särskild ordning\n",
    "- Kan innehålla strängar, dicts, floats, int, listor, blandade datatyper i samma lista är ok\n",
    "- Man kan addera en lista till en annan lista, bara addera.\n",
    "- function: ***len()***, ger längden av listan, dvs antalet element\n",
    "- funtioner vs metoder: \"metoder är funktioner som är kopplade till objektet\"\n",
    "- Kub symbolen betyder att det är en metod man kan använda\n",
    "- använd tex ***fruits.count('apple')***, där är count en metod\n",
    "- ***len()** är en funktion, som tar tex fruits som inputargument: len(fruits)\n",
    "- ***append*** metoden, adderar ett nytt element sist i listan: fruits.append(\"melon\")\n",
    "- ***extend*** metoden, typ samma som att addera en lista till en annan lista\n",
    "- ***insert*** metoden, gör att man kan inserta på ett speciellt index, tex thislist.insert(1,\"orange\"), insertar \"orange\" på första index.\n",
    "- ***remove*** metoden\n",
    "- List comprehensions\n",
    "- Nested list är en lista som innehåller andra listor.\n",
    "- Listor kan slize'as\n",
    "\n",
    "## Best practice för hur man skriver kod:\n",
    "- tex hur man namnger variabler\n",
    "- camelCase\n",
    "- PascalCase\n",
    "- snake_case , används i Python\n",
    "\n",
    "Designprinciper, designmönster:\n",
    "- DRY = Don't repeat yourself\n",
    "\n",
    "- Maintainability: lätt att underhålla\n",
    "\n",
    "## Man optimerar koden på ***exekveringstid** och ***minnesanvändning***.  \n",
    "\n",
    "Att koden helt enkelt fungerar:\n",
    "- kompileringsfel, syntax error i själva koden\n",
    "- runtime error, tex koden egentligen är rätt men det är något som stör (tex att en input vill ha ett tal men man ger en sträng, eller att ett index är out of range, etc)\n",
    "- logiskt fel, tex man kan springa genom en vägg i ett spel.\n",
    "\n",
    "Prioritera att koden fungerar först, sedan optimera den.\n",
    "I CodeWars kan man få en utvärdering på hur snabb sin kod är.\n",
    "\n",
    "VSCode:\n",
    "- kub = metoder\n",
    "- skiftnyckel = properties?\n",
    "\n",
    "## Indexering:\n",
    "- List items are indexed, first item has index [0], second item has index [1[] and so on.\n",
    "- [-1] sista elementet\n",
    "- [-2] näst sista elementet\n",
    "- [-2][1] andra elementet i den näst sista listan, index på index.\n",
    "\n",
    "## Slizing:\n",
    "- returnerar en ny lista, slicead enligt spec.\n",
    "- [start:stop:step(optional)]\n",
    "\n"
   ]
  },
  {
   "cell_type": "code",
   "execution_count": 5,
   "metadata": {},
   "outputs": [
    {
     "name": "stdout",
     "output_type": "stream",
     "text": [
      "['apple', 'banana', 'cherry', 'orange']\n",
      "apple\n",
      "banana\n",
      "cherry\n",
      "orange\n",
      "apple\n",
      "['apple', 'pear', 'cherry', 'orange']\n",
      "1\n"
     ]
    }
   ],
   "source": [
    "fruits = [\"apple\", \"banana\", \"cherry\", \"orange\"]\n",
    "more_fruits = [\"pear\", \"coconut\", \"pineapple\"]\n",
    "\n",
    "print(fruits)\n",
    "\n",
    "for item in fruits:\n",
    "    print(item)\n",
    "\n",
    "print(fruits[0])\n",
    "\n",
    "# skapa en tom lista\n",
    "emptyList = []\n",
    "\n",
    "fruits[1] = \"pear\" # ändra andra elementet till \"pear\"\n",
    "\n",
    "print(fruits)\n",
    "\n",
    "print(f\"{fruits.count('apple')}\")\n",
    "\n",
    "fruits.append(\"melon\") #append metoden\n",
    "\n",
    "fruits += more_fruits\n",
    "\n",
    "\n",
    "\n"
   ]
  },
  {
   "cell_type": "markdown",
   "metadata": {},
   "source": [
    "# Miniuppgift\n",
    "Skriv ett program som ber användaren mata in färger, en i taget, tills input är tom. Varje färg ska läggas till en lista, så ska listan skrivas ut, samt hur många färger det är på listan."
   ]
  },
  {
   "cell_type": "code",
   "execution_count": 1,
   "metadata": {},
   "outputs": [
    {
     "name": "stdout",
     "output_type": "stream",
     "text": [
      "['röd']\n",
      "['röd', '']\n",
      "['röd', '']\n"
     ]
    },
    {
     "ename": "TypeError",
     "evalue": "list.count() takes exactly one argument (0 given)",
     "output_type": "error",
     "traceback": [
      "\u001b[1;31m---------------------------------------------------------------------------\u001b[0m",
      "\u001b[1;31mTypeError\u001b[0m                                 Traceback (most recent call last)",
      "\u001b[1;32mc:\\Users\\danie\\Documents\\GitHUb\\Python_Daniel_Claesson\\CodeAlong\\lists.ipynb Cell 4\u001b[0m line \u001b[0;36m1\n\u001b[0;32m      <a href='vscode-notebook-cell:/c%3A/Users/danie/Documents/GitHUb/Python_Daniel_Claesson/CodeAlong/lists.ipynb#W3sZmlsZQ%3D%3D?line=8'>9</a>\u001b[0m     \u001b[39mcontinue\u001b[39;00m\n\u001b[0;32m     <a href='vscode-notebook-cell:/c%3A/Users/danie/Documents/GitHUb/Python_Daniel_Claesson/CodeAlong/lists.ipynb#W3sZmlsZQ%3D%3D?line=11'>12</a>\u001b[0m \u001b[39mprint\u001b[39m(colorList)\n\u001b[1;32m---> <a href='vscode-notebook-cell:/c%3A/Users/danie/Documents/GitHUb/Python_Daniel_Claesson/CodeAlong/lists.ipynb#W3sZmlsZQ%3D%3D?line=12'>13</a>\u001b[0m \u001b[39mprint\u001b[39m(\u001b[39mf\u001b[39m\u001b[39m\"\u001b[39m\u001b[39mList contains \u001b[39m\u001b[39m{\u001b[39;00mcolorList\u001b[39m.\u001b[39;49mcount()\u001b[39m}\u001b[39;00m\u001b[39m colors.\u001b[39m\u001b[39m\"\u001b[39m)\n",
      "\u001b[1;31mTypeError\u001b[0m: list.count() takes exactly one argument (0 given)"
     ]
    }
   ],
   "source": [
    "# mitt försök, som inte fungerade\n",
    "colorList = [] #skapar en tom lista\n",
    "color = input(\"skriv in en färg:\")\n",
    "\n",
    "while len(color) > 0:\n",
    "    color = input(\"skriv in en färg:\")\n",
    "    colorList.append(color)\n",
    "    print(colorList)\n",
    "    continue\n",
    "\n",
    "\n",
    "print(colorList)\n",
    "print(f\"List contains {colorList.count()} colors.\")\n",
    "\n",
    "\n"
   ]
  },
  {
   "cell_type": "code",
   "execution_count": 7,
   "metadata": {},
   "outputs": [
    {
     "name": "stdout",
     "output_type": "stream",
     "text": [
      "the list contains 4\n",
      "Your list contains colors: ['blue', 'red', 'gree', 'green']\n"
     ]
    }
   ],
   "source": [
    "# vårt gemensamma försök i klassen\n",
    "\n",
    "colors = []\n",
    "\n",
    "color = \"a\"\n",
    "\n",
    "while color != \"\":\n",
    "    color = input(\"write a color:\")\n",
    "    if color == \"\":\n",
    "        print(f\"the list contains {len(colors)}\\nYour list contains colors: {colors}\")\n",
    "    else: colors.append(color)\n",
    "    \n"
   ]
  },
  {
   "cell_type": "code",
   "execution_count": 8,
   "metadata": {},
   "outputs": [
    {
     "name": "stdout",
     "output_type": "stream",
     "text": [
      "['röd', 'blå', 'grön']\n",
      "3\n"
     ]
    }
   ],
   "source": [
    "colors = []\n",
    "\n",
    "while True:\n",
    "    color = input(\"add color: \")\n",
    "    if not color:\n",
    "        break\n",
    "    colors.append(color)\n",
    "\n",
    "print(colors)\n",
    "print(len(colors))\n"
   ]
  },
  {
   "cell_type": "markdown",
   "metadata": {},
   "source": [
    "# Walrus operator"
   ]
  },
  {
   "cell_type": "code",
   "execution_count": 9,
   "metadata": {},
   "outputs": [
    {
     "name": "stdout",
     "output_type": "stream",
     "text": [
      "['grön']\n",
      "1\n"
     ]
    }
   ],
   "source": [
    "# med walrus opperator :=\n",
    "\n",
    "colors = []\n",
    "\n",
    "while (input_string := input(\"Add color\")) and input_string != \"\":\n",
    "    colors.append(input_string)\n",
    "\n",
    "print(colors)\n",
    "print(len(colors))\n"
   ]
  },
  {
   "cell_type": "code",
   "execution_count": 10,
   "metadata": {},
   "outputs": [
    {
     "name": "stdout",
     "output_type": "stream",
     "text": [
      "hej\n"
     ]
    }
   ],
   "source": [
    "print(input_string := input(\"add color\"))"
   ]
  },
  {
   "cell_type": "markdown",
   "metadata": {},
   "source": [
    "# Slizing"
   ]
  },
  {
   "cell_type": "code",
   "execution_count": 21,
   "metadata": {},
   "outputs": [
    {
     "name": "stdout",
     "output_type": "stream",
     "text": [
      "['kiwi', 'cherry']\n",
      "['cherry', 'kiwi', 'apple']\n",
      "list[-3] = 'banana'\n",
      "list[-1] = True\n",
      "list[::2] = ['banana', 'kiwi', 'melon', [1, 2, 3]]\n",
      "list[::2] = ['banana', 'kiwi', 'melon', [1, 2, 3]]\n",
      "list[0:4:2] = ['banana', 'kiwi']\n",
      "list[-1::-1] = [True, [1, 2, 3], 'banana', 'melon', 'cherry', 'kiwi', 'apple', 'banana']\n"
     ]
    }
   ],
   "source": [
    "list = [\"banana\",\"apple\",\"kiwi\",\"cherry\",\"melon\",\"banana\",[1,2,3],True]\n",
    "print(list[2:4])\n",
    "print(list[3:0:-1])\n",
    "print(f\"{list[-3] = }\") #tredje sista elementet i listan\n",
    "print(f\"{list[-1] = }\") # sista elementet i listan\n",
    "print(f\"{list[::2] = }\") #börjar på första elementet och tar varannat element\n",
    "print(f\"{list[::2] = }\") #varannat element i hela listan från början\n",
    "print(f\"{list[0:4:2] = }\") #börja på första elementet, ta varannan tom men inte inklusive elemente nr 4\n",
    "print(f\"{list[-1::-1] = }\") #listan baklänges, i steg om ett\n",
    "\n",
    "\n",
    "\n",
    "\n"
   ]
  },
  {
   "cell_type": "code",
   "execution_count": 24,
   "metadata": {},
   "outputs": [
    {
     "name": "stdout",
     "output_type": "stream",
     "text": [
      "banana\n",
      "apple\n",
      "kiwi\n",
      "cherry\n"
     ]
    }
   ],
   "source": [
    "# Loopa igenom en lista\n",
    "fruits = [\"banana\",\"apple\",\"kiwi\",\"cherry\",\"melon\",\"banana\",[1,2,3],True]\n",
    "\n",
    "for fruit in fruits[:-4]:\n",
    "    print(fruit)\n"
   ]
  },
  {
   "cell_type": "code",
   "execution_count": 25,
   "metadata": {},
   "outputs": [
    {
     "name": "stdout",
     "output_type": "stream",
     "text": [
      "0: banana\n",
      "1: apple\n",
      "2: kiwi\n",
      "3: cherry\n",
      "4: melon\n",
      "5: banana\n",
      "6: [1, 2, 3]\n",
      "7: True\n"
     ]
    }
   ],
   "source": [
    "counter = 0\n",
    "for fruit in fruits:\n",
    "    print(f\"{counter}: {fruit}\")\n",
    "    counter += 1"
   ]
  },
  {
   "cell_type": "code",
   "execution_count": 28,
   "metadata": {},
   "outputs": [
    {
     "name": "stdout",
     "output_type": "stream",
     "text": [
      "0: banana\n",
      "1: apple\n",
      "2: kiwi\n",
      "3: cherry\n",
      "4: melon\n",
      "5: banana\n"
     ]
    }
   ],
   "source": [
    "for index, fruit in enumerate(fruits[:-2]):\n",
    "    print(f\"{index}: {fruit}\")\n"
   ]
  },
  {
   "cell_type": "markdown",
   "metadata": {},
   "source": [
    "# List Comprehension\n",
    "Ett snabbare sätt att göra en lista.  \n",
    "Syntax: [***item*** for ***item*** in ***my_list***]\n",
    "Syntax med villkor: [***item*** for ***item*** in ***list*** if ***condition***]\n"
   ]
  },
  {
   "cell_type": "code",
   "execution_count": 61,
   "metadata": {},
   "outputs": [
    {
     "name": "stdout",
     "output_type": "stream",
     "text": [
      "['banana', 'apple', 'banana']\n"
     ]
    }
   ],
   "source": [
    "fruits = [\"banana\",\"apple\",\"kiwi\",\"cherry\",\"melon\",\"banana\"]\n",
    "\n",
    "fruits_w_a = [fruit for fruit in fruits if \"a\" in fruit]\n",
    "\n",
    "print(fruits_w_a)\n"
   ]
  },
  {
   "cell_type": "code",
   "execution_count": 40,
   "metadata": {},
   "outputs": [
    {
     "name": "stdout",
     "output_type": "stream",
     "text": [
      "x = [0, 1, 2, 3, 4, 5, 6, 7, 8, 9]\n",
      "y = [0, 2, 4, 6, 8, 10, 12, 14, 16, 18]\n"
     ]
    }
   ],
   "source": [
    "x = list(range(10))\n",
    "print(f\"{x = }\")\n",
    "\n",
    "y = [item*2 for item in x]\n",
    "print(f\"{y = }\")\n"
   ]
  },
  {
   "cell_type": "markdown",
   "metadata": {},
   "source": [
    "# Miniuppgift 2\n",
    "Skapa manuellt en lista i koden med 5 frukter. Använd list comprehensions för att skapa en ny lista med samma frukter, men med ett utropstecken i slutet på varje frukt."
   ]
  },
  {
   "cell_type": "code",
   "execution_count": 65,
   "metadata": {},
   "outputs": [
    {
     "name": "stdout",
     "output_type": "stream",
     "text": [
      "['banan!', 'äpple!', 'kiwi!', 'hallon!', 'jordgubbe!']\n"
     ]
    }
   ],
   "source": [
    "#Miniuppgift 2\n",
    "fruktlista = [\"banan\",\"äpple\",\"kiwi\",\"hallon\",\"jordgubbe\"]\n",
    "\n",
    "fruktlista_utrop = [frukt + \"!\" for frukt in fruktlista]\n",
    "print(fruktlista_utrop)"
   ]
  },
  {
   "cell_type": "markdown",
   "metadata": {},
   "source": [
    "# Miniuppgift 3\n",
    "- a. skapa en ny lista från listan med frukter, som innehåller alla frukter som har 5 bokstäver.\n",
    "- b. Skapa en lista med alla heltal 0 till 100. Skapa en lista med alla jämna heltal från första listan."
   ]
  },
  {
   "cell_type": "code",
   "execution_count": 70,
   "metadata": {},
   "outputs": [
    {
     "name": "stdout",
     "output_type": "stream",
     "text": [
      "fruits5 = ['apple', 'melon']\n"
     ]
    }
   ],
   "source": [
    "#Miniuppgift 3a\n",
    "fruits = [\"banana\",\"apple\",\"kiwi\",\"cherry\",\"melon\",\"banana\"]\n",
    "\n",
    "fruits5 = [fruit for fruit in fruits if len(fruit)==5]\n",
    "print(f\"{fruits5 = }\")"
   ]
  },
  {
   "cell_type": "code",
   "execution_count": 71,
   "metadata": {},
   "outputs": [
    {
     "name": "stdout",
     "output_type": "stream",
     "text": [
      "[0, 1, 2, 3, 4, 5, 6, 7, 8, 9, 10, 11, 12, 13, 14, 15, 16, 17, 18, 19, 20, 21, 22, 23, 24, 25, 26, 27, 28, 29, 30, 31, 32, 33, 34, 35, 36, 37, 38, 39, 40, 41, 42, 43, 44, 45, 46, 47, 48, 49, 50, 51, 52, 53, 54, 55, 56, 57, 58, 59, 60, 61, 62, 63, 64, 65, 66, 67, 68, 69, 70, 71, 72, 73, 74, 75, 76, 77, 78, 79, 80, 81, 82, 83, 84, 85, 86, 87, 88, 89, 90, 91, 92, 93, 94, 95, 96, 97, 98, 99, 100]\n",
      "list100even = [0, 2, 4, 6, 8, 10, 12, 14, 16, 18, 20, 22, 24, 26, 28, 30, 32, 34, 36, 38, 40, 42, 44, 46, 48, 50, 52, 54, 56, 58, 60, 62, 64, 66, 68, 70, 72, 74, 76, 78, 80, 82, 84, 86, 88, 90, 92, 94, 96, 98, 100]\n"
     ]
    }
   ],
   "source": [
    "#Miniuppgift 3b\n",
    "list100 = list(range(0,101))\n",
    "#list100 = [number for number in range(101)] #alternativt sätt att skapa listan, mha list comprehension\n",
    "print(list100)\n",
    "\n",
    "list100even = [item for item in list100 if item % 2 == 0]\n",
    "print(f\"{list100even = }\")"
   ]
  }
 ],
 "metadata": {
  "kernelspec": {
   "display_name": "ithsprep",
   "language": "python",
   "name": "python3"
  },
  "language_info": {
   "codemirror_mode": {
    "name": "ipython",
    "version": 3
   },
   "file_extension": ".py",
   "mimetype": "text/x-python",
   "name": "python",
   "nbconvert_exporter": "python",
   "pygments_lexer": "ipython3",
   "version": "3.9.16"
  },
  "orig_nbformat": 4
 },
 "nbformat": 4,
 "nbformat_minor": 2
}
