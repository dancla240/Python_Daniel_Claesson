{
 "cells": [
  {
   "cell_type": "markdown",
   "metadata": {},
   "source": [
    "# Properties\n",
    "- det finns inte privata attribut i Python\n",
    "- konvention att använda ._ signalerar privat attribut, då ska man använda metoden för att ändra värde\n",
    "- klassens egna metoder får gärna ändra privata attribut\n",
    "- privata attribut ska man läsa av med en get metod och sätta med en set metod\n",
    "- a property is a Python construction that wors similar to an attribute, with the difference that an attribute stores and reads the value deriectly to memory, while a property uses a getter and setter method to change the value of the porperty.\n",
    "- from the outside of the class definition, when a property is set, the objects internal setter method will be called to handle the operation. This method is marked in the class definition by a decorator called {name}.setter (wheere \"name\" is the name of the property)\n",
    "- Whwn the property is read from the \"outside\", the objects internal getter method will be called to return a value. The getter method is marked int the calss definition by a decorator called @property\n",
    "- snabel-a är en 'decorator'\n",
    "- 'salary' är en property, '_salary' är en privat attribut.\n",
    "- properties kan aldrig ha inparametrar, inputargument\n",
    "- attribut och properties är olika internt i objektet\n",
    "- med properties kan man applicera logik på hur attributet sätts eller läses ut\n",
    "- utan setter metod kan man inte sätta värdet, typ, kolla videon.\n",
    "- Man kan skriva egna decorators"
   ]
  },
  {
   "cell_type": "code",
   "execution_count": 5,
   "metadata": {},
   "outputs": [],
   "source": [
    "# så här gör man i andra språk\n",
    "class Employee:\n",
    "    def __init__(self, name, salary):\n",
    "        self.name = name\n",
    "        self._salary = salary\n",
    "    # getter method\n",
    "    @property\n",
    "    def salary(self):\n",
    "        return self._salary\n",
    "    \n",
    "    # setter method\n",
    "    @salary.setter #.setter är en inbyggd funktion i Python, en decorator\n",
    "    def salary(self, salary):\n",
    "        self._salary = 0 if salary < 0 else salary"
   ]
  },
  {
   "cell_type": "code",
   "execution_count": 7,
   "metadata": {},
   "outputs": [
    {
     "name": "stdout",
     "output_type": "stream",
     "text": [
      "Daniel\n",
      "50000\n"
     ]
    }
   ],
   "source": [
    "employee1 = Employee('Daniel', 50000)\n",
    "employee2 = Employee('Anna', 55000)\n",
    "\n",
    "print(employee1.name)\n",
    "print(employee1.salary)\n",
    "\n",
    "employee1.s\n",
    "\n"
   ]
  },
  {
   "cell_type": "code",
   "execution_count": null,
   "metadata": {},
   "outputs": [],
   "source": [
    "# så här gör man i andra språk\n",
    "class Employee:\n",
    "    def __init__(self, name, salary):\n",
    "        self.name = name\n",
    "        self._salary = salary\n",
    "\n",
    "    def set_salary(self, salary):\n",
    "        self.salary = 0 if salary < 0 else salary\n",
    "\n",
    "    def get_salary(self):\n",
    "        return self.salary"
   ]
  },
  {
   "cell_type": "code",
   "execution_count": 1,
   "metadata": {},
   "outputs": [
    {
     "name": "stdout",
     "output_type": "stream",
     "text": [
      "Fredrik, Johansson\n",
      "Fredrik Johansson\n"
     ]
    }
   ],
   "source": [
    "# i denna koden är firstname och lastname varsitt attribut, och fullname är en property.\n",
    "# Q: kan man sätta en property såsom 'person.fullname = någonting' ?\n",
    "\n",
    "class Person:\n",
    "    def __init__(self, firstname, lastname):\n",
    "        self.firstname = firstname\n",
    "        self.lastname = lastname\n",
    "\n",
    "    @property\n",
    "    def fullname(self):\n",
    "        return f'{self.firstname} {self.lastname}'\n",
    "\n",
    "person = Person('Fredrik','Johansson')\n",
    "\n",
    "print(person.firstname, person.lastname, sep = \", \")\n",
    "print(person.fullname)"
   ]
  },
  {
   "cell_type": "code",
   "execution_count": null,
   "metadata": {},
   "outputs": [],
   "source": [
    "# i den här koden är firstname ett attribut och lastname en property\n",
    "\n",
    "class Person:\n",
    "    def __init__(self, firstname, lastname):\n",
    "        self.firstname = firstname\n",
    "        self.lastname = lastname\n",
    "\n",
    "    @property\n",
    "    def lastname(self):\n",
    "        return self.lastname\n",
    "\n",
    "    @lastname.setter\n",
    "    def lastname(self, name):\n",
    "        self._lastname = name\n",
    "\n",
    "person = Person('Fredrik','Johansson')\n",
    "\n",
    "print(person.firstname, person.lastname, sep = \", \")\n",
    "print(person.fullname)"
   ]
  },
  {
   "cell_type": "code",
   "execution_count": 7,
   "metadata": {},
   "outputs": [
    {
     "name": "stdout",
     "output_type": "stream",
     "text": [
      "77\n"
     ]
    }
   ],
   "source": [
    "#  adderar age, som ska vara mellan 0 och 100 år.\n",
    "# man behöver inte ha age i __init__ funktionen. Endast om man vill att age ska vara en krävd parameter när man skapar objektet.\n",
    "\n",
    "\n",
    "class Person:\n",
    "    def __init__(self, firstname, lastname):\n",
    "        self.firstname = firstname\n",
    "        self.lastname = lastname\n",
    "\n",
    "    @property\n",
    "    def lastname(self):\n",
    "        return self.lastname\n",
    "\n",
    "    @lastname.setter\n",
    "    def lastname(self, name):\n",
    "        self._lastname = name\n",
    "\n",
    "    @property\n",
    "    def age(self):\n",
    "        return self._age\n",
    "    \n",
    "    @age.setter\n",
    "    def age(self, age):\n",
    "        if age < 0:\n",
    "            self._age = 0\n",
    "        elif age > 100:\n",
    "            self._age = 100\n",
    "        else: self._age = age\n",
    "\n",
    "        \n",
    "\n",
    "person = Person('Fredrik','Johansson')\n",
    "\n",
    "person.age = 77\n",
    "\n",
    "print(person.age)\n",
    "\n",
    "\n",
    "\n"
   ]
  }
 ],
 "metadata": {
  "kernelspec": {
   "display_name": "Python_Daniel_Claesson-oifCKsFD",
   "language": "python",
   "name": "python3"
  },
  "language_info": {
   "codemirror_mode": {
    "name": "ipython",
    "version": 3
   },
   "file_extension": ".py",
   "mimetype": "text/x-python",
   "name": "python",
   "nbconvert_exporter": "python",
   "pygments_lexer": "ipython3",
   "version": "3.11.5"
  },
  "orig_nbformat": 4
 },
 "nbformat": 4,
 "nbformat_minor": 2
}
