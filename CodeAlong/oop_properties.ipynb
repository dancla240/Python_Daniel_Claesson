{
 "cells": [
  {
   "cell_type": "markdown",
   "metadata": {},
   "source": [
    "# Properties\n",
    "- Det finns inte privata attribut i Python fullt ut.\n",
    "- Konvention att använda 'underscore'_ signalerar **privat attribut**, då ska man använda objektets interna metod för att ändra värdet (dvs inte sätta attributet utifrån).\n",
    "- Klassens egna metoder ska användas för att ändra privata attribut.\n",
    "- Privata attribut ska man läsa av med en **get metod** och sätta med en **set metod**.\n",
    "- A **property** is a Python construction that works similar to an attribute, with the difference that an attribute stores and reads the value directly to memory, while a property uses a getter and setter method to change the value of the porperty.\n",
    "- From the outside of the class definition, when a property is set, the objects internal setter method will be called to handle the operation. This method is marked in the class definition by a decorator called {name}.setter (wheere \"name\" is the name of the property).\n",
    "- When the property is read from the \"outside\", the objects internal getter method will be called to return a value. The getter method is marked int the calss definition by a decorator called **@property**.\n",
    "- Snabel-a är en 'decorator'.\n",
    "- 'person.salary' är en **property**, 'person._salary' är en **privat attribut**.\n",
    "- Properties kan aldrig ha in-parametrar, inputargument.\n",
    "- Attribut och properties är olika internt i objektet.\n",
    "- Med properties kan man applicera logik på hur attributet sätts eller läses ut.\n",
    "- Utan setter metod kan man inte sätta värdet, typ, kolla videon.\n",
    "- Man kan skriva egna decorators.\n",
    "\n",
    "Links:  \n",
    "[Link to föreläsning (börjar vid 15:36 i filmen)](https://ithogskolan.sharepoint.com/sites/AI23/_layouts/15/stream.aspx?id=%2Fsites%2FAI23%2FDelade%20dokument%2FProgrammering%20med%20Python%2FRecordings%2F046%5FProperties%2Emp4&referrer=OneDriveForBusiness&referrerScenario=OpenFile)  \n",
    "- 34:50: Förklarar Ternary Operator: vanligt att det används vid tilldelning av värde till en variabel, beroende på ett villkor, typ.\n",
    "- 38:45: Alla metoder i en klass måste alltid ha ***self*** som första parameter. \"***self*** är referensen till objektet som anropar metoden\".\n",
    "- ca 48:00: Förklarar vad en privat variabel är och ur det funkar.\n",
    "  \n",
    "[link to övningar](https://ithogskolan.sharepoint.com/:v:/s/AI23/ERV6KxiN6JxBrpljM1tfrHgBsh7obuyz7cPQYDf1F0hHoA?e=y8qYcS)\n"
   ]
  },
  {
   "cell_type": "markdown",
   "metadata": {},
   "source": [
    "Varför behövs 'Properties'?\n",
    "- visas i koden nedan"
   ]
  },
  {
   "cell_type": "code",
   "execution_count": 6,
   "metadata": {},
   "outputs": [],
   "source": [
    "class Employee:\n",
    "    def __init__(self, name, salary):\n",
    "        self.name = name\n",
    "        self.salary = 0 if salary < 0 else salary # säkerställer att salary inte kan vara negativ\n"
   ]
  },
  {
   "cell_type": "code",
   "execution_count": 7,
   "metadata": {},
   "outputs": [
    {
     "name": "stdout",
     "output_type": "stream",
     "text": [
      "Anders salary is 40000.\n",
      "Bertil salary is 0.\n"
     ]
    }
   ],
   "source": [
    "emplyee1 = Employee('Anders', 40000)\n",
    "emplyee2 = Employee('Bertil', -40000)\n",
    "\n",
    "print(f'{emplyee1.name} salary is {emplyee1.salary}.')\n",
    "print(f'{emplyee2.name} salary is {emplyee2.salary}.')"
   ]
  },
  {
   "cell_type": "markdown",
   "metadata": {},
   "source": [
    "I koden ovan säkerställs att Bertils lön inte är negativ. Men  man kan fortfarande sätta attributet salary utifrån.\n",
    "~~~\n",
    "employee2.salary = -40000\n",
    "~~~"
   ]
  },
  {
   "cell_type": "code",
   "execution_count": 8,
   "metadata": {},
   "outputs": [
    {
     "name": "stdout",
     "output_type": "stream",
     "text": [
      "Bertil salary is -40000.\n"
     ]
    }
   ],
   "source": [
    "emplyee2.salary = -40000\n",
    "print(f'{emplyee2.name} salary is {emplyee2.salary}.')"
   ]
  },
  {
   "cell_type": "markdown",
   "metadata": {},
   "source": [
    "- Istället  för att användaren kan sätta värdet utifrån vill man använda en funktion / metod i klassen som sköter det.  \n",
    "- (I slutändan kommer man ha en property som sköter detta. Det kommer se likadant ut utifrån, men i bakgrunden skickas det in i funktionen som gör denna checken åt oss.)\n",
    "- Nedan kod fungerar i Python och är enkel att förstå, det är så det tex funkar i Java, man har en metod för att hämta värde och en metod för att sätta ett värde.\n",
    "- I C# och Python har man det som kallas **properties** istället, som ersätter.\n",
    "- I koden nedan är salary inte ett privat attribut, man kan fortsatt sätta ett nytt värde utifrån, se sista kodsnutten.\n",
    "- sätter salary till ett privat attribut/variabel med 'underscore'. Men det dignalerar bara att man inte ska ändra den, man kan fortfarande ändra den. Man ska använda klassens metoder för att ändra ett privat attribut."
   ]
  },
  {
   "cell_type": "code",
   "execution_count": 29,
   "metadata": {},
   "outputs": [],
   "source": [
    "class Employee:\n",
    "    def __init__(self, name, salary):\n",
    "        self.name = name\n",
    "        self._salary = 0 if salary < 0 else salary # vid instantieringen av objektet så sker denna kollen\n",
    "\n",
    "    def set_salary(self, salary):\n",
    "        self._salary = 0 if salary < 0 else salary # samma koll sker om man använder set metoden\n",
    "\n",
    "    def get_salary(self):\n",
    "        return self._salary\n"
   ]
  },
  {
   "cell_type": "code",
   "execution_count": 31,
   "metadata": {},
   "outputs": [
    {
     "name": "stdout",
     "output_type": "stream",
     "text": [
      "Anders salary is 40000.\n",
      "Bertil salary is 0.\n",
      "\n",
      "Anders salary is 50000.\n",
      "Bertil salary is 0.\n",
      "Anders salary is -40000.\n"
     ]
    }
   ],
   "source": [
    "emplyee1 = Employee('Anders', 40000)\n",
    "emplyee2 = Employee('Bertil', -40000)\n",
    "print(f'{emplyee1.name} salary is {emplyee1.get_salary()}.')\n",
    "print(f'{emplyee2.name} salary is {emplyee2.get_salary()}.')\n",
    "print()\n",
    "\n",
    "emplyee1.set_salary(50000)\n",
    "emplyee2.set_salary(-40000)\n",
    "\n",
    "print(f'{emplyee1.name} salary is {emplyee1.get_salary()}.')\n",
    "print(f'{emplyee2.name} salary is {emplyee2.get_salary()}.')\n",
    "\n",
    "emplyee1._salary = -40000 # I python kan man ändra privata attribut\n",
    "print(f'{emplyee1.name} salary is {emplyee1.get_salary()}.')"
   ]
  },
  {
   "cell_type": "markdown",
   "metadata": {},
   "source": [
    "### Nedan är från mina första anteckningar från föreläsningen.\n"
   ]
  },
  {
   "cell_type": "code",
   "execution_count": 1,
   "metadata": {},
   "outputs": [],
   "source": [
    "# så här gör man i andra språk\n",
    "class Employee:\n",
    "    def __init__(self, name, salary):\n",
    "        self.name = name\n",
    "        self._salary = salary\n",
    "    # getter method\n",
    "    @property\n",
    "    def salary(self):\n",
    "        return self._salary\n",
    "    \n",
    "    # setter method\n",
    "    @salary.setter #.setter är en inbyggd funktion i Python, en decorator\n",
    "    def salary(self, salary):\n",
    "        self._salary = 0 if salary < 0 else salary # ternary operator"
   ]
  },
  {
   "cell_type": "code",
   "execution_count": 7,
   "metadata": {},
   "outputs": [
    {
     "name": "stdout",
     "output_type": "stream",
     "text": [
      "Daniel\n",
      "50000\n"
     ]
    }
   ],
   "source": [
    "employee1 = Employee('Daniel', 50000)\n",
    "employee2 = Employee('Anna', 55000)\n",
    "\n",
    "print(employee1.name)\n",
    "print(employee1.salary)\n",
    "\n",
    "employee1.s\n",
    "\n"
   ]
  },
  {
   "cell_type": "code",
   "execution_count": null,
   "metadata": {},
   "outputs": [],
   "source": [
    "# så här gör man i andra språk\n",
    "class Employee:\n",
    "    def __init__(self, name, salary):\n",
    "        self.name = name\n",
    "        self._salary = salary\n",
    "\n",
    "    def set_salary(self, salary):\n",
    "        self.salary = 0 if salary < 0 else salary\n",
    "\n",
    "    def get_salary(self):\n",
    "        return self.salary"
   ]
  },
  {
   "cell_type": "code",
   "execution_count": 1,
   "metadata": {},
   "outputs": [
    {
     "name": "stdout",
     "output_type": "stream",
     "text": [
      "Fredrik, Johansson\n",
      "Fredrik Johansson\n"
     ]
    }
   ],
   "source": [
    "# i denna koden är firstname och lastname varsitt attribut, och fullname är en property.\n",
    "# Q: kan man sätta en property såsom 'person.fullname = någonting' ?\n",
    "\n",
    "class Person:\n",
    "    def __init__(self, firstname, lastname):\n",
    "        self.firstname = firstname\n",
    "        self.lastname = lastname\n",
    "\n",
    "    @property\n",
    "    def fullname(self):\n",
    "        return f'{self.firstname} {self.lastname}'\n",
    "\n",
    "person = Person('Fredrik','Johansson')\n",
    "\n",
    "print(person.firstname, person.lastname, sep = \", \")\n",
    "print(person.fullname)"
   ]
  },
  {
   "cell_type": "code",
   "execution_count": null,
   "metadata": {},
   "outputs": [],
   "source": [
    "# i den här koden är firstname ett attribut och lastname en property\n",
    "\n",
    "class Person:\n",
    "    def __init__(self, firstname, lastname):\n",
    "        self.firstname = firstname\n",
    "        self.lastname = lastname\n",
    "\n",
    "    @property\n",
    "    def lastname(self):\n",
    "        return self.lastname\n",
    "\n",
    "    @lastname.setter\n",
    "    def lastname(self, name):\n",
    "        self._lastname = name\n",
    "\n",
    "person = Person('Fredrik','Johansson')\n",
    "\n",
    "print(person.firstname, person.lastname, sep = \", \")\n",
    "print(person.fullname)"
   ]
  },
  {
   "cell_type": "code",
   "execution_count": 7,
   "metadata": {},
   "outputs": [
    {
     "name": "stdout",
     "output_type": "stream",
     "text": [
      "77\n"
     ]
    }
   ],
   "source": [
    "#  adderar age, som ska vara mellan 0 och 100 år.\n",
    "# man behöver inte ha age i __init__ funktionen. Endast om man vill att age ska vara en krävd parameter när man skapar objektet.\n",
    "\n",
    "\n",
    "class Person:\n",
    "    def __init__(self, firstname, lastname):\n",
    "        self.firstname = firstname\n",
    "        self.lastname = lastname\n",
    "\n",
    "    @property\n",
    "    def lastname(self):\n",
    "        return self.lastname\n",
    "\n",
    "    @lastname.setter\n",
    "    def lastname(self, name):\n",
    "        self._lastname = name\n",
    "\n",
    "    @property\n",
    "    def age(self):\n",
    "        return self._age\n",
    "    \n",
    "    @age.setter\n",
    "    def age(self, age):\n",
    "        if age < 0:\n",
    "            self._age = 0\n",
    "        elif age > 100:\n",
    "            self._age = 100\n",
    "        else: self._age = age\n",
    "\n",
    "        \n",
    "\n",
    "person = Person('Fredrik','Johansson')\n",
    "\n",
    "person.age = 77\n",
    "\n",
    "print(person.age)\n",
    "\n",
    "\n",
    "\n"
   ]
  }
 ],
 "metadata": {
  "kernelspec": {
   "display_name": "Python_Daniel_Claesson-oifCKsFD",
   "language": "python",
   "name": "python3"
  },
  "language_info": {
   "codemirror_mode": {
    "name": "ipython",
    "version": 3
   },
   "file_extension": ".py",
   "mimetype": "text/x-python",
   "name": "python",
   "nbconvert_exporter": "python",
   "pygments_lexer": "ipython3",
   "version": "3.9.16"
  },
  "orig_nbformat": 4
 },
 "nbformat": 4,
 "nbformat_minor": 2
}
