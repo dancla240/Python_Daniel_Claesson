{
 "cells": [
  {
   "cell_type": "markdown",
   "metadata": {},
   "source": [
    "# Object Oriented Programming (OOP)\n",
    "- C# är helt objekt orienterat\n",
    "- Python mer valbart\n",
    "- A class is a blue print that can be used to create objects.\n",
    "- An instance of a class is the actual object containing data and methods\n",
    "- Objekt kan ses som en egendefinierad datatyp.\n",
    "- Man kan addera attribut, även utanför själva klass definitionen (python är väldigt öppet.)\n",
    "- Man kan skapa listor med objekt, som man kan loopa över.\n",
    "- Försök skriva korta funktioner, undvik loop i loop och en massa if satser. Bryt ut i egna funktioner."
   ]
  },
  {
   "cell_type": "code",
   "execution_count": 3,
   "metadata": {},
   "outputs": [],
   "source": [
    "student_a = ['fredrik','johansson', 42, 3.4]\n",
    "student_b = ['anna','karlsson', 24, 4.4]\n",
    "\n",
    "students = [student_a, student_b]\n",
    "\n",
    "def set_grade(student, grade):\n",
    "    student[3] = grade"
   ]
  },
  {
   "cell_type": "code",
   "execution_count": null,
   "metadata": {},
   "outputs": [],
   "source": [
    "student_a = {'first_name' :'fredrik', 'last_name' : 'johansson', 'age' : 42, 'grade' : 3.4}\n",
    "student_b = {'first_name' :'anna', 'last_name' : 'karlsson', 'age' : 24, 'grade' : 4.4}\n",
    "\n",
    "students = [student_a, student_b]\n",
    "\n",
    "def set_grade(student, grade):\n",
    "    student['grade'] = 3.0 # sätter alla grade till 3\n",
    "\n",
    "def get_name(student):\n",
    "    print(f'{s}')\n",
    "\n",
    "# skriv klart denna"
   ]
  },
  {
   "cell_type": "code",
   "execution_count": 12,
   "metadata": {},
   "outputs": [],
   "source": [
    "# OOP approach:\n",
    "class Student:\n",
    "    def __init__(self):\n",
    "        self.grade = 0.0\n",
    "\n",
    "    def set_grade(self, grade):\n",
    "        self.grade = grade\n",
    "        \n",
    "\n",
    "    \n"
   ]
  },
  {
   "cell_type": "code",
   "execution_count": 15,
   "metadata": {},
   "outputs": [
    {
     "name": "stdout",
     "output_type": "stream",
     "text": [
      "<__main__.Student object at 0x000002454D108A50>\n",
      "Fredrik\n",
      "Anna\n",
      "{'grade': 0.0, 'name': 'Fredrik', 'age': 42}\n",
      "Fredrik\n",
      "3.5\n"
     ]
    }
   ],
   "source": [
    "student_a = Student()\n",
    "student_b = Student()\n",
    "\n",
    "student_a.name = 'Fredrik'\n",
    "student_a.age = 42\n",
    "\n",
    "student_b.name = 'Anna'\n",
    "\n",
    "print(student_a)\n",
    "print(student_a.name)\n",
    "\n",
    "print(student_b.name)\n",
    "\n",
    "print(student_a.__dict__)\n",
    "print(student_a.__dict__['name'])\n",
    "student_a.set_grade(3.5)\n",
    "print(student_a.grade)"
   ]
  },
  {
   "cell_type": "code",
   "execution_count": 69,
   "metadata": {},
   "outputs": [],
   "source": [
    "class Cat:\n",
    "    def __init__(self, name, age):\n",
    "        self.name = name\n",
    "        self.age = age\n",
    "        self.best_friend = None\n",
    "\n",
    "    def greet(self, other_cat = None):\n",
    "        if other_cat is None:\n",
    "            print(f\"Hi, I'm {self.name} and I'm {self.age} years old.\")\n",
    "        else:\n",
    "            if self.age > other_cat.age:\n",
    "                print(f\"Hi {other_cat.name}, I'm {self.name} and I'm {self.age - other_cat.age} years older than you.\")\n",
    "            elif self.age < other_cat.age:\n",
    "                print(f\"Hi {other_cat.name}, I'm {self.name} and I'm {abs(self.age - other_cat.age)} years younger than you.\")\n",
    "            else: print(f\"Hi {other_cat.name}, I'm {self.name} and we are same age.\")\n",
    "    \n",
    "    def print_best_friend(self):\n",
    "        if not hasattr(self,\"best_friend\"): return\n",
    "        if self.best_friend is None: return\n",
    "        print(f\"I'm {self.name} and my best friend is {self.best_friend.name}.\")\n",
    "                 \n",
    "\n",
    "    \n",
    "    "
   ]
  },
  {
   "cell_type": "code",
   "execution_count": 70,
   "metadata": {},
   "outputs": [
    {
     "name": "stdout",
     "output_type": "stream",
     "text": [
      "Hi, I'm Misse and I'm 3 years old.\n",
      "Hi Kisse, I'm Misse and I'm 1 years older than you.\n",
      "Hi Mjau, I'm Misse and I'm 2 years younger than you.\n",
      "I'm Misse and my best friend is Mjau.\n",
      "I'm Kisse and my best friend is Jens.\n",
      "I'm Mjau and my best friend is Misse.\n"
     ]
    }
   ],
   "source": [
    "my_cat = Cat('Misse', 3)\n",
    "my_other_cat = Cat('Kisse', 2)\n",
    "my_third_cat = Cat('Mjau', 5)\n",
    "my_fourth_cat = Cat('Jens', 3)\n",
    "my_cat.best_friend = my_third_cat\n",
    "my_third_cat.best_friend = my_cat\n",
    "my_other_cat.best_friend = my_fourth_cat\n",
    "my_fourth_cat.best_friend = None\n",
    "# print(my_cat.__dict__)\n",
    "my_cat.greet()\n",
    "# my_other_cat.greet()\n",
    "my_cat.greet(my_other_cat)\n",
    "my_cat.greet(my_third_cat)\n",
    "cats = [my_cat, my_other_cat, my_third_cat, my_fourth_cat]\n",
    "\n",
    "for cat in cats:\n",
    "    cat.print_best_friend()"
   ]
  },
  {
   "cell_type": "code",
   "execution_count": 71,
   "metadata": {},
   "outputs": [
    {
     "ename": "TypeError",
     "evalue": "Student.__init__() takes 1 positional argument but 3 were given",
     "output_type": "error",
     "traceback": [
      "\u001b[1;31m---------------------------------------------------------------------------\u001b[0m",
      "\u001b[1;31mTypeError\u001b[0m                                 Traceback (most recent call last)",
      "\u001b[1;32mc:\\Users\\danie\\Documents\\GitHUb\\Python_Daniel_Claesson\\CodeAlong\\oop_basics.ipynb Cell 8\u001b[0m line \u001b[0;36m1\n\u001b[1;32m----> <a href='vscode-notebook-cell:/c%3A/Users/danie/Documents/GitHUb/Python_Daniel_Claesson/CodeAlong/oop_basics.ipynb#X10sZmlsZQ%3D%3D?line=0'>1</a>\u001b[0m student \u001b[39m=\u001b[39m Student(\u001b[39m'\u001b[39;49m\u001b[39mKalle\u001b[39;49m\u001b[39m'\u001b[39;49m, \u001b[39m4.3\u001b[39;49m)\n\u001b[0;32m      <a href='vscode-notebook-cell:/c%3A/Users/danie/Documents/GitHUb/Python_Daniel_Claesson/CodeAlong/oop_basics.ipynb#X10sZmlsZQ%3D%3D?line=1'>2</a>\u001b[0m student\u001b[39m.\u001b[39mpet \u001b[39m=\u001b[39m Cat(\u001b[39m'\u001b[39m\u001b[39mMåns\u001b[39m\u001b[39m'\u001b[39m, \u001b[39m3\u001b[39m)\n",
      "\u001b[1;31mTypeError\u001b[0m: Student.__init__() takes 1 positional argument but 3 were given"
     ]
    }
   ],
   "source": [
    "student = Student('Kalle', 4.3)\n",
    "student.pet = Cat('Måns', 3)\n"
   ]
  }
 ],
 "metadata": {
  "kernelspec": {
   "display_name": "Python_Daniel_Claesson-oifCKsFD",
   "language": "python",
   "name": "python3"
  },
  "language_info": {
   "codemirror_mode": {
    "name": "ipython",
    "version": 3
   },
   "file_extension": ".py",
   "mimetype": "text/x-python",
   "name": "python",
   "nbconvert_exporter": "python",
   "pygments_lexer": "ipython3",
   "version": "3.11.5"
  },
  "orig_nbformat": 4
 },
 "nbformat": 4,
 "nbformat_minor": 2
}
