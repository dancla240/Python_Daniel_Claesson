{
 "cells": [
  {
   "cell_type": "markdown",
   "metadata": {},
   "source": [
    "# Datatyper osv\n",
    "- 10/10-2023: Fredrik har en powerpoint slide.\n",
    "- data vs information\n",
    "- information är något användbart extraherat ur datan\n",
    "- 1/0, transistor\n",
    "- binära talsystemet\n",
    "- positionssystem med olika talbas\n",
    "- binära talsystemet. bit = short for 'binary digit'.\n",
    "- bit 0 är första biten, värde 1\n",
    "- hexadecimalt talsystem, 0-F, varje steg bli 16 gånger mer värt.\n",
    "- det är enkelt att översätt mellan binärt och hexadecimalt\n",
    "- tre color är 24 bitar (16.8 miljoner). färg representeras av red green och blue. varje färg representeras av 8 bitar 8x3 = 24. varje 8 bitar kan representaras av två tal i hexadecimala talsystemet.\n",
    "- Byte = 8 bits (max 255) FF\n",
    "- Word = 16 bits (max 65535) FFFF\n",
    "- Prefix: kilo, mega, giga, tera, peta\n",
    "- Alternativa prefix: kilobyte 1024 (2^10), megabyte (2^20) osv.\n",
    "- KiB - Kibi, MiB - Mebi, GiB - Gibi, TiB - Tibi\n",
    "- kB - kilo byte\n",
    "- kb - kilo bit\n",
    "- filstorlek mäts i bytes, tex 37.4 MiB.\n",
    "- om det står MiB så är det Mebi. Om det står MB vet man inte riktigt....\n",
    "- data transfer speed i bits per sekund Mbps"
   ]
  },
  {
   "cell_type": "markdown",
   "metadata": {},
   "source": [
    "# Numeriska datatyper\n",
    "### Integers\n",
    "- tex 10101001 är datan, men man måste veta vad det är för **datatyp** för att kunna tolka det.  \n",
    "- metadata = data om datan  \n",
    "- **unsigned** integer (bara positiva) \n",
    "- **signed** integer (negativa och positiva). Biten med högst värde blir negativ, kolla presentationen\n",
    "- signed integer 8bitar, från -128 till 127, osv  \n",
    "- 8bit, 16bit, 32bit  \n",
    "### Floats\n",
    "- **Fixed point** binary fraction / **Floating point** binary fraction\n",
    "- Fixed point: man har bestämt en plats för kommatecknet\n",
    "- range står mot precision\n",
    "- Floating point: punkten kan flyttas, blir mer flexibelt map range och precision.\n",
    "- significand + exponent\n",
    "- significanden ska vara ett tal mellan 0 och 1.\n",
    "\n",
    "0.1 + 0.2 == 0.3 blir fel i Python\n",
    "\n",
    "### Text\n",
    "- **ASCII** och **extended ASCII**\n",
    "- ASCII är standard (7-bit) 0-127\n",
    "- det finns olika extended ASCII (8-bit) 0-255\n",
    "- **unicode** är en standard och är bakåtkompatibel med ASCII\n",
    "- unicode innehåller massor med tecken för kina, rysska, hieroglyfer, emojis etc.\n",
    "- UTF-8, UTF-16 osv är standarder för hur man sparar text i datorn\n",
    "- Att veta lite om detta kan vara bra i databaser etc.\n",
    "- typsnitt: förr hade man en bild av tecknet 8 x 8 bitar = **bitmapp**: går inte att skala\n",
    "- vektorer ett alternativ: en matematisk formel istället för pixlar = **truetype** fonter\n"
   ]
  }
 ],
 "metadata": {
  "language_info": {
   "name": "python"
  }
 },
 "nbformat": 4,
 "nbformat_minor": 2
}
