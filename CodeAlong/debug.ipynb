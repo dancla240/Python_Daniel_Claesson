{
 "cells": [
  {
   "cell_type": "markdown",
   "metadata": {},
   "source": [
    "# Debugging\n",
    "- Debugging är både att **hitta felet** _och_ **rätta felet** i koden.\n",
    "## Breakpoint\n",
    "- In all IDE's (Integrated Development Environments), the developer has the possibility to debug code by stepping through instructions one by one and look at internal states (memory/ variables) for each step.\n",
    "- Kör fram till break pointen, men kör inte klart den raden.\n",
    "- Vid breakpointen kan vi se den aktuella statusen i programmet.\n",
    "- Man kan sätta en eller flera breakpoints i koden.\n",
    "- Man väljer att köra i debug mode.\n",
    "- \"Continue\": kör klart resten, till slutet eller till nästa breakpoint\n",
    "- \"Step over\": exekverar en rad åt gången, men går inte in i funktioner tex (men den kör funktionen)\n",
    "- \"Step into\": går in i funktioner och kör den line by line\n",
    "- \"Step out\": kör klart funktionen\n",
    "- \"Restart\": Avbryter debuggingen\n",
    "- \"Disconnect\": "
   ]
  },
  {
   "cell_type": "code",
   "execution_count": 3,
   "metadata": {},
   "outputs": [
    {
     "name": "stdout",
     "output_type": "stream",
     "text": [
      "Hello!\n",
      "Hello!\n",
      "Hello!\n",
      "8\n"
     ]
    }
   ],
   "source": [
    "def greet(n):\n",
    "    for i in range(n):\n",
    "        print(\"Hello!\")\n",
    "\n",
    "a = 5\n",
    "b = 3\n",
    "c = a + b\n",
    "greet(b)\n",
    "print(c)\n"
   ]
  },
  {
   "cell_type": "code",
   "execution_count": null,
   "metadata": {},
   "outputs": [],
   "source": [
    "def greet(n):\n",
    "    for i in range(n):\n",
    "        print(\"Hello!\")\n",
    "        "
   ]
  },
  {
   "cell_type": "markdown",
   "metadata": {},
   "source": [
    "Algoritm"
   ]
  },
  {
   "cell_type": "code",
   "execution_count": null,
   "metadata": {},
   "outputs": [],
   "source": [
    "from colorama import Fore, Back, Style\n",
    "\n",
    "#str1 = input()\n",
    "str1 = \"29535123p48723487597645723645\"\n",
    "\n",
    "for i in range(len(str1)):\n",
    "    if str1[i].isnumeric() == True:\n",
    "        for idx in range(len(str1[i:])):\n",
    "            \n",
    "\n",
    "    else: continue\n",
    "\n",
    "\n",
    "\n"
   ]
  },
  {
   "cell_type": "code",
   "execution_count": null,
   "metadata": {},
   "outputs": [],
   "source": []
  }
 ],
 "metadata": {
  "kernelspec": {
   "display_name": "ithsprep",
   "language": "python",
   "name": "python3"
  },
  "language_info": {
   "codemirror_mode": {
    "name": "ipython",
    "version": 3
   },
   "file_extension": ".py",
   "mimetype": "text/x-python",
   "name": "python",
   "nbconvert_exporter": "python",
   "pygments_lexer": "ipython3",
   "version": "3.9.16"
  },
  "orig_nbformat": 4
 },
 "nbformat": 4,
 "nbformat_minor": 2
}
