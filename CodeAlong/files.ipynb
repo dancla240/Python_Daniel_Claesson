{
 "cells": [
  {
   "cell_type": "markdown",
   "metadata": {},
   "source": [
    "# Files\n",
    "## Load and save data to files\n",
    "- 2 main categories of files: text and binary files.\n",
    "- text files stores text / caracters in a human readable format\n",
    "- binary files store byte data, ones and zeros, that only computers understand\n",
    "## common text based files to store data\n",
    "- **.txt** plain text\n",
    "- **.csv** comma separated values, använd \"csv\" library\n",
    "- **.json**\n",
    "[json.rg](json.org)\n",
    "\n",
    "[kaggle.com](kaggle.com)\n",
    "- Kaggle för datasets, machine learning, tävlingar mm\n",
    "\n",
    "## File names and paths\n",
    "- paths can be expressed as either **relative** or **absolute** \n",
    "- filename = filens namn + fil extension\n",
    "- Absolute: full path. \"c:\\users\\fredrik\\desktop\\myfile.txt\"\n",
    "- Relative: relative vs current active folder. \"data\\myfile.txt\"\n",
    "- Ibland behöver man upp en level: \"..\\Data\\hello.txt\"\n",
    "\n",
    "## It's possible to open file in different modes\n",
    "- Read (\"r\"): default mode\n",
    "- Write (\"w\"):\n",
    "- Append (\"a\"):\n",
    "- Creates (\"x\")"
   ]
  },
  {
   "cell_type": "markdown",
   "metadata": {},
   "source": [
    "## Read\n",
    "- Open file for reading\n",
    "- default"
   ]
  },
  {
   "cell_type": "code",
   "execution_count": 15,
   "metadata": {},
   "outputs": [
    {
     "name": "stdout",
     "output_type": "stream",
     "text": [
      "this is new content.hej på dighejhej igenhej igen 2hehej\n",
      "idag\n",
      "\n"
     ]
    }
   ],
   "source": [
    "file = open('..\\Data\\hello.txt')\n",
    "content = file.read()\n",
    "print(content)\n",
    "file.close()"
   ]
  },
  {
   "cell_type": "markdown",
   "metadata": {},
   "source": [
    "## Open with context manager"
   ]
  },
  {
   "cell_type": "code",
   "execution_count": null,
   "metadata": {},
   "outputs": [],
   "source": [
    "with open('..\\Data\\hello.txt') as file:\n",
    "    content = file.read()\n",
    "    print(content)\n"
   ]
  },
  {
   "cell_type": "markdown",
   "metadata": {},
   "source": [
    "## Open file for writing"
   ]
  },
  {
   "cell_type": "code",
   "execution_count": 16,
   "metadata": {},
   "outputs": [],
   "source": [
    "with open('..\\Data\\hello.txt', \"a\") as file:\n",
    "    new_content = input('enter text:')\n",
    "    file.write(new_content + '\\n')\n"
   ]
  },
  {
   "cell_type": "markdown",
   "metadata": {},
   "source": [
    "## Miniuppgift\n",
    "- skapa en to lista. Anv ska kunna lägga till namn till den tomma listan, avsluta med \"\".\n",
    "- Namnen ska skrivas ut på skärmen och sparas i en file, med ett namn per rad.\n",
    "- När man startar programmet ska den läsa in namnen från filen, till listan."
   ]
  },
  {
   "cell_type": "code",
   "execution_count": 40,
   "metadata": {},
   "outputs": [
    {
     "name": "stdout",
     "output_type": "stream",
     "text": [
      "daniel\n",
      "\n",
      "anna\n",
      "\n",
      "erik\n",
      "\n"
     ]
    }
   ],
   "source": [
    "# skriver namnen till filen '..\\Data\\names.txt'\n",
    "# namelist = []\n",
    "\n",
    "with open('..\\\\Data\\\\names.txt', \"r\") as file:\n",
    "    namelist = file.readlines()\n",
    "\n",
    "#namelist = content.split('\\n')\n",
    "\n",
    "while True:\n",
    "    name = input(\"Input name: \")\n",
    "    if not name:\n",
    "        break\n",
    "    namelist.append(name)\n",
    "\n",
    "\n",
    "#with open('..\\Data\\\\names.txt', 'w') as file:\n",
    "    #for idx in namelist:\n",
    "       #file.write(idx + '\\n')\n",
    "with open('..\\Data\\\\names.txt', 'w') as file:\n",
    "    file.writelines([idx + '\\n' for idx in namelist])\n",
    "\n",
    "with open('..\\Data\\\\names.txt') as file:\n",
    "    print(file.read())"
   ]
  },
  {
   "cell_type": "markdown",
   "metadata": {},
   "source": [
    "## Write CSV file"
   ]
  },
  {
   "cell_type": "code",
   "execution_count": 42,
   "metadata": {},
   "outputs": [
    {
     "name": "stdout",
     "output_type": "stream",
     "text": [
      "[{'name': 'Adam', 'class': 'AI23', 'email': 'adam@gmail.com'}, {'name': 'Eva', 'class': 'AI23', 'email': 'eva@gmail.com'}]\n"
     ]
    }
   ],
   "source": [
    "students = [\n",
    "    {\"name\" : \"Adam\", \"class\" : \"AI23\", \"email\" : \"adam@gmail.com\"},\n",
    "{\"name\" : \"Eva\", \"class\" : \"AI23\", \"email\" : \"eva@gmail.com\"}\n",
    "]\n",
    "\n",
    "print(students)\n",
    "\n",
    "with open('..\\\\Data\\students.csv', 'w') as file:\n",
    "    for student in students:\n",
    "        file.write(f\"{student['name']},{student['class']},{student['email']}\\n\")"
   ]
  },
  {
   "cell_type": "markdown",
   "metadata": {},
   "source": [
    "## Using csv package\n"
   ]
  },
  {
   "cell_type": "code",
   "execution_count": 47,
   "metadata": {},
   "outputs": [
    {
     "name": "stdout",
     "output_type": "stream",
     "text": [
      "[{'name': 'Adam', 'class': 'AI23', 'email': 'adam@gmail.com'}, {'name': 'Eva', 'class': 'AI23', 'email': 'eva@gmail.com'}]\n"
     ]
    }
   ],
   "source": [
    "import csv\n",
    "\n",
    "student = []\n",
    "\n",
    "with open('..\\\\Data\\\\students.csv') as file:\n",
    "    reader = csv.DictReader(file)\n",
    "    for row in reader:\n",
    "        student.append({'name' : row['name'], 'class' : row['class'], 'email' : row['email']})\n",
    "\n",
    "print(students)"
   ]
  },
  {
   "cell_type": "markdown",
   "metadata": {},
   "source": [
    "## .json serialization and deserialization\n",
    "- serialization, python objekt => .json\n",
    "- deserialization, .json => python objekt"
   ]
  },
  {
   "cell_type": "code",
   "execution_count": 56,
   "metadata": {},
   "outputs": [],
   "source": [
    "import json\n",
    "\n",
    "teacher = {\n",
    "    \"firstname\" : \"Fredrik\",\n",
    "    \"lastname\" : \"Johansson\",\n",
    "    \"age\" : 42,\n",
    "    \"languages\" : [\"Python\",\n",
    "                   \"C#\",\n",
    "                   \"Javascript\"],\n",
    "    \"contactinfo\" : {\n",
    "        \"phone\" : \"0702345678\",\n",
    "        \"email\" : [\"fredrik@everyloop.com\",\n",
    "                   \"fredrik@gmail.com\",\n",
    "                   \"fredrik@hotmail.com\"\n",
    "                   ]}\n",
    "}\n",
    "\n",
    "serialized_data = json.dumps(teacher, indent=4)\n",
    "\n",
    "# print(serialized_data)\n",
    "\n",
    "with open('..\\\\Data\\\\teacher.json', 'w') as file:\n",
    "    file.write(serialized_data)\n",
    "\n"
   ]
  },
  {
   "cell_type": "code",
   "execution_count": 58,
   "metadata": {},
   "outputs": [
    {
     "name": "stdout",
     "output_type": "stream",
     "text": [
      "{'firstname': 'Fredrik', 'lastname': 'Johansson', 'age': 42, 'languages': ['Python', 'C#', 'Javascript'], 'contactinfo': {'phone': '0702345678', 'email': ['fredrik@everyloop.com', 'fredrik@gmail.com', 'fredrik@hotmail.com']}}\n"
     ]
    }
   ],
   "source": [
    "## Läsa in .json filen\n",
    "with open('..\\\\Data\\\\teacher.json') as file:\n",
    "    data = file.read()\n",
    "\n",
    "teacher = json.loads(data)\n",
    "\n",
    "print(teacher)\n"
   ]
  },
  {
   "cell_type": "markdown",
   "metadata": {},
   "source": [
    "## Kaggle\n",
    "- Hämtar en fil från kaggle och gör lite kul saker med den.\n"
   ]
  }
 ],
 "metadata": {
  "kernelspec": {
   "display_name": "Python_Daniel_Claesson-oifCKsFD",
   "language": "python",
   "name": "python3"
  },
  "language_info": {
   "codemirror_mode": {
    "name": "ipython",
    "version": 3
   },
   "file_extension": ".py",
   "mimetype": "text/x-python",
   "name": "python",
   "nbconvert_exporter": "python",
   "pygments_lexer": "ipython3",
   "version": "3.11.5"
  },
  "orig_nbformat": 4
 },
 "nbformat": 4,
 "nbformat_minor": 2
}
