{
 "cells": [
  {
   "cell_type": "markdown",
   "metadata": {},
   "source": [
    "# If statements\n",
    "- **if** - måste finnas\n",
    "- **elif** - kan finnas,0, 1 eller fler\n",
    "- **else** - kan finnas, max 1\n",
    "\n",
    "if-sats tar alltid en boolean som input.  \n",
    "tomma strängar == False\n",
    "ej tomma strängar == True\n",
    "endast ett av kodblocken kommer köras\n",
    "### One line if statement\n",
    "When if statement is followed by only one statement.\n",
    "````\n",
    "if x < 10 or name == \"Fredrik\": print (\"yes\")\n",
    "````\n",
    "### Ternary Operator\n",
    "a special operator that takes three operands and returns 2 choices depending on if the middle expression evaluates to true or false.\n",
    "\n",
    "````\n",
    "lastname = (\"Johansson\" if name == \"Fredrik\" else \"???\")\n",
    "````\n",
    "\n"
   ]
  },
  {
   "cell_type": "code",
   "execution_count": 4,
   "metadata": {},
   "outputs": [
    {
     "name": "stdout",
     "output_type": "stream",
     "text": [
      "hejdå\n"
     ]
    }
   ],
   "source": [
    "x = 11\n",
    "if x < 10:\n",
    "    print(\"yes\")\n",
    "elif x < 0:\n",
    "    print(\"no\")\n",
    "else:\n",
    "    print(\"hejdå\")\n"
   ]
  }
 ],
 "metadata": {
  "kernelspec": {
   "display_name": "Python 3",
   "language": "python",
   "name": "python3"
  },
  "language_info": {
   "codemirror_mode": {
    "name": "ipython",
    "version": 3
   },
   "file_extension": ".py",
   "mimetype": "text/x-python",
   "name": "python",
   "nbconvert_exporter": "python",
   "pygments_lexer": "ipython3",
   "version": "3.11.5"
  },
  "orig_nbformat": 4
 },
 "nbformat": 4,
 "nbformat_minor": 2
}
