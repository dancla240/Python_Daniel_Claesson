{
 "cells": [
  {
   "cell_type": "markdown",
   "metadata": {},
   "source": [
    "# Dictionaries\n",
    "- Dictionaries are used to store key-value pairs. Det är två värden som hänger ihop.\n",
    "- {key : value}\n",
    "- keys are used to access values, and must be unique\n",
    "- Only immutable types can be used as keys: string, int, float, bool can be used as keys.\n",
    "- Värden kan vara listor eller även dictionaries (nested dictionaries)\n",
    "- Dictionaries are ordered and changeable\n",
    "- "
   ]
  },
  {
   "cell_type": "code",
   "execution_count": 18,
   "metadata": {},
   "outputs": [
    {
     "name": "stdout",
     "output_type": "stream",
     "text": [
      "{'firstname': 'Fredrik', 'lastname': 'Johansson', 'age': 42, 'languages': ['Python', 'C#', 'Javascript'], 'contactinfo': {'phone': '0702345678', 'email': ['fredrik@everyloop.com', 'fredrik@gmail.com', 'fredrik@hotmail.com']}}\n",
      "Fredrik\n",
      "Johansson\n",
      "42\n",
      "<class 'int'>\n",
      "len(teacher) = 5\n",
      "teacher = {'firstname': 'Fredrik', 'lastname': 'Johansson', 'age': 42, 'languages': ['Python', 'C#', 'Javascript'], 'contactinfo': {'phone': '0702345678', 'email': ['fredrik@everyloop.com', 'fredrik@gmail.com', 'fredrik@hotmail.com']}, 'length': 1.8}\n",
      "teacher = {'firstname': 'Fredrik', 'age': 42, 'languages': ['Python', 'C#', 'Javascript'], 'contactinfo': {'phone': '0702345678', 'email': ['fredrik@everyloop.com', 'fredrik@gmail.com', 'fredrik@hotmail.com']}, 'length': 1.8}\n",
      "removed_value = 'Johansson'\n",
      "len(teacher[\"languages\"]) = 3\n",
      "teacher[\"languages\"][-1] = 'Javascript'\n",
      "Lenght: len(teacher[\"languages\"][-1]) = 10\n",
      "len(teacher['contactinfo']) = 2\n",
      "teacher['contactinfo']['email'][0:2] = ['fredrik@everyloop.com', 'fredrik@gmail.com']\n"
     ]
    }
   ],
   "source": [
    "# Create empty dict\n",
    "empty_dictionary = {}\n",
    "\n",
    "# Create dict with items\n",
    "teacher = {\n",
    "    \"firstname\" : \"Fredrik\",\n",
    "    \"lastname\" : \"Johansson\",\n",
    "    \"age\" : 42,\n",
    "    \"languages\" : [\"Python\",\"C#\",\"Javascript\"],\n",
    "    \"contactinfo\" : {\n",
    "        \"phone\" : \"0702345678\",\n",
    "        \"email\" : [\"fredrik@everyloop.com\", \"fredrik@gmail.com\",\"fredrik@hotmail.com\"]}\n",
    "}\n",
    "\n",
    "print(teacher) #skriver ut hela dicten\n",
    "print(teacher[\"firstname\"])\n",
    "print(teacher[\"lastname\"])\n",
    "print(teacher[\"age\"])\n",
    "print(type(teacher[\"age\"]))\n",
    "\n",
    "# Get nbr of items in dict\n",
    "print(f\"{len(teacher) = }\")\n",
    "\n",
    "# Add key-value pair\n",
    "teacher[\"length\"] = 1.80\n",
    "print(f\"{teacher = }\")\n",
    "\n",
    "# Remove key and return value from dictionary (.pop)\n",
    "\n",
    "removed_value = teacher.pop(\"lastname\")\n",
    "print(f\"{teacher = }\")\n",
    "\n",
    "print(f\"{removed_value = }\")\n",
    "\n",
    "# Längden på \"languages\"\n",
    "print(f'{len(teacher[\"languages\"]) = }')\n",
    "\n",
    "# Sista värdet i languages\n",
    "print(f'{teacher[\"languages\"][-1] = }')\n",
    "\n",
    "# Längden på Javascript\n",
    "print(f'Lenght: {len(teacher[\"languages\"][-1]) = }')\n",
    "\n",
    "# Get nbr of items in dict contactinfo\n",
    "print(f\"{len(teacher['contactinfo']) = }\")\n",
    "\n",
    "# få ut emailen\n",
    "print(f\"{teacher['contactinfo']['email'][0:2] = }\")\n",
    "\n"
   ]
  },
  {
   "cell_type": "code",
   "execution_count": null,
   "metadata": {},
   "outputs": [],
   "source": [
    "\n"
   ]
  }
 ],
 "metadata": {
  "kernelspec": {
   "display_name": "ithsprep",
   "language": "python",
   "name": "python3"
  },
  "language_info": {
   "codemirror_mode": {
    "name": "ipython",
    "version": 3
   },
   "file_extension": ".py",
   "mimetype": "text/x-python",
   "name": "python",
   "nbconvert_exporter": "python",
   "pygments_lexer": "ipython3",
   "version": "3.9.16"
  },
  "orig_nbformat": 4
 },
 "nbformat": 4,
 "nbformat_minor": 2
}
