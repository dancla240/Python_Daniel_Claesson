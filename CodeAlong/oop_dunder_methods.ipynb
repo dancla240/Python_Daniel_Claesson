{
 "cells": [
  {
   "cell_type": "markdown",
   "metadata": {},
   "source": [
    "# Dunder Methods\n",
    "- implementeras i klasser. Anropas inte direkt, använder andra sätt att anropas.\n",
    "- __init__ is called when a new object instance is called. The purpose of this is to initialize the object.\n",
    "- __str__ används om man använder en str eller print. Mer för slutanvändaren av programmet.\n",
    "- __repr__  används om man inte har med 'print' eller 'str'. Mer för utvecklaren som programmerar.\n",
    "- [länk till föreläsning](https://ithogskolan.sharepoint.com/:v:/s/AI23/ESj0d-vAP6NHrrxZUzJtMrkBiobuGGQ0yfJzJhJAR75TFw?e=qaNZcu)\n"
   ]
  },
  {
   "cell_type": "code",
   "execution_count": 9,
   "metadata": {},
   "outputs": [
    {
     "name": "stdout",
     "output_type": "stream",
     "text": [
      "Mjau\n",
      "This is a cat called Mjau.\n"
     ]
    },
    {
     "data": {
      "text/plain": [
       "this is representaion on Mjau."
      ]
     },
     "execution_count": 9,
     "metadata": {},
     "output_type": "execute_result"
    }
   ],
   "source": [
    "class Cat:\n",
    "    def __init__(self, name):\n",
    "        self.name = name\n",
    "\n",
    "    def __str__(self):\n",
    "        return f'This is a cat called {self.name}.'\n",
    "\n",
    "    def __repr__(self):\n",
    "        return f'this is representaion on {self.name}.'\n",
    "\n",
    "\n",
    "cat = Cat('Mjau')\n",
    "\n",
    "print(cat.name)\n",
    "print(cat) # __str__ gör automatiskt till en string\n",
    "str(cat)\n",
    "cat"
   ]
  },
  {
   "cell_type": "code",
   "execution_count": 5,
   "metadata": {},
   "outputs": [
    {
     "name": "stdout",
     "output_type": "stream",
     "text": [
      "This is a cat called Mjau.\n",
      "This is a cat called Mjau.\n",
      "This is a cat called Pelle.\n",
      "This is a cat called Pelle.\n",
      "This is a cat called Måns.\n",
      "This is a cat called Måns.\n"
     ]
    }
   ],
   "source": [
    "cats = [Cat('Mjau'),Cat('Pelle'),Cat('Måns')]\n",
    "\n",
    "for cat in cats:\n",
    "    print(str(cat))\n",
    "    print(cat) # samma output som ovan. print gör automatiskt om till strängar, använder __str__ metoden för att avgöra vilken sträng som ska returneras.\n"
   ]
  },
  {
   "cell_type": "markdown",
   "metadata": {},
   "source": [
    "# Eval()\n",
    "- evaluerar en sträng som om den vore Python kod.\n",
    "- att använda eval() kan vara en säkerhetsrisk.\n"
   ]
  },
  {
   "cell_type": "code",
   "execution_count": 10,
   "metadata": {},
   "outputs": [
    {
     "name": "stdout",
     "output_type": "stream",
     "text": [
      "5\n"
     ]
    }
   ],
   "source": [
    "x = 5\n",
    "eval('print(x)')\n"
   ]
  }
 ],
 "metadata": {
  "kernelspec": {
   "display_name": "ithsprep",
   "language": "python",
   "name": "python3"
  },
  "language_info": {
   "codemirror_mode": {
    "name": "ipython",
    "version": 3
   },
   "file_extension": ".py",
   "mimetype": "text/x-python",
   "name": "python",
   "nbconvert_exporter": "python",
   "pygments_lexer": "ipython3",
   "version": "3.9.16"
  },
  "orig_nbformat": 4
 },
 "nbformat": 4,
 "nbformat_minor": 2
}
