{
 "cells": [
  {
   "cell_type": "markdown",
   "metadata": {},
   "source": [
    "# For loops  \n",
    "A for loop is used for iterating over a sequence, for example a List, String, Dictionary or a Range. \n",
    "range() funktionen för att skapa något att iterera över.  \n",
    "Like while loops, for loops can also use:\n",
    "- continue: moves on to next iteration of the loop\n",
    "- break: breaks the loop completely\n",
    "- else"
   ]
  },
  {
   "cell_type": "code",
   "execution_count": 14,
   "metadata": {},
   "outputs": [
    {
     "name": "stdout",
     "output_type": "stream",
     "text": [
      "Fredrik\n",
      "Camilla\n",
      "Anna\n",
      "Anders\n",
      "Erik\n"
     ]
    }
   ],
   "source": [
    "names = ['Fredrik', 'Camilla', 'Anna', 'Anders', 'Erik']\n",
    "\n",
    "for name in names:\n",
    "    print(name)\n",
    "\n"
   ]
  },
  {
   "cell_type": "code",
   "execution_count": 15,
   "metadata": {},
   "outputs": [
    {
     "name": "stdout",
     "output_type": "stream",
     "text": [
      "0\n",
      "1\n",
      "2\n",
      "3\n",
      "4\n",
      "5\n",
      "6\n",
      "7\n",
      "8\n",
      "9\n",
      "10\n",
      "11\n",
      "12\n",
      "10\n",
      "12\n",
      "14\n",
      "16\n",
      "18\n",
      "20\n",
      "19\n",
      "18\n",
      "17\n",
      "16\n",
      "15\n",
      "14\n",
      "13\n",
      "12\n",
      "11\n"
     ]
    }
   ],
   "source": [
    "# Example 2, iterating over a range\n",
    "\n",
    "for i in range(10):\n",
    "    print(i)\n",
    "\n",
    "for i in range(10,13):\n",
    "    print(i)\n",
    "\n",
    "\n",
    "for i in range(10,20,2):\n",
    "    print(i)\n",
    "\n",
    "for i in range(20,10,-1):\n",
    "    print(i)    "
   ]
  },
  {
   "cell_type": "markdown",
   "metadata": {},
   "source": [
    "## Nested loops  \n",
    "A loop within a loop."
   ]
  },
  {
   "cell_type": "code",
   "execution_count": 16,
   "metadata": {},
   "outputs": [
    {
     "name": "stdout",
     "output_type": "stream",
     "text": [
      "ooooo01234\n",
      "01234\n",
      "01234\n"
     ]
    }
   ],
   "source": [
    "for x in range(5):\n",
    "    print(\"o\", end=\"\")\n",
    "\n",
    "for y in range(3):\n",
    "    for x in range(5):\n",
    "        print(x, end=\"\")\n",
    "    print()"
   ]
  }
 ],
 "metadata": {
  "kernelspec": {
   "display_name": "Python 3",
   "language": "python",
   "name": "python3"
  },
  "language_info": {
   "codemirror_mode": {
    "name": "ipython",
    "version": 3
   },
   "file_extension": ".py",
   "mimetype": "text/x-python",
   "name": "python",
   "nbconvert_exporter": "python",
   "pygments_lexer": "ipython3",
   "version": "3.11.5"
  },
  "orig_nbformat": 4
 },
 "nbformat": 4,
 "nbformat_minor": 2
}
