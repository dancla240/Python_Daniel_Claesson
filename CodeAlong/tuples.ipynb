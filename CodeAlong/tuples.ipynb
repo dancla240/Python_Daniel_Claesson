{
 "cells": [
  {
   "cell_type": "markdown",
   "metadata": {},
   "source": [
    "# Tuples\n",
    "- tuples are used to store multiple items in a single variable\n",
    "- tuple items are ordered, unchangeable, and allow for duplicate values\n",
    "- tuples allows for different data types and a mix of different data types\n",
    "- tuple items are indexed, the first item has index 0 and so on\n",
    "- tuples are written with round brackes. ex (), (1,), (1, 2, 3)\n",
    "- man kan inte ändra ett element i en tuple. men man kan göra om den till en lista, ändra och sedan tillbaka till en tuple.\n",
    "- det finns inte tex en .append() metod till en tuple.\n",
    "- tuples används oftast när man vet att det som finns i tuple'n inte kommer ändras.\n",
    "- om man använder tuples, visar man i koden att denna informationen inte ska tex appendas till eller ändras, jämfört med listor då."
   ]
  },
  {
   "cell_type": "code",
   "execution_count": 2,
   "metadata": {},
   "outputs": [
    {
     "name": "stdout",
     "output_type": "stream",
     "text": [
      "my_tuple[0] = 'Fredrik'\n"
     ]
    }
   ],
   "source": [
    "# create empty tuple\n",
    "empty_tuple = ()\n",
    "\n",
    "# tuple with one item\n",
    "single_item_tuple = (1, )\n",
    "\n",
    "# tuple with multiple items (packar ihop dessa tre till en tuple.)\n",
    "my_tuple = ('Fredrik', 42, 'Everyloop')\n",
    "\n",
    "# tuples can be indexed and sliced\n",
    "print(f'{my_tuple[0] = }')\n",
    "\n",
    "# individual items in a tuple can not be altered\n",
    "# my_tuple[0] = 'kalle' # detta funkar inte"
   ]
  },
  {
   "cell_type": "markdown",
   "metadata": {},
   "source": [
    "# Unpacking a tuple\n",
    "- when we create a tuple, we normally assign\n",
    "- extract values tillbaka till variables, kallas \"unpacking\""
   ]
  },
  {
   "cell_type": "code",
   "execution_count": 3,
   "metadata": {},
   "outputs": [
    {
     "name": "stdout",
     "output_type": "stream",
     "text": [
      "Fredrik\n",
      "42\n",
      "Everyloop\n"
     ]
    }
   ],
   "source": [
    "name, age, company = my_tuple\n",
    "print(name)\n",
    "print(age)\n",
    "print(company)"
   ]
  },
  {
   "cell_type": "markdown",
   "metadata": {},
   "source": [
    "# Looping through a tuple"
   ]
  },
  {
   "cell_type": "code",
   "execution_count": 5,
   "metadata": {},
   "outputs": [
    {
     "name": "stdout",
     "output_type": "stream",
     "text": [
      "Fredrik\n",
      "42\n",
      "Everyloop\n"
     ]
    }
   ],
   "source": [
    "for item in my_tuple:\n",
    "    print(item)\n"
   ]
  },
  {
   "cell_type": "code",
   "execution_count": 7,
   "metadata": {},
   "outputs": [
    {
     "name": "stdout",
     "output_type": "stream",
     "text": [
      "Fredrik\n",
      "42\n",
      "Everyloop\n"
     ]
    }
   ],
   "source": [
    "for i in range(len(my_tuple)):\n",
    "    print(my_tuple[i])"
   ]
  }
 ],
 "metadata": {
  "kernelspec": {
   "display_name": "ithsprep",
   "language": "python",
   "name": "python3"
  },
  "language_info": {
   "codemirror_mode": {
    "name": "ipython",
    "version": 3
   },
   "file_extension": ".py",
   "mimetype": "text/x-python",
   "name": "python",
   "nbconvert_exporter": "python",
   "pygments_lexer": "ipython3",
   "version": "3.9.16"
  },
  "orig_nbformat": 4
 },
 "nbformat": 4,
 "nbformat_minor": 2
}
