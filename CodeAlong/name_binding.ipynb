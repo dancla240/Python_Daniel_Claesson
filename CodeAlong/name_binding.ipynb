{
 "cells": [
  {
   "cell_type": "markdown",
   "metadata": {},
   "source": [
    "# Name binding\n",
    "- Everything in Python is an object, meaning every entity has some meta data (attributes) and associated functionality (methods).\n",
    "- Names can be bound to any object."
   ]
  },
  {
   "cell_type": "markdown",
   "metadata": {},
   "source": [
    "### Mutable vs immutable objects\n",
    "- numerics, strings and tuples are immutable, meaning their values can't change after they are created.\n",
    "- Mutable: lists, dicts and user defined objects. Meaning the values has methods that can change the value in place."
   ]
  },
  {
   "cell_type": "code",
   "execution_count": 2,
   "metadata": {},
   "outputs": [
    {
     "name": "stdout",
     "output_type": "stream",
     "text": [
      "1 2215002401072\n",
      "2 2215002401104\n"
     ]
    }
   ],
   "source": [
    "a = 1\n",
    "print(a, id(a))\n",
    "a = 2 # det skapas ett nytt objekt '2'\n",
    "print(a, id(a))"
   ]
  },
  {
   "cell_type": "markdown",
   "metadata": {},
   "source": [
    "a ovan har olika id(), dvs det är två olika objekt.\n",
    "'a' är ett object av klassen int.\n",
    "id()-funktionen\n",
    "\n",
    "# Rebinding the name vs mutating the value\n",
    "- Variables in Python does not work the same way as in languages like C# and Java.\n",
    "- a doesn't refer to a place in memory where we store different values.\n",
    "- Rather values themselves are objects in memory. and a is the name bound to it.\n",
    "- a = 2 doesn't mutate the value, but rather create a new object '2' and rebinds to it.\n",
    "- mutating the value: ändrar (ej i Python)\n",
    "- rebinding the name: i Python\n",
    "\n",
    "\n",
    "- Egendefinierade objekt är mutable."
   ]
  },
  {
   "cell_type": "code",
   "execution_count": 8,
   "metadata": {},
   "outputs": [
    {
     "name": "stdout",
     "output_type": "stream",
     "text": [
      "a = 1 2215002401072\n",
      "b = 1 2215002401072\n",
      "a och b pekar på samma objekt\n",
      "\n",
      "a = 1 2215002401072\n",
      "b = 2 2215002401104\n",
      "när vi satte b till 2, så skapades ett nytt objekt \"2\".\n",
      "\n",
      "a = 1 2215002401072\n",
      "b = 1 2215002401072\n"
     ]
    }
   ],
   "source": [
    "a = 1\n",
    "b = a # binder 'b' till samma objekt som a redan är bundet till objekt '1'\n",
    "print(f'{a = }', id(a))\n",
    "print(f'{b = }', id(b))\n",
    "print('a och b pekar på samma objekt')\n",
    "print()\n",
    "b = 2\n",
    "print(f'{a = }', id(a))\n",
    "print(f'{b = }', id(b))\n",
    "print('när vi satte b till 2, så skapades ett nytt objekt \"2\".')\n",
    "print()\n",
    "b = 1\n",
    "print(f'{a = }', id(a))\n",
    "print(f'{b = }', id(b))"
   ]
  },
  {
   "cell_type": "code",
   "execution_count": 3,
   "metadata": {},
   "outputs": [
    {
     "name": "stdout",
     "output_type": "stream",
     "text": [
      "cat_a = <__main__.Cat object at 0x00000113568F0D90> 1182568222096 0x113568f0d90\n",
      "\n",
      "cat_a.name = 'Bill' 1182569976112\n",
      "cat_b.name = 'Bill' 1182569976112\n",
      "\n",
      "cat_a.name = 'Bull' 1182570002864\n",
      "cat_b.name = 'Bull' 1182570002864\n",
      "\n",
      "cat_a.name = 'Måns' 1182570239280\n",
      "cat_b.name = 'Bull' 1182570002864\n"
     ]
    }
   ],
   "source": [
    "class Cat:\n",
    "    def __init__(self, name):\n",
    "        self.name = name\n",
    "\n",
    "cat_a = Cat('Bill')\n",
    "\n",
    "print(f'{cat_a = }', id(cat_a), hex(id(cat_a))) # olika sätt att visa minnesplatsen\n",
    "\n",
    "print()\n",
    "\n",
    "cat_b = cat_a # cat_b kommer referera till (peka på) samma objekt i minnet som cat_a\n",
    "\n",
    "print(f'{cat_a.name = }', id(cat_a.name))\n",
    "print(f'{cat_b.name = }', id(cat_b.name))\n",
    "\n",
    "print()\n",
    "\n",
    "cat_b.name = 'Bull'\n",
    "\n",
    "print(f'{cat_a.name = }', id(cat_a.name))\n",
    "print(f'{cat_b.name = }', id(cat_b.name))\n",
    "\n",
    "print()\n",
    "\n",
    "cat_a = Cat('Måns') # vi gör en ny instans of klassen => nytt objekt 'cat_a'. cat_a och cat_b kommer inte vara samma längre. cat_a kommer peka på ett nytt Cat-objekt.\n",
    "\n",
    "print(f'{cat_a.name = }', id(cat_a.name))\n",
    "print(f'{cat_b.name = }', id(cat_b.name))"
   ]
  },
  {
   "cell_type": "markdown",
   "metadata": {},
   "source": [
    "### Names and values\n",
    "- Names refers to values.\n",
    "- Assignments never copies data, pekar bara om \n",
    "- Multiple names can refer to same value.\n",
    "- Changes in value are visible through all of it's names.\n",
    "- Names are reassigned independently of other names.\n",
    "- Values/Objects live until nothing references them.\n",
    "\n",
    "* Python keeps track of how many references each object has and automatically cleanes up objects that have none (they are no longer needed). This is calles \"garbage collection\", and means you don't have to remove the manually. "
   ]
  },
  {
   "cell_type": "code",
   "execution_count": 32,
   "metadata": {},
   "outputs": [
    {
     "name": "stdout",
     "output_type": "stream",
     "text": [
      "<class 'str'>\n",
      "2215084308848\n",
      "2215084340416\n",
      "2215084308848\n",
      "2215084308848\n",
      "\n",
      "2215084757296\n",
      "2215084308848\n",
      "2215084308848\n"
     ]
    }
   ],
   "source": [
    "a = \"Pelle\"\n",
    "print(type(a))\n",
    "\n",
    "b = ['måns','Pelle','bill','bull']\n",
    "\n",
    "c = Cat(\"Pelle\")\n",
    "\n",
    "print(id(a))\n",
    "print(id(b))\n",
    "print(id(b[1]))\n",
    "print(id(c.name))\n",
    "\n",
    "a = \"kalle\"\n",
    "print()\n",
    "print(id(a))\n",
    "print(id(b[1]))\n",
    "print(id(c.name))"
   ]
  },
  {
   "cell_type": "markdown",
   "metadata": {},
   "source": [
    "### References can be more than names.\n",
    "- Allt till vänster om en tilldelningsoperator är en referens, tex:\n",
    "- Listor\n",
    "- List items\n",
    "- Dict Keys and Values\n",
    "- ...and so on"
   ]
  },
  {
   "cell_type": "code",
   "execution_count": 39,
   "metadata": {},
   "outputs": [
    {
     "name": "stdout",
     "output_type": "stream",
     "text": [
      "a = [1, 2, 3] 2215084359232\n",
      "b = [1, 2, 3] 2215084359232\n",
      "\n",
      "a = [1, 2, 3, 4] 2215084359232\n",
      "b = [1, 2, 3, 4] 2215084359232\n",
      "\n",
      "a = [1, 2, 3, 4] 2215084359232\n",
      "b = [1, 2, 3, 4] 2215084385792\n",
      "(a == b = True)\n",
      "(a is b = False)\n"
     ]
    }
   ],
   "source": [
    "a =[1, 2, 3]\n",
    "b = a\n",
    "print(f'{a = }', id(a))\n",
    "print(f'{b = }', id(b))\n",
    "print()\n",
    "\n",
    "b.append(4) # detta beskrivs på sidan 114 i Python från början\n",
    "print(f'{a = }', id(a))\n",
    "print(f'{b = }', id(b))\n",
    "print()\n",
    "\n",
    "b = a.copy()\n",
    "print(f'{a = }', id(a))\n",
    "print(f'{b = }', id(b))\n",
    "print(f'({a == b = })') # == kollar om det är samma värde (= True)\n",
    "print(f'({a is b = })') # 'is' kollar om det är samma objekt (= False)\n"
   ]
  },
  {
   "cell_type": "markdown",
   "metadata": {},
   "source": [
    "### Identity vs equality\n",
    "- the 'is' operator checks if two variables refer to the same object.\n",
    "- the '==' operator checks if the values of two variables are equal.\n",
    "\n",
    "operator overloading kan ställa till det med \"==\".... typ.\n",
    "Om man vill kolla om en variabel eller namn är 'None', ska man använda operatorn 'is', aldrig '=='."
   ]
  },
  {
   "cell_type": "code",
   "execution_count": 2,
   "metadata": {},
   "outputs": [
    {
     "ename": "NameError",
     "evalue": "name 'Cat' is not defined",
     "output_type": "error",
     "traceback": [
      "\u001b[1;31m---------------------------------------------------------------------------\u001b[0m",
      "\u001b[1;31mNameError\u001b[0m                                 Traceback (most recent call last)",
      "\u001b[1;32mc:\\Users\\danie\\Documents\\GitHub\\Python_Daniel_Claesson\\CodeAlong\\name_binding.ipynb Cell 12\u001b[0m line \u001b[0;36m<cell line: 3>\u001b[1;34m()\u001b[0m\n\u001b[0;32m      <a href='vscode-notebook-cell:/c%3A/Users/danie/Documents/GitHub/Python_Daniel_Claesson/CodeAlong/name_binding.ipynb#X14sZmlsZQ%3D%3D?line=0'>1</a>\u001b[0m \u001b[39mimport\u001b[39;00m \u001b[39mcopy\u001b[39;00m\n\u001b[1;32m----> <a href='vscode-notebook-cell:/c%3A/Users/danie/Documents/GitHub/Python_Daniel_Claesson/CodeAlong/name_binding.ipynb#X14sZmlsZQ%3D%3D?line=2'>3</a>\u001b[0m cat_a \u001b[39m=\u001b[39m Cat(\u001b[39m'\u001b[39m\u001b[39mPelle\u001b[39m\u001b[39m'\u001b[39m)\n\u001b[0;32m      <a href='vscode-notebook-cell:/c%3A/Users/danie/Documents/GitHub/Python_Daniel_Claesson/CodeAlong/name_binding.ipynb#X14sZmlsZQ%3D%3D?line=3'>4</a>\u001b[0m cat_a\u001b[39m.\u001b[39mfriends \u001b[39m=\u001b[39m [\u001b[39m'\u001b[39m\u001b[39mBill\u001b[39m\u001b[39m'\u001b[39m, \u001b[39m'\u001b[39m\u001b[39mBull\u001b[39m\u001b[39m'\u001b[39m]\n\u001b[0;32m      <a href='vscode-notebook-cell:/c%3A/Users/danie/Documents/GitHub/Python_Daniel_Claesson/CodeAlong/name_binding.ipynb#X14sZmlsZQ%3D%3D?line=5'>6</a>\u001b[0m \u001b[39mprint\u001b[39m(\u001b[39m'\u001b[39m\u001b[39mskriver: cat_b = cat_a\u001b[39m\u001b[39m'\u001b[39m)\n",
      "\u001b[1;31mNameError\u001b[0m: name 'Cat' is not defined"
     ]
    }
   ],
   "source": [
    "import copy\n",
    "\n",
    "cat_a = Cat('Pelle')\n",
    "cat_a.friends = ['Bill', 'Bull']\n",
    "\n",
    "print('skriver: cat_b = cat_a')\n",
    "cat_b = cat_a # 1. tilldela cat_b till samma objekt tom cat_a\n",
    "print(f'{cat_a.name = }', id(cat_a.name))\n",
    "print(f'{cat_b.name = }', id(cat_b.name))\n",
    "print()\n",
    "\n",
    "print('skriver: cat_b = copy.copy(cat_a), dvs cat_b blir grund kopia av cat_a.')\n",
    "cat_b = copy.copy(cat_a) # 2. Cat_b = grund kopia av cat_a\n",
    "print(f'{cat_a.name = }', id(cat_a.name))\n",
    "print(f'{cat_b.name = }', id(cat_b.name))\n",
    "print('de har samma ref till minnet, eftersom de fortfarande är likadana.')\n",
    "print()\n",
    "print('skriver: cat_b.name = \"Måns\", dvs ändrar i cat_b. Det skapas ett nytt objekt, för \"cat_b_name\".')\n",
    "cat_b.name = ('Måns')\n",
    "print(f'{cat_a.name = }', id(cat_a.name))\n",
    "print(f'{cat_b.name = }', id(cat_b.name))\n",
    "print()\n",
    "print('skriver: cat_b.friends.append(\"Pelle\").')\n",
    "cat_b.friends.append(\"Pelle\")\n",
    "print(f'{cat_a.friends = }', id(cat_a.friends))\n",
    "print(f'{cat_b.friends = }', id(cat_b.friends))\n",
    "print('cat_a och cat_b refererar till samma .friends list, eftersom en grund kopia endast ändrar referensen till andra objekt på första nivån.')\n",
    "print()\n",
    "print('skriver cat_b = copy.deepcopy(cat_a),\\nsamt cat_b.friends.append(\"Måns\").')\n",
    "cat_b = copy.deepcopy(cat_a)\n",
    "cat_b.friends.append(\"Måns\")\n",
    "print(f'{cat_a.friends = }', id(cat_a.friends))\n",
    "print(f'{cat_b.friends = }', id(cat_b.friends))"
   ]
  },
  {
   "cell_type": "markdown",
   "metadata": {},
   "source": [
    "### Shallow vs Deep Copy\n",
    "- Assignment statements in Python do not create copies of objects, they only bind nmaes to an object.\n",
    "- ***Shallow copy*** means constructing a new collection object and then populating with references **to the child objects found in the original**. In essence, a shallow copy is only one level deep. The copying process does not recurse and therefore won't create copies of the child objects themselves.\n",
    "- ***Deep Copy*** makes the copying process recursive. It means first constructing a new collection object and then recursively populating it with copies of the child objects found in the original. Copying an object this way walks the whole object tree to create \n",
    "\n",
    "Om man vill kunna kopiera en klass/objekt måste man importera copy\n",
    "copy - ändrar referenserna endast på första nivån\n",
    "deepcopy - ändrar referenserna på alla nivåer (tex lista av listor, så skulle det funka)\n",
    "SKRIV KLART\n"
   ]
  },
  {
   "cell_type": "code",
   "execution_count": 72,
   "metadata": {},
   "outputs": [
    {
     "name": "stdout",
     "output_type": "stream",
     "text": [
      "True\n",
      "this is my func\n",
      "this is my func\n",
      "now my func refers to a new function\n",
      "this is my func\n"
     ]
    }
   ],
   "source": [
    "def my_func():\n",
    "    print('this is my func')\n",
    "\n",
    "print(callable(my_func))\n",
    "\n",
    "my_func()\n",
    "my_func\n",
    "\n",
    "also_my_func = my_func #also blir ref till samma objekt\n",
    "\n",
    "also_my_func()\n",
    "\n",
    "def my_func():\n",
    "    print('now my func refers to a new function')\n",
    "\n",
    "my_func()\n",
    "also_my_func()"
   ]
  },
  {
   "cell_type": "markdown",
   "metadata": {},
   "source": [
    "### lots of things are assignments\n",
    "- just as many things can serve as reference, there are many operations in Python that are assignments.\n",
    "- each of these lines is an assignment to the name X."
   ]
  },
  {
   "cell_type": "code",
   "execution_count": null,
   "metadata": {},
   "outputs": [],
   "source": [
    "X = ... # variabel\n",
    "for X in... # loop\n",
    "[for X in ...] # list comprehension\n",
    "def X(...): #funktion\n",
    "class X: # klass\n",
    "with ... as X: # öppnar filer, tilldelar till X"
   ]
  },
  {
   "cell_type": "markdown",
   "metadata": {},
   "source": [
    "It's not that these statements are kind of assignments, they are REAL assignments. They all make the name X refer to an object, and every fact about assignments applies to all of them."
   ]
  },
  {
   "cell_type": "code",
   "execution_count": 74,
   "metadata": {},
   "outputs": [
    {
     "name": "stdout",
     "output_type": "stream",
     "text": [
      "Hello World\n"
     ]
    },
    {
     "ename": "TypeError",
     "evalue": "'int' object is not callable",
     "output_type": "error",
     "traceback": [
      "\u001b[1;31m---------------------------------------------------------------------------\u001b[0m",
      "\u001b[1;31mTypeError\u001b[0m                                 Traceback (most recent call last)",
      "\u001b[1;32mc:\\Users\\danie\\Documents\\GitHub\\Python_Daniel_Claesson\\CodeAlong\\name_binding.ipynb Cell 18\u001b[0m line \u001b[0;36m<cell line: 4>\u001b[1;34m()\u001b[0m\n\u001b[0;32m      <a href='vscode-notebook-cell:/c%3A/Users/danie/Documents/GitHub/Python_Daniel_Claesson/CodeAlong/name_binding.ipynb#X23sZmlsZQ%3D%3D?line=0'>1</a>\u001b[0m \u001b[39mprint\u001b[39m(\u001b[39m'\u001b[39m\u001b[39mHello World\u001b[39m\u001b[39m'\u001b[39m) \u001b[39m# 'print' är ett namn som refererar till ett objekt\u001b[39;00m\n\u001b[0;32m      <a href='vscode-notebook-cell:/c%3A/Users/danie/Documents/GitHub/Python_Daniel_Claesson/CodeAlong/name_binding.ipynb#X23sZmlsZQ%3D%3D?line=2'>3</a>\u001b[0m \u001b[39mprint\u001b[39m \u001b[39m=\u001b[39m \u001b[39m5\u001b[39m\n\u001b[1;32m----> <a href='vscode-notebook-cell:/c%3A/Users/danie/Documents/GitHub/Python_Daniel_Claesson/CodeAlong/name_binding.ipynb#X23sZmlsZQ%3D%3D?line=3'>4</a>\u001b[0m \u001b[39mprint\u001b[39;49m(\u001b[39m'\u001b[39;49m\u001b[39mHello World\u001b[39;49m\u001b[39m'\u001b[39;49m)\n",
      "\u001b[1;31mTypeError\u001b[0m: 'int' object is not callable"
     ]
    }
   ],
   "source": [
    "print('Hello World') # 'print' är ett namn som refererar till ett objekt\n",
    "\n",
    "print = 5\n",
    "print('Hello World') # => felmeddelande"
   ]
  },
  {
   "cell_type": "code",
   "execution_count": 75,
   "metadata": {},
   "outputs": [
    {
     "name": "stdout",
     "output_type": "stream",
     "text": [
      "Hello World\n"
     ]
    }
   ],
   "source": [
    "del print # tar bort referensen som pekar på 5an\n",
    "print('Hello World')"
   ]
  },
  {
   "cell_type": "code",
   "execution_count": 79,
   "metadata": {},
   "outputs": [
    {
     "name": "stdout",
     "output_type": "stream",
     "text": [
      "kalle\n",
      "fredrik\n"
     ]
    }
   ],
   "source": [
    "def my_func():\n",
    "    x = 'kalle'\n",
    "    print(x)\n",
    "\n",
    "my_func()\n",
    "x = 'fredrik'\n",
    "print(x)\n",
    "\n",
    "\n",
    "# det lokala scopet är bara giltigt inne i funktionen."
   ]
  },
  {
   "cell_type": "markdown",
   "metadata": {},
   "source": [
    "[Länk till föreläsningen](https://ithogskolan.sharepoint.com/:v:/s/AI23/EYnW48AFFaRNjNnzRllsc5MBVfUra9KZtJ7rATXtFkJvDw?e=a7pmfd)\n",
    "- cirka 25:00\n",
    "- beskriver hurman kan skicka in referenser till andra funktioner som argument"
   ]
  },
  {
   "cell_type": "code",
   "execution_count": 23,
   "metadata": {},
   "outputs": [
    {
     "name": "stdout",
     "output_type": "stream",
     "text": [
      "hello world\n",
      "HELLO WORLD\n"
     ]
    }
   ],
   "source": [
    "def my_func(function, string): # function kommer referera till samma som 'print'\n",
    "    function(string)\n",
    "\n",
    "my_func(print, 'hello world') # vi kan skicka in referenser till andra funktoiner som parameter/argument i en annan funktion.\n",
    "\n",
    "def my_func1(function, string): # function kommer referera till samma som 'print'\n",
    "    return function(string)\n",
    "\n",
    "print(my_func1(str.upper, 'hello world'))"
   ]
  },
  {
   "cell_type": "code",
   "execution_count": 3,
   "metadata": {},
   "outputs": [
    {
     "name": "stdout",
     "output_type": "stream",
     "text": [
      "HELLO WORLD\n",
      "hello world\n",
      "Hello world\n",
      "Hello World\n"
     ]
    }
   ],
   "source": [
    "methods = [str.upper, str.lower, str.capitalize, str.title]\n",
    "\n",
    "for method in methods:\n",
    "    print(method('hello world'))"
   ]
  },
  {
   "cell_type": "markdown",
   "metadata": {},
   "source": [
    "- **map()** funktionen: tar referensen till en funktion och applicerar den på alla objekten i en lista.\n",
    "- 'float' är den funktion som man kallar på (referens till den funktionen)\n",
    "- str.upper appliceras på alla strängar i listan, med hjälp av map() funktionen"
   ]
  },
  {
   "cell_type": "code",
   "execution_count": 6,
   "metadata": {},
   "outputs": [
    {
     "name": "stdout",
     "output_type": "stream",
     "text": [
      "[23.5, 32.34, 1.0]\n",
      "['HELLO WORLD', 'DANIEL', 'ONE', 'COOL']\n"
     ]
    }
   ],
   "source": [
    "my_float = float(\"24.5\")\n",
    "\n",
    "list_of_floats = list(map(float, ['23.5','32.34','1']))\n",
    "print(list_of_floats)\n",
    "\n",
    "list_of_strings = list(map(str.upper, ['hello world','daniel','one','cool']))\n",
    "print(list_of_strings)\n"
   ]
  },
  {
   "cell_type": "code",
   "execution_count": 17,
   "metadata": {},
   "outputs": [
    {
     "data": {
      "text/plain": [
       "['kiwi', 'apple', 'orange', 'pineapple']"
      ]
     },
     "execution_count": 17,
     "metadata": {},
     "output_type": "execute_result"
    }
   ],
   "source": [
    "fruits = ['apple','kiwi','pineapple','orange']\n",
    "sorted(fruits, key=len) # skickar in en referens till den funktion som man anropar"
   ]
  },
  {
   "cell_type": "markdown",
   "metadata": {},
   "source": [
    "### Python passes funtion arguments by assigning to them\n",
    "- Parameters are names used in a function.\n",
    "- When calling a function we provide actual values to be used as the arguments of the function.\n",
    "- These values are assigned to the parameter names just as if an assignment statement has been used.\n",
    "- dvs. x är ett namn bundet till ett visst objekt, likaså y."
   ]
  },
  {
   "cell_type": "code",
   "execution_count": 87,
   "metadata": {},
   "outputs": [
    {
     "data": {
      "text/plain": [
       "13"
      ]
     },
     "execution_count": 87,
     "metadata": {},
     "output_type": "execute_result"
    }
   ],
   "source": [
    "def my_func(x, y):\n",
    "    return x + y\n",
    "\n",
    "my_func(8, 9)"
   ]
  },
  {
   "cell_type": "markdown",
   "metadata": {},
   "source": [
    "- When my_func is called (with arguments 8 and 9), the name x has 8 assigned to it and the name y has 9 assigned to it. That assignment works exactly the same as the simple assignment that we have been talking about. The name x and y are local to the function, so when the function returns, those names go away. (Remember: if the values they refer to are still referenced by other names, the values lives on as object.)\n",
    "- Just like every other assignment, mutable values can be passed into fucntions, and changes to the value will be visible through all of its names.\n",
    "- Objekten 8 och 9 kommer försvinna när funktionen jobbat klart (under förutsättning att inte andra namn pekar på de objekten)."
   ]
  },
  {
   "cell_type": "code",
   "execution_count": 4,
   "metadata": {},
   "outputs": [
    {
     "name": "stdout",
     "output_type": "stream",
     "text": [
      "Pelle\n",
      "Måns\n"
     ]
    }
   ],
   "source": [
    "def my_func(cat):\n",
    "    cat.name = 'Måns'\n",
    "\n",
    "cat_a = Cat('Pelle')\n",
    "print(cat_a.name)\n",
    "\n",
    "my_func(cat_a)\n",
    "print(cat_a.name)\n",
    "\n"
   ]
  },
  {
   "cell_type": "markdown",
   "metadata": {},
   "source": [
    "### Nedan funktion är väldigt bra för att förstå namebinding och lokala resp globala variabler:\n",
    "- rad 9: assignar en global variabel med namn my_list till värdet 9.\n",
    "- rad 11: kallar på funktion set_list med globala variabeln my_list med värdet ['E']. Lokalt tilldelas 'my_list' att peka på den lokala listan ['A','B','C']. Funktionen returnerar den lokala variabeln ['A','B','C'] som skrivs ut i print funktionen. I det globala scopet pekar dock my_list fortfarande på varibeln ['E'].\n",
    "- rad 12: den här funktionen tar globala variabeln my_list ['E'] som input och appendar ['D'] till den. Append-funktionen modifierar samma lista. Den pekar inte på ett annat objekt, som set_list funktionen gör.\n",
    "- Avgörande här är att ett list objekt är **mutable**, man kan lägga till saker i den.\n",
    "- **Regel:** Om ett objekt är mutable, och man ändrar värdet på det objektet, så kommer det reflekteras i alla namn som pekar på det objektet.\n",
    "- [Länk till inspelning](https://ithogskolan.sharepoint.com/:v:/s/AI23/EYnW48AFFaRNjNnzRllsc5MBVfUra9KZtJ7rATXtFkJvDw?e=a7pmfd)  \n",
    "- cirka 42:00 beskrivs nedan kod ingående och varför det blir som det blir"
   ]
  },
  {
   "cell_type": "code",
   "execution_count": 16,
   "metadata": {},
   "outputs": [
    {
     "name": "stdout",
     "output_type": "stream",
     "text": [
      "['E']\n",
      "['A', 'B', 'C']\n",
      "['E']\n",
      "['E', 'D']\n",
      "['E', 'D']\n"
     ]
    }
   ],
   "source": [
    "def set_list(list):\n",
    "    list = ['A','B','C'] # my_list pekar lokalt på en ny lista ['A','B','C']\n",
    "    return list\n",
    "\n",
    "def append_list(list):\n",
    "    list.append('D')\n",
    "    return list\n",
    "\n",
    "my_list = ['E']\n",
    "print(my_list) # ['E']\n",
    "print(set_list(my_list)) #['A','B','C']\n",
    "print(my_list) #I det globala scopet pekar my_list fortfarande på ['E']\n",
    "print(append_list(my_list)) # ['E','D'] \n",
    "print(my_list) # ['E','D'], append ändrar listan\n"
   ]
  }
 ],
 "metadata": {
  "kernelspec": {
   "display_name": "ithsprep",
   "language": "python",
   "name": "python3"
  },
  "language_info": {
   "codemirror_mode": {
    "name": "ipython",
    "version": 3
   },
   "file_extension": ".py",
   "mimetype": "text/x-python",
   "name": "python",
   "nbconvert_exporter": "python",
   "pygments_lexer": "ipython3",
   "version": "3.9.16"
  }
 },
 "nbformat": 4,
 "nbformat_minor": 2
}
