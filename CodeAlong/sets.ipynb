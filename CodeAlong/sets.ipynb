{
 "cells": [
  {
   "cell_type": "markdown",
   "metadata": {},
   "source": [
    "# Sets\n",
    "- Set items are unordered, unchangable (immutable), and do not allow duplicate values.\n",
    "- Item can not be accessed using indexing or slicing.\n",
    "- Set items can be of any data type, and can contain different data types.\n"
   ]
  },
  {
   "cell_type": "code",
   "execution_count": 9,
   "metadata": {},
   "outputs": [
    {
     "name": "stdout",
     "output_type": "stream",
     "text": [
      "len(a) = 5\n",
      "{1, 3, 4, 5, 10}\n",
      "{1, 3, 4, 5, 10, 12}\n",
      "{1, 3, 4, 5, 9, 10, 11, 12}\n",
      "{1, 3, 4, 5, 9, 11, 12}\n"
     ]
    }
   ],
   "source": [
    "# create empty set\n",
    "empty_set = set()\n",
    "\n",
    "# Create set with values\n",
    "a = {1, 3, 5, 3, 4, 10}\n",
    "\n",
    "# get nbr of items in set\n",
    "print(f\"{len(a) = }\")\n",
    "\n",
    "# print set\n",
    "print(a)\n",
    "\n",
    "# .add(), addera ett item till set\n",
    "a.add(12)\n",
    "print(a)\n",
    "\n",
    "# .update(), Slå ihop ett set med ett annat set\n",
    "a.update({9, 10, 11})\n",
    "print(a)\n",
    "\n",
    "# .discard()\n",
    "a.discard(10) # 10 kommer försvinna (remove element from set if it exist.)\n",
    "print(a)\n",
    "\n",
    "# .pop(), removes (random) item from set\n",
    "a.pop()"
   ]
  },
  {
   "cell_type": "markdown",
   "metadata": {},
   "source": [
    "### Ett enkelt sätt att ta bort duplicates ur en lista är att använda set."
   ]
  },
  {
   "cell_type": "code",
   "execution_count": 10,
   "metadata": {},
   "outputs": [
    {
     "name": "stdout",
     "output_type": "stream",
     "text": [
      "{'melon', 'äpple', 'kiwi', 'apelsin'}\n"
     ]
    }
   ],
   "source": [
    "fruits = ['äpple','äpple','kiwi','melon','apelsin']\n",
    "\n",
    "print(set(fruits))"
   ]
  },
  {
   "cell_type": "markdown",
   "metadata": {},
   "source": [
    "# Combining sets\n",
    "- Sets can be combined in several ways:\n",
    "- ***a.union(b)*** return a set that contains all items from both sets, all duplicates are removed. Alternativt a | b\n",
    "- ***a.intersection(b)***, returnerar det som finns i både a och b. Alternativt a & b\n",
    "- ***a.difference(b)***, returnerar det som finns i a men inte i b (unika för a)\n",
    "- ***b.difference(a)***, returnerar det som finns i b men inte i a (unika för b)\n",
    "- ***symmetric difference***, returnerar ett set som innehåller alla items från båda set'en, förutom de som finns i båda set'en."
   ]
  },
  {
   "cell_type": "code",
   "execution_count": 19,
   "metadata": {},
   "outputs": [
    {
     "name": "stdout",
     "output_type": "stream",
     "text": [
      "a = {1, 3, 4, 5, 9, 11, 12}\n",
      "b = {2, 4, 5, 6, 10, 11, 15}\n",
      "\n",
      "a.union(b) = {1, 2, 3, 4, 5, 6, 9, 10, 11, 12, 15}\n",
      "a.union(b, {23, 25}) = {1, 2, 3, 4, 5, 6, 9, 10, 11, 12, 15, 23, 25}\n",
      "a.intersection(b) = {11, 4, 5}\n",
      "a.intersection(b, c) = set()\n",
      "a.difference(b) = {1, 3, 12, 9}\n",
      "b.difference(a) = {2, 10, 6, 15}\n",
      "a.symmetric_difference(b) = {1, 2, 3, 6, 9, 10, 12, 15}\n"
     ]
    }
   ],
   "source": [
    "a = {1, 3, 4, 5, 9, 11, 12}\n",
    "b = {2, 4, 5, 6, 10, 11, 15}\n",
    "c = {2, 3}\n",
    "\n",
    "print(f\"{a = }\\n{b = }\\n\")\n",
    "\n",
    "print(f\"{a.union(b) = }\")\n",
    "print(f\"{a.union(b, {23, 25}) = }\") # man kan union flera set's samtidigt\n",
    "\n",
    "print(f\"{a.intersection(b) = }\")\n",
    "print(f\"{a.intersection(b, c) = }\")\n",
    "\n",
    "print(f\"{a.difference(b) = }\")\n",
    "print(f\"{b.difference(a) = }\")\n",
    "\n",
    "print(f\"{a.symmetric_difference(b) = }\")\n"
   ]
  }
 ],
 "metadata": {
  "kernelspec": {
   "display_name": "ithsprep",
   "language": "python",
   "name": "python3"
  },
  "language_info": {
   "codemirror_mode": {
    "name": "ipython",
    "version": 3
   },
   "file_extension": ".py",
   "mimetype": "text/x-python",
   "name": "python",
   "nbconvert_exporter": "python",
   "pygments_lexer": "ipython3",
   "version": "3.9.16"
  },
  "orig_nbformat": 4
 },
 "nbformat": 4,
 "nbformat_minor": 2
}
