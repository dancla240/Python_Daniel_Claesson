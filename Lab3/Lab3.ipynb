{
 "cells": [
  {
   "cell_type": "code",
   "execution_count": 19,
   "metadata": {},
   "outputs": [],
   "source": [
    "import Lab3_functions as fkn\n",
    "import Lab3_unit_test as test\n"
   ]
  },
  {
   "cell_type": "code",
   "execution_count": 20,
   "metadata": {},
   "outputs": [
    {
     "name": "stdout",
     "output_type": "stream",
     "text": [
      "rectangle1.area = 1\n",
      "rectangle1.x = 1\n",
      "rectangle1.y = 1\n",
      "rectangle1.x = 2\n",
      "rectangle1.y = 2\n",
      "rectangle1.circumference = 4\n",
      "rectangle1.is_quadratic() = True\n",
      "rectangle2 == rectangle1 = True\n",
      "rectangle3 == rectangle1 = False\n",
      "rectangle3.is_quadratic() = False\n",
      "circle1.circumference = 6.283185307179586\n",
      "circle1.area = 3.141592653589793\n",
      "circle1.is_inside(0,0) = True\n",
      "circle1.is_inside(1,1) = False\n",
      "circle1.is_inside(1,0) = False\n",
      "circle1.is_inside(0.5,0.5) = True\n",
      "circle1.is_inside(0.9999,0) = True\n",
      "circle1.is_unitcircle() = True\n",
      "circle1.x = 0\n",
      "circle1.y = 0\n",
      "circle1.x = 1\n",
      "circle1.y = 1\n"
     ]
    }
   ],
   "source": [
    "rectangle1 = fkn.Rectangle(1,1,1,1)\n",
    "print(f'{rectangle1.area = }')\n",
    "print(f'{rectangle1.x = }')\n",
    "print(f'{rectangle1.y = }')\n",
    "rectangle1.translation(1,1)\n",
    "print(f'{rectangle1.x = }')\n",
    "print(f'{rectangle1.y = }')\n",
    "print(f'{rectangle1.circumference = }')\n",
    "print(f'{rectangle1.is_quadratic() = }')\n",
    "\n",
    "rectangle2 = fkn.Rectangle(1,1,1,1)\n",
    "print(f'{rectangle2 == rectangle1 = }')\n",
    "\n",
    "rectangle3 = fkn.Rectangle(2,2,1,2)\n",
    "print(f'{rectangle3 == rectangle1 = }')\n",
    "print(f'{rectangle3.is_quadratic() = }')\n",
    "\n",
    "\n",
    "\n",
    "circle1 = fkn.Circle(0,0,1)\n",
    "print(f'{circle1.circumference = }')\n",
    "print(f'{circle1.area = }')\n",
    "print(f'{circle1.is_inside(0,0) = }')\n",
    "print(f'{circle1.is_inside(1,1) = }')\n",
    "print(f'{circle1.is_inside(1,0) = }')\n",
    "print(f'{circle1.is_inside(0.5,0.5) = }')\n",
    "print(f'{circle1.is_inside(0.9999,0) = }')\n",
    "print(f'{circle1.is_unitcircle() = }')\n",
    "print(f'{circle1.x = }')\n",
    "print(f'{circle1.y = }')\n",
    "circle1.translation(1,1)\n",
    "print(f'{circle1.x = }')\n",
    "print(f'{circle1.y = }')\n",
    "\n",
    "\n",
    "\n",
    "\n",
    "\n"
   ]
  },
  {
   "cell_type": "code",
   "execution_count": 21,
   "metadata": {},
   "outputs": [
    {
     "name": "stdout",
     "output_type": "stream",
     "text": [
      "rectangle1.is_quadratic() = True\n"
     ]
    }
   ],
   "source": [
    "import Lab3_functions as fkn\n",
    "import Lab3_unit_test as test\n",
    "\n",
    "rectangle1 = fkn.Rectangle(1,1,1,1)\n",
    "print(f'{rectangle1.is_quadratic() = }')"
   ]
  },
  {
   "cell_type": "code",
   "execution_count": 25,
   "metadata": {},
   "outputs": [
    {
     "name": "stdout",
     "output_type": "stream",
     "text": [
      "__str__ :\n",
      "x = 1\n",
      "y = 1\n",
      "side1 = 1\n",
      "side2 = 1\n",
      "area = 1\n",
      "__str__ :\n",
      "x = 1\n",
      "y = 1\n",
      "side1 = 1\n",
      "side2 = 1\n",
      "area = 1\n",
      "__str__ :\n",
      "x = 2\n",
      "y = 2\n",
      "side1 = 1\n",
      "side2 = 2\n",
      "area = 2\n"
     ]
    }
   ],
   "source": [
    "print(rectangle1)\n",
    "print(rectangle2)\n",
    "print(rectangle3.__str__)"
   ]
  }
 ],
 "metadata": {
  "kernelspec": {
   "display_name": "ithsprep",
   "language": "python",
   "name": "python3"
  },
  "language_info": {
   "codemirror_mode": {
    "name": "ipython",
    "version": 3
   },
   "file_extension": ".py",
   "mimetype": "text/x-python",
   "name": "python",
   "nbconvert_exporter": "python",
   "pygments_lexer": "ipython3",
   "version": "3.9.16"
  }
 },
 "nbformat": 4,
 "nbformat_minor": 2
}
