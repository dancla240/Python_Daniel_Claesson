{
 "cells": [
  {
   "cell_type": "code",
   "execution_count": 5,
   "metadata": {},
   "outputs": [],
   "source": [
    "import Lab3_functions as fkn\n",
    "import Lab3_unit_test as test\n"
   ]
  },
  {
   "cell_type": "code",
   "execution_count": 8,
   "metadata": {},
   "outputs": [
    {
     "name": "stdout",
     "output_type": "stream",
     "text": [
      "rectangle1.area = 1\n",
      "rectangle1.x = 1\n",
      "rectangle1.y = 1\n",
      "rectangle1.circumference = 4\n",
      "rectangle1.is_quadratic = <bound method Rectangle.is_quadratic of __repr__ :\\nx = 1\\ny = 1\\nside1 = 1\\nside2 = 1\\narea = 1>\n",
      "rectangle2 == rectangle1 = True\n",
      "rectangle2 == rectangle1 = True\n",
      "circle1.circumference = 6.283185307179586\n",
      "circle1.area = 3.141592653589793\n",
      "circle1.is_inside(0,0) = True\n",
      "circle1.is_inside(1,1) = False\n",
      "circle1.is_inside(1,0) = False\n",
      "circle1.is_inside(0.5,0.5) = True\n",
      "circle1.is_inside(0.9999,0) = True\n",
      "circle1.is_unitcircle = <bound method Circle.is_unitcircle of __repr__ :\\nx = 0\\ny = 0\\nradius = 1\\narea = 3.141592653589793>\n"
     ]
    }
   ],
   "source": [
    "rectangle1 = fkn.Rectangle(1,1,1,1)\n",
    "print(f'{rectangle1.area = }')\n",
    "print(f'{rectangle1.x = }')\n",
    "print(f'{rectangle1.y = }')\n",
    "print(f'{rectangle1.circumference = }')\n",
    "print(f'{rectangle1.is_quadratic = }')\n",
    "\n",
    "rectangle2 = fkn.Rectangle(1,1,1,1)\n",
    "print(f'{rectangle2 == rectangle1 = }')\n",
    "\n",
    "rectangel3 = fkn.Rectangle(2,2,1,1)\n",
    "print(f'{rectangle2 == rectangle1 = }')\n",
    "\n",
    "circle1 = fkn.Circle(0,0,1)\n",
    "print(f'{circle1.circumference = }')\n",
    "print(f'{circle1.area = }')\n",
    "print(f'{circle1.is_inside(0,0) = }')\n",
    "print(f'{circle1.is_inside(1,1) = }')\n",
    "print(f'{circle1.is_inside(1,0) = }')\n",
    "print(f'{circle1.is_inside(0.5,0.5) = }')\n",
    "print(f'{circle1.is_inside(0.9999,0) = }')\n",
    "print(f'{circle1.is_unitcircle = }')\n",
    "\n",
    "\n",
    "\n"
   ]
  },
  {
   "cell_type": "code",
   "execution_count": 3,
   "metadata": {},
   "outputs": [
    {
     "name": "stdout",
     "output_type": "stream",
     "text": [
      "rectangle1.is_quadratic = <bound method Rectangle.is_quadratic of __repr__ :\\nx = 1\\ny = 1\\nside1 = 1\\nside2 = 1\\narea = 1>\n"
     ]
    }
   ],
   "source": [
    "import Lab3_functions as fkn\n",
    "import Lab3_unit_test as test\n",
    "\n",
    "rectangle1 = fkn.Rectangle(1,1,1,1)\n",
    "print(f'{rectangle1.is_quadratic = }')"
   ]
  }
 ],
 "metadata": {
  "kernelspec": {
   "display_name": "ithsprep",
   "language": "python",
   "name": "python3"
  },
  "language_info": {
   "codemirror_mode": {
    "name": "ipython",
    "version": 3
   },
   "file_extension": ".py",
   "mimetype": "text/x-python",
   "name": "python",
   "nbconvert_exporter": "python",
   "pygments_lexer": "ipython3",
   "version": "3.9.16"
  }
 },
 "nbformat": 4,
 "nbformat_minor": 2
}
