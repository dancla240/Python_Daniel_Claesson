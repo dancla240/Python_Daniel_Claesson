{
 "cells": [
  {
   "cell_type": "code",
   "execution_count": 2,
   "metadata": {},
   "outputs": [],
   "source": [
    "import Lab3_functions as fkn"
   ]
  },
  {
   "cell_type": "code",
   "execution_count": 3,
   "metadata": {},
   "outputs": [
    {
     "name": "stdout",
     "output_type": "stream",
     "text": [
      "rectangle1.area = 1\n",
      "rectangle1.x = 1\n",
      "rectangle1.y = 1\n",
      "rectangle1.x = 2\n",
      "rectangle1.y = 2\n",
      "rectangle1.circumference = 4\n",
      "rectangle1.is_quadratic() = True\n",
      "rectangle2 == rectangle1 = True\n",
      "rectangle3 == rectangle1 = False\n",
      "rectangle3.is_quadratic() = False\n",
      "circle1.circumference = 6.283185307179586\n",
      "circle1.area = 3.141592653589793\n",
      "circle1.is_inside(0,0) = True\n",
      "circle1.is_inside(1,1) = False\n",
      "circle1.is_inside(1,0) = False\n",
      "circle1.is_inside(0.5,0.5) = True\n",
      "circle1.is_inside(0.9999,0) = True\n",
      "circle1.is_unitcircle() = True\n",
      "circle1.x = 0\n",
      "circle1.y = 0\n",
      "circle1.x = 1\n",
      "circle1.y = 1\n",
      "Allowed inputs are integers or floats.\n"
     ]
    }
   ],
   "source": [
    "rectangle1 = fkn.Rectangle(1,1,1,1)\n",
    "print(f'{rectangle1.area = }')\n",
    "print(f'{rectangle1.x = }')\n",
    "print(f'{rectangle1.y = }')\n",
    "rectangle1.translation(1,1)\n",
    "print(f'{rectangle1.x = }')\n",
    "print(f'{rectangle1.y = }')\n",
    "print(f'{rectangle1.circumference = }')\n",
    "print(f'{rectangle1.is_quadratic() = }')\n",
    "\n",
    "rectangle2 = fkn.Rectangle(1,1,1,1)\n",
    "print(f'{rectangle2 == rectangle1 = }')\n",
    "\n",
    "rectangle3 = fkn.Rectangle(2,2,1,2)\n",
    "print(f'{rectangle3 == rectangle1 = }')\n",
    "print(f'{rectangle3.is_quadratic() = }')\n",
    "\n",
    "circle1 = fkn.Circle(0,0,1)\n",
    "print(f'{circle1.circumference = }')\n",
    "print(f'{circle1.area = }')\n",
    "print(f'{circle1.is_inside(0,0) = }')\n",
    "print(f'{circle1.is_inside(1,1) = }')\n",
    "print(f'{circle1.is_inside(1,0) = }')\n",
    "print(f'{circle1.is_inside(0.5,0.5) = }')\n",
    "print(f'{circle1.is_inside(0.9999,0) = }')\n",
    "print(f'{circle1.is_unitcircle() = }')\n",
    "print(f'{circle1.x = }')\n",
    "print(f'{circle1.y = }')\n",
    "circle1.translation(1,1)\n",
    "print(f'{circle1.x = }')\n",
    "print(f'{circle1.y = }')\n",
    "try:\n",
    "    circle4 = fkn.Circle('noll',0,1)\n",
    "except TypeError as e:\n",
    "    print(e)\n"
   ]
  },
  {
   "cell_type": "code",
   "execution_count": 4,
   "metadata": {},
   "outputs": [
    {
     "name": "stdout",
     "output_type": "stream",
     "text": [
      "rectangle1.is_quadratic() = True\n"
     ]
    }
   ],
   "source": [
    "import Lab3_functions as fkn\n",
    "\n",
    "rectangle1 = fkn.Rectangle(1,1,1,1)\n",
    "print(f'{rectangle1.is_quadratic() = }')"
   ]
  },
  {
   "cell_type": "code",
   "execution_count": 5,
   "metadata": {},
   "outputs": [
    {
     "name": "stdout",
     "output_type": "stream",
     "text": [
      "__str__ :\n",
      "x = 1\n",
      "y = 1\n",
      "side1 = 1\n",
      "side2 = 1\n",
      "area = 1\n",
      "circumference = 4\n",
      "is quadratic = True\n",
      "\n",
      "__str__ :\n",
      "x = 1\n",
      "y = 1\n",
      "side1 = 1\n",
      "side2 = 1\n",
      "area = 1\n",
      "circumference = 4\n",
      "is quadratic = True\n",
      "\n",
      "<bound method Rectangle.__str__ of __repr__ :\n",
      "x = 1\n",
      "y = 1\n",
      "side1 = 1\n",
      "side2 = 1\n",
      "area = 1\n",
      "circumference = 4\n",
      "is quadratic = True>\n",
      "\n",
      "_str_ :\n",
      "x = 1\n",
      "y = 1\n",
      "radius = 1\n",
      "area = 3.141592653589793\n",
      "circumference = 6.283185307179586\n",
      "is unitcircle = False\n",
      "\n"
     ]
    },
    {
     "ename": "NameError",
     "evalue": "name 'circle4' is not defined",
     "output_type": "error",
     "traceback": [
      "\u001b[1;31m---------------------------------------------------------------------------\u001b[0m",
      "\u001b[1;31mNameError\u001b[0m                                 Traceback (most recent call last)",
      "\u001b[1;32mc:\\Users\\danie\\Documents\\GitHub\\Python_Daniel_Claesson\\Lab3\\Lab3.ipynb Cell 4\u001b[0m line \u001b[0;36m<cell line: 9>\u001b[1;34m()\u001b[0m\n\u001b[0;32m      <a href='vscode-notebook-cell:/c%3A/Users/danie/Documents/GitHub/Python_Daniel_Claesson/Lab3/Lab3.ipynb#W3sZmlsZQ%3D%3D?line=6'>7</a>\u001b[0m \u001b[39mprint\u001b[39m(circle1)\n\u001b[0;32m      <a href='vscode-notebook-cell:/c%3A/Users/danie/Documents/GitHub/Python_Daniel_Claesson/Lab3/Lab3.ipynb#W3sZmlsZQ%3D%3D?line=7'>8</a>\u001b[0m \u001b[39mprint\u001b[39m()\n\u001b[1;32m----> <a href='vscode-notebook-cell:/c%3A/Users/danie/Documents/GitHub/Python_Daniel_Claesson/Lab3/Lab3.ipynb#W3sZmlsZQ%3D%3D?line=8'>9</a>\u001b[0m \u001b[39mprint\u001b[39m(circle4)\n",
      "\u001b[1;31mNameError\u001b[0m: name 'circle4' is not defined"
     ]
    }
   ],
   "source": [
    "print(rectangle1)\n",
    "print()\n",
    "print(rectangle2)\n",
    "print()\n",
    "print(rectangle2.__str__)\n",
    "print()\n",
    "print(circle1)\n",
    "print()\n",
    "print(circle4)"
   ]
  },
  {
   "cell_type": "code",
   "execution_count": 9,
   "metadata": {},
   "outputs": [
    {
     "name": "stdout",
     "output_type": "stream",
     "text": [
      "_str_ :\n",
      "x = 0.0\n",
      "y = 0\n",
      "radius = 1\n",
      "area = 3.141592653589793\n",
      "circumference = 6.283185307179586\n",
      "is unitcircle = True\n"
     ]
    }
   ],
   "source": [
    "import Lab3_functions as fkn\n",
    "\n",
    "# try:\n",
    "#     circle5 = fkn.Circle(1,1,-1)\n",
    "# except TypeError as e:\n",
    "#     print(e)\n",
    "# except ValueError as e:\n",
    "#     print(e)\n",
    "\n",
    "\n",
    "try:\n",
    "    circle6 = fkn.Circle(0.0000,0,1)\n",
    "except TypeError as e:\n",
    "    print(e)\n",
    "\n",
    "    \n",
    "print(circle6)"
   ]
  },
  {
   "cell_type": "code",
   "execution_count": null,
   "metadata": {},
   "outputs": [],
   "source": [
    "import Lab3_functions as fkn\n",
    "circle7 = fkn.Circle(0,0,1)\n",
    "print(circle7)\n",
    "print()\n",
    "\n",
    "circle7.translation(-1,-1)\n",
    "print(circle7)\n",
    "print()\n",
    "circle7.translation(1,'one')\n",
    "print(circle7)"
   ]
  },
  {
   "cell_type": "code",
   "execution_count": 5,
   "metadata": {},
   "outputs": [
    {
     "data": {
      "text/plain": [
       "True"
      ]
     },
     "execution_count": 5,
     "metadata": {},
     "output_type": "execute_result"
    }
   ],
   "source": [
    "import Lab3_functions as fkn\n",
    "\n",
    "circle1 = fkn.Circle(0,0,2)\n",
    "circle2 = fkn.Circle(1,1,2)\n",
    "circle3 = fkn.Circle(0,0,2)\n",
    "circle4 = fkn.Circle(1,1,3)\n",
    "\n",
    "circle1 == circle2"
   ]
  },
  {
   "cell_type": "code",
   "execution_count": 8,
   "metadata": {},
   "outputs": [
    {
     "name": "stdout",
     "output_type": "stream",
     "text": [
      "0\n",
      "1\n",
      "-1\n",
      "-1\n",
      "2\n"
     ]
    }
   ],
   "source": [
    "import Lab3_functions as fkn\n",
    "\n",
    "circle1 = fkn.Circle(0,0,2)\n",
    "circle2 = fkn.Circle(1,1,2)\n",
    "circle3 = fkn.Circle(0,0,2)\n",
    "circle4 = fkn.Circle(1,1,3)\n",
    "\n",
    "circle1 > circle2\n",
    "print(circle1.x)\n",
    "print(circle2.y)\n",
    "\n",
    "circle = fkn.Circle(0,0,1)\n",
    "circle.translation(-1,-1)\n",
    "print(circle.x)\n",
    "print(circle.y)\n",
    "\n",
    "circle.x = 2\n",
    "print(circle.x)\n",
    "\n",
    "# print(circle1 > 2) # funkar inte för ett int objekt har ingen area"
   ]
  },
  {
   "cell_type": "code",
   "execution_count": 12,
   "metadata": {},
   "outputs": [
    {
     "data": {
      "image/png": "[encoded data removed]",
      "text/plain": [
       "<Figure size 640x480 with 1 Axes>"
      ]
     },
     "metadata": {},
     "output_type": "display_data"
    }
   ],
   "source": [
    "import matplotlib.pyplot as plt\n",
    "from matplotlib.patches import Rectangle\n",
    "import Lab3_functions as fkn\n",
    "\n",
    "circles = [fkn.Circle(1,1,1), fkn.Circle(2,3,1.5)]\n",
    "rectangles = [fkn.Rectangle(3,3,1,2.5),(fkn.Rectangle(-2,2.5,1,2))]\n",
    "\n",
    "fig, ax = plt.subplots()\n",
    "\n",
    "for circle in circles:\n",
    "    circle = plt.Circle((circle.x, circle.y), circle.radius, color='r', fill=False)\n",
    "    ax.add_patch(circle)\n",
    "\n",
    "for rectangle in rectangles:\n",
    "    ax.add_patch(Rectangle((rectangle.x, rectangle.y), rectangle.side1, rectangle.side2, fill=False))\n",
    "\n",
    "\n",
    "ax.set_xlim((-10, 10))\n",
    "ax.set_ylim((-10, 10))\n",
    "ax.grid()\n",
    "\n"
   ]
  }
 ],
 "metadata": {
  "kernelspec": {
   "display_name": "ithsprep",
   "language": "python",
   "name": "python3"
  },
  "language_info": {
   "codemirror_mode": {
    "name": "ipython",
    "version": 3
   },
   "file_extension": ".py",
   "mimetype": "text/x-python",
   "name": "python",
   "nbconvert_exporter": "python",
   "pygments_lexer": "ipython3",
   "version": "3.11.5"
  }
 },
 "nbformat": 4,
 "nbformat_minor": 2
}
