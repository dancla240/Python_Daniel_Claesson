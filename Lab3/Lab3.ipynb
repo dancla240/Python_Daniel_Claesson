{
 "cells": [
  {
   "cell_type": "markdown",
   "metadata": {},
   "source": [
    "### Lab3 "
   ]
  },
  {
   "cell_type": "markdown",
   "metadata": {},
   "source": [
    "#### Evaluating the functionality:"
   ]
  },
  {
   "cell_type": "code",
   "execution_count": 53,
   "metadata": {},
   "outputs": [
    {
     "name": "stdout",
     "output_type": "stream",
     "text": [
      "circle1.is_unitcircle() = True\n",
      "circle1 == circle2 = True\n",
      "circle2 == rectangle1 = False\n",
      "circle1.is_inside(0.5,0.5) = True\n",
      "Translate circle1 (5,5)\n",
      "circle1.x = 5 and circle1.y = 5\n",
      "circle1.is_unitcircle() = False\n",
      "circle1.is_inside(0.5,0.5) = False\n",
      "rectangle1.area = 1\n",
      "rectangle1.circumference = 4\n",
      "circle1.area = 3.141592653589793\n",
      "circle1.circumference = 6.283185307179586\n"
     ]
    }
   ],
   "source": [
    "from circle import Circle\n",
    "from rectangle import Rectangle\n",
    "\n",
    "circle1 = Circle(x=0,y=0,radius=1) #enhtetscirkel\n",
    "circle2 = Circle(x=1,y=1,radius=1)\n",
    "rectangle1 = Rectangle(x=0, y=1,side1=1, side2=1)\n",
    "\n",
    "print(f'{circle1.is_unitcircle() = }')\n",
    "print(f'{circle1 == circle2 = }') # True\n",
    "print(f'{circle2 == rectangle1 = }') # False\n",
    "print(f'{circle1.is_inside(0.5,0.5) = }') # True\n",
    "print('Translate circle1 (5,5)')\n",
    "circle1.translation(5,5)\n",
    "print(f'{circle1.x = } and {circle1.y = }')\n",
    "print(f'{circle1.is_unitcircle() = }') # False\n",
    "print(f'{circle1.is_inside(0.5,0.5) = }') # False\n",
    "#circle1.translation('tre',1) # raise TypeError\n",
    "print(f'{rectangle1.area = }') # 1\n",
    "print(f'{rectangle1.circumference = }') # 4\n",
    "print(f'{circle1.area = }')\n",
    "print(f'{circle1.circumference = }')\n"
   ]
  },
  {
   "cell_type": "markdown",
   "metadata": {},
   "source": [
    "#### Plotting 2D figures"
   ]
  },
  {
   "cell_type": "code",
   "execution_count": 57,
   "metadata": {},
   "outputs": [
    {
     "data": {
      "image/png": "[encoded data removed]",
      "text/plain": [
       "<Figure size 640x480 with 1 Axes>"
      ]
     },
     "metadata": {},
     "output_type": "display_data"
    }
   ],
   "source": [
    "import matplotlib.pyplot as plt\n",
    "from matplotlib.patches import Rectangle\n",
    "from circle import Circle\n",
    "from rectangle import Rectangle as Rctngl # rename in import to avoid confusion with the other Rectangle\n",
    "\n",
    "circles = [Circle(0,0,1), Circle(2,3,1.5)]\n",
    "rectangles = [Rctngl(0,0,5,2),(Rctngl(2.5,2.5,2.5,2.5)), Rctngl(15,13,2,4)]\n",
    "\n",
    "fig, ax = plt.subplots()\n",
    "\n",
    "for circle in circles:\n",
    "    circle = plt.Circle((circle.x, circle.y), circle.radius, color='r', fill=False)\n",
    "    ax.add_patch(circle)\n",
    "\n",
    "for rectangle in rectangles:\n",
    "    ax.add_patch(Rectangle((rectangle.x - rectangle.side1/2, rectangle.y-rectangle.side2/2), rectangle.side1, rectangle.side2, fill=False)) # compensating for the fact that matplotlib has a different reference point for where the rectangle \"starts\" by subtracting half of each side from the x and y coordinates.\n",
    "\n",
    "ax.autoscale()\n",
    "ax.grid()"
   ]
  }
 ],
 "metadata": {
  "kernelspec": {
   "display_name": "ithsprep",
   "language": "python",
   "name": "python3"
  },
  "language_info": {
   "codemirror_mode": {
    "name": "ipython",
    "version": 3
   },
   "file_extension": ".py",
   "mimetype": "text/x-python",
   "name": "python",
   "nbconvert_exporter": "python",
   "pygments_lexer": "ipython3",
   "version": "3.9.16"
  }
 },
 "nbformat": 4,
 "nbformat_minor": 2
}
