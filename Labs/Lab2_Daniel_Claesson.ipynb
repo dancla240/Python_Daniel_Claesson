{
 "cells": [
  {
   "cell_type": "markdown",
   "metadata": {},
   "source": [
    "# Lab 2 Daniel Claesson\n",
    "\n",
    "Links to material I found useful in this lab:\n",
    "- [Geeks for Geeks, working with csv files](https://www.geeksforgeeks.org/working-csv-files-python/)\n",
    "- [Pyhton doc, reading and writing files](https://docs.python.org/3/tutorial/inputoutput.html#reading-and-writing-files)\n",
    "- [Programiz, python list count](https://www.programiz.com/python-programming/methods/list/count)\n",
    "- [Stackoverflow, sort list based on another list](https://stackoverflow.com/questions/6618515/sorting-list-according-to-corresponding-values-from-a-parallel-list)\n",
    "- [nkmk.me, How to return multiple values from function](https://note.nkmk.me/en/python-function-return-multiple-values/)\n"
   ]
  },
  {
   "cell_type": "markdown",
   "metadata": {},
   "source": [
    "**read_traingdata** funktionen:\n",
    "- Läser in trainingdatan direkt från .txt-filen, baserat på filepath input\n",
    "- Gör om strings till floats, tar bort white_spaces etc.\n",
    "- Returnerar en list of lists: [[width],[height],[label]]"
   ]
  },
  {
   "cell_type": "code",
   "execution_count": 1,
   "metadata": {},
   "outputs": [],
   "source": [
    "import matplotlib.pyplot as plt\n",
    "import math\n",
    "\n",
    "def read_trainingdata(filepath):\n",
    "    \"\"\"Returns list of list with width, heigh and label values.\"\"\"\n",
    "    file = open(filepath)\n",
    "    content = []\n",
    "    width = []\n",
    "    height = []\n",
    "    label = []\n",
    "\n",
    "    for times in range(151):\n",
    "        content.append(file.readline())\n",
    "\n",
    "    content2 = []\n",
    "\n",
    "    for item in content:\n",
    "        content2.append(item.split(','))\n",
    "\n",
    "    del content2[0]\n",
    "\n",
    "    for item in content2:\n",
    "        item[0] = float(item[0])\n",
    "        item[1] = item[1].strip()\n",
    "        item[1] = float(item[1])\n",
    "        item[2] = item[2].strip()\n",
    "        item[2] = item[2].replace('\\n','')\n",
    "        item[2] = int(item[2])\n",
    "        width.append(item[0])\n",
    "        height.append(item[1])\n",
    "        label.append(item[2])\n",
    "\n",
    "    returnlist = []\n",
    "    returnlist.append(width)\n",
    "    returnlist.append(height)\n",
    "    returnlist.append(label)\n",
    "\n",
    "    return returnlist\n",
    "\n",
    "TD = read_trainingdata(\"..\\Data\\datapoints.txt\")"
   ]
  },
  {
   "cell_type": "markdown",
   "metadata": {},
   "source": [
    "**plot_trainingdata** funktionen:\n",
    "- plottar träningsdatan för varje sample"
   ]
  },
  {
   "cell_type": "code",
   "execution_count": 2,
   "metadata": {},
   "outputs": [
    {
     "data": {
      "image/png": "[encoded data removed]",
      "text/plain": [
       "<Figure size 640x480 with 1 Axes>"
      ]
     },
     "metadata": {},
     "output_type": "display_data"
    }
   ],
   "source": [
    "def plot_trainingdata(width, height, label=None):\n",
    "    \"\"\"Plots all training data\"\"\"\n",
    "    for idx in range(len(label)):\n",
    "        if label[idx] == 1:\n",
    "            plt.scatter(width[idx], height[idx], color = 'blue')\n",
    "        elif label[idx] == 0:\n",
    "            plt.scatter(width[idx], height[idx], color = 'red')\n",
    "        else: break\n",
    "    \n",
    "    plt.title(\"Training Data\")\n",
    "\n",
    "plot_trainingdata(TD[0], TD[1], TD[2])"
   ]
  },
  {
   "cell_type": "markdown",
   "metadata": {},
   "source": [
    "**read_sampledata* funktionen:\n",
    "- läser in sample datan från filen"
   ]
  },
  {
   "cell_type": "code",
   "execution_count": null,
   "metadata": {},
   "outputs": [],
   "source": [
    "def read_sampledata(filepath):\n",
    "    \"\"\"to be done\"\"\""
   ]
  },
  {
   "cell_type": "markdown",
   "metadata": {},
   "source": [
    "**Classifier** funktionen:\n",
    "- tar en sample punkts coordinater som inputargument\n",
    "- beräknar distansen mellan sample punkt och träningsdatans alla punkter\n",
    "- identifirerar närmsta träningsdata punkt\n",
    "- klassificerar Pichu / Pikatchu, beroende på närmsta punkts \"label\"\n",
    "- Returnerar en sträng med resultatet"
   ]
  },
  {
   "cell_type": "code",
   "execution_count": 26,
   "metadata": {},
   "outputs": [
    {
     "name": "stdout",
     "output_type": "stream",
     "text": [
      "Pikachu\n",
      "[2.863887146011727, 2.8226726328579033, 5.128648866510755, 0.9425154473329383, 3.9616803118468753, 3.3270283969414813, 2.910494162327709, 4.346797914607481, 3.6006053899171513, 2.1409029979048246, 3.990633837544592, 2.8467342860656735, 3.2112901746802405, 0.7356414589289225, 2.503484779215438, 4.628424947267023, 0.9665533906262109, 3.8454955625518927, 2.2762302691930723, 6.690328248899948, 3.961325917167389, 4.564749046039261, 4.571901787102698, 2.967248839768492, 1.5041610547291273, 4.43556544535449, 3.1668447932844708, 3.598509763051595, 3.9412039201784532, 5.7306895149663095, 4.521042092994801, 3.090738091680356, 4.484493984979912, 2.880556475852964, 1.6043763017337282, 2.033849209630682, 4.651584759628447, 2.070021659565525, 3.5283571101305293, 2.6393741587224437, 2.224438242124345, 4.550083590478143, 3.8051284325456547, 2.122333724969398, 1.9694451130046664, 3.352024085079663, 2.2517339393750717, 1.8943661860977283, 2.9117085741116338, 2.7545143251843913, 3.805617309837781, 2.1444260519169567, 3.4476030358520444, 1.8406303647338018, 4.310438108778939, 2.532211415663961, 0.7652473456028935, 3.135376722211801, 3.262252378149119, 0.5907061821091957, 3.9406813456044083, 4.45790558181971, 2.9645698944692818, 3.659918586125064, 1.8729576682834344, 2.537061140601456, 3.676263806500723, 4.148459768133078, 2.429246111778374, 4.1499667180323705, 3.14981903044134, 3.211636140849804, 3.976027192618883, 3.2942367788014457, 2.5984971698908845, 3.2614320181167167, 3.057702198454812, 2.6733277731001883, 2.4356342674817406, 2.1170350446437194, 2.713833866052974, 2.857325836823944, 0.7629070174581529, 3.0322519119098477, 4.544535236956568, 2.891121765713595, 3.4965761920142344, 1.09486516734885, 4.458712530009364, 2.004285989208086, 3.2423621084527032, 3.983775458831769, 2.0976357988326715, 4.548492481468581, 3.6456990147272825, 2.639213237102485, 3.4020045977286877, 2.7347393244437366, 2.5611015870261253, 2.4387319743985905, 4.231321178842722, 4.936083548273302, 2.771480724345454, 3.5653250231713756, 5.53631952733697, 3.096220405660141, 4.336185022688038, 1.5135568492708051, 2.8134188253999253, 2.6865495225410485, 1.5766684228216883, 3.4574715924788664, 3.033235274326823, 1.5895301847526446, 3.309217311217017, 2.241102540807448, 2.3081843249156, 7.318444979367513, 3.107545355900815, 3.340148128759686, 3.745119749287009, 3.230237948474541, 3.5119184454696675, 4.910156157878897, 2.7622190593353775, 6.262745255676386, 2.6790902341480747, 5.218697150717894, 2.8250064347442585, 1.7876506662802747, 1.2071835294093418, 2.8044707863193135, 2.6865110042815386, 2.5710313242838074, 2.8668524287185075, 2.929324110516048, 3.3930021520290414, 1.346168813304451, 1.7540202999603058, 4.372692122433115, 1.590834767315687, 2.4942975317169545, 3.326253735735379, 2.5233459482282656, 4.497051442902522, 3.5494900160811933, 2.1724091531210545, 4.533527513580581, 0.46724125192735977, 1.3824730317988352]\n",
      "150\n"
     ]
    }
   ],
   "source": [
    "def classifier(coordinates):\n",
    "    \"\"\"Use nearest neighbour classification to identify\n",
    "    between Pikachu and Pichu, based on sample data coordinates.\n",
    "    Coordinates to be given on format [x1, y1], a list.\"\"\"\n",
    "    TD_width = TD[0] # x\n",
    "    TD_height = TD[1] # y\n",
    "    TD_label = TD[2] # label\n",
    "    dist = []\n",
    "    for idx in range(len(TD_label)):\n",
    "        d = math.sqrt((TD_width[idx] - coordinates[0])**2 + (TD_height[idx] - coordinates[1])**2)\n",
    "        dist.append(d)\n",
    "    \n",
    "    #finding index of the minimum distance, in \"dist\" list\n",
    "    idx_min_dist = dist.index(min(dist))\n",
    "\n",
    "    if TD_label[idx_min_dist] == 0:\n",
    "        pokemon = \"Pichu\"\n",
    "    elif TD_label[idx_min_dist] == 1:\n",
    "        pokemon = \"Pikachu\"\n",
    "    \n",
    "    return pokemon, dist # https://note.nkmk.me/en/python-function-return-multiple-values/\n",
    "        \n",
    "pokemon, TD_dist = classifier([22.1, 34.1])\n",
    "\n",
    "print(pokemon)\n",
    "print(TD_dist)\n",
    "print(len(TD_dist))    "
   ]
  },
  {
   "cell_type": "markdown",
   "metadata": {},
   "source": [
    "**classifier10** funktionen baserar analysen på de 10 närmaste grannarna."
   ]
  },
  {
   "cell_type": "code",
   "execution_count": 51,
   "metadata": {},
   "outputs": [
    {
     "name": "stdout",
     "output_type": "stream",
     "text": [
      "[1, 1, 1, 1, 0, 1, 1, 0, 1, 1]\n",
      "Pikachu\n"
     ]
    }
   ],
   "source": [
    "def classifier10(coordinates):\n",
    "    \"\"\"Use nearest neighbour classification to identify\n",
    "    between Pikachu and Pichu, based on sample data coordinates.\n",
    "    Coordinates to be given on format [x1, y1], a list.\n",
    "    Function uses 10 nearest neighbours for determination.\"\"\"\n",
    "    TD_width = TD[0] # x\n",
    "    TD_height = TD[1] # y\n",
    "    TD_label = TD[2] # label\n",
    "    dist = [] #\n",
    "    for idx in range(len(TD_label)):\n",
    "        d = math.sqrt((TD_width[idx] - coordinates[0])**2 + (TD_height[idx] - coordinates[1])**2)\n",
    "        dist.append(d)\n",
    "    \n",
    "    # skapar sorterad lista för labels, baserad på dist-listan.\n",
    "\n",
    "    #TD_label_sorted_10 = [[idx for idx in TD_label] for element in TD_label.sort()]\n",
    "    TD_label_sorted_10 = [x[1] for x in sorted(zip(dist, TD_label))] # https://stackoverflow.com/questions/6618515/sorting-list-according-to-corresponding-values-from-a-parallel-list\n",
    "\n",
    "    print(TD_label_sorted_10[0:10])\n",
    "   \n",
    "    if TD_label_sorted_10[0:10].count(0) > 5:\n",
    "        pokemon = \"Pichu\"\n",
    "    elif TD_label_sorted_10[0:10].count(1) > 5:\n",
    "        pokemon = \"Pikachu\"\n",
    "    else: pokemon = \"it's a draw!\"\n",
    "    \n",
    "    return pokemon, dist\n",
    "        \n",
    "pokemon, TD_dist = classifier10([22.1, 34.1])\n",
    "\n",
    "print(pokemon)\n",
    "#print(TD_dist)\n",
    "#print(len(TD_dist))    "
   ]
  },
  {
   "cell_type": "markdown",
   "metadata": {},
   "source": [
    "**evaluation** funktionen:\n",
    "- tar lista med flertalet coordinater som inputargument\n",
    "- för varje koordinat anropas classifier funktionen\n",
    "- classifier funktionen output används för att skriva ut resultatet"
   ]
  },
  {
   "cell_type": "code",
   "execution_count": 50,
   "metadata": {},
   "outputs": [
    {
     "name": "stdout",
     "output_type": "stream",
     "text": [
      "Sample with (width, heigt): 25, 32 classified as Pikachu.\n",
      "Sample with (width, heigt): 24.2, 31.5 classified as Pikachu.\n",
      "Sample with (width, heigt): 22, 34 classified as Pikachu.\n",
      "Sample with (width, heigt): 20.5, 34 classified as Pichu.\n",
      "\n"
     ]
    }
   ],
   "source": [
    "def evaluation(data):\n",
    "    \"\"\"Evaluates multiple coordinates, arguments as a list.\n",
    "    Returns classification for each of the coordinates.\"\"\"\n",
    "    res_str=\"\"\n",
    "    for element in data:\n",
    "        pokemon , TD_dist = classifier(element)\n",
    "        res_str = res_str + (f\"Sample with (width, heigt): {element[0]}, {element[1]} classified as {pokemon}.\\n\")\n",
    "    \n",
    "    print(res_str)\n",
    "\n",
    "\n",
    "data = evaluation([[25, 32],[24.2, 31.5],[22, 34],[20.5, 34]])"
   ]
  },
  {
   "cell_type": "code",
   "execution_count": 13,
   "metadata": {},
   "outputs": [],
   "source": [
    "def evaluation(data):\n",
    "    \"\"\"Evaluates multiple coordinates, arguments as a list.\n",
    "    Returns classification for each of the coordinates.\"\"\"\n",
    "    pokemon , TD_dist = classifier(data)\n",
    "    print(f\"Sample with (width, heigt): {data[0]},{data[1]} classified as {pokemon}.\\n\")\n",
    "    \n",
    "    \n",
    "data = [[25, 32]]"
   ]
  },
  {
   "cell_type": "code",
   "execution_count": 20,
   "metadata": {},
   "outputs": [],
   "source": [
    "# försökte med cvs modulen, men det är ju en textfil.... Överger denna approachen tills vidare.\n",
    "import csv\n",
    "fields = []\n",
    "rows = []\n",
    "column = []\n",
    "\n",
    "with open(\"..\\Data\\datapoints.csv\") as csvfile:\n",
    "    content = csv.reader(csvfile)\n",
    "    fields = next(content)\n",
    "    for row in content:\n",
    "        rows.append(row)\n",
    "    #print(\"total nbr of rows: \"%(content.line_num))\n",
    "    for column in content:\n",
    "        column.append(column)"
   ]
  },
  {
   "cell_type": "code",
   "execution_count": null,
   "metadata": {},
   "outputs": [],
   "source": [
    "for idx in data:\n",
    "    print(data)\n",
    "    \n",
    "\n",
    "data = [[25, 32],[24.2, 31.5],[22, 34],[20.5, 34]]"
   ]
  },
  {
   "cell_type": "markdown",
   "metadata": {},
   "source": [
    "Hur man kan sortera en lista baserat på en annan lista med list comprehension."
   ]
  },
  {
   "cell_type": "code",
   "execution_count": 38,
   "metadata": {},
   "outputs": [
    {
     "name": "stdout",
     "output_type": "stream",
     "text": [
      "[10, 12, 14, 11, 16, 15, 13]\n",
      "[(1, 10), (2, 12), (3, 14), (4, 11), (5, 16), (6, 15), (7, 13)]\n",
      "28\n"
     ]
    }
   ],
   "source": [
    "l1 = [1, 4, 2, 7, 3, 6, 5]\n",
    "l2 = [10, 11, 12, 13, 14, 15, 16]\n",
    "\n",
    "l3 = [x[1] for x in sorted(zip(l1, l2))]\n",
    "print(l3) # [10, 12, 14, 11, 16, 14, 13]\n",
    "l4 = [x for x in sorted(zip(l1, l2))]\n",
    "\n",
    "print(l4)\n",
    "\n",
    "sum = sum(l1)\n",
    "print(sum)\n"
   ]
  },
  {
   "cell_type": "code",
   "execution_count": 43,
   "metadata": {},
   "outputs": [
    {
     "ename": "TypeError",
     "evalue": "'int' object is not callable",
     "output_type": "error",
     "traceback": [
      "\u001b[1;31m---------------------------------------------------------------------------\u001b[0m",
      "\u001b[1;31mTypeError\u001b[0m                                 Traceback (most recent call last)",
      "\u001b[1;32mc:\\Users\\danie\\Documents\\GitHub\\Python_Daniel_Claesson\\Labs\\Lab2_Daniel_Claesson.ipynb Cell 19\u001b[0m line \u001b[0;36m<cell line: 5>\u001b[1;34m()\u001b[0m\n\u001b[0;32m      <a href='vscode-notebook-cell:/c%3A/Users/danie/Documents/GitHub/Python_Daniel_Claesson/Labs/Lab2_Daniel_Claesson.ipynb#X23sZmlsZQ%3D%3D?line=0'>1</a>\u001b[0m \u001b[39m#l5=[1, 1, 1, 1, 0, 1, 1, 0, 1, 1]\u001b[39;00m\n\u001b[0;32m      <a href='vscode-notebook-cell:/c%3A/Users/danie/Documents/GitHub/Python_Daniel_Claesson/Labs/Lab2_Daniel_Claesson.ipynb#X23sZmlsZQ%3D%3D?line=1'>2</a>\u001b[0m \u001b[39m#print(sum(l5))\u001b[39;00m\n\u001b[0;32m      <a href='vscode-notebook-cell:/c%3A/Users/danie/Documents/GitHub/Python_Daniel_Claesson/Labs/Lab2_Daniel_Claesson.ipynb#X23sZmlsZQ%3D%3D?line=3'>4</a>\u001b[0m l6 \u001b[39m=\u001b[39m [\u001b[39m1\u001b[39m, \u001b[39m1\u001b[39m, \u001b[39m0\u001b[39m]\n\u001b[1;32m----> <a href='vscode-notebook-cell:/c%3A/Users/danie/Documents/GitHub/Python_Daniel_Claesson/Labs/Lab2_Daniel_Claesson.ipynb#X23sZmlsZQ%3D%3D?line=4'>5</a>\u001b[0m \u001b[39mprint\u001b[39m(\u001b[39msum\u001b[39;49m(l6))\n",
      "\u001b[1;31mTypeError\u001b[0m: 'int' object is not callable"
     ]
    }
   ],
   "source": [
    "#l5=[1, 1, 1, 1, 0, 1, 1, 0, 1, 1]\n",
    "#print(sum(l5))\n",
    "\n",
    "l6 = [1, 1, 0]\n",
    "print(sum(l6))\n"
   ]
  },
  {
   "cell_type": "code",
   "execution_count": null,
   "metadata": {},
   "outputs": [],
   "source": []
  }
 ],
 "metadata": {
  "kernelspec": {
   "display_name": "ithsprep",
   "language": "python",
   "name": "python3"
  },
  "language_info": {
   "codemirror_mode": {
    "name": "ipython",
    "version": 3
   },
   "file_extension": ".py",
   "mimetype": "text/x-python",
   "name": "python",
   "nbconvert_exporter": "python",
   "pygments_lexer": "ipython3",
   "version": "3.9.16"
  },
  "orig_nbformat": 4
 },
 "nbformat": 4,
 "nbformat_minor": 2
}
