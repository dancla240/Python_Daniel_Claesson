{
 "cells": [
  {
   "cell_type": "markdown",
   "metadata": {},
   "source": [
    "# Lab 2 Daniel Claesson\n",
    "\n",
    "Links to material I found useful in this lab:\n",
    "- [Geeks for Geeks, working with csv files](https://www.geeksforgeeks.org/working-csv-files-python/)\n",
    "- [Pyhton doc, reading and writing files](https://docs.python.org/3/tutorial/inputoutput.html#reading-and-writing-files)\n",
    "- [Programiz, python list count](https://www.programiz.com/python-programming/methods/list/count)\n",
    "- [Stackoverflow, sort list based on another list](https://stackoverflow.com/questions/6618515/sorting-list-according-to-corresponding-values-from-a-parallel-list)\n",
    "- [nkmk.me, How to return multiple values from function](https://note.nkmk.me/en/python-function-return-multiple-values/)\n"
   ]
  },
  {
   "cell_type": "markdown",
   "metadata": {},
   "source": [
    "**read_traingdata** funktionen:\n",
    "- Läser in trainingdatan direkt från .txt-filen, baserat på filepath input\n",
    "- Gör om strings till floats, tar bort white_spaces etc.\n",
    "- Returnerar en list of lists: [[width],[height],[label]]"
   ]
  },
  {
   "cell_type": "code",
   "execution_count": 1,
   "metadata": {},
   "outputs": [],
   "source": [
    "import matplotlib.pyplot as plt\n",
    "import math\n",
    "\n",
    "def read_trainingdata(filepath):\n",
    "    \"\"\"Returns list of list with width, heigh and label values.\"\"\"\n",
    "    with open(filepath, \"r\") as file:\n",
    "        content = file.readlines()\n",
    "\n",
    "    width = []\n",
    "    height = []\n",
    "    label = []\n",
    "    content2 = []\n",
    "\n",
    "    for item in content:\n",
    "        content2.append(item.split(','))\n",
    "\n",
    "    del content2[0]\n",
    "\n",
    "    for item in content2:\n",
    "        item[0] = float(item[0])\n",
    "        item[1] = item[1].strip()\n",
    "        item[1] = float(item[1])\n",
    "        item[2] = item[2].strip()\n",
    "        item[2] = item[2].replace('\\n','')\n",
    "        item[2] = int(item[2])\n",
    "        width.append(item[0])\n",
    "        height.append(item[1])\n",
    "        label.append(item[2])\n",
    "\n",
    "    returnlist = []\n",
    "    returnlist.append(width)\n",
    "    returnlist.append(height)\n",
    "    returnlist.append(label)\n",
    "\n",
    "    return returnlist\n",
    "\n",
    "TD = read_trainingdata(\"..\\Data\\datapoints.txt\")\n"
   ]
  },
  {
   "cell_type": "markdown",
   "metadata": {},
   "source": [
    "**plot_trainingdata** funktionen:\n",
    "- plottar träningsdatan för varje sample"
   ]
  },
  {
   "cell_type": "code",
   "execution_count": 35,
   "metadata": {},
   "outputs": [
    {
     "data": {
      "image/png": "[encoded data removed]",
      "text/plain": [
       "<Figure size 640x480 with 1 Axes>"
      ]
     },
     "metadata": {},
     "output_type": "display_data"
    }
   ],
   "source": [
    "def plot_trainingdata(width, height, label=None):\n",
    "    \"\"\"Plots all training data\"\"\"\n",
    "    for idx in range(len(label)):\n",
    "        if label[idx] == 1:\n",
    "            plt.scatter(width[idx], height[idx], color = 'blue', marker = \"D\")\n",
    "        elif label[idx] == 0:\n",
    "            plt.scatter(width[idx], height[idx], color = 'red', marker = \"*\")\n",
    "        else: break\n",
    "    \n",
    "    plt.title('Training Data')\n",
    "    plt.xlabel('Width')\n",
    "    plt.ylabel('Height')\n",
    "    plt.legend(['Pichu','Pikachu'])\n",
    "\n",
    "\n",
    "plot_trainingdata(TD[0], TD[1], TD[2])"
   ]
  },
  {
   "cell_type": "markdown",
   "metadata": {},
   "source": [
    "**read_sampledata* funktionen:\n",
    "- läser in sample datan från filen"
   ]
  },
  {
   "cell_type": "code",
   "execution_count": 56,
   "metadata": {},
   "outputs": [
    {
     "name": "stdout",
     "output_type": "stream",
     "text": [
      "[[25.0, 32.0], [24.2, 31.5], [22.0, 34.0], [20.5, 34.0]]\n"
     ]
    }
   ],
   "source": [
    "def read_sampledata(filepath):\n",
    "    \"\"\"Functions reads the file testpoints.txt,\n",
    "    extracts the weight and height and stores\n",
    "    as a list of lists, that can be parsed as arguments\n",
    "    to the classifier function.\"\"\"\n",
    "    with open(filepath, 'r') as file:\n",
    "        content = file.readlines()\n",
    "    \n",
    "    coordinates = []\n",
    "\n",
    "    for idx in content:\n",
    "        if '(' and ')' not in idx:\n",
    "            continue\n",
    "        else:\n",
    "            idx_l = idx.find('(')\n",
    "            idx_m = idx.find(',')\n",
    "            idx_r = idx.find(')')\n",
    "            x = float(idx[idx_l+1:idx_m])\n",
    "            y = float(idx[idx_m+1:idx_r])\n",
    "\n",
    "            coordinates_list = [x, y]\n",
    "\n",
    "        coordinates.append(coordinates_list)\n",
    "\n",
    "    return coordinates\n",
    "\n",
    "sample_data_coord = read_sampledata('..\\Data\\\\testpoints.txt')\n",
    "print(sample_data_coord)\n"
   ]
  },
  {
   "cell_type": "markdown",
   "metadata": {},
   "source": [
    "**Classifier** funktionen:\n",
    "- tar en sample punkts coordinater som inputargument\n",
    "- beräknar distansen mellan sample punkt och träningsdatans alla punkter\n",
    "- identifirerar närmsta träningsdata punkt\n",
    "- klassificerar Pichu / Pikatchu, beroende på närmsta punkts \"label\"\n",
    "- Returnerar en sträng med resultatet"
   ]
  },
  {
   "cell_type": "code",
   "execution_count": 60,
   "metadata": {},
   "outputs": [
    {
     "name": "stdout",
     "output_type": "stream",
     "text": [
      "Pikachu\n"
     ]
    }
   ],
   "source": [
    "def classifier(coordinates):\n",
    "    \"\"\"Use nearest neighbour classification to identify\n",
    "    between Pikachu and Pichu, based on sample data coordinates.\n",
    "    Coordinates to be given on format [x1, y1], a list.\"\"\"\n",
    "    TD_width = TD[0] # x\n",
    "    TD_height = TD[1] # y\n",
    "    TD_label = TD[2] # label\n",
    "    dist = []\n",
    "    for idx in range(len(TD_label)):\n",
    "        d = math.sqrt((TD_width[idx] - coordinates[0])**2 + (TD_height[idx] - coordinates[1])**2)\n",
    "        dist.append(d)\n",
    "    \n",
    "    #finding index of the minimum distance, in \"dist\" list\n",
    "    idx_min_dist = dist.index(min(dist))\n",
    "\n",
    "    if TD_label[idx_min_dist] == 0:\n",
    "        pokemon = \"Pichu\"\n",
    "    elif TD_label[idx_min_dist] == 1:\n",
    "        pokemon = \"Pikachu\"\n",
    "   \n",
    "    return pokemon\n",
    "        \n",
    "pokemon = classifier([22.1, 34.1])\n",
    "\n",
    "print(pokemon)"
   ]
  },
  {
   "cell_type": "markdown",
   "metadata": {},
   "source": [
    "**classifier10** funktionen baserar analysen på de 10 närmaste grannarna."
   ]
  },
  {
   "cell_type": "code",
   "execution_count": 61,
   "metadata": {},
   "outputs": [
    {
     "name": "stdout",
     "output_type": "stream",
     "text": [
      "TD_label_sorted_10[0:10] = [1, 1, 1, 1, 0, 1, 1, 0, 1, 1]\n",
      "The identified Pokemon is Pikachu.\n"
     ]
    }
   ],
   "source": [
    "def classifier10(coordinates):\n",
    "    \"\"\"Use nearest neighbour classification to identify\n",
    "    between Pikachu and Pichu, based on sample data coordinates.\n",
    "    Coordinates to be given on format [x1, y1], a list.\n",
    "    Function uses 10 nearest neighbours for determination.\"\"\"\n",
    "    TD_width = TD[0] # x\n",
    "    TD_height = TD[1] # y\n",
    "    TD_label = TD[2] # label\n",
    "    dist = [] #\n",
    "    for idx in range(len(TD_label)):\n",
    "        d = math.sqrt((TD_width[idx] - coordinates[0])**2 + (TD_height[idx] - coordinates[1])**2)\n",
    "        dist.append(d)\n",
    "    \n",
    "    # skapar sorterad lista för labels, baserad på dist-listan.\n",
    "    TD_label_sorted_10 = [x[1] for x in sorted(zip(dist, TD_label))] # https://stackoverflow.com/questions/6618515/sorting-list-according-to-corresponding-values-from-a-parallel-list\n",
    "\n",
    "    print(f\"{TD_label_sorted_10[0:10] = }\")\n",
    "   \n",
    "    if TD_label_sorted_10[0:10].count(0) > 5:\n",
    "        pokemon = \"Pichu\"\n",
    "    elif TD_label_sorted_10[0:10].count(1) > 5:\n",
    "        pokemon = \"Pikachu\"\n",
    "    else: pokemon = \"it's a draw!\"\n",
    "    \n",
    "    return pokemon\n",
    "        \n",
    "pokemon = classifier10([22.1, 34.1])\n",
    "\n",
    "print(f\"The identified Pokemon is {pokemon}.\")"
   ]
  },
  {
   "cell_type": "markdown",
   "metadata": {},
   "source": [
    "**evaluation** funktionen:\n",
    "- tar lista med flertalet coordinater som inputargument\n",
    "- för varje koordinat anropas classifier funktionen\n",
    "- classifier funktionen output används för att skriva ut resultatet"
   ]
  },
  {
   "cell_type": "code",
   "execution_count": 59,
   "metadata": {},
   "outputs": [
    {
     "name": "stdout",
     "output_type": "stream",
     "text": [
      "Sample with (width, heigt): 25.0, 32.0 classified as Pikachu.\n",
      "Sample with (width, heigt): 24.2, 31.5 classified as Pikachu.\n",
      "Sample with (width, heigt): 22.0, 34.0 classified as Pikachu.\n",
      "Sample with (width, heigt): 20.5, 34.0 classified as Pichu.\n",
      "\n"
     ]
    }
   ],
   "source": [
    "def multi_evaluation(data):\n",
    "    \"\"\"Evaluates multiple coordinates, arguments as a list.\n",
    "    Returns classification for each of the coordinates.\"\"\"\n",
    "    res_str=\"\"\n",
    "    for element in data:\n",
    "        pokemon = classifier(element)\n",
    "        res_str = res_str + (f\"Sample with (width, heigt): {element[0]}, {element[1]} classified as {pokemon}.\\n\")\n",
    "    \n",
    "    print(res_str)\n",
    "\n",
    "\n",
    "data = multi_evaluation(sample_data_coord)"
   ]
  },
  {
   "cell_type": "markdown",
   "metadata": {},
   "source": [
    "Manual user input.\n",
    "- Here the user is asked to input weight and height of the Pokemon.\n",
    "- The classifier function is called, with user defines weight and height.\n",
    "- Error messages are given if the input is not reasonable."
   ]
  },
  {
   "cell_type": "code",
   "execution_count": 36,
   "metadata": {},
   "outputs": [
    {
     "name": "stdout",
     "output_type": "stream",
     "text": [
      "Given input on width is 26 cm.\n",
      "Given input on height is 36 cm.\n",
      "The Pokemon classification is Pikachu, with width = 26.0 cm and height = 36.0 cm\n"
     ]
    }
   ],
   "source": [
    "user_width = []\n",
    "user_heigh = []\n",
    "allowed_input = {\".\",\"0\",\"1\",\"2\",\"3\",\"4\",\"5\",\"6\",\"7\",\"8\",\"9\"}\n",
    "\n",
    "while True:\n",
    "    width = input(\"Input Pokemon width(cm): \")\n",
    "    if not width:\n",
    "        print(\"No input was given on width, continue to height.\")\n",
    "        break\n",
    "    elif not len(width) == len([x for x in width if x in allowed_input]):\n",
    "        print(\"Input must be a positive number, it can not be nagative or contain letters, try again.\")\n",
    "        continue\n",
    "    else:\n",
    "        user_width = float(width)\n",
    "        print(f\"Given input on width is {width} cm.\")\n",
    "        break\n",
    "\n",
    "while True:\n",
    "    height = input(\"Input Pokemon height(cm): \")\n",
    "    if not height:\n",
    "        print(\"No input on weight and height was given, closing program.\")\n",
    "        break\n",
    "    elif not len(height) == len([x for x in height if x in allowed_input]):\n",
    "        print(\"Input must be a positive number, it can not be nagative or contain letters, try again.\")\n",
    "        continue\n",
    "    else:\n",
    "        user_height = float(height)\n",
    "        print(f\"Given input on height is {height} cm.\")\n",
    "        break\n",
    "\n",
    "user_call = []\n",
    "user_call.append(user_width)\n",
    "user_call.append(user_height)\n",
    "\n",
    "user_result = classifier(user_call)\n",
    "print(f\"The Pokemon classification is {user_result}, with width = {user_width} cm and height = {user_height} cm\")\n"
   ]
  },
  {
   "cell_type": "code",
   "execution_count": 20,
   "metadata": {},
   "outputs": [],
   "source": [
    "# försökte med cvs modulen, men det är ju en textfil.... Överger denna approachen tills vidare.\n",
    "import csv\n",
    "fields = []\n",
    "rows = []\n",
    "column = []\n",
    "\n",
    "with open(\"..\\Data\\datapoints.csv\") as csvfile:\n",
    "    content = csv.reader(csvfile)\n",
    "    fields = next(content)\n",
    "    for row in content:\n",
    "        rows.append(row)\n",
    "    #print(\"total nbr of rows: \"%(content.line_num))\n",
    "    for column in content:\n",
    "        column.append(column)"
   ]
  }
 ],
 "metadata": {
  "kernelspec": {
   "display_name": "ithsprep",
   "language": "python",
   "name": "python3"
  },
  "language_info": {
   "codemirror_mode": {
    "name": "ipython",
    "version": 3
   },
   "file_extension": ".py",
   "mimetype": "text/x-python",
   "name": "python",
   "nbconvert_exporter": "python",
   "pygments_lexer": "ipython3",
   "version": "3.9.16"
  },
  "orig_nbformat": 4
 },
 "nbformat": 4,
 "nbformat_minor": 2
}
