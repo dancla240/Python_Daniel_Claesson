{
 "cells": [
  {
   "cell_type": "markdown",
   "metadata": {},
   "source": [
    "# Lab 2 Daniel Claesson\n",
    "\n",
    "Links to material I found useful in this lab:\n",
    "- [Geeks for Geeks, working with csv files](https://www.geeksforgeeks.org/working-csv-files-python/)\n",
    "- [Pyhton doc, reading and writing files](https://docs.python.org/3/tutorial/inputoutput.html#reading-and-writing-files)\n",
    "- [Programiz, python list count](https://www.programiz.com/python-programming/methods/list/count)\n",
    "- [Stackoverflow, sort list based on another list](https://stackoverflow.com/questions/6618515/sorting-list-according-to-corresponding-values-from-a-parallel-list)\n",
    "- [nkmk.me, How to return multiple values from function](https://note.nkmk.me/en/python-function-return-multiple-values/)\n"
   ]
  },
  {
   "cell_type": "markdown",
   "metadata": {},
   "source": [
    "**read_traingdata** funktionen:\n",
    "- Läser in trainingdatan direkt från .txt-filen, baserat på filepath input\n",
    "- Gör om strings till floats, tar bort white_spaces etc.\n",
    "- Returnerar en list of lists: [[width],[height],[label]]"
   ]
  },
  {
   "cell_type": "code",
   "execution_count": 2,
   "metadata": {},
   "outputs": [],
   "source": [
    "import matplotlib.pyplot as plt\n",
    "import math\n",
    "\n",
    "def read_trainingdata(filepath):\n",
    "    \"\"\"Returns list of list with width, heigh and label values.\"\"\"\n",
    "    with open(filepath, \"r\") as file:\n",
    "        content = file.readlines()\n",
    "\n",
    "    width = []\n",
    "    height = []\n",
    "    label = []\n",
    "    content2 = []\n",
    "\n",
    "    for item in content:\n",
    "        content2.append(item.split(','))\n",
    "\n",
    "    del content2[0]\n",
    "\n",
    "    for item in content2:\n",
    "        item[0] = float(item[0])\n",
    "        item[1] = item[1].strip()\n",
    "        item[1] = float(item[1])\n",
    "        item[2] = item[2].strip()\n",
    "        item[2] = item[2].replace('\\n','')\n",
    "        item[2] = int(item[2])\n",
    "        width.append(item[0])\n",
    "        height.append(item[1])\n",
    "        label.append(item[2])\n",
    "\n",
    "    returnlist = []\n",
    "    returnlist.append(width)\n",
    "    returnlist.append(height)\n",
    "    returnlist.append(label)\n",
    "\n",
    "    return returnlist\n",
    "\n",
    "TD = read_trainingdata(\"..\\Data\\datapoints.txt\")\n"
   ]
  },
  {
   "cell_type": "markdown",
   "metadata": {},
   "source": [
    "**plot_trainingdata** funktionen:\n",
    "- plottar träningsdatan för varje sample"
   ]
  },
  {
   "cell_type": "code",
   "execution_count": 9,
   "metadata": {},
   "outputs": [
    {
     "data": {
      "image/png": "[encoded data removed]",
      "text/plain": [
       "<Figure size 640x480 with 1 Axes>"
      ]
     },
     "metadata": {},
     "output_type": "display_data"
    }
   ],
   "source": [
    "def plot_trainingdata(width, height, label=None):\n",
    "    \"\"\"Plots all training data\"\"\"\n",
    "    for idx in range(len(label)):\n",
    "        if label[idx] == 1:\n",
    "            plt.scatter(width[idx], height[idx], color = 'blue', marker = \"D\")\n",
    "        elif label[idx] == 0:\n",
    "            plt.scatter(width[idx], height[idx], color = 'red', marker = \"*\")\n",
    "        else: break\n",
    "    \n",
    "    plt.title('Training Data')\n",
    "    plt.xlabel('Width')\n",
    "    plt.ylabel('Height')\n",
    "    plt.legend(['Pichu','Pikachu'])\n",
    "\n",
    "\n",
    "plot_trainingdata(TD[0], TD[1], TD[2])"
   ]
  },
  {
   "cell_type": "markdown",
   "metadata": {},
   "source": [
    "**read_sampledata* funktionen:\n",
    "- läser in sample datan från filen"
   ]
  },
  {
   "cell_type": "code",
   "execution_count": 10,
   "metadata": {},
   "outputs": [
    {
     "name": "stdout",
     "output_type": "stream",
     "text": [
      "[[25.0, 32.0], [24.2, 31.5], [22.0, 34.0], [20.5, 34.0]]\n"
     ]
    }
   ],
   "source": [
    "def read_sampledata(filepath):\n",
    "    \"\"\"Functions reads the file testpoints.txt,\n",
    "    extracts the weight and height and stores\n",
    "    as a list of lists, that can be parsed as arguments\n",
    "    to the classifier function.\"\"\"\n",
    "    with open(filepath, 'r') as file:\n",
    "        content = file.readlines()\n",
    "    \n",
    "    coordinates = []\n",
    "\n",
    "    for idx in content:\n",
    "        if '(' and ')' not in idx:\n",
    "            continue\n",
    "        else:\n",
    "            idx_l = idx.find('(')\n",
    "            idx_m = idx.find(',')\n",
    "            idx_r = idx.find(')')\n",
    "            x = float(idx[idx_l+1:idx_m])\n",
    "            y = float(idx[idx_m+1:idx_r])\n",
    "\n",
    "            coordinates_list = [x, y]\n",
    "\n",
    "        coordinates.append(coordinates_list)\n",
    "\n",
    "    return coordinates\n",
    "\n",
    "sample_data_coord = read_sampledata('..\\Data\\\\testpoints.txt')\n",
    "print(sample_data_coord)\n"
   ]
  },
  {
   "cell_type": "markdown",
   "metadata": {},
   "source": [
    "**Classifier** funktionen:\n",
    "- tar en sample punkts coordinater som inputargument\n",
    "- beräknar distansen mellan sample punkt och träningsdatans alla punkter\n",
    "- identifirerar närmsta träningsdata punkt\n",
    "- klassificerar Pichu / Pikatchu, beroende på närmsta punkts \"label\"\n",
    "- Returnerar en sträng med resultatet"
   ]
  },
  {
   "cell_type": "code",
   "execution_count": 15,
   "metadata": {},
   "outputs": [
    {
     "name": "stdout",
     "output_type": "stream",
     "text": [
      "Pikachu\n"
     ]
    }
   ],
   "source": [
    "def classifier(coordinates):\n",
    "    \"\"\"Use nearest neighbour classification to identify\n",
    "    between Pikachu and Pichu, based on sample data coordinates.\n",
    "    Coordinates to be given on format [x1, y1], a list.\"\"\"\n",
    "    TD_width = TD[0] # x\n",
    "    TD_height = TD[1] # y\n",
    "    TD_label = TD[2] # label\n",
    "    dist = []\n",
    "    for idx in range(len(TD_label)):\n",
    "        d = math.sqrt((TD_width[idx] - coordinates[0])**2 + (TD_height[idx] - coordinates[1])**2)\n",
    "        dist.append(d)\n",
    "    \n",
    "    #finding index of the minimum distance, in \"dist\" list\n",
    "    idx_min_dist = dist.index(min(dist))\n",
    "\n",
    "    if TD_label[idx_min_dist] == 0:\n",
    "        pokemon = \"Pichu\"\n",
    "    elif TD_label[idx_min_dist] == 1:\n",
    "        pokemon = \"Pikachu\"\n",
    "   \n",
    "    return pokemon\n",
    "        \n",
    "pokemon = classifier([24.2, 31.5])\n",
    "\n",
    "print(pokemon)"
   ]
  },
  {
   "cell_type": "markdown",
   "metadata": {},
   "source": [
    "**classifier10** funktionen baserar analysen på de 10 närmaste grannarna."
   ]
  },
  {
   "cell_type": "code",
   "execution_count": 14,
   "metadata": {},
   "outputs": [
    {
     "name": "stdout",
     "output_type": "stream",
     "text": [
      "TD_label_sorted_10[0:10] = [1, 0, 0, 0, 0, 0, 1, 1, 1, 1]\n",
      "The identified Pokemon is it's a draw!.\n"
     ]
    }
   ],
   "source": [
    "def classifier10(coordinates):\n",
    "    \"\"\"Use nearest neighbour classification to identify\n",
    "    between Pikachu and Pichu, based on sample data coordinates.\n",
    "    Coordinates to be given on format [x1, y1], a list.\n",
    "    Function uses 10 nearest neighbours for determination.\"\"\"\n",
    "    TD_width = TD[0] # x\n",
    "    TD_height = TD[1] # y\n",
    "    TD_label = TD[2] # label\n",
    "    dist = [] #\n",
    "    for idx in range(len(TD_label)):\n",
    "        d = math.sqrt((TD_width[idx] - coordinates[0])**2 + (TD_height[idx] - coordinates[1])**2)\n",
    "        dist.append(d)\n",
    "    \n",
    "    # skapar sorterad lista för labels, baserad på dist-listan.\n",
    "    TD_label_sorted_10 = [x[1] for x in sorted(zip(dist, TD_label))] # https://stackoverflow.com/questions/6618515/sorting-list-according-to-corresponding-values-from-a-parallel-list\n",
    "\n",
    "    print(f\"{TD_label_sorted_10[0:10] = }\")\n",
    "   \n",
    "    if TD_label_sorted_10[0:10].count(0) > 5:\n",
    "        pokemon = \"Pichu\"\n",
    "    elif TD_label_sorted_10[0:10].count(1) > 5:\n",
    "        pokemon = \"Pikachu\"\n",
    "    else: pokemon = \"it's a draw!\"\n",
    "    \n",
    "    return pokemon\n",
    "        \n",
    "pokemon = classifier10([24.2, 31.5])\n",
    "\n",
    "print(f\"The identified Pokemon is {pokemon}.\")"
   ]
  },
  {
   "cell_type": "markdown",
   "metadata": {},
   "source": [
    "**evaluation** funktionen:\n",
    "- tar lista med flertalet coordinater som inputargument\n",
    "- för varje koordinat anropas classifier funktionen\n",
    "- classifier funktionen output används för att skriva ut resultatet"
   ]
  },
  {
   "cell_type": "code",
   "execution_count": 12,
   "metadata": {},
   "outputs": [
    {
     "name": "stdout",
     "output_type": "stream",
     "text": [
      "Sample with (width, heigt): 25.0, 32.0 classified as Pikachu.\n",
      "Sample with (width, heigt): 24.2, 31.5 classified as Pikachu.\n",
      "Sample with (width, heigt): 22.0, 34.0 classified as Pikachu.\n",
      "Sample with (width, heigt): 20.5, 34.0 classified as Pichu.\n",
      "\n"
     ]
    }
   ],
   "source": [
    "def multi_evaluation(data):\n",
    "    \"\"\"Evaluates multiple coordinates, arguments as a list.\n",
    "    Returns classification for each of the coordinates.\"\"\"\n",
    "    res_str=\"\"\n",
    "    for element in data:\n",
    "        pokemon = classifier(element)\n",
    "        res_str = res_str + (f\"Sample with (width, heigt): {element[0]}, {element[1]} classified as {pokemon}.\\n\")\n",
    "    \n",
    "    print(res_str)\n",
    "\n",
    "\n",
    "data = multi_evaluation(sample_data_coord)"
   ]
  },
  {
   "cell_type": "markdown",
   "metadata": {},
   "source": [
    "Manual user input.\n",
    "- Here the user is asked to input weight and height of the Pokemon.\n",
    "- The classifier function is called, with user defines weight and height.\n",
    "- Error messages are given if the input is not reasonable."
   ]
  },
  {
   "cell_type": "code",
   "execution_count": 13,
   "metadata": {},
   "outputs": [
    {
     "name": "stdout",
     "output_type": "stream",
     "text": [
      "Given input on width is 34.2 cm.\n",
      "Input must be a positive number, it can not be nagative or contain letters, try again.\n",
      "Input must be a positive number, it can not be nagative or contain letters, try again.\n",
      "Input must be a positive number, it can not be nagative or contain letters, try again.\n",
      "Input must be a positive number, it can not be nagative or contain letters, try again.\n",
      "Given input on height is 23 cm.\n",
      "The Pokemon classification is Pikachu, with width = 34.2 cm and height = 23.0 cm\n"
     ]
    }
   ],
   "source": [
    "user_width = []\n",
    "user_heigh = []\n",
    "allowed_input = {\".\",\"0\",\"1\",\"2\",\"3\",\"4\",\"5\",\"6\",\"7\",\"8\",\"9\"}\n",
    "\n",
    "while True:\n",
    "    width = input(\"Input Pokemon width(cm): \")\n",
    "    if not width:\n",
    "        print(\"No input was given on width, continue to height.\")\n",
    "        break\n",
    "    elif not len(width) == len([x for x in width if x in allowed_input]):\n",
    "        print(\"Input must be a positive number, it can not be nagative or contain letters, try again.\")\n",
    "        continue\n",
    "    else:\n",
    "        user_width = float(width)\n",
    "        print(f\"Given input on width is {width} cm.\")\n",
    "        break\n",
    "\n",
    "while True:\n",
    "    height = input(\"Input Pokemon height(cm): \")\n",
    "    if not height:\n",
    "        print(\"No input on weight and height was given, closing program.\")\n",
    "        break\n",
    "    elif not len(height) == len([x for x in height if x in allowed_input]):\n",
    "        print(\"Input must be a positive number, it can not be nagative or contain letters, try again.\")\n",
    "        continue\n",
    "    else:\n",
    "        user_height = float(height)\n",
    "        print(f\"Given input on height is {height} cm.\")\n",
    "        break\n",
    "\n",
    "user_call = []\n",
    "user_call.append(user_width)\n",
    "user_call.append(user_height)\n",
    "\n",
    "user_result = classifier(user_call)\n",
    "print(f\"The Pokemon classification is {user_result}, with width = {user_width} cm and height = {user_height} cm\")\n"
   ]
  },
  {
   "cell_type": "markdown",
   "metadata": {},
   "source": [
    "# Valfria uppifter\n",
    "- Skapar en funktion som använder redan inläst testdata (TD), för att dela upp så att det finns 50 träningsdata för Pikachu och 50 träningsdata för Pichu, slumpmässigt. Samt då 25 Pikachu sample data och 25 Pichu sample data.\n",
    "- Skapar en ny classifier funktion som tar både testdata och sampledata som argument. Funktionen classificerar varje sample data samt jämför med \"facit\" (dess label)."
   ]
  },
  {
   "cell_type": "code",
   "execution_count": 19,
   "metadata": {},
   "outputs": [
    {
     "name": "stdout",
     "output_type": "stream",
     "text": [
      "[[18.659636883604406, 19.639358214988224, 18.990689973799388, 18.424438779822488, 20.191281253428173, 19.69944356712352, 19.689909518113225, 19.574019952530243, 20.23890182459327, 19.55060327163345, 20.795121649361587, 20.282109030336354, 20.286130095999752, 21.78836263199249, 20.411629224757448, 21.959384499160468, 23.213535136458052, 20.098954730848863, 20.670175582205307, 21.457545842765146, 21.35018601896744, 17.96926166354966, 23.541999631800756, 19.120619567709372, 23.22258522384455, 21.07884990354048, 20.39204407747099, 21.069573240979203, 19.332572350434354, 22.30210323807139, 17.905128921789093, 19.64060341428934, 19.299333494980544, 19.56686423226426, 20.276898330625336, 19.209914415003638, 22.091553997471266, 19.213188999276543, 19.63004376836659, 20.579090632339703, 19.64717255190365, 16.866105280907732, 21.58631807419169, 20.323269906838078, 21.19030359241021, 17.672876665469843, 19.245073847748515, 18.836400960218388, 18.310337204918557, 20.118681851201636, 24.385289647525166, 23.79257560586339, 23.114574183632723, 27.194383786280955, 24.73645685241186, 24.387651550868913, 22.15365577923418, 24.961373776424374, 25.813562951888365, 23.619820901736276, 26.388368121945867, 23.02865997158701, 26.5173046073707, 24.601954468608902, 23.783158802270272, 23.63591632187622, 25.922634453956498, 23.792145242488125, 24.991105175469915, 25.023623126719983, 23.388322747322558, 22.723629043769336, 23.64067859798334, 25.17676132371397, 23.982852691650397, 25.23472228644244, 23.99071038023876, 21.65956855815321, 25.20630552859312, 21.989953947825015, 24.923378667802954, 23.631672104136165, 25.311244044578427, 24.004087953898246, 24.87225986527509, 26.525412887538252, 22.943474306364404, 25.102866296361412, 20.216002852334192, 25.557501503948984, 23.729020953235672, 25.094170820930774, 25.82936770950206, 26.517189386365075, 23.506242342727596, 23.868174335146136, 25.276930013476704, 23.846379201803554, 21.23487155577698, 22.819091361866796], [33.04492931889734, 34.56117030001663, 32.387963045016726, 31.79940219340467, 35.06966921830237, 30.714803909172808, 31.931042667213433, 31.935886159584427, 32.78945132868386, 34.602756266320824, 32.493051910886486, 33.18796105898338, 32.05337469378953, 32.339722449295664, 32.263992292489995, 31.23956701424158, 30.885396636777646, 33.067467402673685, 32.56517816055985, 31.659809960209728, 33.94708664610186, 32.48406633310577, 32.4751927528317, 30.699542112256864, 30.98700760873653, 32.02998372994636, 32.08774193592624, 32.21936612110862, 32.25325633655492, 32.73237945145149, 28.88813385482529, 30.2915567287162, 30.486337996080024, 30.326934442372128, 33.84658247356705, 31.420355685575746, 31.28659385225738, 31.71415755285442, 33.17007380684688, 30.771060416224586, 32.82976709158487, 28.984730409305136, 30.975094109600928, 32.29574812465895, 35.40347944144049, 32.67247775608707, 32.58876412530819, 35.028108243261656, 32.21783772801109, 31.89116680793916, 37.335669057387726, 38.10372825362463, 35.530813208835745, 36.267507265697255, 35.33291181124776, 33.2827564295772, 37.131777154514445, 33.9228476372155, 35.561029988644336, 36.98566859418098, 35.62090746957761, 35.4082866561793, 35.18452932633369, 32.78817486174627, 36.043496466883504, 36.46821490673444, 35.2215760062586, 35.107650004447365, 34.10979431232785, 34.28266788814326, 36.769999842308025, 34.83845262048311, 38.192278809575996, 34.393601274285054, 36.01635437187656, 32.641361593924174, 35.06411342600334, 36.81907508404582, 36.558816149350534, 33.64590281447322, 34.463907946680294, 34.52980905331491, 34.117212558131975, 35.618803262029324, 36.149522366845794, 35.2192205449002, 37.07911595862419, 33.30022994232253, 33.41610156154373, 36.39246631338593, 40.1471703193656, 34.58523945069137, 33.16210202637511, 34.7011323493234, 34.65976495915212, 35.449698119416254, 35.131360854176535, 36.1414458257896, 36.5105588800243, 34.25516433025548], [0, 0, 0, 0, 0, 0, 0, 0, 0, 0, 0, 0, 0, 0, 0, 0, 0, 0, 0, 0, 0, 0, 0, 0, 0, 0, 0, 0, 0, 0, 0, 0, 0, 0, 0, 0, 0, 0, 0, 0, 0, 0, 0, 0, 0, 0, 0, 0, 0, 0, 1, 1, 1, 1, 1, 1, 1, 1, 1, 1, 1, 1, 1, 1, 1, 1, 1, 1, 1, 1, 1, 1, 1, 1, 1, 1, 1, 1, 1, 1, 1, 1, 1, 1, 1, 1, 1, 1, 1, 1, 1, 1, 1, 1, 1, 1, 1, 1, 1, 1]]\n",
      "[[23.417849657642716, 18.59843317023302, 23.6967469082275, 20.554378047506688, 20.860495554922544, 17.714056417303343, 20.101930916301317, 19.592545899041802, 18.583516818010633, 19.499062316347583, 19.615470460641276, 20.01813734259072, 18.989418138097026, 21.762001750531006, 20.88810038727894, 18.929553010373773, 20.1569063412357, 18.43905922308554, 20.759216855120783, 19.893039297257797, 19.510846016895872, 20.008781128403864, 18.16229126686346, 18.124817511542226, 24.686621418656394, 24.587154114074174, 22.69081372502663, 24.609041154081922, 24.77859198674412, 21.78020031891186, 25.567802785102412, 22.121125492746756, 24.68867147060795, 25.116586706562245, 25.5491811833759, 23.10295249458573, 22.42591934771403, 22.493387946548573, 24.111063562798908, 24.59096971887165, 20.240420339246214, 25.31359693611633, 25.15076144887497, 22.826788929142136, 21.735098682375444, 24.47796159427686, 22.980962976720388, 23.062887108583702], [30.787174197048245, 32.60944545701523, 32.52744160379351, 31.190868044454003, 29.030638237258632, 31.44170391314962, 31.19190374413498, 30.59392660926762, 31.317010181098944, 31.139578977011656, 31.431998074581394, 32.22092994622254, 30.90556767082746, 33.05861298355044, 32.644004609994596, 33.331523282909906, 31.639314277796213, 30.82782241883467, 32.46166610892119, 30.792717627266093, 29.897476657136767, 32.15292152986537, 29.93643755301725, 31.997288449746307, 33.104763826036056, 35.61397200548726, 35.561787418827784, 36.104823979389685, 34.15166673260206, 33.213397759738264, 35.66631613405574, 34.690328304537594, 35.363481550256644, 36.20121874558056, 33.52624549604696, 34.771846982043876, 34.789785253591695, 36.78517041843648, 31.418267572382227, 33.61859674823029, 33.87654102727224, 35.516462459726284, 33.89409391341271, 37.16482263385777, 36.51127780882874, 35.32146634770389, 35.3191819848619, 35.04075442599907], [0, 0, 0, 0, 0, 0, 0, 0, 0, 0, 0, 0, 0, 0, 0, 0, 0, 0, 0, 0, 0, 0, 0, 0, 1, 1, 1, 1, 1, 1, 1, 1, 1, 1, 1, 1, 1, 1, 1, 1, 1, 1, 1, 1, 1, 1, 1, 1]]\n"
     ]
    }
   ],
   "source": [
    "import random\n",
    "\n",
    "def data_prepare(TD):\n",
    "    \"\"\"Function returns one list of lists with data for 50 Pichu and\n",
    "    50 Pikachu, and another list of lists with 25 Pichu and 25 Pikachu,\n",
    "    all randomly selected from Test Data (TD), i.e. it uses already read\n",
    "    in data. Format [[width],[hight],[label]]\"\"\"\n",
    "    width = TD[0]\n",
    "    height = TD[1]\n",
    "    label = TD[2]\n",
    "\n",
    "    #create lists containing Pichu or Pikachu only\n",
    "    width_pichu = [x for x, y in zip(width, label) if y == 0]\n",
    "    height_pichu = [x for x, y in zip(height, label) if y == 0]\n",
    "    width_pikachu = [x for x, y in zip(width, label) if y == 1]\n",
    "    height_pikachu = [x for x, y in zip(height, label) if y == 1]\n",
    "    \n",
    "    # randomise the lists. Creating a template to sort by (random unique integers, ranging from 0 to max len of list)\n",
    "    random_template = random.sample(range(0, len(width_pichu)), len(width_pichu))\n",
    "\n",
    "    # create new lists where the random \"template\" is applied to the data, creating randomized data:\n",
    "    width_pichu_random = [y for x, y in sorted(zip(random_template, width_pichu))]\n",
    "    height_pichu_random = [y for x, y in sorted(zip(random_template, height_pichu))]\n",
    "    label_pichu_random = [0] * len(height_pichu_random)\n",
    "    \n",
    "    width_pikachu_random = [y for x, y in sorted(zip(random_template, width_pikachu))]\n",
    "    height_pikachu_random = [y for x, y in sorted(zip(random_template, height_pikachu))]\n",
    "    label_pikachu_random = [1] * len(height_pikachu_random)\n",
    "\n",
    "    # create one list of \"test data\", 100 data points in total (50 Pichu/50 Pikachu)\n",
    "    TD100 = [width_pichu_random[0:50]+width_pikachu_random[0:50],height_pichu_random[0:50]+height_pikachu_random[0:50],label_pichu_random[0:50]+label_pikachu_random[0:50]]\n",
    "    # create one list of \"sample data\", 50 data points in total (25 Pichu / 25 Pikachu)\n",
    "    SD50 =  [width_pichu_random[50:-1]+width_pikachu_random[50:-1],height_pichu_random[50:-1]+height_pikachu_random[50:-1],label_pichu_random[50:-1]+label_pikachu_random[50:-1]]\n",
    "    \n",
    "    return TD100, SD50\n",
    "\n",
    "TD100, SD50 = data_prepare(TD)\n",
    "\n",
    "#print(TD100)\n",
    "#print(SD50)\n"
   ]
  },
  {
   "cell_type": "code",
   "execution_count": 14,
   "metadata": {},
   "outputs": [],
   "source": [
    "del SD50\n",
    "del TD100\n",
    "del TD50\n"
   ]
  },
  {
   "cell_type": "code",
   "execution_count": 20,
   "metadata": {},
   "outputs": [],
   "source": [
    "# försökte med cvs modulen, men det är ju en textfil.... Överger denna approachen tills vidare.\n",
    "import csv\n",
    "fields = []\n",
    "rows = []\n",
    "column = []\n",
    "\n",
    "with open(\"..\\Data\\datapoints.csv\") as csvfile:\n",
    "    content = csv.reader(csvfile)\n",
    "    fields = next(content)\n",
    "    for row in content:\n",
    "        rows.append(row)\n",
    "    #print(\"total nbr of rows: \"%(content.line_num))\n",
    "    for column in content:\n",
    "        column.append(column)"
   ]
  },
  {
   "cell_type": "code",
   "execution_count": 8,
   "metadata": {},
   "outputs": [
    {
     "name": "stdout",
     "output_type": "stream",
     "text": [
      "[11, 15, 41, 18, 28, 33, 10, 62, 39, 64, 50, 43, 9, 38, 61, 20, 54, 56, 71, 7, 72, 49, 13, 25, 16, 14, 40, 32, 29, 34, 46, 73, 67, 36, 53, 63, 68, 31, 45, 0, 66, 74, 2, 48, 42, 44, 22, 12, 52, 5, 57, 26, 23, 59, 30, 65, 70, 6, 27, 21, 8, 19, 51, 35, 58, 3, 37, 24, 1, 69, 17, 4, 55, 47, 60]\n",
      "75\n",
      "0\n"
     ]
    }
   ],
   "source": [
    "import random\n",
    "\n",
    "randomlist = random.sample(range(0, 75), 75) \n",
    "\n",
    "print(randomlist)\n",
    "print(len(randomlist))\n",
    "print(min(randomlist))"
   ]
  },
  {
   "cell_type": "code",
   "execution_count": null,
   "metadata": {},
   "outputs": [],
   "source": []
  }
 ],
 "metadata": {
  "kernelspec": {
   "display_name": "ithsprep",
   "language": "python",
   "name": "python3"
  },
  "language_info": {
   "codemirror_mode": {
    "name": "ipython",
    "version": 3
   },
   "file_extension": ".py",
   "mimetype": "text/x-python",
   "name": "python",
   "nbconvert_exporter": "python",
   "pygments_lexer": "ipython3",
   "version": "3.9.16"
  },
  "orig_nbformat": 4
 },
 "nbformat": 4,
 "nbformat_minor": 2
}
