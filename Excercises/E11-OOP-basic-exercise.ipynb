{
 "cells": [
  {
   "cell_type": "markdown",
   "metadata": {},
   "source": [
    "\n",
    "<a href=\"https://colab.research.google.com/github/kokchun/Python-course-AI22/blob/main/Exercises/E11-OOP-basic-exercise.ipynb\" target=\"_parent\"><img align=\"left\" src=\"https://colab.research.google.com/assets/colab-badge.svg\" alt=\"Open In Colab\"/></a> &nbsp; to see hints and answers."
   ]
  },
  {
   "cell_type": "markdown",
   "metadata": {},
   "source": [
    "# OOP introductory exercises\n",
    "\n",
    "---\n",
    "These are introductory exercises in Python with focus in **Object oriented programming**.\n",
    "\n",
    "<p class = \"alert alert-info\" role=\"alert\"><b>Remember</b> to use <b>descriptive variable, function and class names</b> in order to get readable code </p>\n",
    "\n",
    "<p class = \"alert alert-info\" role=\"alert\"><b>Remember</b> to format your answers in a neat way using <b>f-strings</b></p>\n",
    "\n",
    "The number of stars (\\*), (\\*\\*), (\\*\\*\\*) denotes the difficulty level of the task\n",
    "\n",
    "---"
   ]
  },
  {
   "cell_type": "markdown",
   "metadata": {},
   "source": [
    "## 1. Step tracker\n",
    "\n",
    "Create a class that can be used as a step tracker. It should have a property \"steps\" that is read only; a method step() that increases \"steps\" by 1 each time it is called; and a method reset() that resets the counter.\n",
    "\n",
    "Instantiate the class, and write a loop that simulates walking 1000 steps. Then print the value of \"steps\"."
   ]
  },
  {
   "cell_type": "code",
   "execution_count": 29,
   "metadata": {},
   "outputs": [
    {
     "name": "stdout",
     "output_type": "stream",
     "text": [
      "my.steps = 1000\n",
      "my.steps = 0\n",
      "my.steps = 3\n",
      "daniels_step_tracker.steps = 0\n"
     ]
    }
   ],
   "source": [
    "class Steptracker:\n",
    "    def __init__(self):\n",
    "        self.reset()\n",
    "        \n",
    "    @property\n",
    "    def steps(self):\n",
    "        return self._steps\n",
    "    \n",
    "    def step(self):    \n",
    "        self._steps += 1\n",
    "\n",
    "    def reset(self):\n",
    "        self._steps = 0\n",
    "\n",
    "my = Steptracker()\n",
    "my.reset()\n",
    "\n",
    "for i in range(1000):\n",
    "    my.step()\n",
    "\n",
    "print(f'{my.steps = }')\n",
    "my.reset()\n",
    "print(f'{my.steps = }')\n",
    "my.step()\n",
    "my.step()\n",
    "my.step()\n",
    "print(f'{my.steps = }')\n",
    "#print(f'{my._steps() = }') # man kan komma åt attributet direkt\n",
    "\n",
    "\n",
    "daniels_step_tracker = Steptracker()\n",
    "print(f'{daniels_step_tracker.steps = }')\n",
    "#daniels_step_tracker.steps = 23 # detta funkar inte och ska inte funka, eftersom det inte finns en \"setter\" för \"steps\"\n",
    "#daniels_step_tracker.steps = 100"
   ]
  },
  {
   "cell_type": "markdown",
   "metadata": {},
   "source": [
    "Nedan kod är helt utan properties. Som baseline."
   ]
  },
  {
   "cell_type": "code",
   "execution_count": 1,
   "metadata": {},
   "outputs": [
    {
     "name": "stdout",
     "output_type": "stream",
     "text": [
      "daniels_steps.steps = 0.\n",
      "daniels_steps.steps = 1000.\n",
      "daniels_steps.steps = 0.\n"
     ]
    }
   ],
   "source": [
    "class Stepcounter2:\n",
    "    def __init__(self):\n",
    "        self.steps = 0\n",
    "        \n",
    "    def step(self):\n",
    "        self.steps += 1\n",
    "        \n",
    "    def reset(self):\n",
    "        self.steps = 0\n",
    "        \n",
    "daniels_steps = Stepcounter2()\n",
    "\n",
    "print(f'{daniels_steps.steps = }.')\n",
    "\n",
    "for i in range(1000):\n",
    "    daniels_steps.step()\n",
    "    \n",
    "print(f'{daniels_steps.steps = }.')\n",
    "daniels_steps.reset()\n",
    "print(f'{daniels_steps.steps = }.')"
   ]
  },
  {
   "cell_type": "markdown",
   "metadata": {},
   "source": [
    "Mina anteckningar hur det funkar ovan:\n",
    "- Skapar en 'property' som heter 'steps'. Propertyn returnerar värdet i en variabel '_steps'. Därför måste denna _steps även finnas bland attributen. Denna property blir getter metoden för 'steps'.\n",
    "- Initierar _steps till 0, uppe bland attrubuten.\n",
    "- Det ska inte finnas en 'steps.setter', eftersom det ska vara read only.\n",
    "- Det finns en metod för att öka _steps med 1\n",
    "- Det finns en metod för att reseta _steps.\n",
    "- JAg tror inte man kan ha en property som heter 'steps' och samtidigt ha ett attribut som heter 'steps'. Därför ska det heta _steps uppe bland attributen."
   ]
  },
  {
   "cell_type": "markdown",
   "metadata": {},
   "source": [
    "---\n",
    "## 2. Empty/full glass simulator (*)\n",
    "\n",
    "Create a class that represents a glass of water. It should have a method for filling the glass, and another method for emptying the glass. Also, there needs to be an internal/private attribute that keeps track of if the glass is empty or full. Depending on the current state (empty/full), the method that fills the glass should print either \"Filling the glass with water\" or \"The glass is already full\". The other method should print either \"Emptying the glass\" or \"The glass is already empty\".\n",
    "\n",
    "**Additional exercise:** Add another method to break the glass. Every glass (instance) keeps track of it's internal state, and prints what happens when the different methods are executed. Eg. \"The glass breaks. Now there is water all over the floor\", or \"The glass can not be filled, since it's broken\", etc."
   ]
  },
  {
   "cell_type": "code",
   "execution_count": null,
   "metadata": {},
   "outputs": [],
   "source": [
    "class GlassOfWater:\n",
    "    def __init__(self):\n",
    "        self._state = 'empty'\n",
    "\n",
    "    @property\n",
    "    def state(self):\n",
    "        return self._state\n",
    "    \n",
    "    def fill_glass(self):\n",
    "        if self._state == 'full':\n",
    "            print('The glass is already full.')\n",
    "        elif self._state == 'empty':\n",
    "            print('Filling the glass with water.')\n",
    "            self._state = 'full'\n",
    "\n",
    "    def empty_glass(self):\n",
    "        if self._state == 'empty':\n",
    "            print('The glass is already empty.')\n",
    "        elif self._state == 'full':\n",
    "            print('Emptying the glass.')\n",
    "            self._state = 'empty'\n",
    "   \n",
    "\n",
    "my_glass = GlassOfWater()\n",
    "print(f'{my_glass.state = }')\n",
    "my_glass.fill_glass()\n",
    "print(f'{my_glass.state = }')\n",
    "my_glass.empty_glass()\n",
    "print(f'{my_glass.state = }')\n"
   ]
  },
  {
   "cell_type": "code",
   "execution_count": 20,
   "metadata": {},
   "outputs": [
    {
     "name": "stdout",
     "output_type": "stream",
     "text": [
      "my_glass.state = 'empty'\n",
      "Filling the glass with water.\n",
      "my_glass.state = 'full'\n",
      "Emptying the glass.\n",
      "my_glass.state = 'empty'\n"
     ]
    }
   ],
   "source": [
    "#additional exercise:\n",
    "\n",
    "class GlassOfWater:\n",
    "    def __init__(self):\n",
    "        self._state = 'empty'\n",
    "        self._broken_state = 'not broken'\n",
    "\n",
    "    @property\n",
    "    def state(self):\n",
    "        return self._state\n",
    "    \n",
    "    def fill_glass(self):\n",
    "        if self._state == 'full':\n",
    "            print('The glass is already full.')\n",
    "        elif self._state == 'empty':\n",
    "            print('Filling the glass with water.')\n",
    "            self._state = 'full'\n",
    "\n",
    "    def empty_glass(self):\n",
    "        if self._state == 'empty':\n",
    "            print('The glass is already empty.')\n",
    "        elif self._state == 'full':\n",
    "            print('Emptying the glass.')\n",
    "            self._state = 'empty'\n",
    "    \n",
    "    def break_glass(self):\n",
    "            print('The glass broke, there is water all over the floor.')\n",
    "            self._state = 'empty'\n",
    "            self._broken_state = 'broken'\n",
    "\n",
    "\n",
    "my_glass = GlassOfWater()\n",
    "print(f'{my_glass.state = }')\n",
    "my_glass.fill_glass()\n",
    "print(f'{my_glass.state = }')\n",
    "my_glass.empty_glass()\n",
    "print(f'{my_glass.state = }')\n"
   ]
  },
  {
   "cell_type": "markdown",
   "metadata": {},
   "source": [
    "Min kommentar:\n",
    "- _state och _broken_state finns som \"properties\" i koden, eftersom jag initierar dem som 'empty' och 'not broken', när man skapar objektet. När man gör en instans av klassen, så krävs inga inputargument. Varje objekts första state kommer vara 'empty' och 'not broken'."
   ]
  },
  {
   "cell_type": "markdown",
   "metadata": {},
   "source": [
    "---\n",
    "## 3. Red and blue (*)\n",
    "\n",
    "Create a class that has a property \"red\", and a property \"blue\". Both should be floats, and be able to take any value between 0.0 and 100.0. However, they should be \"linked\" in such a way that the sum of \"red\" and \"blue\" always is 100.0. i.e. if we set the value of \"blue\" to 8.5, and then read the value of \"red\", it should return 91.5"
   ]
  },
  {
   "cell_type": "code",
   "execution_count": 26,
   "metadata": {},
   "outputs": [
    {
     "name": "stdout",
     "output_type": "stream",
     "text": [
      "Input can not be a string, it shall be integer or float. Defaulting to 50.\n",
      "test1.red = 99\n",
      "test2.blue = 50\n",
      "test2.red = 50\n"
     ]
    }
   ],
   "source": [
    "class RedBlue:\n",
    "    def __init__(self, red=None, blue=None):\n",
    "        if not red == None:\n",
    "            self.red = red\n",
    "        else:\n",
    "            self.blue = blue\n",
    "    @property\n",
    "    def red(self):\n",
    "        return self._red\n",
    "    \n",
    "    @property\n",
    "    def blue(self):\n",
    "        return 100 - self._red\n",
    "\n",
    "    @red.setter\n",
    "    def red(self, red):\n",
    "        if type(red) in [float, int] and (red >= 0 and red <= 100):\n",
    "            self._red = red\n",
    "        elif type(red) in [str]:\n",
    "            self._red = 50\n",
    "            print ('Input can not be a string, it must be an integer or a float. Defaulting to 50.')\n",
    "        elif red < 0:\n",
    "            self.red = 0\n",
    "        elif red > 100:\n",
    "            self.red = 100\n",
    "        else: print('Something is really wrong. Check that input is an integer or a float.')\n",
    "            \n",
    "    @blue.setter\n",
    "    def blue(self, blue):\n",
    "        if type(blue) in [float, int] and (blue >= 0 and blue <=100):\n",
    "            self._red = 100 - blue\n",
    "        elif type(blue in [str]):\n",
    "            self._red = 50\n",
    "            print('Input can not be a string, it shall be integer or float. Defaulting to 50.')\n",
    "        elif blue < 0:\n",
    "            self._red = 100\n",
    "        elif blue > 100:\n",
    "            self.red = 0\n",
    "        else: print('Something is really wrong. Check that input is an integer or a float.')\n",
    "        # man kan throw exception, eller if <0 eller >100 osv...\n",
    "                \n",
    "    def __str__(self):\n",
    "        return f'Red = {self.red}, Blue = {self.blue}.'\n",
    "\n",
    "test1 = RedBlue(red = 99)\n",
    "test2 = RedBlue(blue = 'hello')\n",
    "\n",
    "print(f'{test1.red = }')\n",
    "print(f'{test2.blue = }')\n",
    "print(f'{test2.red = }')\n",
    "#print(test1)"
   ]
  },
  {
   "cell_type": "markdown",
   "metadata": {},
   "source": [
    "---\n",
    "## 4. One thousand cars (*)\n",
    "\n",
    "Create a class that represents a car. Every car can have a color and a length. When a new car is instantiated it gets a random color, and a random length (between 3 and 5 meters). Instatiate 1000 cars a save them in a list. Then print the sum of the length of all green cars in the list."
   ]
  },
  {
   "cell_type": "code",
   "execution_count": 57,
   "metadata": {},
   "outputs": [
    {
     "name": "stdout",
     "output_type": "stream",
     "text": [
      "[{'color': 'blue', 'length': 4.684422229322937}, {'color': 'white', 'length': 3.9327010023020765}, {'color': 'black', 'length': 4.899514746400879}, {'color': 'white', 'length': 4.799063128978348}, {'color': 'blue', 'length': 4.308567497629989}, {'color': 'green', 'length': 3.2593745046674374}, {'color': 'grey', 'length': 3.696355299549011}, {'color': 'blue', 'length': 4.4974104150179315}, {'color': 'black', 'length': 4.135903573615328}, {'color': 'orange', 'length': 3.639564523661303}, {'color': 'grey', 'length': 3.3456359852071618}, {'color': 'blue', 'length': 4.567252884831027}, {'color': 'grey', 'length': 4.096037178986559}, {'color': 'white', 'length': 4.739443713917826}, {'color': 'red', 'length': 3.994379832789197}, {'color': 'grey', 'length': 3.154465448392737}, {'color': 'black', 'length': 3.74958243134772}, {'color': 'white', 'length': 3.4600635538069806}, {'color': 'blue', 'length': 3.0942186543193393}, {'color': 'black', 'length': 3.775652992634803}, {'color': 'black', 'length': 4.616783432216435}, {'color': 'blue', 'length': 4.792274115913718}, {'color': 'grey', 'length': 3.070024110774656}, {'color': 'blue', 'length': 4.194914947700453}, {'color': 'red', 'length': 3.5685651763860395}, {'color': 'black', 'length': 3.8416380812483544}, {'color': 'blue', 'length': 4.995516925611444}, {'color': 'blue', 'length': 4.415912668004002}, {'color': 'red', 'length': 3.5876578024743466}, {'color': 'red', 'length': 4.7591252045090275}, {'color': 'black', 'length': 4.658955751833617}, {'color': 'red', 'length': 3.221516632624179}, {'color': 'orange', 'length': 3.0992240721775977}, {'color': 'red', 'length': 3.068711284980859}, {'color': 'white', 'length': 3.693945125812376}, {'color': 'blue', 'length': 3.2186361982498752}, {'color': 'blue', 'length': 3.598754517899075}, {'color': 'red', 'length': 3.0976106802727763}, {'color': 'black', 'length': 4.859203179150427}, {'color': 'grey', 'length': 3.3122067684791947}, {'color': 'blue', 'length': 3.7571781264754547}, {'color': 'white', 'length': 4.6026059732844224}, {'color': 'orange', 'length': 3.0373376616464207}, {'color': 'black', 'length': 3.165360539226583}, {'color': 'blue', 'length': 3.668154039244521}, {'color': 'orange', 'length': 3.726543882319748}, {'color': 'orange', 'length': 3.6997286673509593}, {'color': 'white', 'length': 3.1131637477926044}, {'color': 'blue', 'length': 3.3962824900685473}, {'color': 'grey', 'length': 4.849515102633767}, {'color': 'blue', 'length': 3.39702602513387}, {'color': 'blue', 'length': 3.20065173824998}, {'color': 'grey', 'length': 3.7364410776951416}, {'color': 'white', 'length': 4.576797701657589}, {'color': 'green', 'length': 4.087032328922745}, {'color': 'white', 'length': 3.9800954912768702}, {'color': 'orange', 'length': 3.316635197125634}, {'color': 'orange', 'length': 3.4890814149220066}, {'color': 'grey', 'length': 3.3455024261779664}, {'color': 'green', 'length': 3.8717091207235472}, {'color': 'green', 'length': 3.822946783121427}, {'color': 'grey', 'length': 3.634920579672037}, {'color': 'white', 'length': 3.4520689851486805}, {'color': 'grey', 'length': 4.2269538637200235}, {'color': 'blue', 'length': 4.115458415147119}, {'color': 'green', 'length': 3.0832387050744336}, {'color': 'red', 'length': 4.218799926976655}, {'color': 'blue', 'length': 4.816501006702345}, {'color': 'white', 'length': 4.0582101512628785}, {'color': 'green', 'length': 4.733529419428353}, {'color': 'red', 'length': 3.514058839662313}, {'color': 'orange', 'length': 3.2621448361989427}, {'color': 'black', 'length': 4.942312391532264}, {'color': 'white', 'length': 4.721230829119986}, {'color': 'green', 'length': 3.524965454209477}, {'color': 'black', 'length': 4.918497924114369}, {'color': 'orange', 'length': 3.3617817875927347}, {'color': 'grey', 'length': 4.606495797439743}, {'color': 'orange', 'length': 3.5473468859990387}, {'color': 'green', 'length': 3.6482737831649033}, {'color': 'white', 'length': 3.6683377646505395}, {'color': 'blue', 'length': 3.9741507142375196}, {'color': 'black', 'length': 4.209385554585703}, {'color': 'red', 'length': 3.081220235766886}, {'color': 'white', 'length': 4.997560640263789}, {'color': 'grey', 'length': 4.797026011832516}, {'color': 'red', 'length': 4.7992245833527445}, {'color': 'green', 'length': 4.599851126647836}, {'color': 'orange', 'length': 4.136691893833049}, {'color': 'red', 'length': 3.276366916566375}, {'color': 'grey', 'length': 4.9889838174263375}, {'color': 'white', 'length': 4.024882309515803}, {'color': 'white', 'length': 4.6401123031451394}, {'color': 'black', 'length': 4.6940606985865845}, {'color': 'black', 'length': 4.672562222390743}, {'color': 'orange', 'length': 3.796980738018368}, {'color': 'orange', 'length': 4.265713348839344}, {'color': 'red', 'length': 4.022492473171916}, {'color': 'black', 'length': 3.52173815544276}, {'color': 'blue', 'length': 3.963161225825491}, {'color': 'white', 'length': 3.095673755583104}, {'color': 'green', 'length': 4.794258245725458}, {'color': 'green', 'length': 3.8277507845465673}, {'color': 'black', 'length': 3.5931053960213957}, {'color': 'black', 'length': 3.6669351355035804}, {'color': 'white', 'length': 4.4976316758175585}, {'color': 'white', 'length': 3.852361243688041}, {'color': 'black', 'length': 4.269058988903797}, {'color': 'black', 'length': 3.442797152875305}, {'color': 'green', 'length': 3.581453156398366}, {'color': 'blue', 'length': 4.2074571064318445}, {'color': 'white', 'length': 3.0633746938240587}, {'color': 'white', 'length': 4.144062030609092}, {'color': 'white', 'length': 3.4623438633000303}, {'color': 'black', 'length': 4.741964346779219}, {'color': 'white', 'length': 3.3966376128278637}, {'color': 'black', 'length': 4.396362749869587}, {'color': 'grey', 'length': 3.5911526702857364}, {'color': 'blue', 'length': 3.338790801676689}, {'color': 'blue', 'length': 4.257428923793366}, {'color': 'orange', 'length': 3.063772038786154}, {'color': 'red', 'length': 3.615321920278092}, {'color': 'white', 'length': 4.577895011601589}, {'color': 'grey', 'length': 3.9555079472315864}, {'color': 'black', 'length': 4.37885744597097}, {'color': 'orange', 'length': 3.0535484925913132}, {'color': 'white', 'length': 3.465465348631395}, {'color': 'white', 'length': 4.829111477368917}, {'color': 'grey', 'length': 3.2700426064131713}, {'color': 'red', 'length': 4.309439986627437}, {'color': 'blue', 'length': 4.179114386859271}, {'color': 'grey', 'length': 3.190317973837406}, {'color': 'red', 'length': 4.850355434995608}, {'color': 'red', 'length': 4.60192903441004}, {'color': 'black', 'length': 4.4233256517127035}, {'color': 'orange', 'length': 3.901761317671096}, {'color': 'black', 'length': 3.8796840817204483}, {'color': 'black', 'length': 3.1278445328412294}, {'color': 'green', 'length': 3.223076120879255}, {'color': 'red', 'length': 4.798808213527788}, {'color': 'green', 'length': 3.544494548269358}, {'color': 'red', 'length': 4.887465269074973}, {'color': 'white', 'length': 3.304684047166835}, {'color': 'blue', 'length': 3.8396737431004584}, {'color': 'orange', 'length': 3.1273195467696797}, {'color': 'red', 'length': 3.7220078525768923}, {'color': 'orange', 'length': 4.957948179827885}, {'color': 'orange', 'length': 3.6401718145693427}, {'color': 'green', 'length': 3.5923958335936534}, {'color': 'green', 'length': 3.916600656377675}, {'color': 'grey', 'length': 4.934232541304588}, {'color': 'orange', 'length': 4.728262462769543}, {'color': 'white', 'length': 4.757288179051068}, {'color': 'grey', 'length': 4.285581421741756}, {'color': 'green', 'length': 4.9317289992416935}, {'color': 'grey', 'length': 4.278480340569425}, {'color': 'black', 'length': 3.247252452579536}, {'color': 'green', 'length': 4.678047649195803}, {'color': 'black', 'length': 3.652568050998738}, {'color': 'orange', 'length': 4.877418003498686}, {'color': 'grey', 'length': 3.6806155003861103}, {'color': 'orange', 'length': 3.5993717257981275}, {'color': 'red', 'length': 3.7625555107776227}, {'color': 'white', 'length': 4.759946147047574}, {'color': 'green', 'length': 4.820325061701522}, {'color': 'grey', 'length': 3.619612485255029}, {'color': 'blue', 'length': 4.168510559086268}, {'color': 'orange', 'length': 3.4591141477928504}, {'color': 'red', 'length': 4.790525877841199}, {'color': 'orange', 'length': 4.892533151723441}, {'color': 'white', 'length': 4.640802930171626}, {'color': 'grey', 'length': 4.367946903377382}, {'color': 'blue', 'length': 3.591745894970691}, {'color': 'green', 'length': 3.381434004411301}, {'color': 'black', 'length': 3.9424859234990857}, {'color': 'blue', 'length': 3.7483491351006646}, {'color': 'orange', 'length': 4.536174192818613}, {'color': 'grey', 'length': 4.460366901415757}, {'color': 'black', 'length': 3.3697008169808207}, {'color': 'orange', 'length': 4.13361728131153}, {'color': 'orange', 'length': 3.1083591850636814}, {'color': 'blue', 'length': 3.0217751025801944}, {'color': 'orange', 'length': 3.7716313456958765}, {'color': 'blue', 'length': 4.307770604527505}, {'color': 'red', 'length': 3.418547221017237}, {'color': 'green', 'length': 3.898295995234731}, {'color': 'green', 'length': 4.316794464875926}, {'color': 'red', 'length': 3.128294418992298}, {'color': 'green', 'length': 3.2840147639454873}, {'color': 'red', 'length': 3.7072588221271463}, {'color': 'green', 'length': 3.9513817068893706}, {'color': 'red', 'length': 3.1960968218827537}, {'color': 'red', 'length': 4.301017700508043}, {'color': 'green', 'length': 4.217141578653065}, {'color': 'blue', 'length': 3.0790021005981374}, {'color': 'black', 'length': 3.695948675211506}, {'color': 'orange', 'length': 3.455558753815815}, {'color': 'red', 'length': 4.759699316221937}, {'color': 'green', 'length': 3.373518425821034}, {'color': 'black', 'length': 3.4659342824006307}, {'color': 'orange', 'length': 4.856636538887553}, {'color': 'white', 'length': 3.022308943722243}, {'color': 'grey', 'length': 3.822981775166256}, {'color': 'black', 'length': 3.685896233490773}, {'color': 'blue', 'length': 4.1277015470338965}, {'color': 'green', 'length': 4.217773013909024}, {'color': 'green', 'length': 3.885339425592537}, {'color': 'grey', 'length': 3.7306592613269336}, {'color': 'orange', 'length': 4.183684692162237}, {'color': 'black', 'length': 3.6507211924513356}, {'color': 'black', 'length': 4.532680976573555}, {'color': 'red', 'length': 4.91721698901415}, {'color': 'white', 'length': 4.5330175348513375}, {'color': 'blue', 'length': 3.3038901655406963}, {'color': 'red', 'length': 3.502396181077947}, {'color': 'orange', 'length': 3.667468891890403}, {'color': 'black', 'length': 4.4754641012522205}, {'color': 'green', 'length': 4.634792591411027}, {'color': 'black', 'length': 3.8986080465105024}, {'color': 'green', 'length': 3.1298451458646195}, {'color': 'black', 'length': 3.23967500761145}, {'color': 'black', 'length': 4.690407249169008}, {'color': 'orange', 'length': 3.343841019316952}, {'color': 'red', 'length': 4.366035608613105}, {'color': 'blue', 'length': 4.669704740993536}, {'color': 'white', 'length': 3.0840327474766127}, {'color': 'grey', 'length': 4.504421523079215}, {'color': 'blue', 'length': 3.6845750087920033}, {'color': 'red', 'length': 4.255408644259865}, {'color': 'orange', 'length': 3.0084618526432934}, {'color': 'black', 'length': 4.755882150211759}, {'color': 'white', 'length': 4.123809817605457}, {'color': 'red', 'length': 3.5732963476428035}, {'color': 'grey', 'length': 3.6938660750366896}, {'color': 'orange', 'length': 3.174463236715069}, {'color': 'white', 'length': 4.249579857337272}, {'color': 'orange', 'length': 3.1927825026865717}, {'color': 'black', 'length': 4.197388723777321}, {'color': 'black', 'length': 4.759072388685481}, {'color': 'orange', 'length': 4.827458700850233}, {'color': 'orange', 'length': 3.059354102651597}, {'color': 'blue', 'length': 3.107925477531748}, {'color': 'black', 'length': 4.339413992496539}, {'color': 'blue', 'length': 3.150462068801554}, {'color': 'orange', 'length': 4.856731581596113}, {'color': 'black', 'length': 4.2240211285435185}, {'color': 'blue', 'length': 4.58359473247659}, {'color': 'white', 'length': 3.2867093572072106}, {'color': 'green', 'length': 4.479590955539249}, {'color': 'grey', 'length': 3.4057824811985737}, {'color': 'black', 'length': 3.0822473076760613}, {'color': 'red', 'length': 3.0892074631840813}, {'color': 'green', 'length': 4.030598442921175}, {'color': 'red', 'length': 3.1080443976329066}, {'color': 'white', 'length': 3.5762194138601027}, {'color': 'green', 'length': 4.594278540203936}, {'color': 'grey', 'length': 3.949221262849183}, {'color': 'white', 'length': 4.645718716067571}, {'color': 'black', 'length': 4.282586885138679}, {'color': 'orange', 'length': 3.325318912838867}, {'color': 'black', 'length': 3.634948562978396}, {'color': 'grey', 'length': 3.4909704788047637}, {'color': 'white', 'length': 3.4236191443651665}, {'color': 'green', 'length': 3.8893777850508}, {'color': 'red', 'length': 4.03117244699264}, {'color': 'blue', 'length': 3.0390176130534794}, {'color': 'red', 'length': 4.6912580584332275}, {'color': 'white', 'length': 4.044376184637737}, {'color': 'white', 'length': 3.911208414088641}, {'color': 'grey', 'length': 3.0068474858516208}, {'color': 'red', 'length': 4.370861665504504}, {'color': 'green', 'length': 3.1493130367591307}, {'color': 'orange', 'length': 4.59554343077499}, {'color': 'orange', 'length': 4.040007028222932}, {'color': 'blue', 'length': 4.433212281507324}, {'color': 'orange', 'length': 3.607731280519019}, {'color': 'orange', 'length': 4.175809887680178}, {'color': 'grey', 'length': 3.460279542850507}, {'color': 'white', 'length': 4.679145753144036}, {'color': 'blue', 'length': 3.43420929568897}, {'color': 'black', 'length': 3.7219974803545943}, {'color': 'black', 'length': 3.208783997648222}, {'color': 'grey', 'length': 4.2629512174136055}, {'color': 'red', 'length': 3.3662166208996256}, {'color': 'white', 'length': 4.174687817507323}, {'color': 'black', 'length': 4.038647402991181}, {'color': 'red', 'length': 4.516997196040881}, {'color': 'black', 'length': 3.0088410340230274}, {'color': 'green', 'length': 4.381590712415084}, {'color': 'orange', 'length': 3.5337037513808562}, {'color': 'white', 'length': 4.0660199236500825}, {'color': 'red', 'length': 3.35763847077914}, {'color': 'blue', 'length': 4.987051459736449}, {'color': 'grey', 'length': 3.9795653412341148}, {'color': 'blue', 'length': 4.908418011823297}, {'color': 'black', 'length': 4.425863685309968}, {'color': 'green', 'length': 3.7740205128645075}, {'color': 'grey', 'length': 3.413603075958557}, {'color': 'red', 'length': 3.54974500478616}, {'color': 'black', 'length': 3.7722835589578247}, {'color': 'orange', 'length': 3.193096559647742}, {'color': 'green', 'length': 4.669870596609922}, {'color': 'black', 'length': 3.6974862765629624}, {'color': 'black', 'length': 3.796172002961122}, {'color': 'grey', 'length': 4.276198768159137}, {'color': 'orange', 'length': 3.690848975450977}, {'color': 'red', 'length': 3.2481062756447168}, {'color': 'blue', 'length': 3.6448175446763886}, {'color': 'blue', 'length': 3.3799913951913467}, {'color': 'blue', 'length': 4.274600273019953}, {'color': 'blue', 'length': 4.2220119468652495}, {'color': 'grey', 'length': 3.1587941612092476}, {'color': 'green', 'length': 3.0774574350127595}, {'color': 'green', 'length': 3.6180687776199005}, {'color': 'red', 'length': 4.477914759667645}, {'color': 'green', 'length': 3.0630898659537094}, {'color': 'orange', 'length': 4.029835632322801}, {'color': 'grey', 'length': 3.5224340431904393}, {'color': 'red', 'length': 4.62613047029116}, {'color': 'orange', 'length': 4.193559489418315}, {'color': 'orange', 'length': 4.769048400453204}, {'color': 'grey', 'length': 3.3300800144280442}, {'color': 'orange', 'length': 4.729656788466626}, {'color': 'white', 'length': 3.735710775222465}, {'color': 'red', 'length': 4.124364019572934}, {'color': 'green', 'length': 4.389938569738687}, {'color': 'blue', 'length': 3.9139980799408196}, {'color': 'black', 'length': 4.2332668514886835}, {'color': 'orange', 'length': 4.954789063914916}, {'color': 'green', 'length': 4.926518223584193}, {'color': 'orange', 'length': 3.5119931371936524}, {'color': 'red', 'length': 4.760756556217033}, {'color': 'green', 'length': 3.1455096856507216}, {'color': 'blue', 'length': 3.1294316737554895}, {'color': 'black', 'length': 4.598683869334741}, {'color': 'white', 'length': 4.511308370713666}, {'color': 'blue', 'length': 4.511920141652464}, {'color': 'grey', 'length': 3.380739515206952}, {'color': 'green', 'length': 3.0939565448066215}, {'color': 'white', 'length': 3.8560231480986413}, {'color': 'orange', 'length': 3.8068692102962784}, {'color': 'orange', 'length': 3.1452491974614603}, {'color': 'red', 'length': 3.8848128849769656}, {'color': 'black', 'length': 4.707208234587248}, {'color': 'blue', 'length': 3.0153360696134697}, {'color': 'white', 'length': 4.00714803105491}, {'color': 'grey', 'length': 4.311591860587319}, {'color': 'white', 'length': 3.393041365513615}, {'color': 'black', 'length': 3.4082755681852106}, {'color': 'orange', 'length': 4.58359304630652}, {'color': 'red', 'length': 3.9494044565470663}, {'color': 'grey', 'length': 4.887806765926965}, {'color': 'red', 'length': 4.952342240082135}, {'color': 'blue', 'length': 3.085805871151381}, {'color': 'red', 'length': 4.804689683749475}, {'color': 'red', 'length': 3.82702551383338}, {'color': 'white', 'length': 4.58705340607113}, {'color': 'red', 'length': 3.351630064870969}, {'color': 'red', 'length': 3.95837203480034}, {'color': 'black', 'length': 4.645341336713397}, {'color': 'red', 'length': 4.355777471090793}, {'color': 'grey', 'length': 3.9235031302020453}, {'color': 'white', 'length': 3.0953487910578126}, {'color': 'green', 'length': 3.9791301306284814}, {'color': 'white', 'length': 3.4750358805638593}, {'color': 'red', 'length': 3.3663531575583026}, {'color': 'grey', 'length': 4.446962571838785}, {'color': 'red', 'length': 3.9610819300476696}, {'color': 'grey', 'length': 4.99954088043378}, {'color': 'red', 'length': 4.361960049718308}, {'color': 'black', 'length': 3.1991364399769413}, {'color': 'green', 'length': 4.983729602007443}, {'color': 'grey', 'length': 4.61649847669621}, {'color': 'black', 'length': 3.691912137462996}, {'color': 'white', 'length': 4.680974427733398}, {'color': 'green', 'length': 3.024428942126929}, {'color': 'black', 'length': 4.025038423052319}, {'color': 'black', 'length': 3.2645431144730046}, {'color': 'black', 'length': 4.505567498925113}, {'color': 'white', 'length': 4.585226623757662}, {'color': 'orange', 'length': 3.2331801862590503}, {'color': 'grey', 'length': 4.172392500585327}, {'color': 'orange', 'length': 3.918555509186877}, {'color': 'grey', 'length': 3.124959286611538}, {'color': 'white', 'length': 3.1235152987809016}, {'color': 'green', 'length': 4.766848207056203}, {'color': 'orange', 'length': 4.630341035547889}, {'color': 'blue', 'length': 3.2708951535177073}, {'color': 'grey', 'length': 3.56608130131084}, {'color': 'black', 'length': 4.957270707308837}, {'color': 'white', 'length': 3.625063136993311}, {'color': 'blue', 'length': 3.663184531167021}, {'color': 'green', 'length': 3.8298080199978046}, {'color': 'white', 'length': 4.485426378367334}, {'color': 'orange', 'length': 3.3618131009831664}, {'color': 'black', 'length': 4.651670280586063}, {'color': 'orange', 'length': 3.3701628495455846}, {'color': 'green', 'length': 4.748896549161957}, {'color': 'white', 'length': 4.867889143647676}, {'color': 'green', 'length': 3.4318194325301303}, {'color': 'white', 'length': 3.255697993381184}, {'color': 'blue', 'length': 4.534245306905975}, {'color': 'blue', 'length': 4.9304331857834764}, {'color': 'white', 'length': 4.333477751893101}, {'color': 'grey', 'length': 3.283653790450807}, {'color': 'red', 'length': 4.567879133646741}, {'color': 'orange', 'length': 4.5903654223972215}, {'color': 'blue', 'length': 4.718918592889651}, {'color': 'black', 'length': 3.3738840710091433}, {'color': 'black', 'length': 4.005139502176549}, {'color': 'black', 'length': 3.140148929750135}, {'color': 'grey', 'length': 4.405087743432189}, {'color': 'orange', 'length': 4.158634222291166}, {'color': 'orange', 'length': 3.1055603559062037}, {'color': 'orange', 'length': 4.457059406418575}, {'color': 'black', 'length': 3.9267010790492907}, {'color': 'black', 'length': 3.917430195022302}, {'color': 'grey', 'length': 4.86066577509256}, {'color': 'white', 'length': 3.170211040035263}, {'color': 'red', 'length': 3.0423907130082752}, {'color': 'orange', 'length': 4.0421916822454085}, {'color': 'white', 'length': 3.162458175242034}, {'color': 'grey', 'length': 4.289914842713321}, {'color': 'blue', 'length': 4.937871876214752}, {'color': 'blue', 'length': 4.767162641298029}, {'color': 'red', 'length': 3.320641007405631}, {'color': 'red', 'length': 3.2323455635496487}, {'color': 'blue', 'length': 3.893717467838523}, {'color': 'grey', 'length': 3.890545162022175}, {'color': 'green', 'length': 3.8848079821387653}, {'color': 'green', 'length': 3.1177050509077984}, {'color': 'white', 'length': 4.097048462628834}, {'color': 'blue', 'length': 4.8675118819572205}, {'color': 'blue', 'length': 4.59415054326014}, {'color': 'white', 'length': 3.049627483227721}, {'color': 'red', 'length': 3.1281798519082553}, {'color': 'blue', 'length': 4.847593460880674}, {'color': 'orange', 'length': 4.352311882288974}, {'color': 'red', 'length': 4.367866094939586}, {'color': 'white', 'length': 4.8011310821677675}, {'color': 'blue', 'length': 3.4738446277681545}, {'color': 'blue', 'length': 4.920829894770403}, {'color': 'white', 'length': 4.90144976798602}, {'color': 'orange', 'length': 4.705622386172806}, {'color': 'white', 'length': 4.5109676190245604}, {'color': 'black', 'length': 4.313707846138065}, {'color': 'blue', 'length': 4.940168554795983}, {'color': 'red', 'length': 3.4234850645804635}, {'color': 'red', 'length': 3.6535741727019717}, {'color': 'white', 'length': 3.2617712284870475}, {'color': 'white', 'length': 3.383324620228305}, {'color': 'grey', 'length': 3.782660521002688}, {'color': 'orange', 'length': 3.272667447381939}, {'color': 'white', 'length': 4.458759355592749}, {'color': 'black', 'length': 3.7376197099303052}, {'color': 'grey', 'length': 3.5561053731072083}, {'color': 'grey', 'length': 3.6136683961905334}, {'color': 'red', 'length': 3.8434521026174213}, {'color': 'grey', 'length': 3.796025467059242}, {'color': 'green', 'length': 3.9149269283904626}, {'color': 'green', 'length': 4.945198417726362}, {'color': 'red', 'length': 4.412083982225784}, {'color': 'grey', 'length': 3.8008617403255456}, {'color': 'green', 'length': 4.5135180205983385}, {'color': 'orange', 'length': 3.288830206810954}, {'color': 'orange', 'length': 3.7806744720669587}, {'color': 'black', 'length': 3.1553782270137893}, {'color': 'grey', 'length': 4.600991854104552}, {'color': 'blue', 'length': 3.003778623727166}, {'color': 'blue', 'length': 3.495284531918542}, {'color': 'white', 'length': 3.92057143123703}, {'color': 'blue', 'length': 4.65585436883419}, {'color': 'red', 'length': 4.262829123433202}, {'color': 'grey', 'length': 4.194972515538657}, {'color': 'green', 'length': 3.8083517990614064}, {'color': 'blue', 'length': 3.516199344550683}, {'color': 'orange', 'length': 3.904895332759351}, {'color': 'grey', 'length': 4.675123756751331}, {'color': 'orange', 'length': 4.124711799103421}, {'color': 'grey', 'length': 4.842400785757072}, {'color': 'blue', 'length': 4.704502490621074}, {'color': 'orange', 'length': 4.421147882718686}, {'color': 'black', 'length': 3.819597069771387}, {'color': 'grey', 'length': 3.6277142993510045}, {'color': 'black', 'length': 3.0783791783778747}, {'color': 'grey', 'length': 3.1484370568810887}, {'color': 'red', 'length': 3.6556244134713323}, {'color': 'grey', 'length': 3.047548780254147}, {'color': 'orange', 'length': 4.068517521300425}, {'color': 'green', 'length': 4.870280614409646}, {'color': 'black', 'length': 4.475907775466846}, {'color': 'black', 'length': 3.957654617236458}, {'color': 'red', 'length': 3.740951442560655}, {'color': 'orange', 'length': 4.479586881026348}, {'color': 'grey', 'length': 3.3501927600500028}, {'color': 'red', 'length': 3.8588228530397393}, {'color': 'white', 'length': 3.475680684719463}, {'color': 'grey', 'length': 3.907348430214174}, {'color': 'blue', 'length': 4.826402290901019}, {'color': 'white', 'length': 3.7967262869517127}, {'color': 'orange', 'length': 3.7839906128539607}, {'color': 'white', 'length': 3.211064414726971}, {'color': 'red', 'length': 4.219033458223363}, {'color': 'blue', 'length': 4.4494798418815265}, {'color': 'black', 'length': 3.993025072866181}, {'color': 'blue', 'length': 3.1217281037279028}, {'color': 'blue', 'length': 4.466223944022106}, {'color': 'red', 'length': 3.4270043388081586}, {'color': 'blue', 'length': 3.6367213244160963}, {'color': 'grey', 'length': 4.331724744083802}, {'color': 'blue', 'length': 4.9750571291758305}, {'color': 'orange', 'length': 4.984615009244692}, {'color': 'black', 'length': 3.2591951642274823}, {'color': 'black', 'length': 3.0243126016452395}, {'color': 'black', 'length': 4.590443589126569}, {'color': 'white', 'length': 4.083306169688201}, {'color': 'red', 'length': 4.494856346585127}, {'color': 'orange', 'length': 3.3501691037473798}, {'color': 'white', 'length': 4.212595165625004}, {'color': 'blue', 'length': 3.9904391387622162}, {'color': 'black', 'length': 3.9053368957076096}, {'color': 'black', 'length': 4.108635477291481}, {'color': 'black', 'length': 3.553422983740761}, {'color': 'orange', 'length': 4.856249511937369}, {'color': 'grey', 'length': 4.936197130961571}, {'color': 'white', 'length': 3.581642291098258}, {'color': 'white', 'length': 4.032260167019286}, {'color': 'red', 'length': 4.745742333961134}, {'color': 'blue', 'length': 3.678244301122956}, {'color': 'grey', 'length': 4.14502974715688}, {'color': 'orange', 'length': 3.241229266924111}, {'color': 'orange', 'length': 3.487189474821875}, {'color': 'grey', 'length': 3.0274742008955524}, {'color': 'red', 'length': 3.6046584717997865}, {'color': 'green', 'length': 3.2580860005301178}, {'color': 'grey', 'length': 3.157331548942441}, {'color': 'white', 'length': 4.7819692428670555}, {'color': 'red', 'length': 4.262853586993955}, {'color': 'grey', 'length': 3.0925804800648597}, {'color': 'orange', 'length': 4.7795663006586215}, {'color': 'blue', 'length': 4.162109726691703}, {'color': 'red', 'length': 4.4101088382511495}, {'color': 'white', 'length': 4.3540044617231155}, {'color': 'white', 'length': 3.2312990016154206}, {'color': 'grey', 'length': 4.224196418369148}, {'color': 'blue', 'length': 3.2314215647336924}, {'color': 'blue', 'length': 3.2311477225173375}, {'color': 'orange', 'length': 4.745202739329297}, {'color': 'black', 'length': 3.7889406605443074}, {'color': 'orange', 'length': 4.039067252321771}, {'color': 'green', 'length': 3.0256481918055815}, {'color': 'white', 'length': 3.2875285508572847}, {'color': 'grey', 'length': 4.298915551482603}, {'color': 'green', 'length': 3.6839902449271764}, {'color': 'red', 'length': 4.664949687322286}, {'color': 'white', 'length': 3.9830674889982856}, {'color': 'orange', 'length': 3.0541208158228086}, {'color': 'black', 'length': 3.6310389204498064}, {'color': 'red', 'length': 4.3878802522203415}, {'color': 'white', 'length': 3.8379041784239636}, {'color': 'orange', 'length': 4.676741974043556}, {'color': 'black', 'length': 4.4777197090192775}, {'color': 'red', 'length': 4.767502286210345}, {'color': 'blue', 'length': 3.8953814246587064}, {'color': 'orange', 'length': 4.673015833822216}, {'color': 'green', 'length': 3.8383770214489736}, {'color': 'green', 'length': 3.8484088836994905}, {'color': 'blue', 'length': 4.115623036391247}, {'color': 'blue', 'length': 3.70389338673167}, {'color': 'red', 'length': 4.195170354184705}, {'color': 'grey', 'length': 4.265571678481203}, {'color': 'grey', 'length': 4.7218497504488095}, {'color': 'grey', 'length': 3.2719028178954632}, {'color': 'green', 'length': 3.30486429204717}, {'color': 'blue', 'length': 4.630809356008433}, {'color': 'red', 'length': 3.6292316648578336}, {'color': 'white', 'length': 4.443475653552519}, {'color': 'orange', 'length': 3.133926716001482}, {'color': 'blue', 'length': 3.4446767680123034}, {'color': 'green', 'length': 3.713166791841874}, {'color': 'grey', 'length': 4.130461387656087}, {'color': 'red', 'length': 4.008074385494497}, {'color': 'blue', 'length': 4.337391062556957}, {'color': 'grey', 'length': 3.0244819263460725}, {'color': 'blue', 'length': 4.233458644353438}, {'color': 'orange', 'length': 3.955136946702871}, {'color': 'green', 'length': 4.690907196763744}, {'color': 'black', 'length': 3.8425326769976085}, {'color': 'orange', 'length': 3.1177041443598554}, {'color': 'green', 'length': 3.0274362921141487}, {'color': 'black', 'length': 4.754169666031147}, {'color': 'green', 'length': 4.664159006421256}, {'color': 'grey', 'length': 3.366604676504299}, {'color': 'blue', 'length': 4.456822453707902}, {'color': 'blue', 'length': 4.137255347595158}, {'color': 'white', 'length': 4.291635709628804}, {'color': 'white', 'length': 4.120454403369393}, {'color': 'orange', 'length': 3.407434649797638}, {'color': 'red', 'length': 4.497818012691576}, {'color': 'black', 'length': 3.435426050741828}, {'color': 'black', 'length': 4.004127382903516}, {'color': 'white', 'length': 4.425734513645069}, {'color': 'red', 'length': 4.861348869845659}, {'color': 'black', 'length': 3.4775919488532763}, {'color': 'white', 'length': 3.596653791464238}, {'color': 'orange', 'length': 4.160832308264971}, {'color': 'orange', 'length': 3.909660684776095}, {'color': 'blue', 'length': 3.1672181054767163}, {'color': 'black', 'length': 3.413813483106513}, {'color': 'black', 'length': 4.975241300972849}, {'color': 'orange', 'length': 3.7766782768401965}, {'color': 'orange', 'length': 3.8275910481642237}, {'color': 'black', 'length': 4.153578189483675}, {'color': 'blue', 'length': 3.42411314910676}, {'color': 'black', 'length': 4.005907051986431}, {'color': 'black', 'length': 3.081404394064438}, {'color': 'white', 'length': 4.623472774652736}, {'color': 'red', 'length': 3.589681413835377}, {'color': 'red', 'length': 4.51458079595324}, {'color': 'orange', 'length': 3.4240962580181296}, {'color': 'orange', 'length': 3.614677164229244}, {'color': 'red', 'length': 3.1463618011296806}, {'color': 'grey', 'length': 4.21322519518033}, {'color': 'white', 'length': 3.41517231994188}, {'color': 'grey', 'length': 4.839216108257377}, {'color': 'black', 'length': 4.889159027003922}, {'color': 'grey', 'length': 4.181022637478616}, {'color': 'orange', 'length': 3.977136370791332}, {'color': 'red', 'length': 4.922109171631365}, {'color': 'orange', 'length': 4.263531301542337}, {'color': 'white', 'length': 3.146528582588141}, {'color': 'blue', 'length': 4.168506907335162}, {'color': 'orange', 'length': 4.219671165985272}, {'color': 'blue', 'length': 3.4485423820033296}, {'color': 'orange', 'length': 3.052051301115303}, {'color': 'blue', 'length': 4.106973311150695}, {'color': 'green', 'length': 4.029874321232866}, {'color': 'white', 'length': 4.270519869095586}, {'color': 'green', 'length': 4.733535126228347}, {'color': 'white', 'length': 3.9989771391153193}, {'color': 'grey', 'length': 3.4885186490242384}, {'color': 'black', 'length': 3.8445633042248355}, {'color': 'white', 'length': 4.524209248240717}, {'color': 'orange', 'length': 3.9174982231518762}, {'color': 'green', 'length': 3.077096108656514}, {'color': 'green', 'length': 3.847298596107467}, {'color': 'white', 'length': 4.505732150891577}, {'color': 'green', 'length': 3.6749398913535245}, {'color': 'white', 'length': 3.6561132057960535}, {'color': 'grey', 'length': 4.184944835777802}, {'color': 'white', 'length': 3.685476574822677}, {'color': 'white', 'length': 3.331715698853328}, {'color': 'red', 'length': 3.7819070394456284}, {'color': 'black', 'length': 4.297380852933771}, {'color': 'black', 'length': 4.76048537829326}, {'color': 'red', 'length': 3.77444669016762}, {'color': 'green', 'length': 3.302177141779021}, {'color': 'green', 'length': 3.4251131492832663}, {'color': 'black', 'length': 3.9894511682046074}, {'color': 'white', 'length': 3.3859787713780625}, {'color': 'black', 'length': 4.6989843185395}, {'color': 'white', 'length': 4.292357036667725}, {'color': 'green', 'length': 4.290980750154995}, {'color': 'green', 'length': 3.3897755311668907}, {'color': 'green', 'length': 4.1771844483379255}, {'color': 'black', 'length': 3.943470951620715}, {'color': 'orange', 'length': 4.007350181914476}, {'color': 'grey', 'length': 4.374676276405568}, {'color': 'black', 'length': 4.501119058121844}, {'color': 'blue', 'length': 3.1585594795878116}, {'color': 'black', 'length': 3.3720594232331527}, {'color': 'green', 'length': 3.1661556448948076}, {'color': 'green', 'length': 4.198891547306704}, {'color': 'black', 'length': 3.4360653467299307}, {'color': 'blue', 'length': 4.743410933267434}, {'color': 'white', 'length': 4.875772863833367}, {'color': 'blue', 'length': 4.813519782762608}, {'color': 'orange', 'length': 4.448408803271144}, {'color': 'red', 'length': 3.3723258594223795}, {'color': 'black', 'length': 3.884460671805452}, {'color': 'green', 'length': 3.2825697679073613}, {'color': 'orange', 'length': 3.1571130805662295}, {'color': 'green', 'length': 3.103903018491389}, {'color': 'blue', 'length': 3.8255403590964834}, {'color': 'black', 'length': 4.2692806168139645}, {'color': 'green', 'length': 4.669942164901965}, {'color': 'orange', 'length': 3.674506992608049}, {'color': 'red', 'length': 4.846690559451135}, {'color': 'orange', 'length': 3.083039492142484}, {'color': 'grey', 'length': 4.906902640690651}, {'color': 'red', 'length': 3.142737406419356}, {'color': 'red', 'length': 4.788604150935574}, {'color': 'red', 'length': 4.217047273731129}, {'color': 'orange', 'length': 3.8708684054530513}, {'color': 'green', 'length': 3.563282589168979}, {'color': 'black', 'length': 3.6634938234566214}, {'color': 'green', 'length': 4.646493170749621}, {'color': 'grey', 'length': 4.7143008698578655}, {'color': 'white', 'length': 4.297743477269454}, {'color': 'red', 'length': 3.1934428397583305}, {'color': 'red', 'length': 3.0868564947916424}, {'color': 'blue', 'length': 3.806893071935303}, {'color': 'blue', 'length': 4.255677262226245}, {'color': 'red', 'length': 3.8501931971031684}, {'color': 'orange', 'length': 4.187563575484367}, {'color': 'blue', 'length': 4.342083317539709}, {'color': 'green', 'length': 3.898589445709357}, {'color': 'black', 'length': 3.428764421458352}, {'color': 'green', 'length': 4.82657708187938}, {'color': 'white', 'length': 3.1256920437662212}, {'color': 'red', 'length': 4.463927018040472}, {'color': 'orange', 'length': 4.665102552562482}, {'color': 'blue', 'length': 3.1954879972194092}, {'color': 'black', 'length': 3.2604131323879053}, {'color': 'red', 'length': 3.6579760023110257}, {'color': 'red', 'length': 4.192101607203401}, {'color': 'grey', 'length': 3.201552371185105}, {'color': 'green', 'length': 4.926162225960468}, {'color': 'orange', 'length': 4.5401300614239375}, {'color': 'blue', 'length': 3.5724415017271665}, {'color': 'red', 'length': 3.3964726209970237}, {'color': 'white', 'length': 3.381549937025399}, {'color': 'black', 'length': 4.999982713186293}, {'color': 'red', 'length': 4.059775880191598}, {'color': 'black', 'length': 3.525142151687044}, {'color': 'red', 'length': 3.8214085351090077}, {'color': 'white', 'length': 3.6477236982904975}, {'color': 'orange', 'length': 4.6627364523021475}, {'color': 'orange', 'length': 4.594035533944621}, {'color': 'white', 'length': 3.023045392829675}, {'color': 'white', 'length': 4.14218470821758}, {'color': 'black', 'length': 4.121178505628162}, {'color': 'black', 'length': 3.8147220955272303}, {'color': 'orange', 'length': 3.689943730534459}, {'color': 'orange', 'length': 3.2968143456737744}, {'color': 'green', 'length': 3.5553321623948007}, {'color': 'orange', 'length': 3.518562202477902}, {'color': 'red', 'length': 4.828882328743392}, {'color': 'grey', 'length': 4.493879351236554}, {'color': 'black', 'length': 3.542392543660454}, {'color': 'black', 'length': 3.4468534242667745}, {'color': 'red', 'length': 4.945385061612464}, {'color': 'green', 'length': 4.769146275787495}, {'color': 'blue', 'length': 4.347838493092127}, {'color': 'black', 'length': 3.171534350178203}, {'color': 'orange', 'length': 4.106550820854622}, {'color': 'blue', 'length': 4.247989753960822}, {'color': 'white', 'length': 3.7679077701489705}, {'color': 'grey', 'length': 4.166226624586015}, {'color': 'black', 'length': 3.15873884373926}, {'color': 'blue', 'length': 3.078275648980865}, {'color': 'green', 'length': 4.746706404101442}, {'color': 'grey', 'length': 3.202282270789757}, {'color': 'grey', 'length': 3.1605287203162336}, {'color': 'blue', 'length': 4.151875279223933}, {'color': 'grey', 'length': 3.288303292766476}, {'color': 'blue', 'length': 4.391068306155076}, {'color': 'green', 'length': 3.1029583715359017}, {'color': 'blue', 'length': 4.038306143060334}, {'color': 'grey', 'length': 3.878311833001389}, {'color': 'black', 'length': 4.196128093591917}, {'color': 'blue', 'length': 3.981808623496568}, {'color': 'grey', 'length': 3.901369577466535}, {'color': 'orange', 'length': 3.391015199579365}, {'color': 'blue', 'length': 3.599924062049962}, {'color': 'grey', 'length': 3.530534476630713}, {'color': 'red', 'length': 3.34317979115493}, {'color': 'blue', 'length': 3.6801660101918525}, {'color': 'white', 'length': 4.007929026886107}, {'color': 'white', 'length': 3.2693439817825816}, {'color': 'grey', 'length': 4.072201902522719}, {'color': 'white', 'length': 4.4411902320531755}, {'color': 'orange', 'length': 4.283055429293777}, {'color': 'green', 'length': 3.5921827527704444}, {'color': 'black', 'length': 3.310162671766329}, {'color': 'green', 'length': 3.1976019860549254}, {'color': 'grey', 'length': 4.089327045423156}, {'color': 'black', 'length': 4.075655063253967}, {'color': 'grey', 'length': 4.524090912035486}, {'color': 'grey', 'length': 4.5612097450916735}, {'color': 'green', 'length': 4.627648053466954}, {'color': 'grey', 'length': 4.034462012511304}, {'color': 'grey', 'length': 4.10446047053638}, {'color': 'black', 'length': 3.7035524653314713}, {'color': 'white', 'length': 4.614620620612184}, {'color': 'grey', 'length': 3.2171399763801354}, {'color': 'red', 'length': 3.480171076108558}, {'color': 'green', 'length': 3.791337419925862}, {'color': 'green', 'length': 3.8568204910771846}, {'color': 'green', 'length': 3.1270336544615787}, {'color': 'red', 'length': 3.1877152923821015}, {'color': 'blue', 'length': 3.697562909137652}, {'color': 'green', 'length': 4.401066891078793}, {'color': 'black', 'length': 3.4316694653380226}, {'color': 'grey', 'length': 4.906891744433655}, {'color': 'orange', 'length': 4.2355713544562}, {'color': 'orange', 'length': 4.27861979798512}, {'color': 'orange', 'length': 3.729555613781196}, {'color': 'white', 'length': 4.242467322127984}, {'color': 'green', 'length': 3.9626409614345905}, {'color': 'white', 'length': 3.2365696264108204}, {'color': 'grey', 'length': 4.041489292307426}, {'color': 'white', 'length': 3.9482110079097326}, {'color': 'white', 'length': 4.595997830844542}, {'color': 'grey', 'length': 3.3488624450268243}, {'color': 'black', 'length': 3.5333888001938467}, {'color': 'blue', 'length': 4.750033619383371}, {'color': 'black', 'length': 4.595506133651922}, {'color': 'green', 'length': 4.281404418989035}, {'color': 'orange', 'length': 4.736239204463278}, {'color': 'grey', 'length': 4.5337415381104815}, {'color': 'grey', 'length': 4.793558702492158}, {'color': 'black', 'length': 4.814637692536491}, {'color': 'blue', 'length': 3.937228367785215}, {'color': 'blue', 'length': 3.130600104986679}, {'color': 'green', 'length': 3.6343432234721647}, {'color': 'grey', 'length': 4.068350185313851}, {'color': 'black', 'length': 3.5618818939979926}, {'color': 'green', 'length': 3.9018760432255215}, {'color': 'white', 'length': 4.139076495595}, {'color': 'grey', 'length': 4.542233218450536}, {'color': 'white', 'length': 4.974687146158308}, {'color': 'green', 'length': 4.649590774983771}, {'color': 'white', 'length': 3.653319414132827}, {'color': 'white', 'length': 4.553072213920752}, {'color': 'black', 'length': 4.390178878512309}, {'color': 'orange', 'length': 4.397231983413705}, {'color': 'blue', 'length': 4.352113786273472}, {'color': 'orange', 'length': 4.494061523795952}, {'color': 'white', 'length': 3.089016966690945}, {'color': 'red', 'length': 3.486096346683908}, {'color': 'red', 'length': 4.216535485124636}, {'color': 'orange', 'length': 4.845664154172535}, {'color': 'grey', 'length': 3.385869803398239}, {'color': 'blue', 'length': 3.9148688833792455}, {'color': 'orange', 'length': 4.521127926419419}, {'color': 'green', 'length': 3.0572259305917466}, {'color': 'black', 'length': 4.6632579636065215}, {'color': 'white', 'length': 4.723464773987519}, {'color': 'orange', 'length': 3.0915193525660163}, {'color': 'white', 'length': 3.2976316864446273}, {'color': 'white', 'length': 4.983311960827311}, {'color': 'grey', 'length': 4.732020785748408}, {'color': 'black', 'length': 3.776014164785368}, {'color': 'orange', 'length': 3.8800356988621543}, {'color': 'orange', 'length': 4.33823852395194}, {'color': 'white', 'length': 3.841633755294005}, {'color': 'red', 'length': 4.715308444512811}, {'color': 'white', 'length': 3.91549572436839}, {'color': 'green', 'length': 3.3547340223242}, {'color': 'red', 'length': 3.3120824904684745}, {'color': 'grey', 'length': 3.154257789228831}, {'color': 'black', 'length': 3.810038594690997}, {'color': 'green', 'length': 3.9665737461210853}, {'color': 'green', 'length': 3.0827524004418567}, {'color': 'black', 'length': 3.5256719786330546}, {'color': 'grey', 'length': 4.489018875930524}, {'color': 'white', 'length': 4.291887056084258}, {'color': 'grey', 'length': 3.7153868149658145}, {'color': 'green', 'length': 3.622866268857916}, {'color': 'green', 'length': 4.720087064560534}, {'color': 'orange', 'length': 4.355172116580981}, {'color': 'white', 'length': 3.448115728024671}, {'color': 'grey', 'length': 3.8264514571308137}, {'color': 'orange', 'length': 3.658213870189811}, {'color': 'red', 'length': 3.4584073537918645}, {'color': 'black', 'length': 3.728011896846687}, {'color': 'orange', 'length': 3.0511170878089646}, {'color': 'white', 'length': 4.64789635144291}, {'color': 'orange', 'length': 3.236995418346485}, {'color': 'red', 'length': 4.975772618529869}, {'color': 'green', 'length': 4.436910220457193}, {'color': 'blue', 'length': 3.329921956015565}, {'color': 'red', 'length': 3.5522978658943143}, {'color': 'orange', 'length': 4.953619436463996}, {'color': 'green', 'length': 3.9150952413877276}, {'color': 'white', 'length': 4.633954169795247}, {'color': 'green', 'length': 3.608020402842305}, {'color': 'red', 'length': 3.870549246512247}, {'color': 'orange', 'length': 4.293683456151524}, {'color': 'black', 'length': 3.1045239302741865}, {'color': 'red', 'length': 4.461494618752711}, {'color': 'grey', 'length': 4.015691893246403}, {'color': 'red', 'length': 3.7514928704477852}, {'color': 'grey', 'length': 4.548564623486847}, {'color': 'white', 'length': 4.832502127430178}, {'color': 'white', 'length': 4.107332850768576}, {'color': 'blue', 'length': 4.266797138872253}, {'color': 'red', 'length': 3.4574065680265003}, {'color': 'blue', 'length': 4.13832203407449}, {'color': 'red', 'length': 3.42919921754899}, {'color': 'grey', 'length': 3.9351349659362733}, {'color': 'blue', 'length': 3.8399730855098744}, {'color': 'green', 'length': 4.966386841581675}, {'color': 'black', 'length': 4.708473023924499}, {'color': 'white', 'length': 4.632595479773049}, {'color': 'black', 'length': 3.1300368929991755}, {'color': 'orange', 'length': 4.3890501809464055}, {'color': 'green', 'length': 4.40824092416898}, {'color': 'orange', 'length': 4.629112578912018}, {'color': 'green', 'length': 4.0976934380798395}, {'color': 'orange', 'length': 4.365075039046866}, {'color': 'black', 'length': 4.4852816240990006}, {'color': 'blue', 'length': 3.77253176741925}, {'color': 'orange', 'length': 4.956551278754459}, {'color': 'red', 'length': 3.5373265776579483}, {'color': 'orange', 'length': 3.307974568468699}, {'color': 'white', 'length': 4.5774697143913174}, {'color': 'blue', 'length': 3.2552066856742377}, {'color': 'orange', 'length': 4.82722864434196}, {'color': 'white', 'length': 3.5255257222985583}, {'color': 'blue', 'length': 3.367400823938194}, {'color': 'black', 'length': 4.2447201269399315}, {'color': 'blue', 'length': 3.542578154735253}, {'color': 'orange', 'length': 4.371808950656892}, {'color': 'blue', 'length': 4.468369453167418}, {'color': 'green', 'length': 4.234165396531795}, {'color': 'green', 'length': 3.80297565899693}, {'color': 'green', 'length': 4.0860583382559446}, {'color': 'white', 'length': 3.9030856511136394}, {'color': 'orange', 'length': 4.485793790538502}, {'color': 'blue', 'length': 4.322795546360898}, {'color': 'red', 'length': 3.9640470617129475}, {'color': 'white', 'length': 3.90988753618786}, {'color': 'grey', 'length': 4.942844549263316}, {'color': 'orange', 'length': 3.174628013265372}, {'color': 'blue', 'length': 3.155140820279968}, {'color': 'blue', 'length': 4.962968766206338}, {'color': 'green', 'length': 3.3397714736303703}, {'color': 'red', 'length': 3.780637818010315}, {'color': 'orange', 'length': 3.6423814708330573}, {'color': 'red', 'length': 3.9081991240974707}, {'color': 'orange', 'length': 3.621191159023496}, {'color': 'grey', 'length': 4.584819183676613}, {'color': 'white', 'length': 3.1803284927997844}, {'color': 'black', 'length': 4.562116924965272}, {'color': 'blue', 'length': 4.524292038349794}, {'color': 'grey', 'length': 3.438150306904897}, {'color': 'orange', 'length': 4.119347094432763}, {'color': 'blue', 'length': 4.026820481646972}, {'color': 'white', 'length': 3.0422765908042444}, {'color': 'black', 'length': 3.4047743410109}, {'color': 'white', 'length': 4.5136375421126}, {'color': 'green', 'length': 3.7860828061509384}, {'color': 'green', 'length': 3.494661964768248}, {'color': 'blue', 'length': 4.08110507050203}, {'color': 'red', 'length': 4.415873598084078}, {'color': 'black', 'length': 4.94024779015596}, {'color': 'blue', 'length': 3.560679267905943}, {'color': 'grey', 'length': 4.747424817764703}, {'color': 'green', 'length': 4.106215215950784}, {'color': 'blue', 'length': 3.5288049054235886}, {'color': 'blue', 'length': 4.709483696562853}, {'color': 'black', 'length': 4.7610518112181754}, {'color': 'orange', 'length': 3.681337769279178}, {'color': 'orange', 'length': 4.224395512215775}, {'color': 'orange', 'length': 4.003873134327016}, {'color': 'green', 'length': 4.247084264017881}, {'color': 'blue', 'length': 4.08361279293448}, {'color': 'green', 'length': 3.4467180480443207}, {'color': 'blue', 'length': 3.199254431856173}, {'color': 'white', 'length': 3.1527031492287745}, {'color': 'green', 'length': 3.8846961932230517}, {'color': 'black', 'length': 3.4263577916666534}, {'color': 'red', 'length': 4.304131610636123}, {'color': 'black', 'length': 4.899482225075335}, {'color': 'white', 'length': 4.948967075394853}, {'color': 'black', 'length': 3.262223905109258}, {'color': 'black', 'length': 4.026041511789165}, {'color': 'orange', 'length': 4.17735889105912}, {'color': 'red', 'length': 4.608043998496095}, {'color': 'blue', 'length': 3.2454726061237023}, {'color': 'orange', 'length': 4.220300103733115}, {'color': 'black', 'length': 4.50410198078967}, {'color': 'black', 'length': 3.596194485348636}, {'color': 'white', 'length': 4.1004090316597885}, {'color': 'black', 'length': 4.996167946233134}, {'color': 'white', 'length': 3.2796300184240192}, {'color': 'grey', 'length': 4.872813516676876}, {'color': 'red', 'length': 3.29248280084698}, {'color': 'white', 'length': 4.901826906826461}, {'color': 'blue', 'length': 4.01974692084379}, {'color': 'green', 'length': 4.672579547097886}, {'color': 'orange', 'length': 4.547306563888485}, {'color': 'white', 'length': 3.4265795596382898}, {'color': 'black', 'length': 4.642387983663459}, {'color': 'red', 'length': 4.205592853141401}, {'color': 'green', 'length': 3.610693700652636}, {'color': 'red', 'length': 4.834621691852772}, {'color': 'blue', 'length': 3.124063432034659}, {'color': 'white', 'length': 3.408410179329064}, {'color': 'black', 'length': 4.540335701150627}, {'color': 'red', 'length': 4.1521897903332015}, {'color': 'black', 'length': 4.653266635080628}, {'color': 'black', 'length': 4.4747164980287915}, {'color': 'green', 'length': 3.0917378866630134}, {'color': 'black', 'length': 4.621089757996113}, {'color': 'grey', 'length': 4.7574946779452}, {'color': 'blue', 'length': 3.073438609552625}, {'color': 'red', 'length': 4.2852593836232575}]\n",
      "[3.2593745046674374, 4.087032328922745, 3.8717091207235472, 3.822946783121427, 3.0832387050744336, 4.733529419428353, 3.524965454209477, 3.6482737831649033, 4.599851126647836, 4.794258245725458, 3.8277507845465673, 3.581453156398366, 3.223076120879255, 3.544494548269358, 3.5923958335936534, 3.916600656377675, 4.9317289992416935, 4.678047649195803, 4.820325061701522, 3.381434004411301, 3.898295995234731, 4.316794464875926, 3.2840147639454873, 3.9513817068893706, 4.217141578653065, 3.373518425821034, 4.217773013909024, 3.885339425592537, 4.634792591411027, 3.1298451458646195, 4.479590955539249, 4.030598442921175, 4.594278540203936, 3.8893777850508, 3.1493130367591307, 4.381590712415084, 3.7740205128645075, 4.669870596609922, 3.0774574350127595, 3.6180687776199005, 3.0630898659537094, 4.389938569738687, 4.926518223584193, 3.1455096856507216, 3.0939565448066215, 3.9791301306284814, 4.983729602007443, 3.024428942126929, 4.766848207056203, 3.8298080199978046, 4.748896549161957, 3.4318194325301303, 3.8848079821387653, 3.1177050509077984, 3.9149269283904626, 4.945198417726362, 4.5135180205983385, 3.8083517990614064, 4.870280614409646, 3.2580860005301178, 3.0256481918055815, 3.6839902449271764, 3.8383770214489736, 3.8484088836994905, 3.30486429204717, 3.713166791841874, 4.690907196763744, 3.0274362921141487, 4.664159006421256, 4.029874321232866, 4.733535126228347, 3.077096108656514, 3.847298596107467, 3.6749398913535245, 3.302177141779021, 3.4251131492832663, 4.290980750154995, 3.3897755311668907, 4.1771844483379255, 3.1661556448948076, 4.198891547306704, 3.2825697679073613, 3.103903018491389, 4.669942164901965, 3.563282589168979, 4.646493170749621, 3.898589445709357, 4.82657708187938, 4.926162225960468, 3.5553321623948007, 4.769146275787495, 4.746706404101442, 3.1029583715359017, 3.5921827527704444, 3.1976019860549254, 4.627648053466954, 3.791337419925862, 3.8568204910771846, 3.1270336544615787, 4.401066891078793, 3.9626409614345905, 4.281404418989035, 3.6343432234721647, 3.9018760432255215, 4.649590774983771, 3.0572259305917466, 3.3547340223242, 3.9665737461210853, 3.0827524004418567, 3.622866268857916, 4.720087064560534, 4.436910220457193, 3.9150952413877276, 3.608020402842305, 4.966386841581675, 4.40824092416898, 4.0976934380798395, 4.234165396531795, 3.80297565899693, 4.0860583382559446, 3.3397714736303703, 3.7860828061509384, 3.494661964768248, 4.106215215950784, 4.247084264017881, 3.4467180480443207, 3.8846961932230517, 4.672579547097886, 3.610693700652636, 3.0917378866630134]\n",
      "The total length of all green cars is 509.46 meters.\n"
     ]
    }
   ],
   "source": [
    "import random\n",
    "colors = ['blue','red','green','white','black','grey','orange']\n",
    "list_of_cars = []\n",
    "\n",
    "class Car:\n",
    "    def __init__(self):\n",
    "        self.color = random.sample(colors, k=1)[0] # man behöver ha med index 0 [0] för att inte få med listan, som ramdom.sample returnerar.\n",
    "        self.length = random.uniform(3, 5)\n",
    "\n",
    "for i in range(1000):\n",
    "    i = Car()\n",
    "    list_of_cars.append({'color' : i.color, 'length' : i.length})\n",
    "\n",
    "print(list_of_cars)\n",
    "print([d['length'] for d in list_of_cars if d['color'] == 'green'])\n",
    "print(f\"The total length of all green cars is {sum([d['length'] for d in list_of_cars if d['color'] == 'green']):.2f} meters.\")"
   ]
  },
  {
   "cell_type": "markdown",
   "metadata": {},
   "source": [
    "---\n",
    "## 5. Email (**)\n",
    "\n",
    "Create an email class with a property \"address\". When we set this property it should validate that we gave it a proper email address by checking that it contains one or more letter, followed by an at-sign (@), followed by one or more letter, then a dot (.), then at least to letters.\n",
    "\n",
    "We should also be able to provide the address directly, when creating an new instance of the class (it must still be validated).\n",
    "\n",
    "The class should also have the following properties: \"username\", \"domainname\", and \"topdomain\" implemented in such a way that, if we set the address to \"fredrik@everyloop.com\", the username should read \"fredrik\", the domainname should read \"everyloop.com\", and the topdomain should read \"com\".\n",
    "\n",
    "When changing any of the four properties, all the others must be updated accordingly; and the address must always remain valid."
   ]
  },
  {
   "cell_type": "markdown",
   "metadata": {},
   "source": [
    "Undrar om bästa approachen är att dela upp problemet in username, domainname och topdomain.\n",
    "vid instantieringen så ha en metod som splittrar mail adressen i tre komponenter, som sedan tilldelas variablerna.\n"
   ]
  },
  {
   "cell_type": "code",
   "execution_count": 15,
   "metadata": {},
   "outputs": [],
   "source": [
    "class Email:\n",
    "    def __init__(self, adress):\n",
    "        self.adress = adress\n",
    "\n",
    "    @property\n",
    "    def adress(self):\n",
    "        return self._username + \"@\" + self._domainname\n",
    "    \n",
    "    @adress.setter\n",
    "    def adress(self, adress):\n",
    "        if not \"@\" in adress:\n",
    "            raise ValueError('No \"@\" in email.')\n",
    "        if not \".\" in adress:\n",
    "            raise ValueError('No \".\" in adress.')\n",
    " \n",
    "        self.username = adress[:adress.index(\"@\")]\n",
    "        self.domainname = adress[adress.index(\"@\") + 1 :]\n",
    "\n",
    "    @property\n",
    "    def username(self):\n",
    "        return self._username\n",
    "    \n",
    "    @username.setter\n",
    "    def username(self, username):\n",
    "        if not len(username) >= 1:\n",
    "            raise NameError('Username not valid, must be at least of length 1.')\n",
    "        if not username.isalnum():\n",
    "            raise NameError(f'Username \"{username}\" not valid, must be alphanumeric.')\n",
    "        \n",
    "        self._username = username\n",
    "\n",
    "    @property\n",
    "    def domainname(self):\n",
    "        return self._domainname\n",
    "\n",
    "    @domainname.setter\n",
    "    def domainname(self, domainname):\n",
    "        if not len(domainname) >=1:\n",
    "            raise NameError('Domainname not valid, must be at least of length 1.')\n",
    "        print(f'{domainname = }')\n",
    "        if not domainname[:domainname.index('.')].isalnum():\n",
    "            raise NameError('Domainname not valid, must be alphanumeric.')\n",
    "        \n",
    "        self._domainname = domainname\n",
    "\n",
    "    @property\n",
    "    def topdomain(self):\n",
    "        return self._domainname[self._domainname.index('.'):]\n",
    "    \n",
    "    @topdomain.setter\n",
    "    def topdomain(self, topdomain):\n",
    "        if not len(topdomain) >= 2:\n",
    "            raise NameError('Topdomain not valid, must be at least of length 2.')\n",
    "        if not topdomain.isalpha():\n",
    "            raise NameError('Topdoamin not valid, must be alphabetical.')\n",
    "        \n",
    "        self.domainname = self._domainname[:self._domainname.index('.') + 1] + topdomain\n",
    "\n",
    "\n",
    "   "
   ]
  },
  {
   "cell_type": "code",
   "execution_count": 17,
   "metadata": {},
   "outputs": [
    {
     "name": "stdout",
     "output_type": "stream",
     "text": [
      "domainname = 'google.com'\n",
      "daniels_email.adress = 'daniel@google.com'\n",
      "daniels_email.username = 'daniel'\n",
      "daniels_email.domainname = 'google.com'\n",
      "daniels_email.topdomain = '.com'\n",
      "daniels_email.username = 'danielclaesson'\n",
      "daniels_email.adress = 'danielclaesson@google.com'\n",
      "domainname = 'volvocars.com'\n",
      "daniels_email.adress = 'danielclaesson@volvocars.com'\n",
      "domainname = 'volvocars.se'\n",
      "daniels_email.adress = 'danielclaesson@volvocars.se'\n",
      "Username \"daniel.claesson\" not valid, must be alphanumeric.\n",
      "----------------------------------------------\n",
      "No \"@\" in email.\n"
     ]
    }
   ],
   "source": [
    "try:\n",
    "    daniels_email = Email('daniel@google.com')\n",
    "except ValueError as e:\n",
    "    print(e)\n",
    "    \n",
    "print(f'{daniels_email.adress = }')\n",
    "print(f'{daniels_email.username = }')\n",
    "print(f'{daniels_email.domainname = }')\n",
    "print(f'{daniels_email.topdomain = }')\n",
    "daniels_email.username = 'danielclaesson'\n",
    "print(f'{daniels_email.username = }')\n",
    "print(f'{daniels_email.adress = }')\n",
    "daniels_email.domainname = 'volvocars.com'\n",
    "print(f'{daniels_email.adress = }')\n",
    "daniels_email.topdomain = 'se'\n",
    "print(f'{daniels_email.adress = }')\n",
    "\n",
    "try:\n",
    "    daniels_email.username = 'daniel.claesson'\n",
    "except NameError as e:\n",
    "    print(e)\n",
    "\n",
    "print('----------------------------------------------')\n",
    "try:\n",
    "    failed_email = Email('daniel(at)google.com')\n",
    "except ValueError as e:\n",
    "    print(e)\n",
    "# print(failed_email)\n",
    "# try:\n",
    "#     print(f'{failed_email.adress = }')\n",
    "# except NameError:\n",
    "#     print(f'No such email exist.')\n",
    "# try:\n",
    "#     print(f'{failed_email.username = }')\n",
    "# except NameError:\n",
    "#     print('No such username exist.')\n",
    "\n",
    "# try:\n",
    "#     print(f'{failed_email.domainname = }')\n",
    "# except NameError:\n",
    "#     print('No such domainname exist.')\n",
    "\n",
    "# try:\n",
    "#     print(f'{failed_email.topdomain = }')\n",
    "# except NameError:\n",
    "#     print('No such topdomaine exist.')"
   ]
  },
  {
   "cell_type": "markdown",
   "metadata": {},
   "source": [
    "---\n",
    "\n",
    "Fredrik Johansson\n",
    "\n",
    "[everyloop.com](https://www.everyloop.com)\n",
    "\n",
    "---"
   ]
  }
 ],
 "metadata": {
  "kernelspec": {
   "display_name": "Python 3.9.6 64-bit",
   "language": "python",
   "name": "python3"
  },
  "language_info": {
   "codemirror_mode": {
    "name": "ipython",
    "version": 3
   },
   "file_extension": ".py",
   "mimetype": "text/x-python",
   "name": "python",
   "nbconvert_exporter": "python",
   "pygments_lexer": "ipython3",
   "version": "3.9.16"
  },
  "orig_nbformat": 4,
  "vscode": {
   "interpreter": {
    "hash": "0da836a34428266995a795f1e1e27b816fa1c02f148d9728b3fbbbc5459afca6"
   }
  }
 },
 "nbformat": 4,
 "nbformat_minor": 2
}
