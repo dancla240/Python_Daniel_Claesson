{
 "cells": [
  {
   "cell_type": "markdown",
   "metadata": {},
   "source": [
    "<a href=\"https://colab.research.google.com/github/kokchun/Python-course-AI22/blob/main/Exercises/04-list-exercise.ipynb\" target=\"_parent\"><img align=\"left\" src=\"https://colab.research.google.com/assets/colab-badge.svg\" alt=\"Open In Colab\"/></a> &nbsp; to see hints and answers."
   ]
  },
  {
   "cell_type": "markdown",
   "metadata": {},
   "source": [
    "# list exercises\n",
    "\n",
    "---\n",
    "These are introductory exercises in Python with focus in **lists**.\n",
    "\n",
    "<p class = \"alert alert-info\" role=\"alert\"><b>Remember</b> to use <b>descriptive variable names</b> in order to get readable code </p>\n",
    "\n",
    "<p class = \"alert alert-info\" role=\"alert\"><b>Remember</b> to format your answers in a neat way using <b>f-strings</b>\n",
    "\n",
    "<p class = \"alert alert-info\" role=\"alert\"><b>Remember</b> to format your input questions in a pedagogical way to guide the user\n",
    "\n",
    "The number of stars (\\*), (\\*\\*), (\\*\\*\\*) denotes the difficulty level of the task\n",
    "\n",
    "---"
   ]
  },
  {
   "cell_type": "markdown",
   "metadata": {},
   "source": [
    "## 1. Dice rolls (*)\n",
    "\n",
    "Simulate 10 dice rolls and **append** the rolls to a list or use **list comprehension**.\n",
    "\n",
    "&nbsp; a) &nbsp; sort the list in **ascending** order (*)\n",
    "\n",
    "&nbsp; b) &nbsp; sort the list in **descending** order (*)\n",
    "\n",
    "&nbsp; c) &nbsp; find the **maximum** and **minimum** value in the list (*)\n",
    "\n",
    "\n",
    "<details>\n",
    "\n",
    "<summary>Answer </summary>\n",
    "\n",
    "a)\n",
    "```\n",
    "Ascending order: [1, 1, 2, 3, 4, 4, 4, 5, 6, 6]\n",
    "```\n",
    "\n",
    "b) \n",
    "```\n",
    "Descending order: [6, 6, 5, 4, 4, 4, 3, 2, 1, 1]\n",
    "```\n",
    "\n",
    "c) \n",
    "```\n",
    "Maximum: 6\n",
    "Minimum: 1\n",
    "```\n",
    "\n",
    "</details>\n",
    "\n",
    "\n"
   ]
  },
  {
   "cell_type": "code",
   "execution_count": 14,
   "metadata": {},
   "outputs": [
    {
     "name": "stdout",
     "output_type": "stream",
     "text": [
      "This is 10 rolls with the dice: [1, 4, 5, 2, 4, 1, 6, 1, 3, 5]\n",
      "Rolls sorted in ascending order: [1, 1, 1, 2, 3, 4, 4, 5, 5, 6]\n",
      "Rolls sorted in descending order: [6, 5, 5, 4, 4, 3, 2, 1, 1, 1]\n",
      "The smallest value is: 1\n",
      "The smallest value is: 1\n",
      "The largest value is: 6\n",
      "The largest value is: 6\n",
      "Dice rolls created with list comprehension: [4, 6, 5, 1, 3, 1, 5, 6, 6, 1]\n"
     ]
    }
   ],
   "source": [
    "# Daniel's code\n",
    "import random\n",
    "dice_rolls = []\n",
    "nbr_rolls = 0\n",
    "\n",
    "while nbr_rolls <= 9:\n",
    "    dice_result = random.randint(1, 6)\n",
    "    nbr_rolls += 1\n",
    "    dice_rolls.append(dice_result)\n",
    "    \n",
    "print(f\"This is 10 rolls with the dice: {dice_rolls}\")\n",
    "\n",
    "# a sort list in ascending order\n",
    "dice_rolls.sort()\n",
    "print(f\"Rolls sorted in ascending order: {dice_rolls}\")\n",
    "\n",
    "# b sort list in descending order\n",
    "dice_rolls.sort(reverse=True)\n",
    "print(f\"Rolls sorted in descending order: {dice_rolls}\")\n",
    "\n",
    "# c find maximum and minimum values\n",
    "print(f\"The smallest value is: {dice_rolls[-1]}\")\n",
    "print(f\"The smallest value is: {min(dice_rolls)}\") #use of min() function\n",
    "print(f\"The largest value is: {dice_rolls[0]}\")\n",
    "print(f\"The largest value is: {max(dice_rolls)}\") # use of max() function\n",
    "\n",
    "# Alternative way of creating dice rolls, with list comprehension:\n",
    "\n",
    "dr = [random.randint(1,6) for item in range(10)]\n",
    "print(f\"Dice rolls created with list comprehension: {dr}\")\n"
   ]
  },
  {
   "cell_type": "markdown",
   "metadata": {},
   "source": [
    "--- \n",
    "## 2. Food menu (*)\n",
    "\n",
    "Create a:  \n",
    "\n",
    "&nbsp; a) &nbsp; **list** with the following elements: \"vegetarisk lasagne\", \"spaghetti\", \"fisk\", \"grönsakssoppa\", \"pannkakor\". (*)\n",
    "\n",
    "&nbsp; b) &nbsp; **list** with the weekdays (*)\n",
    "\n",
    "&nbsp; c) &nbsp; create a food menu with each day corresponding to each food item and print it out. (*)\n",
    "\n",
    "<details>\n",
    "\n",
    "<summary>Answer</summary>\n",
    "\n",
    "c) \n",
    "```\n",
    "Bambameny\n",
    "Mån: vegetarisk lasagne\n",
    "Tis: spaghetti\n",
    "Ons: fisk\n",
    "Tor: grönsakssoppa\n",
    "Fre: pannkakor\n",
    "```\n",
    "\n",
    "</details>"
   ]
  },
  {
   "cell_type": "code",
   "execution_count": 8,
   "metadata": {},
   "outputs": [
    {
     "name": "stdout",
     "output_type": "stream",
     "text": [
      "Måndag: Vegetarisk Lasagne\n",
      "Tisdag: Spaghetti\n",
      "Onsdag: Fisk\n",
      "Torsdag: Grönsakssoppa\n",
      "Fredag: Pannkakor\n"
     ]
    }
   ],
   "source": [
    "# Daniel's code\n",
    "mat = [\"Vegetarisk Lasagne\",\"Spaghetti\",\"Fisk\",\"Grönsakssoppa\",\"Pannkakor\"]\n",
    "dagar = [\"Måndag\",\"Tisdag\",\"Onsdag\",\"Torsdag\",\"Fredag\"]\n",
    "\n",
    "for idx in range(len(mat)):\n",
    "    print(dagar[idx] + \": \" + mat[idx])\n"
   ]
  },
  {
   "cell_type": "markdown",
   "metadata": {},
   "source": [
    "--- \n",
    "## 3. Squares (*)\n",
    "\n",
    "&nbsp; a) &nbsp; Use **list comprehension** to create a list of squares from -10 to 10 (*)\n",
    "\n",
    "&nbsp; a) &nbsp; Plot this list using **matplotlib**. (*)\n",
    "\n",
    "<details>\n",
    "\n",
    "<summary>Answer</summary>\n",
    "\n",
    "a)\n",
    "```\n",
    "[100, 81, 64, 49, 36, 25, 16, 9, 4, 1, 0, 1, 4, 9, 16, 25, 36, 49, 64, 81, 100]\n",
    "```\n",
    "\n",
    "b) \n",
    "\n",
    "<img align=\"left\" src=\"../Assets/x^2_graph.png\" width=\"300\"/>\n",
    "</details>"
   ]
  },
  {
   "cell_type": "code",
   "execution_count": 12,
   "metadata": {},
   "outputs": [
    {
     "name": "stdout",
     "output_type": "stream",
     "text": [
      "[100, 81, 64, 49, 36, 25, 16, 9, 4, 1, 0, 1, 4, 9, 16, 25, 36, 49, 64, 81, 100]\n"
     ]
    }
   ],
   "source": [
    "# Daniel's code\n",
    "#import matplotlib.pyplot as plt\n",
    "\n",
    "list = [x**2 for x in range(-10,11)]\n",
    "print(list)"
   ]
  },
  {
   "cell_type": "markdown",
   "metadata": {},
   "source": [
    "---\n",
    "## 4. Chessboard (**)\n",
    "\n",
    "&nbsp; a) &nbsp; Create this list using **list comprehension**: (*)\n",
    "\n",
    "```python\n",
    "['A1', 'B1', 'C1', 'D1', 'E1', 'F1', 'G1', 'H1']\n",
    "```\n",
    "\n",
    "&nbsp; b) &nbsp; Create a 2D list to hold the coordinates in a chessboard. (**)\n",
    "\n",
    "<details>\n",
    "\n",
    "<summary>Hint</summary>\n",
    "\n",
    "b) Use **f-string** and create a list of characters with: \n",
    "\n",
    "```python\n",
    "list(\"ABCDEFGH)\n",
    "```\n",
    "\n",
    "b) One option is to use nested list comprehension where one for-loop creates the first list and the other creates several of the first list\n",
    "\n",
    "</details>\n",
    "\n",
    "\n",
    "<details>\n",
    "\n",
    "<summary>Answer</summary>\n",
    "\n",
    "b)\n",
    "```\n",
    "[['A1', 'B1', 'C1', 'D1', 'E1', 'F1', 'G1', 'H1'],\n",
    " ['A2', 'B2', 'C2', 'D2', 'E2', 'F2', 'G2', 'H2'],\n",
    " ['A3', 'B3', 'C3', 'D3', 'E3', 'F3', 'G3', 'H3'],\n",
    " ['A4', 'B4', 'C4', 'D4', 'E4', 'F4', 'G4', 'H4'],\n",
    " ['A5', 'B5', 'C5', 'D5', 'E5', 'F5', 'G5', 'H5'],\n",
    " ['A6', 'B6', 'C6', 'D6', 'E6', 'F6', 'G6', 'H6'],\n",
    " ['A7', 'B7', 'C7', 'D7', 'E7', 'F7', 'G7', 'H7'],\n",
    " ['A8', 'B8', 'C8', 'D8', 'E8', 'F8', 'G8', 'H8']]\n",
    "```\n",
    "\n",
    "</details>"
   ]
  },
  {
   "cell_type": "code",
   "execution_count": null,
   "metadata": {},
   "outputs": [],
   "source": [
    "# Daniel's code, 4a\n",
    "print([str(x) + '1' for x in 'ABCDEFGH'])\n"
   ]
  },
  {
   "cell_type": "markdown",
   "metadata": {},
   "source": [
    "Om nested lists:  \n",
    "[geeksforgeeks](https://www.geeksforgeeks.org/nested-list-comprehensions-in-python/)  \n",
    "[stephenalwright](https://stephenallwright.com/nested-list-comprehension/)"
   ]
  },
  {
   "cell_type": "code",
   "execution_count": 21,
   "metadata": {},
   "outputs": [
    {
     "name": "stdout",
     "output_type": "stream",
     "text": [
      "[['A1', 'B1', 'C1', 'D1', 'E1', 'F1', 'G1', 'H1'], ['A2', 'B2', 'C2', 'D2', 'E2', 'F2', 'G2', 'H2'], ['A3', 'B3', 'C3', 'D3', 'E3', 'F3', 'G3', 'H3'], ['A4', 'B4', 'C4', 'D4', 'E4', 'F4', 'G4', 'H4'], ['A5', 'B5', 'C5', 'D5', 'E5', 'F5', 'G5', 'H5'], ['A6', 'B6', 'C6', 'D6', 'E6', 'F6', 'G6', 'H6'], ['A7', 'B7', 'C7', 'D7', 'E7', 'F7', 'G7', 'H7'], ['A8', 'B8', 'C8', 'D8', 'E8', 'F8', 'G8', 'H8']]\n"
     ]
    }
   ],
   "source": [
    "# Daniel's code, 4b\n",
    "# jag behöver hjälp med newline\n",
    "#print([[str(x) + str(y) for x in 'ABCDEFGH'] for y in range(1,9)])\n",
    "print(f\"{[[str(x) + str(y) for x in 'ABCDEFGH'] for y in range(1,9)]}\", end='\\n')\n",
    "#print(f\"{[[str(x) + str(y) for x in 'ABCDEFGH'] for y in range(1,9)]}{'\\n'}\")\n",
    "\n",
    "#print(f\"{[[str(x) + str(y) for x in 'ABCDEFGH'] for y in range(1,9)]}\\n\")\n",
    "#print([str(x) for x in 'ABCDEFGH'])"
   ]
  },
  {
   "cell_type": "markdown",
   "metadata": {},
   "source": [
    "---\n",
    "## 5. Dice rolls convergence (**)\n",
    "\n",
    "Simulate: \n",
    "\n",
    "&nbsp; a) &nbsp; 100 dice rolls and count the number of outcome six. (*)\n",
    "\n",
    "&nbsp; b) &nbsp; 10, 100, 1000, 10000, 100000, 1000000 dice rolls. Count the number of outcome six in each simulation and store it in a list. Compute the probability of outcome six in each simulation. (**)\n",
    "\n",
    "&nbsp; c) &nbsp; Use matplotlib to plot this list. (*)\n",
    "\n",
    "<details>\n",
    "\n",
    "<summary>Hint </summary>\n",
    "\n",
    "Use this code for plot settings: \n",
    "\n",
    "```python\n",
    "plt.plot(probability_six, '-*')\n",
    "plt.title(\"Probability of six for different number of rolls\")\n",
    "plt.xticks([0,1,2,3,4,5], num_rolls);\n",
    "plt.xlabel(\"Number of dice rolls\")\n",
    "plt.ylabel(\"Probability\")\n",
    "\n",
    "```\n",
    "</details>\n",
    "\n",
    "<details>\n",
    "\n",
    "<summary>Answer </summary>\n",
    "\n",
    "a)\n",
    "```\n",
    "The number of outcome six in 100 dice rolls is: 17 \n",
    "```\n",
    "\n",
    "b) \n",
    "```\n",
    "Count number of six: [1, 21, 161, 1642, 16560, 166406]\n",
    "P(six) = [0.1, 0.21, 0.161, 0.1642, 0.1656, 0.1664]\n",
    "```\n",
    "\n",
    "c) Note that the graph changes due to random simulation. To reproduce this result, use \n",
    "\n",
    "```python\n",
    "random.seed(1)\n",
    "```\n",
    "\n",
    "<img align=\"left\" src=\"../Assets/probability_six_graph.png\" width=\"300\"/>\n",
    "\n",
    "</details>"
   ]
  },
  {
   "cell_type": "code",
   "execution_count": 33,
   "metadata": {},
   "outputs": [
    {
     "name": "stdout",
     "output_type": "stream",
     "text": [
      "18\n"
     ]
    }
   ],
   "source": [
    "# Daniel's code. 5a\n",
    "import random\n",
    "\n",
    "def dice_roll_sim(nbr_rolls):\n",
    "    count6 = 0\n",
    "    for each_roll in range(nbr_rolls):\n",
    "        result = random.randint(1,6)\n",
    "        if result == 6:\n",
    "            count6 += 1\n",
    "    return count6\n",
    "\n",
    "print(dice_roll_sim(100))\n",
    "\n"
   ]
  },
  {
   "cell_type": "code",
   "execution_count": 50,
   "metadata": {},
   "outputs": [
    {
     "data": {
      "image/png": "[encoded data removed]",
      "text/plain": [
       "<Figure size 640x480 with 1 Axes>"
      ]
     },
     "metadata": {},
     "output_type": "display_data"
    }
   ],
   "source": [
    "# Daniel's code. 5b\n",
    "import random\n",
    "import matplotlib.pyplot as plt\n",
    "\n",
    "def dice_roll_sim(nbr_rolls):\n",
    "    count6 = 0\n",
    "    for each_roll in range(nbr_rolls):\n",
    "        result = random.randint(1,6)\n",
    "        if result == 6:\n",
    "            count6 += 1\n",
    "    return count6\n",
    "\n",
    "def play_dice(list):\n",
    "    results = []\n",
    "    probability = []\n",
    "    for idx in range(len(list)):\n",
    "        count6 = dice_roll_sim(list[idx])\n",
    "        results.append(count6)\n",
    "        probability.append(count6/list[idx])\n",
    "    return results, probability\n",
    "\n",
    "def plot_dice(tuple):\n",
    "    x = range(len(tuple[0]))\n",
    "    y = tuple[1]\n",
    "    #plt.title(\"Dice rolls convergence\")\n",
    "    plt.plot(x, y)\n",
    "\n",
    "\n",
    "list_of_results = play_dice([10, 100, 1000, 10000, 100000, 1000000])\n",
    "plot_dice(list_of_results)\n",
    "\n"
   ]
  },
  {
   "cell_type": "markdown",
   "metadata": {},
   "source": [
    "--- \n",
    "## 6. Monte Carlo simulation (**)\n",
    "\n",
    "&nbsp; a) Simulate 5000 uniformly distributed points between -1 and 1, $X\\sim U(-1,1)$. Now calculate the Euclidean distances between each point and the origin (0,0), $d_i = \\sqrt{x_i^2 + y_i^2}$. For $d_i < 1$ plot the point with one color, and for $d_i > 1$ plot the point in another color, $i = \\{1,\\ldots, 5000\\}$.  (**)\n",
    "\n",
    "&nbsp; b) Calculate the fraction between number of inner points and number of outer points. What do you this will converge to when number of points reaches infinity? (**)\n",
    "\n",
    "\n",
    "<details>\n",
    "\n",
    "<summary>Hint</summary>\n",
    "\n",
    "a) \n",
    "\n",
    "Try solve this task with pen and paper before approaching to code it.\n",
    "\n",
    "b)\n",
    "\n",
    "Think in terms of theoretical areas. Also try to increase the number of simulated points, to see if you find convergence.\n",
    "\n",
    "</details>\n",
    "\n",
    "<details>\n",
    "\n",
    "<summary>Answer</summary>\n",
    "\n",
    "\n",
    "a) \n",
    "\n",
    "<img src=\"../Assets/MC_simulation_5k.png\" width = 300>\n",
    "\n",
    "\n",
    "b) \n",
    "\n",
    "0.7908\n",
    "\n",
    "No answer here, try to prove it theoretically. \n",
    "\n",
    "\n",
    "</details>"
   ]
  },
  {
   "cell_type": "code",
   "execution_count": 127,
   "metadata": {},
   "outputs": [
    {
     "name": "stdout",
     "output_type": "stream",
     "text": [
      "0.2132\n"
     ]
    },
    {
     "data": {
      "image/png": "[encoded data removed]",
      "text/plain": [
       "<Figure size 640x480 with 1 Axes>"
      ]
     },
     "metadata": {},
     "output_type": "display_data"
    }
   ],
   "source": [
    "# Daniel's code\n",
    "import random\n",
    "import math\n",
    "import matplotlib.pyplot as plt\n",
    "\n",
    "def simulate_points(nbr): #function simulates nbr of points, calc dist, returns result in list of list\n",
    "    list_of_sims = []\n",
    "    x_vals = []\n",
    "    y_vals = []\n",
    "    d_vals = []\n",
    "    for simulation in range(nbr):\n",
    "        x = random.randrange(-1000, 1000, 1) / 1000\n",
    "        y = random.randrange(-1000, 1000, 1) / 1000\n",
    "        d = math.sqrt(x**2 + y**2)\n",
    "        x_vals.append(x)\n",
    "        y_vals.append(y)\n",
    "        d_vals.append(d)\n",
    "        list_of_sims = [x_vals, y_vals, d_vals]\n",
    "    return list_of_sims\n",
    "\n",
    "def plot(list): # functions plots the simulated values\n",
    "    x = list[0]\n",
    "    y = list[1]\n",
    "    d = list[2]\n",
    "    for item in range(len(x)):\n",
    "        plt.scatter(x, y, marker = \"o\", color = \"blue\")\n",
    "        \n",
    "def plot2(list): # functions plots the simulated values\n",
    "    x = list[0]\n",
    "    y = list[1]\n",
    "    d = list[2]\n",
    "    counter_larger = 0\n",
    "    counter_smaller = 0\n",
    "    for item in range(len(d)):\n",
    "        if d[item] > 1:\n",
    "            plt.scatter(x[item], y[item], marker = \"o\", color = \"blue\")\n",
    "            counter_smaller += 1\n",
    "        elif d[item] <=1:\n",
    "            plt.scatter(x[item], y[item], marker = \"x\", color = \"red\", s=5)\n",
    "            counter_larger += 1\n",
    "        else: break\n",
    "    return counter_smaller, counter_larger\n",
    "\n",
    "def calc_fraction(tuple):\n",
    "    fraction = tuple[0] / (tuple[0] + tuple[1])\n",
    "    return fraction\n",
    "\n",
    "        \n",
    "\n",
    "res = simulate_points(5000)\n",
    "tuple = plot2(res)\n",
    "fraction = calc_fraction(tuple)\n",
    "print(f\"Fraction d > 1 is {fraction}.\")\n"
   ]
  },
  {
   "cell_type": "markdown",
   "metadata": {},
   "source": [
    "Mina anteckningar:\n",
    "- Jag bör ha alla x i en lista, alla y i en lista, alla d i en lista.\n",
    "- Kan nog vara i varsin list of lists: [[x1, x2, x3...][y1, y2, y3...][d1, d2, d3...]]\n"
   ]
  },
  {
   "cell_type": "code",
   "execution_count": null,
   "metadata": {},
   "outputs": [],
   "source": [
    "import matplotlib.pyplot as plt\n",
    "\n",
    "list = [[0,21],[24,3],[3,2],[5,1]]\n",
    "\n",
    "for item in range(len(list)):\n",
    "    x = float(item[0])\n",
    "    y = float(item[1])\n",
    "    plt.scatter(x, x, marker = \"o\")"
   ]
  },
  {
   "cell_type": "code",
   "execution_count": 75,
   "metadata": {},
   "outputs": [
    {
     "name": "stdout",
     "output_type": "stream",
     "text": [
      "[24, 3]\n"
     ]
    },
    {
     "data": {
      "image/png": "[encoded data removed]",
      "text/plain": [
       "<Figure size 640x480 with 1 Axes>"
      ]
     },
     "metadata": {},
     "output_type": "display_data"
    }
   ],
   "source": [
    "import matplotlib.pyplot as plt\n",
    "\n",
    "list = [[0,21]]\n",
    "\n",
    "plt.scatter(list[0][0], list[0][1])\n",
    "\n",
    "list = [[0,21],[24,3],[3,2],[5,1]]\n",
    "print(list[1])\n"
   ]
  },
  {
   "cell_type": "markdown",
   "metadata": {},
   "source": [
    "--- \n",
    "## 7. A cute rabbit among two ferocious snakes (**)\n",
    "\n",
    "There are three identical doors, behind two of them, there are ferocious snakes and behind one of them is a cute little rabbit. Your aim is to pick a door and get the cute rabbit. You start picking one door randomly and suddenly another door opens and snake slithers away *pssss*. Now you have a choice to either stay with your door or change to the remaining door. \n",
    "\n",
    "<img src=\"../Assets/snakes_rabbits.png\" width = 200>\n",
    "\n",
    "&nbsp; a) What is your choice and why? (**)\n",
    "\n",
    "&nbsp; b) Randomly assign which door has the rabbit, and randomly pick an initial door. Now simulate 10, 100, 1000, 10000, 100000, 1000000 times for staying and for switching doors. Calculate the proportion of finding the rabbits for each set of simulations. Plot the results (**)\n",
    "\n",
    "\n",
    "<details>\n",
    "\n",
    "<summary>Hint</summary>\n",
    "\n",
    "a) \n",
    "\n",
    "Try to reason using probability.\n",
    "\n",
    "\n",
    "</details>\n",
    "\n",
    "<details>\n",
    "\n",
    "<summary>Answer</summary>\n",
    "\n",
    "\n",
    "a) \n",
    "\n",
    "You will simulate the answer in b).\n",
    "\n",
    "b) \n",
    "\n",
    "<img src=\"../Assets/mh_simulations.png\" width = 300>\n",
    "\n",
    "\n",
    "\n",
    "</details>"
   ]
  },
  {
   "cell_type": "markdown",
   "metadata": {},
   "source": [
    "---\n",
    "\n",
    "Kokchun Giang\n",
    "\n",
    "[LinkedIn][linkedIn_kokchun]\n",
    "\n",
    "[GitHub portfolio][github_portfolio]\n",
    "\n",
    "[linkedIn_kokchun]: https://www.linkedin.com/in/kokchungiang/\n",
    "[github_portfolio]: https://github.com/kokchun/Portfolio-Kokchun-Giang\n",
    "\n",
    "---"
   ]
  }
 ],
 "metadata": {
  "kernelspec": {
   "display_name": "Python 3.10.1 64-bit",
   "language": "python",
   "name": "python3"
  },
  "language_info": {
   "codemirror_mode": {
    "name": "ipython",
    "version": 3
   },
   "file_extension": ".py",
   "mimetype": "text/x-python",
   "name": "python",
   "nbconvert_exporter": "python",
   "pygments_lexer": "ipython3",
   "version": "3.9.16"
  },
  "orig_nbformat": 4,
  "vscode": {
   "interpreter": {
    "hash": "7e1998ff7f8aa20ada591c520b972326324e5ea05489af9e422744c7c09f6dad"
   }
  }
 },
 "nbformat": 4,
 "nbformat_minor": 2
}
