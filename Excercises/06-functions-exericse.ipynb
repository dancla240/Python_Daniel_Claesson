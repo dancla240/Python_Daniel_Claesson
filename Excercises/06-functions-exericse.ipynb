{
 "cells": [
  {
   "cell_type": "markdown",
   "metadata": {},
   "source": [
    "\n",
    "<a href=\"https://colab.research.google.com/github/kokchun/Python-course-AI22/blob/main/Exercises/06-functions-exericse.ipynb\" target=\"_parent\"><img align=\"left\" src=\"https://colab.research.google.com/assets/colab-badge.svg\" alt=\"Open In Colab\"/></a> &nbsp; to see hints and answers."
   ]
  },
  {
   "cell_type": "markdown",
   "metadata": {},
   "source": [
    "# functions exercises\n",
    "\n",
    "---\n",
    "These are introductory exercises in Python with focus in **functions**.\n",
    "\n",
    "<p class = \"alert alert-info\" role=\"alert\"><b>Remember</b> to use <b>descriptive variable and function names</b> in order to get readable code </p>\n",
    "\n",
    "<p class = \"alert alert-info\" role=\"alert\"><b>Remember</b> to format your answers in a neat way using <b>f-strings</b>\n",
    "\n",
    "<p class = \"alert alert-info\" role=\"alert\"><b>Remember</b> to format your input questions in a pedagogical way to guide the user\n",
    "\n",
    "The number of stars (\\*), (\\*\\*), (\\*\\*\\*) denotes the difficulty level of the task\n",
    "\n",
    "---"
   ]
  },
  {
   "cell_type": "markdown",
   "metadata": {},
   "source": [
    "## 1. Area (*)\n",
    "\n",
    "Create a function that takes the base and height of a triangle as input parameters and returns the area of the triangle."
   ]
  },
  {
   "cell_type": "code",
   "execution_count": 7,
   "metadata": {},
   "outputs": [
    {
     "name": "stdout",
     "output_type": "stream",
     "text": [
      "Triangle area = 5.0.\n",
      "Triangle area with inputs 5 and 3: 7.5.\n"
     ]
    }
   ],
   "source": [
    "# Daniel's code\n",
    "#area = 0\n",
    "\n",
    "def triangle_area(b,h):\n",
    "    return (b * h) / 2\n",
    "\n",
    "\n",
    "t_area = triangle_area(5,2)\n",
    "\n",
    "print(f\"Triangle area = {t_area}.\")\n",
    "\n",
    "# alt 2, skipping the use of a variable\n",
    "\n",
    "print(f\"Triangle area with inputs 5 and 3: {triangle_area(5,3)}.\")\n"
   ]
  },
  {
   "cell_type": "markdown",
   "metadata": {},
   "source": [
    "---\n",
    "\n",
    "## 2. Euclidean distance (*)\n",
    "\n",
    "The formula for Euclidean distance in 2D between $P: (p_1, p_2)$ and $Q: (q_1, q_2)$  is: \n",
    "\n",
    "$d(P,Q) = \\sqrt{(p_1-q_1)^2 + (p_2-q_2)^2}$\n",
    "\n",
    "&nbsp; a) &nbsp; Create a function that takes two points as input parameters and return the Euclidean between them. (*)\n",
    "\n",
    "&nbsp; b) &nbsp; Let the user input two points. Call the function using the users input points. (*)\n",
    "\n",
    "&nbsp; c) &nbsp; Use your function to calculate distances between the origin (0, 0) and each of these points: (10, 3), (-1, -9), (10, -10), (4, -2), (9, -10). (*)\n",
    "\n",
    "<details>\n",
    "\n",
    "<summary>Hint</summary>\n",
    "\n",
    "Use a **for** statement\n",
    "\n",
    "</details>\n",
    "<br>\n",
    "<details>\n",
    "\n",
    "<summary>Answer</summary>\n",
    "\n",
    "c)\n",
    "\n",
    "```\n",
    "[10.4, 9.1, 14.1, 4.5, 13.5]\n",
    "```\n",
    "\n",
    "</details>\n"
   ]
  },
  {
   "cell_type": "code",
   "execution_count": 5,
   "metadata": {},
   "outputs": [
    {
     "name": "stdout",
     "output_type": "stream",
     "text": [
      "The euclidean distance (list input): euclid_dist([0,0],[1,2]) = 2.23606797749979\n",
      "The euclideandistance (tuple input): euclid_dist((0,0),(3,1)) = 3.1622776601683795\n"
     ]
    }
   ],
   "source": [
    "# Daniel's code 2a\n",
    "\"\"\"This function takes two arguments. Each argument is a list or tuple on format [p1,q1] / (p1,q1), i.e. the coordinates of a point\"\"\"\n",
    "\n",
    "import math\n",
    "\n",
    "def euclid_dist(P, Q):\n",
    "    return math.sqrt((P[0] - Q[0])**2 + (P[1] - Q[1])**2)\n",
    "\n",
    "\n",
    "print(f\"The euclidean distance (list input): {euclid_dist([0,0],[1,2]) = }\") # List as input\n",
    "print(f\"The euclideandistance (tuple input): {euclid_dist((0,0),(3,1)) = }\") # tuple as input\n",
    "\n",
    "# Alternativ lösning:\n",
    "    #return ((P[0] - Q[0])**2 + (P[1] - Q[1])**2)**0.5"
   ]
  },
  {
   "cell_type": "code",
   "execution_count": 10,
   "metadata": {},
   "outputs": [
    {
     "name": "stdout",
     "output_type": "stream",
     "text": [
      "The euclidean distance is: 14.142135623730951.\n"
     ]
    }
   ],
   "source": [
    "# Daniel's code 2b\n",
    "import math\n",
    "\n",
    "def euclid_dist(P, Q):\n",
    "    \"\"\"Returns euclidean distance between two coordinates.\n",
    "    Each argument is a list or tuple on format [p1,q1] or (p1,q1)\n",
    "    , i.e. the coordinates of a point.\"\"\"\n",
    "    return math.sqrt((P[0] - Q[0])**2 + (P[1] - Q[1])**2)\n",
    "\n",
    "P = input(\"Input coordinates for P, on format (x,y), integer: \").split(\",\")\n",
    "P = [int(idx) for idx in P]\n",
    "Q = input(\"Input coordinates for Q, on format (x,y), integer: \").split(\",\")\n",
    "Q = [int(idx) for idx in Q]\n",
    "\n",
    "print(f\"The euclidean distance is: {euclid_dist(P, Q)}.\")"
   ]
  },
  {
   "cell_type": "code",
   "execution_count": 59,
   "metadata": {},
   "outputs": [
    {
     "name": "stdout",
     "output_type": "stream",
     "text": [
      "P[0] = 0 ,P[1] = 0 ,Q[0] = 1 ,Q[1] = 2\n",
      "P[0] - Q[0] = -1\n",
      "P[0] - Q[1] = -2\n",
      "math.sqrt(P[0]) = 0.0\n",
      "math.sqrt((Q[1]-P[0])) = 1.4142135623730951\n",
      "(P[0] - Q[0])**2 = 1\n",
      "(P[1] - Q[1])**2 = 4\n",
      "(P[0] - Q[0])**2 + (P[1] - Q[1])**2 = 5\n",
      "((P[0] - Q[0])**2 + (P[1] - Q[1])**2)**0.5 = 2.23606797749979\n"
     ]
    }
   ],
   "source": [
    "# Daniel's code. Just me fault tracing issues in above exercise.\n",
    "import math\n",
    "\n",
    "def euclid_dist(P, Q):\n",
    "    print(f\"{P[0] = }\",f\",{P[1] = }\",f\",{Q[0] = }\",f\",{Q[1] = }\")\n",
    "    print(f\"{P[0] - Q[0] = }\")\n",
    "    print(f\"{P[0] - Q[1] = }\")\n",
    "    print(f\"{math.sqrt(P[0]) = }\")\n",
    "    print(f\"{math.sqrt((Q[1]-P[0])) = }\")\n",
    "    print(f\"{(P[0] - Q[0])**2 = }\")\n",
    "    print(f\"{(P[1] - Q[1])**2 = }\")\n",
    "    print(f\"{(P[0] - Q[0])**2 + (P[1] - Q[1])**2 = }\")\n",
    "    print(f\"{((P[0] - Q[0])**2 + (P[1] - Q[1])**2)**0.5 = }\")\n",
    "\n",
    "euclid_dist([0,0],[1,2])\n"
   ]
  },
  {
   "cell_type": "markdown",
   "metadata": {},
   "source": [
    "---\n",
    "## 3. Mathematical functions (*)\n",
    "\n",
    "Make the following functions with **def** or **lambda** and plot their graphs in the same figure window, with $x\\in [-10,10]$ :\n",
    "\n",
    "&nbsp; a) &nbsp;  $f(x) = x^2 -3$ (*)\n",
    "\n",
    "&nbsp; b) &nbsp; $g(x) = 4x-7$ (*)\n",
    "\n",
    "What could the relation between $f(x)$ and $g(x)$ be?\n",
    "\n",
    "<details>\n",
    "\n",
    "<summary>Hint</summary>\n",
    "Use numpy's linspace function:\n",
    "\n",
    "```python\n",
    "import numpy as np\n",
    "x = np.linspace(-10,10)\n",
    "```\n",
    "\n",
    "[Derivative video][derivative_video] (Swedish)\n",
    "\n",
    "[Derivative of polynomials][derivative_polynomial] (Swedish)\n",
    "\n",
    "[derivative_video]: https://www.youtube.com/watch?v=hzXJxOXkU_M\n",
    "[derivative_polynomial]: https://www.youtube.com/watch?v=dFnro1sBn1Y\n",
    "\n",
    "</details>\n",
    "<br>\n",
    "<details>\n",
    "\n",
    "<summary>Answer</summary>\n",
    "\n",
    "<img align=\"left\" src=\"../Assets/functions_graph.png\" width=\"200\"/>\n",
    "\n",
    "</details>\n"
   ]
  },
  {
   "cell_type": "code",
   "execution_count": 10,
   "metadata": {},
   "outputs": [
    {
     "data": {
      "text/plain": [
       "[<matplotlib.lines.Line2D at 0x1e6712da5b0>]"
      ]
     },
     "execution_count": 10,
     "metadata": {},
     "output_type": "execute_result"
    },
    {
     "data": {
      "image/png": "[encoded data removed]",
      "text/plain": [
       "<Figure size 640x480 with 1 Axes>"
      ]
     },
     "metadata": {},
     "output_type": "display_data"
    }
   ],
   "source": [
    "# Daniel's code\n",
    "import matplotlib.pyplot as plt\n",
    "\n",
    "x_axis = list(range(-10,11))\n",
    "\n",
    "def function_create(x_axis, a, b, c):\n",
    "    \"\"\"Function returns y-values as a list, based on\n",
    "    inputs: x-values (as a list), a = intercept,\n",
    "    b = coefficient, c = x**2 term.\n",
    "    format: y = a + b*x + c*x^2, where\n",
    "    x = [-10, -9, ... 9, 10] or similar\"\"\"\n",
    "    y_values = []\n",
    "    for element in range(len(x_axis)):\n",
    "        y = a + b * x_axis[element] + c * x_axis[element]**2\n",
    "        y_values.append(y)\n",
    "    return y_values\n",
    "\n",
    "\n",
    "eq1 = function_create(x_axis, -3, 0, 1)\n",
    "eq2 = function_create(x_axis, -7, 4, 0)\n",
    "\n",
    "plt.plot(x_axis, eq1)\n",
    "plt.plot(x_axis, eq2)"
   ]
  },
  {
   "cell_type": "markdown",
   "metadata": {},
   "source": [
    "---\n",
    "## 4. Name cleaner (*)\n",
    "\n",
    "Create a function that takes a name as an input and:\n",
    "\n",
    "- removes all leading and trailing blank spaces\n",
    "- make capitalize the first character of each name, and make the rest lowercase\n",
    "\n",
    "Use your function on this list of strings: \n",
    "\n",
    "```\n",
    "[\"  MaRcUs \", \" iDA aNderSon\", \"OLOF Olofsson            \"  ]\n",
    "```\n",
    "\n",
    "\n",
    "<details>\n",
    "\n",
    "<summary>Hint</summary>\n",
    "Use \n",
    "\n",
    "- [title() method][str_title]\n",
    "- [strip() method][str_strip]\n",
    "- [join() method][str_join]\n",
    "- [split() method][str_split]\n",
    "\n",
    "[str_title]: https://www.w3schools.com/python/ref_string_title.asp\n",
    "[str_strip]: https://www.w3schools.com/python/ref_string_strip.asp\n",
    "[str_join]: https://www.w3schools.com/python/ref_string_join.asp\n",
    "[str_split]: https://www.w3schools.com/python/ref_string_split.asp \n",
    "\n",
    "</details>\n",
    "<br>\n",
    "<details>\n",
    "\n",
    "<summary>Answer</summary>\n",
    "\n",
    "```\n",
    "Marcus\n",
    "Ida Anderson\n",
    "Olof Olofsson\n",
    "```\n",
    "\n",
    "</details>\n"
   ]
  },
  {
   "cell_type": "markdown",
   "metadata": {},
   "source": [
    "---\n",
    "## 5. Change (**)\n",
    "\n",
    "Create a function that takes a value as input parameter and print out the banknotes and coins in Swedish currency representing this value. For example 5289 would give the following printout: \n",
    "\n",
    "- 5st 1000-lapp\n",
    "- 1st 200-lapp\n",
    "- 1st 50-lapp\n",
    "- 1st 20-lapp\n",
    "- 1st 10-krona\n",
    "- 1st 5-krona\n",
    "- 2st 2-krona\n",
    "\n",
    "Now let the user input a value, and use the function to calculate the change."
   ]
  },
  {
   "cell_type": "code",
   "execution_count": null,
   "metadata": {},
   "outputs": [],
   "source": [
    "# Daniel's code\n",
    "\n",
    "money = int(input(\"Skriv ett belopp i SEK, hela kronor: \"))\n",
    "\n",
    "def swe_monetary_calculator(money):\n",
    "    \"\"\"Input a value in SEK and function returns\n",
    "    the number of coins and bills according to\n",
    "    Swedish coin system. Input is integer.\"\"\"\n",
    "    system = [1000, 200, 50, 20, 10, 5, 2]\n",
    "    result = []\n",
    "    residual = 0\n",
    "    for idx in range(len(system)):\n",
    "        res = money // system[idx]\n",
    "        result.append(res)\n",
    "        residual = money - res\n",
    "        \n",
    "\n",
    "\n"
   ]
  },
  {
   "cell_type": "markdown",
   "metadata": {},
   "source": [
    "---\n",
    "\n",
    "Kokchun Giang\n",
    "\n",
    "[LinkedIn][linkedIn_kokchun]\n",
    "\n",
    "[GitHub portfolio][github_portfolio]\n",
    "\n",
    "[linkedIn_kokchun]: https://www.linkedin.com/in/kokchungiang/\n",
    "[github_portfolio]: https://github.com/kokchun/Portfolio-Kokchun-Giang\n",
    "\n",
    "---"
   ]
  }
 ],
 "metadata": {
  "kernelspec": {
   "display_name": "Python 3.9.6 64-bit",
   "language": "python",
   "name": "python3"
  },
  "language_info": {
   "codemirror_mode": {
    "name": "ipython",
    "version": 3
   },
   "file_extension": ".py",
   "mimetype": "text/x-python",
   "name": "python",
   "nbconvert_exporter": "python",
   "pygments_lexer": "ipython3",
   "version": "3.9.16"
  },
  "orig_nbformat": 4,
  "vscode": {
   "interpreter": {
    "hash": "0da836a34428266995a795f1e1e27b816fa1c02f148d9728b3fbbbc5459afca6"
   }
  }
 },
 "nbformat": 4,
 "nbformat_minor": 2
}
