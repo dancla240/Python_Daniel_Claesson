{
 "cells": [
  {
   "cell_type": "markdown",
   "metadata": {},
   "source": [
    "\n",
    "<a href=\"https://colab.research.google.com/github/kokchun/Python-course-AI22/blob/main/Exercises/06-functions-exericse.ipynb\" target=\"_parent\"><img align=\"left\" src=\"https://colab.research.google.com/assets/colab-badge.svg\" alt=\"Open In Colab\"/></a> &nbsp; to see hints and answers."
   ]
  },
  {
   "cell_type": "markdown",
   "metadata": {},
   "source": [
    "# Collections exercises\n",
    "\n",
    "---\n",
    "These are introductory exercises in Python with focus on **Collections** (list, dictionary, set).\n",
    "\n",
    "<p class = \"alert alert-info\" role=\"alert\"><b>List</b> is a collection of items which are ordered and changeable. Allows duplicate members.</p>\n",
    "\n",
    "<p class = \"alert alert-info\" role=\"alert\"><b>Dictionary</b> is a collection of key-value-pairs which are ordered and changeable. No duplicate keys.</p>\n",
    "\n",
    "<p class = \"alert alert-info\" role=\"alert\"><b>Set</b> is a collection of items which is unordered, unchangeable*, and unindexed. No duplicate members.</p>\n",
    "\n",
    "The number of stars (\\*), (\\*\\*), (\\*\\*\\*) denotes the difficulty level of the task\n",
    "\n",
    "---"
   ]
  },
  {
   "cell_type": "markdown",
   "metadata": {},
   "source": [
    "## 1. Print inputed values in reverse (*)\n",
    "\n",
    "Create a loop that keeps asking for user input until the user inputs an empty string, then print all inputs in reverse order."
   ]
  },
  {
   "cell_type": "code",
   "execution_count": 4,
   "metadata": {},
   "outputs": [
    {
     "name": "stdout",
     "output_type": "stream",
     "text": [
      "['trombon', 'trumma', '4', 'bil', 'lista', 'hej']\n"
     ]
    }
   ],
   "source": [
    "list_of_values = []\n",
    "\n",
    "while True:\n",
    "    new_value = input(f\"Input a value, anything: \")\n",
    "    if not new_value:\n",
    "        break\n",
    "    list_of_values.append(new_value)\n",
    "\n",
    "print(list_of_values[::-1])"
   ]
  },
  {
   "cell_type": "markdown",
   "metadata": {},
   "source": [
    "---\n",
    "\n",
    "## 2. Print a given number using words. (*)\n",
    "\n",
    "Create a dictionary with 10 key-value pairs: {\"0\": \"Zero\", \"1\": \"One\", ..., \"9\": \"Nine\"}\n",
    "\n",
    "Make the program ask the user to input a number, then print the word for each number in sequence;\n",
    "\n",
    "<details>\n",
    "\n",
    "<summary>Example</summary>\n",
    "\n",
    "```\n",
    "Input: 34507\n",
    "Output: Three-Four-Five-Zero-Seven\n",
    "```\n",
    "\n",
    "</details>\n"
   ]
  },
  {
   "cell_type": "code",
   "execution_count": 5,
   "metadata": {},
   "outputs": [
    {
     "name": "stdout",
     "output_type": "stream",
     "text": [
      "one two five four "
     ]
    }
   ],
   "source": [
    "number_dict = {'0':'zero', '1':'one','2':'two','3':'three','4':'four','5':'five','6':'six','7':'seven','8':'eight','9':'nine'}\n",
    "\n",
    "nbr_input = input(f'Input a number (example: 1542): ') # ger en sträng med siffror\n",
    "list_of_nbrs = [idx for idx in nbr_input] # ger en lista med strängar med unika siffror från strängen\n",
    "\n",
    "for elem in list_of_nbrs:\n",
    "    print(f'{number_dict[elem]}', end=' ')\n",
    "    "
   ]
  },
  {
   "cell_type": "markdown",
   "metadata": {},
   "source": [
    "---\n",
    "## 3. Glossary training program (*)\n",
    "\n",
    "Create a glossary training program, where the user can test their skills on translating the names of english colors to swedish:\n",
    "\n",
    "- The program should ask the user to write a color in swedish (eg. \"Type the Swedish word for 'red': )\n",
    "\n",
    "- Then let the user know if it was correct (and if not, show them the correct translation)\n",
    "\n",
    "- Keep asking to translate random colors until the user inputs an blank answer (\"\")\n",
    "\n",
    "- Lastly let the user know how many of their translations where correct, how many they guess in total, and the ratio of correct answer (eg. \"You got 3 out of 5 correct answers. That is 60%\")\n"
   ]
  },
  {
   "cell_type": "code",
   "execution_count": 4,
   "metadata": {},
   "outputs": [
    {
     "name": "stdout",
     "output_type": "stream",
     "text": [
      "Correct, \"yellow\" in English is \"gul\" in Swedish.\n",
      "Wrong, \"green\" is not \"hej\" in Swedish, try again.\n",
      "Bye bye\n"
     ]
    }
   ],
   "source": [
    "import random\n",
    "glossary = {'red':'röd','blue':'blå','green':'grön','yellow':'gul','pink':'rosa','black':'svart','white':'vit','brown':'brun'}\n",
    "\n",
    "while True:\n",
    "    color = random.choice(list(glossary.keys()))\n",
    "    user_guess = input(f'Type the Swedish word for {color}: ')\n",
    "    if not user_guess:\n",
    "        print('Bye bye!')\n",
    "        break\n",
    "    if user_guess == str(glossary[color]):\n",
    "        print(f'Correct, \"{color}\" in English is \"{glossary[color]}\" in Swedish.')\n",
    "    else: print(f'Wrong, \"{color}\" is not \"{user_guess}\" in Swedish, try again.')"
   ]
  },
  {
   "cell_type": "markdown",
   "metadata": {},
   "source": [
    "---\n",
    "## 4. Find common values between two inputs (*)\n",
    "\n",
    "Ask the user to input items on a comma-seperated list (1 input string)\n",
    "\n",
    "Then ask the user to input a new string of comma seperated items.\n",
    "\n",
    "Lastly, print all the items that appeared in both lists.\n",
    "\n",
    "<details>\n",
    "\n",
    "<summary>Example</summary>\n",
    "\n",
    "```\n",
    "Input A: green, red, yellow, purple, blue\n",
    "Input B: red, blue, black, white, brown\n",
    "Output: red, blue\n",
    "```\n",
    "\n",
    "</details>"
   ]
  },
  {
   "cell_type": "code",
   "execution_count": 7,
   "metadata": {},
   "outputs": [
    {
     "ename": "AttributeError",
     "evalue": "'list' object has no attribute 'strip'",
     "output_type": "error",
     "traceback": [
      "\u001b[1;31m---------------------------------------------------------------------------\u001b[0m",
      "\u001b[1;31mAttributeError\u001b[0m                            Traceback (most recent call last)",
      "\u001b[1;32mc:\\Users\\danie\\Documents\\GitHub\\Python_Daniel_Claesson\\Excercises\\07-collections-exercise.ipynb Cell 10\u001b[0m line \u001b[0;36m<cell line: 1>\u001b[1;34m()\u001b[0m\n\u001b[1;32m----> <a href='vscode-notebook-cell:/c%3A/Users/danie/Documents/GitHub/Python_Daniel_Claesson/Excercises/07-collections-exercise.ipynb#X14sZmlsZQ%3D%3D?line=0'>1</a>\u001b[0m input1 \u001b[39m=\u001b[39m \u001b[39mset\u001b[39m(\u001b[39minput\u001b[39;49m(\u001b[39mf\u001b[39;49m\u001b[39m'\u001b[39;49m\u001b[39mInput a string of values or words separated by commas: \u001b[39;49m\u001b[39m'\u001b[39;49m)\u001b[39m.\u001b[39;49msplit(\u001b[39m\"\u001b[39;49m\u001b[39m,\u001b[39;49m\u001b[39m\"\u001b[39;49m)\u001b[39m.\u001b[39;49mstrip())\n\u001b[0;32m      <a href='vscode-notebook-cell:/c%3A/Users/danie/Documents/GitHub/Python_Daniel_Claesson/Excercises/07-collections-exercise.ipynb#X14sZmlsZQ%3D%3D?line=1'>2</a>\u001b[0m input2 \u001b[39m=\u001b[39m \u001b[39mset\u001b[39m(\u001b[39minput\u001b[39m(\u001b[39mf\u001b[39m\u001b[39m'\u001b[39m\u001b[39mInput another string of values or words separated by commas: \u001b[39m\u001b[39m'\u001b[39m)\u001b[39m.\u001b[39msplit(\u001b[39m\"\u001b[39m\u001b[39m,\u001b[39m\u001b[39m\"\u001b[39m)\u001b[39m.\u001b[39mstrip())\n\u001b[0;32m      <a href='vscode-notebook-cell:/c%3A/Users/danie/Documents/GitHub/Python_Daniel_Claesson/Excercises/07-collections-exercise.ipynb#X14sZmlsZQ%3D%3D?line=2'>3</a>\u001b[0m \u001b[39mprint\u001b[39m(\u001b[39mf\u001b[39m\u001b[39m'\u001b[39m\u001b[39mDessa ord finns i både input1 och input2: \u001b[39m\u001b[39m{\u001b[39;00minput1\u001b[39m.\u001b[39mintersection(input2)\u001b[39m}\u001b[39;00m\u001b[39m'\u001b[39m)\n",
      "\u001b[1;31mAttributeError\u001b[0m: 'list' object has no attribute 'strip'"
     ]
    }
   ],
   "source": [
    "input1 = set(input(f'Input a string of values or words separated by commas: ').strip().split(\",\"))\n",
    "input2 = set(input(f'Input another string of values or words separated by commas: ').strip().split(\",\"))\n",
    "print(f'Dessa ord finns i både input1 och input2: {input1.intersection(input2)}')\n"
   ]
  },
  {
   "cell_type": "markdown",
   "metadata": {},
   "source": [
    "---\n",
    "\n",
    "## 5. Print a given number using words (version 2). (**)\n",
    "\n",
    "Make the program ask the user to input any number from 0 to 99999.\n",
    "\n",
    "The program should then print out the full sequence of words for the number.\n",
    "\n",
    "<details>\n",
    "\n",
    "<summary>Example</summary>\n",
    "\n",
    "```\n",
    "Input: 34507\n",
    "Output: Thirtyfour thousand five hundred and seven\n",
    "```\n",
    "\n",
    "</details>\n"
   ]
  },
  {
   "cell_type": "markdown",
   "metadata": {},
   "source": [
    "---\n",
    "\n",
    "Fredrik Johansson\n",
    "\n",
    "Github: https://github.com/everyloop\n",
    "\n",
    "---"
   ]
  }
 ],
 "metadata": {
  "kernelspec": {
   "display_name": "Python 3.9.6 64-bit",
   "language": "python",
   "name": "python3"
  },
  "language_info": {
   "codemirror_mode": {
    "name": "ipython",
    "version": 3
   },
   "file_extension": ".py",
   "mimetype": "text/x-python",
   "name": "python",
   "nbconvert_exporter": "python",
   "pygments_lexer": "ipython3",
   "version": "3.9.16"
  },
  "orig_nbformat": 4,
  "vscode": {
   "interpreter": {
    "hash": "0da836a34428266995a795f1e1e27b816fa1c02f148d9728b3fbbbc5459afca6"
   }
  }
 },
 "nbformat": 4,
 "nbformat_minor": 2
}
