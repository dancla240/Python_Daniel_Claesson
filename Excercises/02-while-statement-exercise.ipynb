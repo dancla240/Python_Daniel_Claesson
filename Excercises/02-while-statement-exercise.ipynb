{
 "cells": [
  {
   "cell_type": "markdown",
   "metadata": {},
   "source": [
    "<a href=\"https://colab.research.google.com/github/kokchun/Python-course-AI22/blob/main/Exercises/02-while-statement-exercise.ipynb\" target=\"_parent\"><img align=\"left\" src=\"https://colab.research.google.com/assets/colab-badge.svg\" alt=\"Open In Colab\"/></a> &nbsp; to see hints and answers."
   ]
  },
  {
   "cell_type": "markdown",
   "metadata": {},
   "source": [
    "# while statement exercises\n",
    "\n",
    "---\n",
    "These are introductory exercises in Python with focus in **while** statement.\n",
    "\n",
    "<p class = \"alert alert-info\" role=\"alert\"><b>Remember</b> to use <b>descriptive variable names</b> in order to get readable code </p>\n",
    "\n",
    "<p class = \"alert alert-info\" role=\"alert\"><b>Remember</b> to format your answers in a neat way using <b>f-strings</b>\n",
    "\n",
    "<p class = \"alert alert-info\" role=\"alert\"><b>Remember</b> to format your input questions in a pedagogical way to guide the user\n",
    "\n",
    "The number of stars (\\*), (\\*\\*), (\\*\\*\\*) denotes the difficulty level of the task\n",
    "\n",
    "---"
   ]
  },
  {
   "cell_type": "markdown",
   "metadata": {},
   "source": [
    "## 1. Count numbers (*)\n",
    "\n",
    "Use a **while** statement to count from -10 to 10 with one increment. \n",
    "\n",
    "<details>\n",
    "\n",
    "<summary>Hint </summary>\n",
    "\n",
    "```python\n",
    "\n",
    "i += 1 # adds one and assigns it to i, equivalent to i = i + 1\n",
    "```\n",
    "\n",
    "</details>\n",
    "<br>\n",
    "<details>\n",
    "\n",
    "<summary>Answer </summary>\n",
    "\n",
    "```\n",
    "\n",
    "-10 -9 -8 -7 -6 -5 -4 -3 -2 -1 0 1 2 3 4 5 6 7 8 9 10\n",
    "```\n",
    "\n",
    "</details>\n"
   ]
  },
  {
   "cell_type": "code",
   "execution_count": 2,
   "metadata": {},
   "outputs": [
    {
     "name": "stdout",
     "output_type": "stream",
     "text": [
      "-10 -9 -8 -7 -6 -5 -4 -3 -2 -1 0 1 2 3 4 5 6 7 8 9 10 "
     ]
    }
   ],
   "source": [
    "# Daniel's code\n",
    "nbr = -10\n",
    "\n",
    "while nbr <= 10:\n",
    "    print(nbr, end = \" \")\n",
    "    nbr = nbr + 1\n",
    "    \n"
   ]
  },
  {
   "cell_type": "markdown",
   "metadata": {},
   "source": [
    "--- \n",
    "## 2. Arithmetic sum (*)\n",
    "Use a **while** statement to compute the following sums: \n",
    "\n",
    "&nbsp; a) &nbsp; $\\text{sum} = 1 + 2 + \\ldots + 99+ 100$\n",
    "\n",
    "&nbsp; b) &nbsp; $\\text{sum} = 1 + 3 + 5 + \\ldots + 97 + 99$\n",
    "\n",
    "<details>\n",
    "\n",
    "<summary>Answer </summary>\n",
    "\n",
    "```\n",
    "a) 1 + 2 + ... + 99 + 100 = 5050 \n",
    "\n",
    "b) 1 + 3 + 5 +...+ 97 + 99 = 2500\n",
    "```\n",
    "\n",
    "</details>"
   ]
  },
  {
   "cell_type": "code",
   "execution_count": 3,
   "metadata": {},
   "outputs": [
    {
     "name": "stdout",
     "output_type": "stream",
     "text": [
      "The sum is 5050.\n"
     ]
    }
   ],
   "source": [
    "# Daniel's code 2a\n",
    "counter = 2\n",
    "nbr = 1\n",
    "\n",
    "while counter <= 100:\n",
    "    nbr = nbr + counter\n",
    "    counter = counter + 1\n",
    "    \n",
    "print(f\"The sum is {nbr}.\")\n"
   ]
  },
  {
   "cell_type": "code",
   "execution_count": 15,
   "metadata": {},
   "outputs": [
    {
     "name": "stdout",
     "output_type": "stream",
     "text": [
      "The sum is 2500\n"
     ]
    }
   ],
   "source": [
    "# Daniel's code 2b\n",
    "counter = 3\n",
    "nbr = 1\n",
    "\n",
    "while counter <= 99:\n",
    "    nbr = nbr + counter\n",
    "    counter = counter + 2\n",
    "\n",
    "print(f\"The sum is {nbr}\")"
   ]
  },
  {
   "cell_type": "markdown",
   "metadata": {},
   "source": [
    "--- \n",
    "## 3. Guess number game (*)\n",
    "&nbsp; a) &nbsp; Create a guessing number game following this flow chart: \n",
    "\n",
    "<img align=\"left\" src=\"../Assets/guessing_game.png\" width=\"300\"/>"
   ]
  },
  {
   "cell_type": "markdown",
   "metadata": {},
   "source": [
    "&nbsp; b) &nbsp; Make an algorithm to automatically guess the correct number. Can you optimize to get as few guesses as possible? (**)\n",
    "\n",
    "<details>\n",
    "\n",
    "<summary>Hint </summary>\n",
    "\n",
    "&nbsp; b) &nbsp; Half your testing number each time \n",
    "\n",
    "</details>"
   ]
  },
  {
   "cell_type": "code",
   "execution_count": null,
   "metadata": {},
   "outputs": [],
   "source": [
    "# Daniel's code\n",
    "import random\n",
    "\n",
    "nbr = random.randint(1,101)\n",
    "#print(nbr) #om man vill veta värdet på 'nbr'\n",
    "\n",
    "while guess != nbr:\n",
    "    guess = int(input(print(f\"Guess a number between 1 and 100!\")))\n",
    "    if guess == nbr:\n",
    "        print(f\"Congratulation, your guess {guess} is correct!\")\n",
    "        break\n",
    "    elif guess > nbr:\n",
    "        print(f\"Your guess {guess} is too high, guess again.\"); continue\n",
    "    elif guess < nbr: print(f\"Your guess {guess} is too low, guess again.\"); continue\n",
    "\n"
   ]
  },
  {
   "cell_type": "markdown",
   "metadata": {},
   "source": [
    "--- \n",
    "## 4. Multiplication game (*)\n",
    "&nbsp; a) &nbsp; Create a multiplication game following this flow chart: \n",
    "\n",
    "<img align=\"left\" src=\"../Assets/Multiplication_game.png\" width=\"300\"/>"
   ]
  },
  {
   "cell_type": "markdown",
   "metadata": {},
   "source": [
    "&nbsp; b) &nbsp; Add a menu for choosing difficulty level of the game\n",
    "\n",
    "&nbsp; c) &nbsp; Feel free to extend this program with features of your choice."
   ]
  },
  {
   "cell_type": "code",
   "execution_count": null,
   "metadata": {},
   "outputs": [],
   "source": [
    "# Daniel's code 4a\n",
    "import random\n",
    "play = True\n",
    "score = 0\n",
    "\n",
    "while play == True:\n",
    "    x = random.randint(1, 10)\n",
    "    y = random.randint(1, 10)\n",
    "    answer = int(input(print(f\"Calculate {x} times {y}:\")))\n",
    "    if answer == x * y:\n",
    "        print(\"Good work! Your answer is correct.\")\n",
    "        score = score + 1\n",
    "        print(f\"Your total score is {score}.\")\n",
    "        playAgain = input(print(\"Play again? (y/n)\"))\n",
    "        if playAgain == \"y\":\n",
    "            continue\n",
    "        else: break\n",
    "    else:\n",
    "        print(f\"Wrong, the correct answer is {x * y}.\")\n",
    "        print(f\"Your total score is {score}.\")\n",
    "        playAgain = input(print(\"Play again? (y/n)\"))\n",
    "        if playAgain == \"y\": continue\n",
    "        else: print(\"End of game\") ; break"
   ]
  },
  {
   "cell_type": "code",
   "execution_count": null,
   "metadata": {},
   "outputs": [],
   "source": [
    "# Daniel's code 4b (jag får inte denna koden att fungera jättebra i Jupyter Notebook men det fungerar i Spyder.)\n",
    "\n",
    "import random\n",
    "\n",
    "try:\n",
    "    del answer\n",
    "except NameError:\n",
    "    print(\"that's an error\")\n",
    "\n",
    "try:\n",
    "    del level\n",
    "except NameError:\n",
    "    print(\"that's an error\")\n",
    "\n",
    "try:\n",
    "    del play\n",
    "except NameError:\n",
    "    print(\"that's an error\")\n",
    "\n",
    "\n",
    "play = \"y\"\n",
    "score = 0\n",
    "level = input(\"Select difficulty level: 'easy' or 'hard'.\")\n",
    "\n",
    "\n",
    "while play == \"y\":\n",
    "    if level == \"easy\":\n",
    "        x = random.randint(1, 10)\n",
    "        y = random.randint(1, 10)\n",
    "    elif level == \"hard\":\n",
    "        x = random.randint(10, 20)\n",
    "        y = random.randint(10, 20)\n",
    "    else: print(f\"diffculty level {level} does not exist.\");break\n",
    "\n",
    "    answer = int(input(print(f\"Calculate {x} times {y}:\")))\n",
    "    if answer == x * y:\n",
    "        print(f\"Good work! Your answer {answer} is correct.\")\n",
    "        score = score + 1\n",
    "        print(f\"Your total score is {score}.\")\n",
    "        play = input(print(\"Play again? (y/n)\"))\n",
    "        if play == \"y\":\n",
    "            continue\n",
    "        else: print(\"End of game.\")\n",
    "    else:\n",
    "        print(f\"Wrong, the correct answer is {x * y}.\")\n",
    "        print(f\"Your total score is {score}.\")\n",
    "        play = input(print(\"Play again? (y/n)\"))\n",
    "        if play == \"y\": continue\n",
    "        else: print(\"End of game.\")"
   ]
  },
  {
   "cell_type": "markdown",
   "metadata": {},
   "source": [
    "--- \n",
    "## 5. Check convergence (**)\n",
    "Use a while statement to compute the following sums: \n",
    "\n",
    "&nbsp; a) &nbsp; $\\text{sum} = 1 + \\frac{1}{2} + \\frac{1}{4} + \\frac{1}{8} + \\dots + \\frac{1}{2^n}$\n",
    "\n",
    "&nbsp; b) &nbsp; $\\text{sum} = 1 - \\frac{1}{3} + \\frac{1}{5} - \\frac{1}{7} + \\dots + \\frac{(-1)^n}{2n+1}$\n",
    "\n",
    "Try different values on $n$ to see which value it converges to.\n",
    "\n",
    "<details>\n",
    "\n",
    "<summary>Answer </summary>\n",
    "\n",
    "&nbsp; a) &nbsp; $1 + \\frac{1}{2} + \\frac{1}{4} + \\frac{1}{8} + \\dots + \\frac{1}{2^n} \\xrightarrow[n\\rightarrow \\infty]{} 2$ \n",
    "\n",
    "&nbsp; b) &nbsp; $ 1 - \\frac{1}{3} + \\frac{1}{5} - \\frac{1}{7} + \\dots + \\frac{(-1)^n}{2n+1} \\xrightarrow[n\\rightarrow \\infty]{} \\frac{\\pi}{4}$\n",
    "\n",
    "</details>"
   ]
  },
  {
   "cell_type": "code",
   "execution_count": 12,
   "metadata": {},
   "outputs": [
    {
     "name": "stdout",
     "output_type": "stream",
     "text": [
      "Enter 'n', integer >= 0: \n",
      "2.0\n"
     ]
    }
   ],
   "source": [
    "# Daniel's code 5a\n",
    "n = int(input(print(\"Enter 'n', integer >= 0: \")))\n",
    "sum = 0\n",
    "counter = 0\n",
    "\n",
    "while counter <= n:\n",
    "    term = 1 / 2**counter\n",
    "    sum = sum + term\n",
    "    counter = counter + 1\n",
    "    continue\n",
    "else: print(sum)\n"
   ]
  },
  {
   "cell_type": "code",
   "execution_count": 15,
   "metadata": {},
   "outputs": [
    {
     "name": "stdout",
     "output_type": "stream",
     "text": [
      "Enter 'n', integer >= 0: \n",
      "0.7866419367957389\n"
     ]
    }
   ],
   "source": [
    "# Daniel's code 5b\n",
    "n = int(input(print(\"Enter 'n', integer >= 0: \")))\n",
    "sum = 0\n",
    "counter = 0\n",
    "\n",
    "while counter <= n:\n",
    "    term = (-1)**counter/(2*counter+1)\n",
    "    sum = sum + term\n",
    "    counter = counter + 1\n",
    "    continue\n",
    "else: print(sum)\n"
   ]
  },
  {
   "cell_type": "markdown",
   "metadata": {},
   "source": [
    "---\n",
    "\n",
    "Kokchun Giang\n",
    "\n",
    "[LinkedIn][linkedIn_kokchun]\n",
    "\n",
    "[GitHub portfolio][github_portfolio]\n",
    "\n",
    "[linkedIn_kokchun]: https://www.linkedin.com/in/kokchungiang/\n",
    "[github_portfolio]: https://github.com/kokchun/Portfolio-Kokchun-Giang\n",
    "\n",
    "---"
   ]
  }
 ],
 "metadata": {
  "kernelspec": {
   "display_name": "Python 3.9.6 64-bit",
   "language": "python",
   "name": "python3"
  },
  "language_info": {
   "codemirror_mode": {
    "name": "ipython",
    "version": 3
   },
   "file_extension": ".py",
   "mimetype": "text/x-python",
   "name": "python",
   "nbconvert_exporter": "python",
   "pygments_lexer": "ipython3",
   "version": "3.9.16"
  },
  "orig_nbformat": 4,
  "vscode": {
   "interpreter": {
    "hash": "0da836a34428266995a795f1e1e27b816fa1c02f148d9728b3fbbbc5459afca6"
   }
  }
 },
 "nbformat": 4,
 "nbformat_minor": 2
}
