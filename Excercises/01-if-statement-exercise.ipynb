{
 "cells": [
  {
   "cell_type": "markdown",
   "metadata": {},
   "source": [
    "\n",
    "<a href=\"https://colab.research.google.com/github/kokchun/Python-course-AI22/blob/main/Exercises/01-if-statement-exercise.ipynb\" target=\"_parent\"><img align=\"left\" src=\"https://colab.research.google.com/assets/colab-badge.svg\" alt=\"Open In Colab\"/></a> &nbsp; to see hints and answers."
   ]
  },
  {
   "cell_type": "markdown",
   "metadata": {},
   "source": [
    "# if statements exercises\n",
    "\n",
    "---\n",
    "These are introductory exercises in Python with focus in **if** statement.\n",
    "\n",
    "<p class = \"alert alert-info\" role=\"alert\"><b>Remember</b> to use <b>descriptive variable names</b> in order to get readable code </p>\n",
    "\n",
    "<p class = \"alert alert-info\" role=\"alert\"><b>Remember</b> to format your answers in a neat way using <b>f-strings</b>\n",
    "\n",
    "<p class = \"alert alert-info\" role=\"alert\"><b>Remember</b> to format your input questions in a pedagogical way to guide the user\n",
    "\n",
    "The number of stars (\\*), (\\*\\*), (\\*\\*\\*) denotes the difficulty level of the task\n",
    "\n",
    "---"
   ]
  },
  {
   "cell_type": "markdown",
   "metadata": {},
   "source": [
    "## 1. Check sign (*)\n",
    "\n",
    "Ask the user to input a number and check if this number is **positive**, **negative** or **zero** and print it out."
   ]
  },
  {
   "cell_type": "code",
   "execution_count": 5,
   "metadata": {},
   "outputs": [
    {
     "name": "stdout",
     "output_type": "stream",
     "text": [
      "Enter a numeric value / numer:\n",
      "The number is zero.\n"
     ]
    }
   ],
   "source": [
    "# Daniel's code\n",
    "number = float(input(print(\"Enter a numeric value / numer:\")))\n",
    "if number > 0:\n",
    "    print(\"The number is positive.\")\n",
    "elif number < 0:\n",
    "    print(\"The number is negative.\")\n",
    "else: print(\"The number is zero.\")"
   ]
  },
  {
   "cell_type": "markdown",
   "metadata": {},
   "source": [
    "---\n",
    "## 2. Smallest (*)\n",
    "Ask the user to input two numbers and check which one is the smallest and print it out.   "
   ]
  },
  {
   "cell_type": "code",
   "execution_count": 9,
   "metadata": {},
   "outputs": [
    {
     "name": "stdout",
     "output_type": "stream",
     "text": [
      "Enter number 1:\n",
      "Enter number 2:\n",
      "Number 1 (-10.0) and number 2 (-10.0) are equal.\n"
     ]
    }
   ],
   "source": [
    "# Daniel's code\n",
    "nbr1 = float(input(print(\"Enter number 1:\")))\n",
    "nbr2 = float(input(print(\"Enter number 2:\")))\n",
    "\n",
    "if nbr1 > nbr2:\n",
    "    print(f\"Number 1 ({nbr1}) is larger than number 2 ({nbr2}).\")\n",
    "elif nbr2 > nbr1:\n",
    "    print(f\"Number 2 ({nbr2}) is larger than number 1 ({nbr1}).\")\n",
    "else: print(f\"Number 1 ({nbr1}) and number 2 ({nbr2}) are equal.\")"
   ]
  },
  {
   "cell_type": "markdown",
   "metadata": {},
   "source": [
    "---\n",
    "## 3. Right angle (*)\n",
    "\n",
    "Ask the user to input three angles and check if the triangle has a right angle. Your code should make sure that all three angles are valid and make up a triangle.\n",
    "\n",
    "<img align=\"left\" src=\"../Assets/triangle_angles.png\" width=\"200\"/>"
   ]
  },
  {
   "cell_type": "code",
   "execution_count": 16,
   "metadata": {},
   "outputs": [
    {
     "name": "stdout",
     "output_type": "stream",
     "text": [
      "Enter angle number 1:\n",
      "Enter angle number 2:\n",
      "Enter angle number 3:\n",
      "This is not a triangle: angle1 = 60, angle2 = 60, angle3 = 70)\n"
     ]
    }
   ],
   "source": [
    "# Daniel's code\n",
    "ang1 = int(input(print(\"Enter angle number 1:\")))\n",
    "ang2 = int(input(print(\"Enter angle number 2:\")))\n",
    "ang3 = int(input(print(\"Enter angle number 3:\")))\n",
    "sumAng = ang1 + ang2 + ang3\n",
    "\n",
    "if sumAng != 180:\n",
    "    print(f\"This is not a triangle: angle1 = {ang1}, angle2 = {ang2}, angle3 = {ang3})\")\n",
    "elif ang1 == 90 or ang2 == 90 or ang3 == 90:\n",
    "    print(f\"The triangle has a right angle. angle1 = {ang1}, angle2 = {ang2}, angle3 = {ang3})\")\n",
    "else: print(f\"This is a triangle without a right angle. angle1 = {ang1}, angle2 = {ang2}, angle3 = {ang3})\")"
   ]
  },
  {
   "cell_type": "markdown",
   "metadata": {},
   "source": [
    "----\n",
    "## 4. Medicine (*)\n",
    "\n",
    "The information in the following table is stated in a medicine package. Also it is stated that for children weight is more important than age.\n",
    "\n",
    "<table align=\"left\">\n",
    "<thead>\n",
    "    <tr>\n",
    "        <th></th>\n",
    "        <th>Age</th>\n",
    "        <th>Number of pills</th>\n",
    "    </tr>\n",
    "</thead>\n",
    "\n",
    "<tbody>\n",
    "  <tr>\n",
    "    <td>Adults & adolescent <br>over 40 kg</td>\n",
    "    <td>over 12 years</td>\n",
    "    <td>1-2</td>\n",
    "  </tr>\n",
    "\n",
    "  <tr>\n",
    "    <td>Children 26-40 kg</td>\n",
    "    <td>7-12 years</td>\n",
    "    <td>1/2-1</td>\n",
    "  </tr>\n",
    "\n",
    "  <tr>\n",
    "    <td>Children 15-25 kg</td>\n",
    "    <td>3-7 years</td>\n",
    "    <td>1/2</td>\n",
    "  </tr>\n",
    "</tbody>\n",
    "</table>"
   ]
  },
  {
   "cell_type": "markdown",
   "metadata": {},
   "source": [
    "Let the user input an **age** and a **weight**, the program should recommend the number of pills for the user."
   ]
  },
  {
   "cell_type": "code",
   "execution_count": 21,
   "metadata": {},
   "outputs": [
    {
     "name": "stdout",
     "output_type": "stream",
     "text": [
      "Input weight (kg):\n",
      "Input age (years):\n",
      "No pills is advised.142\n"
     ]
    }
   ],
   "source": [
    "# Daniel's code\n",
    "weight = int(input(print(\"Input weight (kg):\")))\n",
    "age = int(input(print(\"Input age (years):\")))\n",
    "\n",
    "if weight > 40 and age > 12:\n",
    "    print(f\"Number of pills: 1 to 2.{weight}{age}\")\n",
    "elif age <= 12 and weight >= 26:\n",
    "    print(f\"Number of pills: 1/2 to 1.{weight}{age}\")\n",
    "elif weight > 15 and weight <= 25 and age > 3:\n",
    "    print(f\"fNumber of pills: 1/2.{weight}{age}\")\n",
    "else: print(f\"No pills is advised.{weight}{age}\")"
   ]
  },
  {
   "cell_type": "markdown",
   "metadata": {},
   "source": [
    "---\n",
    "## 5. Divisible (*)\n",
    "Let the user input a number. Check if the number is\n",
    "<ol type=\"a\">\n",
    "  <li>even or odd</li>\n",
    "  <li>is divisible by 5</li>\n",
    "  <li>is divisble by 5 and odd</li>\n",
    "</ol> "
   ]
  },
  {
   "cell_type": "code",
   "execution_count": 26,
   "metadata": {},
   "outputs": [
    {
     "name": "stdout",
     "output_type": "stream",
     "text": [
      "Input a number (integer): \n",
      "The number 0 is even.\n"
     ]
    }
   ],
   "source": [
    "# Daniel's code\n",
    "nbr = int(input(print(\"Input a number (integer): \")))\n",
    "\n",
    "if nbr%2 == 0:\n",
    "    print(f\"The number {nbr} is even.\")\n",
    "else: print(f\"The number {nbr} is odd.\")\n",
    "\n",
    "if nbr"
   ]
  },
  {
   "cell_type": "markdown",
   "metadata": {},
   "source": [
    "---\n",
    "## 6. Luggage size (*)\n",
    "\n",
    "The maximum allowed luggage size for boarding an airplane is: \n",
    "- weight: 8kg\n",
    "- dimensions: 55x40x23cm (length x width x height) \n",
    "\n",
    "Let the user input weight, length, width and height of the luggage. The program should check if the luggage is allowed or not."
   ]
  },
  {
   "cell_type": "markdown",
   "metadata": {},
   "source": [
    "---\n",
    "\n",
    "Kokchun Giang\n",
    "\n",
    "[LinkedIn][linkedIn_kokchun]\n",
    "\n",
    "[GitHub portfolio][github_portfolio]\n",
    "\n",
    "[linkedIn_kokchun]: https://www.linkedin.com/in/kokchungiang/\n",
    "[github_portfolio]: https://github.com/kokchun/Portfolio-Kokchun-Giang\n",
    "\n",
    "---"
   ]
  }
 ],
 "metadata": {
  "kernelspec": {
   "display_name": "Python 3.9.6 64-bit",
   "language": "python",
   "name": "python3"
  },
  "language_info": {
   "codemirror_mode": {
    "name": "ipython",
    "version": 3
   },
   "file_extension": ".py",
   "mimetype": "text/x-python",
   "name": "python",
   "nbconvert_exporter": "python",
   "pygments_lexer": "ipython3",
   "version": "3.11.5"
  },
  "orig_nbformat": 4,
  "vscode": {
   "interpreter": {
    "hash": "0da836a34428266995a795f1e1e27b816fa1c02f148d9728b3fbbbc5459afca6"
   }
  }
 },
 "nbformat": 4,
 "nbformat_minor": 2
}
