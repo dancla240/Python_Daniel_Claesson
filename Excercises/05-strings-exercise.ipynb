{
 "cells": [
  {
   "cell_type": "markdown",
   "metadata": {},
   "source": [
    "<a href=\"https://colab.research.google.com/github/kokchun/Python-course-AI22/blob/main/Exercises/05-strings-exercise.ipynb\" target=\"_parent\"><img align=\"left\" src=\"https://colab.research.google.com/assets/colab-badge.svg\" alt=\"Open In Colab\"/></a> &nbsp; to see hints and answers."
   ]
  },
  {
   "cell_type": "markdown",
   "metadata": {},
   "source": [
    "# strings exercises\n",
    "\n",
    "---\n",
    "These are introductory exercises in Python with focus in **strings**.\n",
    "\n",
    "<p class = \"alert alert-info\" role=\"alert\"><b>Remember</b> to use <b>descriptive variable names</b> in order to get readable code </p>\n",
    "\n",
    "<p class = \"alert alert-info\" role=\"alert\"><b>Remember</b> to format your answers in a neat way using <b>f-strings</b>\n",
    "\n",
    "<p class = \"alert alert-info\" role=\"alert\"><b>Remember</b> to format your input questions in a pedagogical way to guide the user\n",
    "\n",
    "The number of stars (\\*), (\\*\\*), (\\*\\*\\*) denotes the difficulty level of the task\n",
    "\n",
    "---"
   ]
  },
  {
   "cell_type": "markdown",
   "metadata": {},
   "source": [
    "## 1. Counting letters (*)\n",
    "\n",
    "Let the user input a word: \n",
    "\n",
    "&nbsp; a) &nbsp; print out the number of letters in the word. (*) \n",
    "  \n",
    "&nbsp; b) &nbsp; print out the number of **uppercase** and **lowercase** letters of the word (*)   \n"
   ]
  },
  {
   "cell_type": "code",
   "execution_count": 8,
   "metadata": {},
   "outputs": [
    {
     "name": "stdout",
     "output_type": "stream",
     "text": [
      "The word hejsan contains 6 letters.\n",
      "The number of capital letters is 0.\n",
      "The number of lower case letters is 6.\n"
     ]
    }
   ],
   "source": [
    "# Daniel's code\n",
    "str1 = input(\"Write a word and I'll count the number of letters!\")\n",
    "print(f\"The word {str1} contains {len(str1)} letters.\")\n",
    "\n",
    "upper = 0\n",
    "\n",
    "for letter in str1:\n",
    "    if letter.isupper() == True:\n",
    "        upper += 1\n",
    "        continue\n",
    "\n",
    "print(f\"The number of capital letters is {upper}.\")\n",
    "print(f\"The number of lower case letters is {len(str1) - upper}.\")\n"
   ]
  },
  {
   "cell_type": "markdown",
   "metadata": {},
   "source": [
    "---\n",
    "## 2. Print names separately (*)\n",
    "\n",
    "Ask the user to input their first and last name (same input e.g. \"Fredrik Johansson\"). Then print the names separately:\n",
    "\n",
    "<details>\n",
    "\n",
    "<summary>Answer</summary>\n",
    "\n",
    "```\n",
    "Firstname: Fredrik\n",
    "Lastname: Johansson\n",
    "```"
   ]
  },
  {
   "cell_type": "code",
   "execution_count": 9,
   "metadata": {},
   "outputs": [
    {
     "name": "stdout",
     "output_type": "stream",
     "text": [
      "Daniel\n",
      "Claesson\n"
     ]
    }
   ],
   "source": [
    "# Daniel's code\n",
    "first_last = input(\"Write your first and last name:\")\n",
    "\n",
    "list_of_names = first_last.split(\" \")\n",
    "print(list_of_names[0])\n",
    "print(list_of_names[1])\n"
   ]
  },
  {
   "cell_type": "markdown",
   "metadata": {},
   "source": [
    "---\n",
    "## 3. Counting words (*)\n",
    "\n",
    "Count the number of words in this sentence: \"A picture says more than a thousand words, a matematical formula says more than a thousand pictures.\" (*) \n",
    "\n",
    "<details>\n",
    "\n",
    "<summary>Answer</summary>\n",
    "\n",
    "```\n",
    "There are 17 words in that sentence\n",
    "```"
   ]
  },
  {
   "cell_type": "code",
   "execution_count": 10,
   "metadata": {},
   "outputs": [
    {
     "name": "stdout",
     "output_type": "stream",
     "text": [
      "Number of words in sentence is: 17.\n"
     ]
    }
   ],
   "source": [
    "# Daniel's code\n",
    "# I count the number of white spaces \" \". The number of words is +1\n",
    "\n",
    "sentence = \"A picture says more than a thousand words, a matematical formula says more than a thousand pictures.\"\n",
    "nbr_of_words = sentence.count(\" \") + 1\n",
    "print(f\"Number of words in sentence is: {nbr_of_words}.\")\n"
   ]
  },
  {
   "cell_type": "markdown",
   "metadata": {},
   "source": [
    "---\n",
    "## 4. Print words in reverse (*)\n",
    "\n",
    "a) Ask the user to input a sentence, then print the words in reverse order. (*) \n",
    "\n",
    "b) Also, make the first letter in the first word uppercase when reversed.\n",
    "\n",
    "<details>\n",
    "\n",
    "<summary>Answer</summary>\n",
    "\n",
    "```\n",
    "a)\n",
    "Example input: This is input from the user\n",
    "Output: user the from input is This\n",
    "```\n",
    "\n",
    "```\n",
    "b)\n",
    "Example input: This is input from the user\n",
    "Output: User the from input is this\n",
    "```\n"
   ]
  },
  {
   "cell_type": "code",
   "execution_count": 17,
   "metadata": {},
   "outputs": [
    {
     "name": "stdout",
     "output_type": "stream",
     "text": [
      "göteborg\n",
      "i\n",
      "bor\n",
      "jag\n",
      "och\n",
      "claesson\n",
      "daniel\n",
      "heter\n",
      "jag\n",
      "Hej\n"
     ]
    }
   ],
   "source": [
    "# Daniel's code 4a\n",
    "sentence = input(\"Write a sentence:\")\n",
    "\n",
    "list_of_words = sentence.split(\" \")\n",
    "\n",
    "list_of_words_reverse = list_of_words[-1::-1]\n",
    "\n",
    "for word in list_of_words_reverse:\n",
    "    print(word)\n",
    "\n"
   ]
  },
  {
   "cell_type": "code",
   "execution_count": 32,
   "metadata": {},
   "outputs": [
    {
     "name": "stdout",
     "output_type": "stream",
     "text": [
      "'Heter jag hj'\n",
      "is\n",
      "'hj jag heter' in reverse.\n"
     ]
    }
   ],
   "source": [
    "# Daniels code 4b\n",
    "sentence = input(\"Write a sentence:\")\n",
    "\n",
    "list_of_words = sentence.split(\" \")\n",
    "\n",
    "list_of_words_reverse = list_of_words[-1::-1]\n",
    "\n",
    "sentence_reverse = \" \".join(list_of_words_reverse)\n",
    "sentence_reverse = sentence_reverse.capitalize()\n",
    "\n",
    "print(f\"'{sentence_reverse}'\\nis\\n'{sentence}' in reverse.\")\n"
   ]
  },
  {
   "cell_type": "markdown",
   "metadata": {},
   "source": [
    "---\n",
    "## 5. Palindrome (*)\n",
    "\n",
    "A palindrome is a sequence of characters that is the same, when read forward as backwards (ignoring spaces). For example:\n",
    "- \"Anna\" is a palindrome\n",
    "- \"Ni talar bra latin\"\n",
    "- \"bjkjb \"\n",
    "\n",
    "Let the user input a sequence of characters and check if it is a palindrome. (*)"
   ]
  },
  {
   "cell_type": "code",
   "execution_count": 28,
   "metadata": {},
   "outputs": [
    {
     "name": "stdout",
     "output_type": "stream",
     "text": [
      "'Ni talar bra latin' is a palindrome.\n"
     ]
    }
   ],
   "source": [
    "to_check = input(\"Input word or sentence to be checked for palindrome: \")\n",
    "\n",
    "to_check_1 = to_check.replace(\" \",\"\")\n",
    "to_check_1 = to_check_1.lower() # gör om till lower case\n",
    "\n",
    "if to_check_1 == to_check_1[-1::-1]:\n",
    "    print(f\"'{to_check}' is a palindrome.\")\n",
    "else: print(f\"'{to_check}' is not a palindrome.\")"
   ]
  },
  {
   "cell_type": "markdown",
   "metadata": {},
   "source": [
    "---\n",
    "## 6. Vowels (**)\n",
    "\n",
    "Count the number of vowels in this sentence: \"Pure mathematics is, in its way, the poetry of logical ideas\"\n",
    "\n",
    "<details>\n",
    "\n",
    "<summary>Answer</summary>\n",
    "\n",
    "```\n",
    "\n",
    "There are 22 vowels in this sentence\n",
    "\n",
    "```\n",
    "</details>"
   ]
  },
  {
   "cell_type": "code",
   "execution_count": 22,
   "metadata": {},
   "outputs": [
    {
     "name": "stdout",
     "output_type": "stream",
     "text": [
      "There are 22 vowels in the sentence.\n"
     ]
    }
   ],
   "source": [
    "sentence = \"Pure mathematics is, in its way, the poetry of logical ideas\"\n",
    "vowels = \"AOUEIYÅÄÖaoueiyåäö\"\n",
    "counter = 0\n",
    "\n",
    "for idx in sentence:\n",
    "    if (idx in vowels) == True:\n",
    "        counter += 1\n",
    "    else: continue\n",
    "\n",
    "\n",
    "print(f\"There are {counter} vowels in the sentence.\")\n",
    "\n"
   ]
  },
  {
   "cell_type": "markdown",
   "metadata": {},
   "source": [
    "---\n",
    "## 7. Rövarspråket (**)\n",
    "\n",
    "Ask the user to input a sentence, and translate it using the formula described in this article:\n",
    "\n",
    "https://en.wikipedia.org/wiki/R%C3%B6varspr%C3%A5ket\n"
   ]
  },
  {
   "cell_type": "code",
   "execution_count": 30,
   "metadata": {},
   "outputs": [
    {
     "name": "stdout",
     "output_type": "stream",
     "text": [
      "DoDanonielol äror hohäror.\n"
     ]
    }
   ],
   "source": [
    "# Daniel's code\n",
    "#sentence = input(\"Skriv en mening på svenska, som ska översättas till rövarspråket: \")\n",
    "sentence = \"Daniel är här.\"\n",
    "sentence_rovarspraket = \"\"\n",
    "consonants = \"QWRTPSDFGHJKLZXCVBNMqwrtpsdfghjklzxcvbnm\"\n",
    "\n",
    "for idx in sentence:\n",
    "    if (idx in consonants) == True:\n",
    "        sentence_rovarspraket = sentence_rovarspraket + idx + 'o' + idx\n",
    "    else: sentence_rovarspraket = sentence_rovarspraket + idx\n",
    "\n",
    "print(sentence_rovarspraket)\n",
    "\n",
    "# Man kan nog göra denna med list comprehension också....? Eller string comprehension?\n"
   ]
  },
  {
   "cell_type": "markdown",
   "metadata": {},
   "source": [
    "---\n",
    "## 8. Encryption (**)\n",
    "\n",
    "Let the user input a word and: \n",
    "\n",
    "&nbsp; a) &nbsp; encrypt the message by replacing each letter with the next letter. If the letter is in the end of the alphabet, use the first letter instead. \n",
    "\n",
    "e.g. in Swedish: \"höst\" $\\rightarrow$ \"iatu\"\n",
    "\n",
    "&nbsp; b) &nbsp; decrypt the message\n",
    "\n",
    "&nbsp; c) &nbsp; let the user choose either encryption or decryption."
   ]
  },
  {
   "cell_type": "code",
   "execution_count": 120,
   "metadata": {},
   "outputs": [
    {
     "name": "stdout",
     "output_type": "stream",
     "text": [
      "Original word: ifk ebojfm dmbfttpo ivs näs eva mat j nbhfo fmmfs\n",
      "Decrypted word: hej daniel claesson hur mår duö lös i magen eller\n"
     ]
    }
   ],
   "source": [
    "#Daniel's code\n",
    "\n",
    "alphabet = \"abcdefghijklmnopqrstuvxyzåäö \"\n",
    "\n",
    "mode = input(\"(e)ncrypt or (d)ecrypt?\")\n",
    "word = input(\"Input the word: \")\n",
    "\n",
    "word_idx = find_idx(word)\n",
    "\n",
    "if mode == \"e\":\n",
    "    word_encrypted = encrypt(word_idx)\n",
    "    print(f\"Original word: {word}\\nEncrypted word: {word_encrypted}\")\n",
    "elif mode == \"d\":\n",
    "    word_decrypted = decrypt(word_idx)\n",
    "    print(f\"Original word: {word}\\nDecrypted word: {word_decrypted}\")\n",
    "else: print(\"wrong input\")\n",
    "\n",
    "def find_idx(word):\n",
    "    word_order_list = []\n",
    "    for char in word:\n",
    "        idx = alphabet.find(char) # returnerar index i alphabet, för bokstaven\n",
    "        word_order_list.append(idx)\n",
    "    return word_order_list\n",
    "    \n",
    "def encrypt(list_encrypt):\n",
    "    word_encrypted = \"\" #skapar en tom sträng, som fylls på med encrypted bokstäver\n",
    "    for idx in range(len(list_encrypt)):\n",
    "        if list_encrypt[idx] == 27:\n",
    "            word_encrypted += \"a\"\n",
    "        elif list_encrypt[idx] == 28:\n",
    "            word_encrypted += \" \"\n",
    "        else: word_encrypted += alphabet[list_encrypt[idx] + 1]\n",
    "    return word_encrypted\n",
    "\n",
    "def decrypt(list_decrypt):\n",
    "    word_decrypted = \"\"\n",
    "    for idx in range(len(list_decrypt)):\n",
    "        if list_decrypt[idx] == 0:\n",
    "            word_decrypted += \"ö\"\n",
    "        elif list_decrypt[idx] == 28:\n",
    "            word_decrypted += \" \"\n",
    "        else: word_decrypted += alphabet[list_decrypt[idx] - 1]\n",
    "    return word_decrypted\n"
   ]
  },
  {
   "cell_type": "markdown",
   "metadata": {},
   "source": [
    "---\n",
    "\n",
    "Kokchun Giang\n",
    "\n",
    "[LinkedIn][linkedIn_kokchun]\n",
    "\n",
    "[GitHub portfolio][github_portfolio]\n",
    "\n",
    "[linkedIn_kokchun]: https://www.linkedin.com/in/kokchungiang/\n",
    "[github_portfolio]: https://github.com/kokchun/Portfolio-Kokchun-Giang\n",
    "\n",
    "---"
   ]
  }
 ],
 "metadata": {
  "kernelspec": {
   "display_name": "Python 3.9.6 64-bit",
   "language": "python",
   "name": "python3"
  },
  "language_info": {
   "codemirror_mode": {
    "name": "ipython",
    "version": 3
   },
   "file_extension": ".py",
   "mimetype": "text/x-python",
   "name": "python",
   "nbconvert_exporter": "python",
   "pygments_lexer": "ipython3",
   "version": "3.9.16"
  },
  "orig_nbformat": 4,
  "vscode": {
   "interpreter": {
    "hash": "0da836a34428266995a795f1e1e27b816fa1c02f148d9728b3fbbbc5459afca6"
   }
  }
 },
 "nbformat": 4,
 "nbformat_minor": 2
}
